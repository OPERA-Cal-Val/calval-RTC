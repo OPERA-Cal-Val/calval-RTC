{
 "cells": [
  {
   "cell_type": "markdown",
   "id": "1af4ea9a-ac0f-44b0-9f35-a573a4f66bbe",
   "metadata": {},
   "source": [
    "# Prep OPERA RTC CalVal Slope Comparison: part 1\n",
    "\n",
    "**Alex Lewandowski; Alaska Satellite Facility, University of Alaska Fairbanks**\n",
    "\n",
    "## Performs initial data preparation for the OPERA RTC CalVal Slope Comparison Module\n",
    "\n",
    "**Notebook Requires**\n",
    "- dual-pol OPERA RTC samples\n",
    "- local incidence angle map\n",
    "- ellipsoidal incidence angle map\n",
    "- layover-shadow mask\n",
    "\n",
    "**Actions**\n",
    "1. identifies and downloads required [Copernicus Global Land Cover (100m)](https://lcviewer.vito.be/download) data\n",
    "1. mosaics land cover data\n",
    "1. creates shapefiles from VH RTC\n",
    "1. subsets all geotiffs with shapefile"
   ]
  },
  {
   "cell_type": "code",
   "execution_count": null,
   "id": "4a9c2c4e-8ddd-4ff5-812a-2ee824297862",
   "metadata": {},
   "outputs": [],
   "source": [
    "from ipyfilechooser import FileChooser\n",
    "import numpy as np\n",
    "from pathlib import Path\n",
    "from glob import glob\n",
    "import os\n",
    "import shutil\n",
    "import sys\n",
    "from tqdm.auto import tqdm\n",
    "\n",
    "import branca\n",
    "import branca.colormap as cm\n",
    "from branca.element import Template, MacroElement\n",
    "import folium\n",
    "import geopandas as gpd\n",
    "import numpy.ma as ma\n",
    "import rasterio\n",
    "import rasterio.warp\n",
    "import shapely.wkt\n",
    "from osgeo import gdal\n",
    "gdal.UseExceptions()\n",
    "\n",
    "import ipywidgets as widgets\n",
    "from ipywidgets import Layout\n",
    "\n",
    "util_relative_from_notebook = os.path.abspath('../..')\n",
    "util_relative_from_papermill_script = os.path.abspath('..')\n",
    "sys.path.append(util_relative_from_notebook)\n",
    "sys.path.append(util_relative_from_papermill_script)\n",
    "\n",
    "from util.template import legend_template\n",
    "import util.geo as util"
   ]
  },
  {
   "cell_type": "markdown",
   "id": "090d69a9-f660-459e-a2ff-91ab60ef1ca9",
   "metadata": {},
   "source": [
    "## **1. Select the directory holding your OPERA RTC sample data**\n",
    "\n",
    "Sample burst data may be retrieved and mosaiced with OPERA_RTC_download_reproject_mosaic_sample_bursts.ipynb\n",
    "\n",
    "Note: local incidence angle maps, ellipsoidal incidence maps, layover-shadow masks, and dual-pol backscatter geotiffs are needed.\n",
    "\n",
    "```\n",
    "OPERA_L2-RTC_S1* ──\n",
    "                  │\n",
    "                  │─  OPERA_L2_RTC_VH_S1*.tif\n",
    "                  │─  OPERA_L2_RTC_VV_S1*.tif \n",
    "                  │─  OPERA_L2_RTC_incidence_angle_S1*.tif\n",
    "                  │─  OPERA_L2_RTC_local_incidence_angle_S1*.tif\n",
    "                  │─  OPERA_L2_RTC_mask_S1*.tif\n",
    "\n",
    "```"
   ]
  },
  {
   "cell_type": "code",
   "execution_count": null,
   "id": "a08bf8f1-a256-4439-bb1c-7b933f516737",
   "metadata": {},
   "outputs": [],
   "source": [
    "print(\"Select the directory holding your data with the file structure shown above\")\n",
    "fc = FileChooser(Path.cwd(), layout=Layout(width='1000px'))\n",
    "display(fc)"
   ]
  },
  {
   "cell_type": "markdown",
   "id": "06bccd33-5f69-467a-9b3e-3b190f64938e",
   "metadata": {},
   "source": [
    "**Gather paths to data and create an output directory**"
   ]
  },
  {
   "cell_type": "code",
   "execution_count": null,
   "id": "61c296e2-70c3-48cc-8daf-2e8828a0cc1a",
   "metadata": {
    "tags": [
     "parameters"
    ]
   },
   "outputs": [],
   "source": [
    "# try/except for Papermill\n",
    "try:\n",
    "    data_dir = Path(fc.selected_path)\n",
    "except:\n",
    "    pass"
   ]
  },
  {
   "cell_type": "code",
   "execution_count": null,
   "id": "32f4df0a-349d-463b-bdcd-a86b738087cc",
   "metadata": {},
   "outputs": [],
   "source": [
    "data_dir = Path(data_dir) # for Papermill\n",
    "local_inc_angle = list(data_dir.glob('OPERA_L2_RTC-S1_local_incidence_angle_S1*.tif'))[0]\n",
    "inc_angle = list(data_dir.glob('OPERA_L2_RTC-S1_incidence_angle_S1*.tif'))[0]\n",
    "ls_mask = list(data_dir.glob('OPERA_L2_RTC-S1_mask_S1*.tif'))[0]\n",
    "vh = list(data_dir.glob('OPERA_L2_RTC-S1_VH_S1*.tif'))[0]\n",
    "vv = list(data_dir.glob('OPERA_L2_RTC-S1_VV_S1*.tif'))[0]\n",
    "\n",
    "product_name = vh.parent.stem\n",
    "output_dir = data_dir.parents[1]/f\"intermediary_flattening_data/{product_name}_prepped_for_slope_comparison\"\n",
    "if not output_dir.is_dir():\n",
    "    output_dir.mkdir()"
   ]
  },
  {
   "cell_type": "markdown",
   "id": "94592b81-3b67-41e9-8676-58ca70994c61",
   "metadata": {},
   "source": [
    "## **2. Identify and Download Copernicus Global Land Cover Tiles**\n",
    "\n",
    "**Create a GeoDataFrame containing input data and their geometries in their source CRS**"
   ]
  },
  {
   "cell_type": "code",
   "execution_count": null,
   "id": "baa60946-89a5-47e7-aa9c-046349e4998e",
   "metadata": {},
   "outputs": [],
   "source": [
    "ll_ur_corner_coords = [util.get_corner_coords(d)[0] + util.get_corner_coords(d)[1] \n",
    "                       for d in [vh, vv, local_inc_angle, inc_angle, ls_mask]]\n",
    "geometry = [util.poly_from_minx_miny_maxx_maxy(c) for c in ll_ur_corner_coords]\n",
    "\n",
    "gdf = gpd.GeoDataFrame(\n",
    "    {\n",
    "        \"dataset\": ['vh', 'vv', 'local_inc_angle', 'inc_angle', 'ls_mask'],\n",
    "        \"geometry\": geometry\n",
    "    }\n",
    ")\n",
    "gdf = gdf.set_geometry(\"geometry\")\n",
    "gdf = gdf.set_crs(f\"epsg:{util.get_projection(vh)}\")\n",
    "gdf"
   ]
  },
  {
   "cell_type": "markdown",
   "id": "6394a3ef-e1a5-4ae2-872a-6e8d2f535dc0",
   "metadata": {},
   "source": [
    "**Create a GeoDataFrame in Lat/Long**"
   ]
  },
  {
   "cell_type": "code",
   "execution_count": null,
   "id": "7bc164fc-62c5-4471-8a6b-7e44ce65d84a",
   "metadata": {},
   "outputs": [],
   "source": [
    "gdf_4326 = gdf.to_crs(4326)\n",
    "gdf_4326"
   ]
  },
  {
   "cell_type": "markdown",
   "id": "465bf877-2a14-498a-a418-f118888407ef",
   "metadata": {},
   "source": [
    "**Find the set of tile strings for land cover tiles needed to cover AOI of sample OPERA data**"
   ]
  },
  {
   "cell_type": "code",
   "execution_count": null,
   "id": "fe4cba23-0389-4696-b40d-c6d02011eae2",
   "metadata": {},
   "outputs": [],
   "source": [
    "vh_bounds_4326 = (\n",
    "    gdf_4326.bounds.iloc[0].minx,\n",
    "    gdf_4326.bounds.iloc[0].miny,\n",
    "    gdf_4326.bounds.iloc[0].maxx,\n",
    "    gdf_4326.bounds.iloc[0].maxy\n",
    ")\n",
    "\n",
    "lc_tile_intersections = util.landcover_100_tile_intersections(vh_bounds_4326)\n",
    "\n",
    "lc_tile_str = [f\"W{str(abs(c)).zfill(3)}\" if c < 0 and i in [0, 2]\n",
    "               else f\"E{str(abs(c)).zfill(3)}\" if c >= 0 and i in [0, 2] \n",
    "               else f\"S{str(abs(c)).zfill(2)}\" if c < 0 and i in [1, 3]\n",
    "               else f\"N{str(abs(c)).zfill(2)}\" \n",
    "               for (i, c) in enumerate(lc_tile_intersections)]\n",
    "\n",
    "if len(set(lc_tile_str)) == 2:\n",
    "    land_cover_tile_str = [f\"{lc_tile_str[0]}{lc_tile_str[1]}\"]\n",
    "elif len(set(lc_tile_str)) == 3:\n",
    "    if lc_tile_str[0] == lc_tile_str[2]:\n",
    "        land_cover_tile_str = [\n",
    "            f\"{lc_tile_str[0]}{lc_tile_str[1]}\",\n",
    "            f\"{lc_tile_str[0]}{lc_tile_str[3]}\",\n",
    "    ]\n",
    "    else:    \n",
    "        land_cover_tile_str = [\n",
    "            f\"{lc_tile_str[0]}{lc_tile_str[1]}\",\n",
    "            f\"{lc_tile_str[2]}{lc_tile_str[1]}\",\n",
    "        ]\n",
    "elif len(set(lc_tile_str)) == 4:\n",
    "    land_cover_tile_str = [\n",
    "        f\"{lc_tile_str[0]}{lc_tile_str[1]}\",\n",
    "        f\"{lc_tile_str[0]}{lc_tile_str[3]}\",\n",
    "        f\"{lc_tile_str[2]}{lc_tile_str[1]}\",\n",
    "        f\"{lc_tile_str[2]}{lc_tile_str[3]}\"\n",
    "    ]\n",
    "    \n",
    "land_cover_tile_str"
   ]
  },
  {
   "cell_type": "markdown",
   "id": "30c3b59b-11a3-478c-90d4-f28b6e2e0643",
   "metadata": {},
   "source": [
    "**Build the URLs to the land cover data**"
   ]
  },
  {
   "cell_type": "code",
   "execution_count": null,
   "id": "7f7ee47d-7c21-4c2b-8780-ae7adfdb0c13",
   "metadata": {},
   "outputs": [],
   "source": [
    "url = [(f\"https://s3-eu-west-1.amazonaws.com/vito.landcover.global/v3.0.1/2019/{tile}/\"\n",
    "        f\"{tile}_PROBAV_LC100_global_v3.0.1_2019-nrt_Discrete-Classification-map_EPSG-4326.tif\") for tile in land_cover_tile_str\n",
    "      ]\n",
    "url"
   ]
  },
  {
   "cell_type": "markdown",
   "id": "d44f5bd9-f756-4815-ab7d-7502ff70c75a",
   "metadata": {},
   "source": [
    "**Download land cover data and gather paths to them**"
   ]
  },
  {
   "cell_type": "code",
   "execution_count": null,
   "id": "13988629-e923-47bd-8ce3-5c223867d7c4",
   "metadata": {},
   "outputs": [],
   "source": [
    "for u in url:\n",
    "    if not (data_dir/f\"{u.split('/')[-1]}\").exists():\n",
    "        !wget -P {data_dir} {u}\n",
    "        \n",
    "land_cover = list(data_dir.glob('*PROBAV_LC100_global_v3.0.1_2019-nrt_Discrete-Classification-map_EPSG-4326.tif')) # change filename -> PROBAV_LC100\n",
    "land_cover        "
   ]
  },
  {
   "cell_type": "markdown",
   "id": "7c111ccb-a8ed-40ac-abc2-cb4a1fa576c2",
   "metadata": {},
   "source": [
    "## **3. Merge Land Cover Data, If Needed**"
   ]
  },
  {
   "cell_type": "code",
   "execution_count": null,
   "id": "55a73fba-9435-4b42-a7cc-6ed602dee02d",
   "metadata": {},
   "outputs": [],
   "source": [
    "if len(land_cover) > 1:\n",
    "    output_prefix = ''.join(l.name[0:8] for l in land_cover)\n",
    "\n",
    "    merge_str = ''\n",
    "    epsg = '4326'\n",
    "    for tiff in land_cover:\n",
    "        merge_str = f\"{merge_str} {str(tiff)}\"\n",
    "    print(merge_str,'\\n')\n",
    "\n",
    "    gdal_cmd = f\"gdal_merge.py -o {data_dir}/merged_{output_prefix}PROBAV_LC100_global_v3.0.1_2019-nrt_Discrete-Classification-map_EPSG-{epsg}.tif {merge_str}\" # change filename -> PROBAV_LC100\n",
    "    !$gdal_cmd\n",
    "    \n",
    "    land_cover = list(data_dir.glob('merged_*.tif'))[0]\n",
    "else:\n",
    "    land_cover = land_cover[0]"
   ]
  },
  {
   "cell_type": "markdown",
   "id": "aa1ff9b8-7425-4779-9f86-610585883455",
   "metadata": {},
   "source": [
    "**Add mosaiced land cover data to lat/long GeoDataFrame**"
   ]
  },
  {
   "cell_type": "code",
   "execution_count": null,
   "id": "ef1180f6-feb9-4a36-a350-0f21f4b47513",
   "metadata": {},
   "outputs": [],
   "source": [
    "lc_corner_coords = util.get_corner_coords(land_cover)\n",
    "lc_geometry = util.poly_from_minx_miny_maxx_maxy(lc_corner_coords[0]+lc_corner_coords[1])\n",
    "\n",
    "gdf_4326.loc[len(gdf_4326)] = ['land_cover', lc_geometry]\n",
    "gdf_4326"
   ]
  },
  {
   "cell_type": "markdown",
   "id": "77e0e678-db32-4409-b506-76f0e009c94d",
   "metadata": {},
   "source": [
    "**Confirm that the land cover data spatially encompasses the OPERA Data**"
   ]
  },
  {
   "cell_type": "code",
   "execution_count": null,
   "id": "1a641219-ae0f-43ae-a1f0-42d7f5229790",
   "metadata": {
    "tags": []
   },
   "outputs": [],
   "source": [
    "if all([gdf_4326.geometry.iloc[5].contains(gdf_4326.geometry.iloc[i]) for i in range(4)]):\n",
    "    print(\"OPERA dataset bounds are contained by the landcover data 🎉\\n\")\n",
    "else:\n",
    "    raise Exception(\"One or more OPERA datasets are not contained by the bounds of the landcover data 😭😭😭\")\n",
    "\n",
    "location = [gdf_4326.bounds.iloc[0].maxy, gdf_4326.bounds.iloc[0].minx]\n",
    "f = folium.Figure(width=1000, height=500)\n",
    "m = folium.Map(location=location, zoom_start=4, tiles=\"CartoDB positron\").add_to(f)\n",
    "\n",
    "for i in [5, 0]:\n",
    "    geo_series = gpd.GeoSeries(gdf_4326.geometry.iloc[i]).simplify(tolerance=0.001)\n",
    "    geo_j = geo_series.to_json()\n",
    "    fillColor = 'orange' if i == 0 else 'green'\n",
    "    folium.features.GeoJson(data=geo_j, style_function=lambda x, fillColor=fillColor: {\"fillColor\": fillColor, 'fillOpacity': 0.5}).add_to(m)\n",
    "    macro = MacroElement()\n",
    "    macro._template = Template(legend_template([\"#d2b934\", \"#8bbe86\"], [\"OPERA data bounds\", \"Landcover data bounds\"]))\n",
    "    m.get_root().add_child(macro)\n",
    "\n",
    "m"
   ]
  },
  {
   "cell_type": "markdown",
   "id": "2c13f1a1-c917-4f5c-8a7e-fb31e6c3a346",
   "metadata": {},
   "source": [
    "## **4. Reproject Land Cover Data into EPSG of OPERA Data**"
   ]
  },
  {
   "cell_type": "code",
   "execution_count": null,
   "id": "68bdfa8e-3704-444b-9f00-b3339247859d",
   "metadata": {},
   "outputs": [],
   "source": [
    "resolution = 30\n",
    "src_epsg = util.get_projection(land_cover)\n",
    "dst_epsg = util.get_projection(vh)\n",
    "reproj_path = land_cover.parent/f\"{land_cover.stem.split('EPSG')[0]}EPSG-{dst_epsg}.tif\"\n",
    "reproj_path"
   ]
  },
  {
   "cell_type": "code",
   "execution_count": null,
   "id": "86b17679-b234-40d8-a1db-06647f5a98b6",
   "metadata": {
    "tags": []
   },
   "outputs": [],
   "source": [
    "gdal.Warp(str(reproj_path), str(land_cover),\n",
    "          srcSRS=f'EPSG:{src_epsg}', dstSRS=f'EPSG:{dst_epsg}',\n",
    "          xRes=resolution, yRes=resolution, targetAlignedPixels=True,\n",
    "         dstNodata=None, copyMetadata=True)\n",
    "\n",
    "\n",
    "land_cover = reproj_path\n",
    "land_cover"
   ]
  },
  {
   "cell_type": "markdown",
   "id": "cbd67505-5572-415b-b023-6e3a9f62b27b",
   "metadata": {},
   "source": [
    "## **5. Create a Shapefile from the VH OPERA Data**"
   ]
  },
  {
   "cell_type": "code",
   "execution_count": null,
   "id": "a01517c3-b450-49dd-bc5b-d526f37e92e4",
   "metadata": {},
   "outputs": [],
   "source": [
    "a = gpd.GeoDataFrame(gdf.geometry.iloc[[0]])\n",
    "a.to_file(data_dir/f\"{''.join(vh.stem.split('vh_'))}_shape.shp\")"
   ]
  },
  {
   "cell_type": "code",
   "execution_count": null,
   "id": "4cb667e4-75f0-4f48-be85-1929df3bb794",
   "metadata": {},
   "outputs": [],
   "source": [
    "shp = list(data_dir.glob('*_shape.shp'))\n",
    "\n",
    "to_clip = [land_cover, local_inc_angle, inc_angle, ls_mask, vh, vv]\n",
    "to_clip"
   ]
  },
  {
   "cell_type": "code",
   "execution_count": null,
   "id": "18e1e286-5f46-46fc-9911-5688472b0abe",
   "metadata": {},
   "outputs": [],
   "source": [
    "for c in to_clip:\n",
    "    print(str(c))"
   ]
  },
  {
   "cell_type": "markdown",
   "id": "f137b28c-4ba3-4501-a582-3833fbc9f629",
   "metadata": {},
   "source": [
    "## **6. Clip All Rasters to Common Extents with Shapefile**"
   ]
  },
  {
   "cell_type": "code",
   "execution_count": null,
   "id": "d20c2b8e-146c-4667-91ea-e83bb0df40ba",
   "metadata": {},
   "outputs": [],
   "source": [
    "for pth in tqdm(to_clip):\n",
    "    clip = output_dir/f\"{pth.stem}_clip.tif\"\n",
    "    if clip.is_file():\n",
    "        clip.unlink()\n",
    "    subset_command = f'gdalwarp -cutline {str(shp[0])} -crop_to_cutline {str(pth)} {str(clip)} -dstnodata {np.nan}'\n",
    "    if pth == land_cover:\n",
    "        land_cover = clip\n",
    "    !$subset_command"
   ]
  },
  {
   "cell_type": "markdown",
   "id": "4c7eb740-ece8-4552-ac6b-03fe701699b5",
   "metadata": {},
   "source": [
    "## **7. Copy Shapefile into Output Directory**"
   ]
  },
  {
   "cell_type": "code",
   "execution_count": null,
   "id": "3d3804d5-4d33-4403-a19f-f29a2eec3913",
   "metadata": {},
   "outputs": [],
   "source": [
    "shp_pths = list(data_dir.glob('*_shape.*'))\n",
    "shp_pths\n",
    "\n",
    "for s in shp_pths:\n",
    "    shutil.copy(s, output_dir/s.name)"
   ]
  },
  {
   "cell_type": "markdown",
   "id": "c4874ad9-38e0-41ec-af33-7e1d30ae9741",
   "metadata": {},
   "source": [
    "*Prep OPERA RTC CalVal Slope Comparison Data - Version 1.0.0 - August 2023*"
   ]
  }
 ],
 "metadata": {
  "kernelspec": {
   "display_name": "opera_calval_rtc [conda env:.local-opera_calval_rtc]",
   "language": "python",
   "name": "conda-env-.local-opera_calval_rtc-py"
  },
  "language_info": {
   "codemirror_mode": {
    "name": "ipython",
    "version": 3
   },
   "file_extension": ".py",
   "mimetype": "text/x-python",
   "name": "python",
   "nbconvert_exporter": "python",
   "pygments_lexer": "ipython3",
   "version": "3.11.7"
  }
 },
 "nbformat": 4,
 "nbformat_minor": 5
}
