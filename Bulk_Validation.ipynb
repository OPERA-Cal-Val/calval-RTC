{
 "cells": [
  {
   "cell_type": "markdown",
   "id": "63f8394a-337d-4649-9cfa-6c1597fbb0ae",
   "metadata": {},
   "source": [
    "# Notebook to trigger full OPERA-RTC validation runs. \n",
    "\n",
    "- Select a validation module\n",
    "- Select a site and orbital path combination\n",
    "- Run validation module on all scenes, as listed in OPERA-RTC_CalVal_S1_Scene_IDs.csv\n",
    "    - Downloads and mosaicks bursts\n",
    "    - Runs validation workflows"
   ]
  },
  {
   "cell_type": "code",
   "execution_count": null,
   "id": "6c1c2fdf-7f33-4cfb-8326-023775bb3ee6",
   "metadata": {},
   "outputs": [],
   "source": [
    "import os\n",
    "from pathlib import Path\n",
    "import subprocess\n",
    "from typing import Union\n",
    "\n",
    "from opensarlab_lib import work_dir\n",
    "\n",
    "import ipywidgets as widgets\n",
    "from ipywidgets import Layout"
   ]
  },
  {
   "cell_type": "code",
   "execution_count": null,
   "id": "720f040f-bd25-490f-9251-c169d5975a8f",
   "metadata": {},
   "outputs": [],
   "source": [
    "calval_types = [\n",
    "    \n",
    "    # TODO don't hardcode, pull from CSV\n",
    "    \"Absolute Geolocation Evaluation\",\n",
    "    # \"Gamma0 Comparison on Foreslope, Backslope, Flat Regions\",\n",
    "    \"Coregistration\",\n",
    "    # \"Regression Analysis\"\n",
    "]\n",
    "\n",
    "calval_module = widgets.RadioButtons(\n",
    "    options=calval_types,\n",
    "    description='',\n",
    "    disabled=False,\n",
    "    layout=Layout(min_width=\"1000px\")\n",
    "    )\n",
    "\n",
    "print(\"Select an OPERA-RTC validation analysis to perform.\")\n",
    "display(calval_module)"
   ]
  },
  {
   "cell_type": "code",
   "execution_count": null,
   "id": "465d11eb-b27f-467f-8a64-c8b930887b62",
   "metadata": {},
   "outputs": [],
   "source": [
    "if \"Absolute\" in calval_module.value:\n",
    "    \n",
    "    # TODO don't hardcode, pull from CSV\n",
    "    sites = [\n",
    "        \"California, Ascending Orbit, Orbital Path 64\",\n",
    "        \"Oklahoma, Ascending Orbit, Orbital Path 34\",\n",
    "        \"Oklahoma, Descending Orbit, Orbital Path 107\",\n",
    "    ]\n",
    "    script = \"bulk_papermill_OPERA_RTC_ALE.py\"\n",
    "elif calval_module.value == 'Coregistration':\n",
    "    sites = [\n",
    "        \"Delta Junction, Ascending Orbit, Path 94\",\n",
    "        \"Delta Junction, Descending Orbit, Path 160\",\n",
    "        \"Brazil, Descending Orbit, Path 170\"\n",
    "    ]\n",
    "    script = \"bulk_papermill_OPERA_RTC_Coregistration.py\"\n",
    "else:\n",
    "    raise Exception(f\"{calval_module.value} analysis option not yet added to this notebook\")\n",
    "    \n",
    "site_options = widgets.RadioButtons(\n",
    "    options=sites,\n",
    "    description='',\n",
    "    disabled=False,\n",
    "    layout=Layout(min_width=\"1000px\")\n",
    "    )\n",
    "\n",
    "print(\"Select a site/path for the validation analysis.\")\n",
    "display(site_options)"
   ]
  },
  {
   "cell_type": "code",
   "execution_count": null,
   "id": "5c02b919-5945-42c6-ba36-630baec26e22",
   "metadata": {},
   "outputs": [],
   "source": [
    "download_mosaic = [\n",
    "    'Download and mosaic OPERA sample burst data',\n",
    "    'Validate previously downloaded and mosaicked data'\n",
    "]\n",
    "\n",
    "download_options = widgets.RadioButtons(\n",
    "    options=download_mosaic,\n",
    "    description='',\n",
    "    disabled=False,\n",
    "    layout=Layout(min_width=\"1000px\")\n",
    "    )\n",
    "\n",
    "print(\"Download and mosaic OPERA sample burst data or validate previously prepared mosaics?\")\n",
    "display(download_options)\n",
    "\n",
    "if calval_module.value == 'Coregistration':\n",
    "    print(\"\\nSave or delete intermediary data produced during validation?\")\n",
    "    delete_options = widgets.RadioButtons(\n",
    "        options=['Save intermediary data', 'Delete intermediary data'],\n",
    "        description='',\n",
    "        disabled=False,\n",
    "        layout=Layout(min_width=\"1000px\")\n",
    "        )\n",
    "    display(delete_options)"
   ]
  },
  {
   "cell_type": "code",
   "execution_count": null,
   "id": "f829f935-6ef0-47af-a69b-94e802428dc9",
   "metadata": {
    "scrolled": true,
    "tags": []
   },
   "outputs": [],
   "source": [
    "download = '--skip_download' if 'Validate' in download_options.value else ''\n",
    "delete = '--delete_intermediary' if (calval_module.value == 'Coregistration' and 'delete_options' in locals() and 'Delete' in delete_options.value) else ''\n",
    "script_dir = Path.cwd()/\"bulk_validation_scripts\"\n",
    "with work_dir(script_dir):\n",
    "    site = site_options.value.split(',')[0]\n",
    "    orbital_path = site_options.value.split(' ')[-1]\n",
    "    # print(f'python {script} --site \"{site}\" --orbital_path {orbital_path} {download} {delete}')\n",
    "    subprocess.run([f'python {script} --site \"{site}\" --orbital_path {orbital_path} {download} {delete}'], shell=True)"
   ]
  },
  {
   "cell_type": "code",
   "execution_count": null,
   "id": "c5eeee5c-4cee-4a65-b873-d4d45c7f3113",
   "metadata": {},
   "outputs": [],
   "source": []
  }
 ],
 "metadata": {
  "kernelspec": {
   "display_name": "opera_calval_rtc [conda env:.local-opera_calval_rtc]",
   "language": "python",
   "name": "conda-env-.local-opera_calval_rtc-py"
  },
  "language_info": {
   "codemirror_mode": {
    "name": "ipython",
    "version": 3
   },
   "file_extension": ".py",
   "mimetype": "text/x-python",
   "name": "python",
   "nbconvert_exporter": "python",
   "pygments_lexer": "ipython3",
   "version": "3.11.5"
  }
 },
 "nbformat": 4,
 "nbformat_minor": 5
}
