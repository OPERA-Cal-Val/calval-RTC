{
 "cells": [
  {
   "cell_type": "markdown",
   "id": "63f8394a-337d-4649-9cfa-6c1597fbb0ae",
   "metadata": {},
   "source": [
    "# OPERA L2-RTC Validation \n",
    "\n",
    "OPERA L2-RTC Validation is performed on OPERA bursts that are merged into the shape of the source Sentinel-1 scenes.\n",
    "\n",
    "Each validation workflow is a collection of notebooks in this repository. They may be run piecemeal, on individual scenes, but it is time consuming.\n",
    "\n",
    "**This notebook makes it easy to run validation modules in bulk, on all of the data submitted for validation.** \n",
    "\n",
    "1. Select a validation module\n",
    "1. Select a site and orbital path combination\n",
    "1. Download non-OPERA data used in validation\n",
    "1. Run a bulk validation script\n",
    "    1. Downloads and mosaics the bursts\n",
    "    1. Runs validation workflows\n",
    "    \n",
    "After running validation modules from this notebook, the input and output validation data can be found in the `../OPERA_L2-RTC_CalVal` directory."
   ]
  },
  {
   "cell_type": "code",
   "execution_count": 12,
   "id": "6c1c2fdf-7f33-4cfb-8326-023775bb3ee6",
   "metadata": {},
   "outputs": [],
   "source": [
    "from getpass import getpass\n",
    "import os\n",
    "from pathlib import Path\n",
    "import subprocess\n",
    "from typing import Union\n",
    "from zipfile import ZipFile \n",
    "\n",
    "from opensarlab_lib import work_dir\n",
    "\n",
    "import ipywidgets as widgets\n",
    "from ipywidgets import Layout"
   ]
  },
  {
   "cell_type": "markdown",
   "id": "a4e1a0b7-7e19-4dd1-a81b-07df2da8d094",
   "metadata": {},
   "source": [
    "## 1. Select Validation Module"
   ]
  },
  {
   "cell_type": "code",
   "execution_count": 2,
   "id": "720f040f-bd25-490f-9251-c169d5975a8f",
   "metadata": {},
   "outputs": [
    {
     "name": "stdout",
     "output_type": "stream",
     "text": [
      "Select an OPERA-RTC validation analysis to perform.\n"
     ]
    },
    {
     "data": {
      "application/vnd.jupyter.widget-view+json": {
       "model_id": "06969bba687a455598a994a0da39020f",
       "version_major": 2,
       "version_minor": 0
      },
      "text/plain": [
       "RadioButtons(layout=Layout(min_width='1000px'), options=('Absolute Geolocation Evaluation', 'Flattening', 'Cor…"
      ]
     },
     "metadata": {},
     "output_type": "display_data"
    }
   ],
   "source": [
    "calval_types = [\n",
    "    \"Absolute Geolocation Evaluation\",\n",
    "    \"Flattening\",\n",
    "    \"Coregistration\",\n",
    "]\n",
    "\n",
    "calval_module = widgets.RadioButtons(\n",
    "    options=calval_types,\n",
    "    description='',\n",
    "    disabled=False,\n",
    "    layout=Layout(min_width=\"1000px\")\n",
    "    )\n",
    "\n",
    "print(\"Select an OPERA-RTC validation analysis to perform.\")\n",
    "display(calval_module)"
   ]
  },
  {
   "cell_type": "markdown",
   "id": "1053b9c3-c149-4201-bc48-1f769a481bd2",
   "metadata": {},
   "source": [
    "## 2. Select a validation site and orbital path"
   ]
  },
  {
   "cell_type": "code",
   "execution_count": 3,
   "id": "465d11eb-b27f-467f-8a64-c8b930887b62",
   "metadata": {},
   "outputs": [
    {
     "name": "stdout",
     "output_type": "stream",
     "text": [
      "Select a site/path for the validation analysis.\n"
     ]
    },
    {
     "data": {
      "application/vnd.jupyter.widget-view+json": {
       "model_id": "162a175a97804c50857cf85a59fbaad0",
       "version_major": 2,
       "version_minor": 0
      },
      "text/plain": [
       "RadioButtons(layout=Layout(min_width='1000px'), options=('California, Ascending Orbit, Orbital Path 64',), val…"
      ]
     },
     "metadata": {},
     "output_type": "display_data"
    }
   ],
   "source": [
    "if \"Absolute\" in calval_module.value:\n",
    "    \n",
    "    sites = [\n",
    "        \"California, Ascending Orbit, Orbital Path 64\",\n",
    "    ]\n",
    "    script = \"bulk_papermill_OPERA_RTC_absolute_geolocation_evaluation.py\"\n",
    "elif calval_module.value == 'Coregistration':\n",
    "    sites = [\n",
    "        \"Delta Junction, Ascending Orbit, Path 94\",\n",
    "        \"Delta Junction, Descending Orbit, Path 160\",\n",
    "        \"Brazil, Descending Orbit, Path 170\",\n",
    "    ]\n",
    "    script = \"bulk_papermill_OPERA_RTC_coregistration.py\"\n",
    "elif calval_module.value == 'Flattening':\n",
    "    sites = [\n",
    "        \"Vermont, Ascending Orbit, Path 135\",\n",
    "        \"Vermont, Descending Orbit, Path 113\",\n",
    "        \"Delta Junction, Ascending Orbit, Path 94\",\n",
    "        \"Delta Junction, Descending Orbit, Path 160\",\n",
    "        \"Brazil, Descending Orbit, Path 39\",\n",
    "    ]\n",
    "    script = \"bulk_papermill_OPERA_RTC_flattening.py\"\n",
    "    \n",
    "else:\n",
    "    raise Exception(f\"{calval_module.value} analysis option not yet added to this notebook\")\n",
    "    \n",
    "site_options = widgets.RadioButtons(\n",
    "    options=sites,\n",
    "    description='',\n",
    "    disabled=False,\n",
    "    layout=Layout(min_width=\"1000px\")\n",
    "    )\n",
    "\n",
    "print(\"Select a site/path for the validation analysis.\")\n",
    "display(site_options)"
   ]
  },
  {
   "cell_type": "markdown",
   "id": "9f526d82-e691-45ba-86d6-a3be0c03d9a8",
   "metadata": {},
   "source": [
    "## 3. Select whether to download and validate data or validate previously downloaded data"
   ]
  },
  {
   "cell_type": "code",
   "execution_count": 4,
   "id": "5c02b919-5945-42c6-ba36-630baec26e22",
   "metadata": {},
   "outputs": [
    {
     "name": "stdout",
     "output_type": "stream",
     "text": [
      "Download and mosaic OPERA sample burst data or validate previously prepared mosaics?\n"
     ]
    },
    {
     "data": {
      "application/vnd.jupyter.widget-view+json": {
       "model_id": "48a9d57325e54c2ba9b7188d1aac6f26",
       "version_major": 2,
       "version_minor": 0
      },
      "text/plain": [
       "RadioButtons(layout=Layout(min_width='1000px'), options=('Download, mosaic, and validate OPERA sample burst da…"
      ]
     },
     "metadata": {},
     "output_type": "display_data"
    }
   ],
   "source": [
    "download_mosaic = [\n",
    "    'Download, mosaic, and validate OPERA sample burst data',\n",
    "    'Validate previously downloaded and mosaicked data'\n",
    "]\n",
    "\n",
    "download_options = widgets.RadioButtons(\n",
    "    options=download_mosaic,\n",
    "    description='',\n",
    "    disabled=False,\n",
    "    layout=Layout(min_width=\"1000px\")\n",
    "    )\n",
    "\n",
    "print(\"Download and mosaic OPERA sample burst data or validate previously prepared mosaics?\")\n",
    "display(download_options)\n",
    "\n",
    "if calval_module.value == 'Coregistration':\n",
    "    print(\"\\nSave or delete intermediary data produced during validation?\")\n",
    "    delete_options = widgets.RadioButtons(\n",
    "        options=['Save intermediary data', 'Delete intermediary data'],\n",
    "        description='',\n",
    "        disabled=False,\n",
    "        layout=Layout(min_width=\"1000px\")\n",
    "        )\n",
    "    display(delete_options)"
   ]
  },
  {
   "cell_type": "markdown",
   "id": "1eab7be0-124f-480a-bfac-3d35b1bebbc4",
   "metadata": {},
   "source": [
    "## 4. Download [Copernicus Global Land Cover (100m)](https://lcviewer.vito.be/download) and [NISAR Calibration Corner Reflector](https://uavsar.jpl.nasa.gov/cgi-bin/calibration-nisar.pl) data.  "
   ]
  },
  {
   "cell_type": "code",
   "execution_count": 8,
   "id": "51130650-894f-4e4b-93a4-0d2d9fc83ee0",
   "metadata": {},
   "outputs": [],
   "source": [
    "if \"Download\" in download_options.value:\n",
    "    calval_pth = Path.cwd().parent / \"OPERA_L2-RTC_CalVal\"\n",
    "    zip_pth = Path.cwd().parent / \"OPERA_L2-RTC_CalVal.zip\"\n",
    "\n",
    "    if not zip_pth.exists() and not calval_pth.exists():\n",
    "        download_cmd = f'wget --no-check-certificate --no-proxy \"https://asf-opera-rtc-calval.s3.us-west-2.amazonaws.com/OPERA_L2-RTC_LC_CR_Input_Data/OPERA_L2-RTC_CalVal.zip\" -q --show-progress -P {Path.cwd().parent}'\n",
    "        subprocess.run(download_cmd, stdout=None, stderr=subprocess.PIPE, shell=True)\n",
    "    if zip_pth.exists() and not calval_pth.exists():\n",
    "        with ZipFile(zip_pth, 'r') as z:  \n",
    "            z.extractall(path=Path.cwd().parent)    "
   ]
  },
  {
   "cell_type": "markdown",
   "id": "1c6313b0-676b-4047-93e0-7f17c1ded81e",
   "metadata": {},
   "source": [
    "## Enter your EarthData Login Bear Token\n",
    "\n",
    "[Instructions to generate an EDL Bearer Token](https://urs.earthdata.nasa.gov/documentation/for_users/user_token)"
   ]
  },
  {
   "cell_type": "code",
   "execution_count": 15,
   "id": "8b1f34cf-88a9-458a-a804-97113465e9d2",
   "metadata": {},
   "outputs": [
    {
     "name": "stdin",
     "output_type": "stream",
     "text": [
      "EDL Bearer Token ········\n"
     ]
    }
   ],
   "source": [
    "EDL_token = getpass(\"EDL Bearer Token\")"
   ]
  },
  {
   "cell_type": "markdown",
   "id": "6100e808-bc6d-42a4-ad88-eedb213a373c",
   "metadata": {},
   "source": [
    "## 5. Run bulk validation script"
   ]
  },
  {
   "cell_type": "code",
   "execution_count": 46,
   "id": "f829f935-6ef0-47af-a69b-94e802428dc9",
   "metadata": {
    "scrolled": true,
    "tags": []
   },
   "outputs": [
    {
     "name": "stdout",
     "output_type": "stream",
     "text": [
      "99\n"
     ]
    },
    {
     "name": "stderr",
     "output_type": "stream",
     "text": [
      "  0%|          | 0/99 [00:00<?, ?it/s]/home/jovyan/.local/envs/opera_calval_rtc/lib/python3.11/site-packages/asf_search/download/download.py:68: UserWarning: File already exists, skipping download: /home/jovyan/OPERA_L2-RTC_CalVal/OPERA_RTC_ALE_California_64/input_OPERA_data/OPERA_L2-RTC_S1A_IW_SLC__1SDV_20201107T015034_20201107T015102_035136_0419CE_F4EF_30_v1.0/vv_bursts/OPERA_L2_RTC-S1_T064-135527-IW2_20201107T015057Z_20230928T223020Z_S1A_30_v1.0_VV.tif\n",
      "  warnings.warn(f'File already exists, skipping download: {os.path.join(path, filename)}')\n",
      "/home/jovyan/.local/envs/opera_calval_rtc/lib/python3.11/site-packages/asf_search/download/download.py:68: UserWarning: File already exists, skipping download: /home/jovyan/OPERA_L2-RTC_CalVal/OPERA_RTC_ALE_California_64/input_OPERA_data/OPERA_L2-RTC_S1A_IW_SLC__1SDV_20201107T015034_20201107T015102_035136_0419CE_F4EF_30_v1.0/vv_bursts/OPERA_L2_RTC-S1_T064-135527-IW3_20201107T015058Z_20230928T223020Z_S1A_30_v1.0_VV.tif\n",
      "  warnings.warn(f'File already exists, skipping download: {os.path.join(path, filename)}')\n",
      "/home/jovyan/.local/envs/opera_calval_rtc/lib/python3.11/site-packages/asf_search/download/download.py:68: UserWarning: File already exists, skipping download: /home/jovyan/OPERA_L2-RTC_CalVal/OPERA_RTC_ALE_California_64/input_OPERA_data/OPERA_L2-RTC_S1A_IW_SLC__1SDV_20201107T015034_20201107T015102_035136_0419CE_F4EF_30_v1.0/vv_bursts/OPERA_L2_RTC-S1_T064-135528-IW1_20201107T015059Z_20230928T223020Z_S1A_30_v1.0_VV.tif\n",
      "  warnings.warn(f'File already exists, skipping download: {os.path.join(path, filename)}')\n",
      "/home/jovyan/.local/envs/opera_calval_rtc/lib/python3.11/site-packages/asf_search/download/download.py:68: UserWarning: File already exists, skipping download: /home/jovyan/OPERA_L2-RTC_CalVal/OPERA_RTC_ALE_California_64/input_OPERA_data/OPERA_L2-RTC_S1A_IW_SLC__1SDV_20201107T015034_20201107T015102_035136_0419CE_F4EF_30_v1.0/vv_bursts/OPERA_L2_RTC-S1_T064-135519-IW2_20201107T015035Z_20230928T223020Z_S1A_30_v1.0_VV.tif\n",
      "  warnings.warn(f'File already exists, skipping download: {os.path.join(path, filename)}')\n",
      "/home/jovyan/.local/envs/opera_calval_rtc/lib/python3.11/site-packages/asf_search/download/download.py:68: UserWarning: File already exists, skipping download: /home/jovyan/OPERA_L2-RTC_CalVal/OPERA_RTC_ALE_California_64/input_OPERA_data/OPERA_L2-RTC_S1A_IW_SLC__1SDV_20201107T015034_20201107T015102_035136_0419CE_F4EF_30_v1.0/vv_bursts/OPERA_L2_RTC-S1_T064-135522-IW2_20201107T015043Z_20230928T223020Z_S1A_30_v1.0_VV.tif\n",
      "  warnings.warn(f'File already exists, skipping download: {os.path.join(path, filename)}')\n",
      "/home/jovyan/.local/envs/opera_calval_rtc/lib/python3.11/site-packages/asf_search/download/download.py:68: UserWarning: File already exists, skipping download: /home/jovyan/OPERA_L2-RTC_CalVal/OPERA_RTC_ALE_California_64/input_OPERA_data/OPERA_L2-RTC_S1A_IW_SLC__1SDV_20201107T015034_20201107T015102_035136_0419CE_F4EF_30_v1.0/vv_bursts/OPERA_L2_RTC-S1_T064-135524-IW1_20201107T015048Z_20230928T223020Z_S1A_30_v1.0_VV.tif\n",
      "  warnings.warn(f'File already exists, skipping download: {os.path.join(path, filename)}')\n",
      "/home/jovyan/.local/envs/opera_calval_rtc/lib/python3.11/site-packages/asf_search/download/download.py:68: UserWarning: File already exists, skipping download: /home/jovyan/OPERA_L2-RTC_CalVal/OPERA_RTC_ALE_California_64/input_OPERA_data/OPERA_L2-RTC_S1A_IW_SLC__1SDV_20201107T015034_20201107T015102_035136_0419CE_F4EF_30_v1.0/vv_bursts/OPERA_L2_RTC-S1_T064-135524-IW3_20201107T015050Z_20230928T223020Z_S1A_30_v1.0_VV.tif\n",
      "  warnings.warn(f'File already exists, skipping download: {os.path.join(path, filename)}')\n",
      "/home/jovyan/.local/envs/opera_calval_rtc/lib/python3.11/site-packages/asf_search/download/download.py:68: UserWarning: File already exists, skipping download: /home/jovyan/OPERA_L2-RTC_CalVal/OPERA_RTC_ALE_California_64/input_OPERA_data/OPERA_L2-RTC_S1A_IW_SLC__1SDV_20201107T015034_20201107T015102_035136_0419CE_F4EF_30_v1.0/vv_bursts/OPERA_L2_RTC-S1_T064-135524-IW2_20201107T015049Z_20230928T223020Z_S1A_30_v1.0_VV.tif\n",
      "  warnings.warn(f'File already exists, skipping download: {os.path.join(path, filename)}')\n",
      "/home/jovyan/.local/envs/opera_calval_rtc/lib/python3.11/site-packages/asf_search/download/download.py:68: UserWarning: File already exists, skipping download: /home/jovyan/OPERA_L2-RTC_CalVal/OPERA_RTC_ALE_California_64/input_OPERA_data/OPERA_L2-RTC_S1A_IW_SLC__1SDV_20201107T015034_20201107T015102_035136_0419CE_F4EF_30_v1.0/vv_bursts/OPERA_L2_RTC-S1_T064-135525-IW2_20201107T015051Z_20230928T223020Z_S1A_30_v1.0_VV.tif\n",
      "  warnings.warn(f'File already exists, skipping download: {os.path.join(path, filename)}')\n",
      "/home/jovyan/.local/envs/opera_calval_rtc/lib/python3.11/site-packages/asf_search/download/download.py:68: UserWarning: File already exists, skipping download: /home/jovyan/OPERA_L2-RTC_CalVal/OPERA_RTC_ALE_California_64/input_OPERA_data/OPERA_L2-RTC_S1A_IW_SLC__1SDV_20201107T015034_20201107T015102_035136_0419CE_F4EF_30_v1.0/vv_bursts/OPERA_L2_RTC-S1_T064-135525-IW3_20201107T015052Z_20230928T223020Z_S1A_30_v1.0_VV.tif\n",
      "  warnings.warn(f'File already exists, skipping download: {os.path.join(path, filename)}')\n",
      "/home/jovyan/.local/envs/opera_calval_rtc/lib/python3.11/site-packages/asf_search/download/download.py:68: UserWarning: File already exists, skipping download: /home/jovyan/OPERA_L2-RTC_CalVal/OPERA_RTC_ALE_California_64/input_OPERA_data/OPERA_L2-RTC_S1A_IW_SLC__1SDV_20201107T015034_20201107T015102_035136_0419CE_F4EF_30_v1.0/vv_bursts/OPERA_L2_RTC-S1_T064-135519-IW1_20201107T015034Z_20230928T223020Z_S1A_30_v1.0_VV.tif\n",
      "  warnings.warn(f'File already exists, skipping download: {os.path.join(path, filename)}')\n",
      "/home/jovyan/.local/envs/opera_calval_rtc/lib/python3.11/site-packages/asf_search/download/download.py:68: UserWarning: File already exists, skipping download: /home/jovyan/OPERA_L2-RTC_CalVal/OPERA_RTC_ALE_California_64/input_OPERA_data/OPERA_L2-RTC_S1A_IW_SLC__1SDV_20201107T015034_20201107T015102_035136_0419CE_F4EF_30_v1.0/vv_bursts/OPERA_L2_RTC-S1_T064-135523-IW3_20201107T015047Z_20230928T223020Z_S1A_30_v1.0_VV.tif\n",
      "  warnings.warn(f'File already exists, skipping download: {os.path.join(path, filename)}')\n",
      "/home/jovyan/.local/envs/opera_calval_rtc/lib/python3.11/site-packages/asf_search/download/download.py:68: UserWarning: File already exists, skipping download: /home/jovyan/OPERA_L2-RTC_CalVal/OPERA_RTC_ALE_California_64/input_OPERA_data/OPERA_L2-RTC_S1A_IW_SLC__1SDV_20201107T015034_20201107T015102_035136_0419CE_F4EF_30_v1.0/vv_bursts/OPERA_L2_RTC-S1_T064-135520-IW2_20201107T015038Z_20230928T223020Z_S1A_30_v1.0_VV.tif\n",
      "  warnings.warn(f'File already exists, skipping download: {os.path.join(path, filename)}')\n",
      "/home/jovyan/.local/envs/opera_calval_rtc/lib/python3.11/site-packages/asf_search/download/download.py:68: UserWarning: File already exists, skipping download: /home/jovyan/OPERA_L2-RTC_CalVal/OPERA_RTC_ALE_California_64/input_OPERA_data/OPERA_L2-RTC_S1A_IW_SLC__1SDV_20201107T015034_20201107T015102_035136_0419CE_F4EF_30_v1.0/vv_bursts/OPERA_L2_RTC-S1_T064-135520-IW3_20201107T015039Z_20230928T223020Z_S1A_30_v1.0_VV.tif\n",
      "  warnings.warn(f'File already exists, skipping download: {os.path.join(path, filename)}')\n",
      "/home/jovyan/.local/envs/opera_calval_rtc/lib/python3.11/site-packages/asf_search/download/download.py:68: UserWarning: File already exists, skipping download: /home/jovyan/OPERA_L2-RTC_CalVal/OPERA_RTC_ALE_California_64/input_OPERA_data/OPERA_L2-RTC_S1A_IW_SLC__1SDV_20201107T015034_20201107T015102_035136_0419CE_F4EF_30_v1.0/vv_bursts/OPERA_L2_RTC-S1_T064-135523-IW1_20201107T015045Z_20230928T223020Z_S1A_30_v1.0_VV.tif\n",
      "  warnings.warn(f'File already exists, skipping download: {os.path.join(path, filename)}')\n",
      "/home/jovyan/.local/envs/opera_calval_rtc/lib/python3.11/site-packages/asf_search/download/download.py:68: UserWarning: File already exists, skipping download: /home/jovyan/OPERA_L2-RTC_CalVal/OPERA_RTC_ALE_California_64/input_OPERA_data/OPERA_L2-RTC_S1A_IW_SLC__1SDV_20201107T015034_20201107T015102_035136_0419CE_F4EF_30_v1.0/vv_bursts/OPERA_L2_RTC-S1_T064-135521-IW1_20201107T015039Z_20230928T223020Z_S1A_30_v1.0_VV.tif\n",
      "  warnings.warn(f'File already exists, skipping download: {os.path.join(path, filename)}')\n",
      "/home/jovyan/.local/envs/opera_calval_rtc/lib/python3.11/site-packages/asf_search/download/download.py:68: UserWarning: File already exists, skipping download: /home/jovyan/OPERA_L2-RTC_CalVal/OPERA_RTC_ALE_California_64/input_OPERA_data/OPERA_L2-RTC_S1A_IW_SLC__1SDV_20201107T015034_20201107T015102_035136_0419CE_F4EF_30_v1.0/vv_bursts/OPERA_L2_RTC-S1_T064-135526-IW3_20201107T015055Z_20230928T223020Z_S1A_30_v1.0_VV.tif\n",
      "  warnings.warn(f'File already exists, skipping download: {os.path.join(path, filename)}')\n",
      "/home/jovyan/.local/envs/opera_calval_rtc/lib/python3.11/site-packages/asf_search/download/download.py:68: UserWarning: File already exists, skipping download: /home/jovyan/OPERA_L2-RTC_CalVal/OPERA_RTC_ALE_California_64/input_OPERA_data/OPERA_L2-RTC_S1A_IW_SLC__1SDV_20201107T015034_20201107T015102_035136_0419CE_F4EF_30_v1.0/vv_bursts/OPERA_L2_RTC-S1_T064-135519-IW3_20201107T015036Z_20230928T223020Z_S1A_30_v1.0_VV.tif\n",
      "  warnings.warn(f'File already exists, skipping download: {os.path.join(path, filename)}')\n",
      "/home/jovyan/.local/envs/opera_calval_rtc/lib/python3.11/site-packages/asf_search/download/download.py:68: UserWarning: File already exists, skipping download: /home/jovyan/OPERA_L2-RTC_CalVal/OPERA_RTC_ALE_California_64/input_OPERA_data/OPERA_L2-RTC_S1A_IW_SLC__1SDV_20201107T015034_20201107T015102_035136_0419CE_F4EF_30_v1.0/vv_bursts/OPERA_L2_RTC-S1_T064-135526-IW2_20201107T015054Z_20230928T223020Z_S1A_30_v1.0_VV.tif\n",
      "  warnings.warn(f'File already exists, skipping download: {os.path.join(path, filename)}')\n",
      "/home/jovyan/.local/envs/opera_calval_rtc/lib/python3.11/site-packages/asf_search/download/download.py:68: UserWarning: File already exists, skipping download: /home/jovyan/OPERA_L2-RTC_CalVal/OPERA_RTC_ALE_California_64/input_OPERA_data/OPERA_L2-RTC_S1A_IW_SLC__1SDV_20201107T015034_20201107T015102_035136_0419CE_F4EF_30_v1.0/vv_bursts/OPERA_L2_RTC-S1_T064-135520-IW1_20201107T015037Z_20230928T223020Z_S1A_30_v1.0_VV.tif\n",
      "  warnings.warn(f'File already exists, skipping download: {os.path.join(path, filename)}')\n",
      "/home/jovyan/.local/envs/opera_calval_rtc/lib/python3.11/site-packages/asf_search/download/download.py:68: UserWarning: File already exists, skipping download: /home/jovyan/OPERA_L2-RTC_CalVal/OPERA_RTC_ALE_California_64/input_OPERA_data/OPERA_L2-RTC_S1A_IW_SLC__1SDV_20201107T015034_20201107T015102_035136_0419CE_F4EF_30_v1.0/vv_bursts/OPERA_L2_RTC-S1_T064-135521-IW2_20201107T015040Z_20230928T223020Z_S1A_30_v1.0_VV.tif\n",
      "  warnings.warn(f'File already exists, skipping download: {os.path.join(path, filename)}')\n",
      "/home/jovyan/.local/envs/opera_calval_rtc/lib/python3.11/site-packages/asf_search/download/download.py:68: UserWarning: File already exists, skipping download: /home/jovyan/OPERA_L2-RTC_CalVal/OPERA_RTC_ALE_California_64/input_OPERA_data/OPERA_L2-RTC_S1A_IW_SLC__1SDV_20201107T015034_20201107T015102_035136_0419CE_F4EF_30_v1.0/vv_bursts/OPERA_L2_RTC-S1_T064-135521-IW3_20201107T015041Z_20230928T223020Z_S1A_30_v1.0_VV.tif\n",
      "  warnings.warn(f'File already exists, skipping download: {os.path.join(path, filename)}')\n",
      "/home/jovyan/.local/envs/opera_calval_rtc/lib/python3.11/site-packages/asf_search/download/download.py:68: UserWarning: File already exists, skipping download: /home/jovyan/OPERA_L2-RTC_CalVal/OPERA_RTC_ALE_California_64/input_OPERA_data/OPERA_L2-RTC_S1A_IW_SLC__1SDV_20201107T015034_20201107T015102_035136_0419CE_F4EF_30_v1.0/vv_bursts/OPERA_L2_RTC-S1_T064-135522-IW1_20201107T015042Z_20230928T223020Z_S1A_30_v1.0_VV.tif\n",
      "  warnings.warn(f'File already exists, skipping download: {os.path.join(path, filename)}')\n",
      "/home/jovyan/.local/envs/opera_calval_rtc/lib/python3.11/site-packages/asf_search/download/download.py:68: UserWarning: File already exists, skipping download: /home/jovyan/OPERA_L2-RTC_CalVal/OPERA_RTC_ALE_California_64/input_OPERA_data/OPERA_L2-RTC_S1A_IW_SLC__1SDV_20201107T015034_20201107T015102_035136_0419CE_F4EF_30_v1.0/vv_bursts/OPERA_L2_RTC-S1_T064-135522-IW3_20201107T015044Z_20230928T223020Z_S1A_30_v1.0_VV.tif\n",
      "  warnings.warn(f'File already exists, skipping download: {os.path.join(path, filename)}')\n",
      "/home/jovyan/.local/envs/opera_calval_rtc/lib/python3.11/site-packages/asf_search/download/download.py:68: UserWarning: File already exists, skipping download: /home/jovyan/OPERA_L2-RTC_CalVal/OPERA_RTC_ALE_California_64/input_OPERA_data/OPERA_L2-RTC_S1A_IW_SLC__1SDV_20201107T015034_20201107T015102_035136_0419CE_F4EF_30_v1.0/vv_bursts/OPERA_L2_RTC-S1_T064-135523-IW2_20201107T015046Z_20230928T223020Z_S1A_30_v1.0_VV.tif\n",
      "  warnings.warn(f'File already exists, skipping download: {os.path.join(path, filename)}')\n",
      "/home/jovyan/.local/envs/opera_calval_rtc/lib/python3.11/site-packages/asf_search/download/download.py:68: UserWarning: File already exists, skipping download: /home/jovyan/OPERA_L2-RTC_CalVal/OPERA_RTC_ALE_California_64/input_OPERA_data/OPERA_L2-RTC_S1A_IW_SLC__1SDV_20201107T015034_20201107T015102_035136_0419CE_F4EF_30_v1.0/vv_bursts/OPERA_L2_RTC-S1_T064-135525-IW1_20201107T015051Z_20230928T223020Z_S1A_30_v1.0_VV.tif\n",
      "  warnings.warn(f'File already exists, skipping download: {os.path.join(path, filename)}')\n",
      "/home/jovyan/.local/envs/opera_calval_rtc/lib/python3.11/site-packages/asf_search/download/download.py:68: UserWarning: File already exists, skipping download: /home/jovyan/OPERA_L2-RTC_CalVal/OPERA_RTC_ALE_California_64/input_OPERA_data/OPERA_L2-RTC_S1A_IW_SLC__1SDV_20201107T015034_20201107T015102_035136_0419CE_F4EF_30_v1.0/vv_bursts/OPERA_L2_RTC-S1_T064-135526-IW1_20201107T015053Z_20230928T223020Z_S1A_30_v1.0_VV.tif\n",
      "  warnings.warn(f'File already exists, skipping download: {os.path.join(path, filename)}')\n",
      "/home/jovyan/.local/envs/opera_calval_rtc/lib/python3.11/site-packages/asf_search/download/download.py:68: UserWarning: File already exists, skipping download: /home/jovyan/OPERA_L2-RTC_CalVal/OPERA_RTC_ALE_California_64/input_OPERA_data/OPERA_L2-RTC_S1A_IW_SLC__1SDV_20201107T015034_20201107T015102_035136_0419CE_F4EF_30_v1.0/vv_bursts/OPERA_L2_RTC-S1_T064-135527-IW1_20201107T015056Z_20230928T223020Z_S1A_30_v1.0_VV.tif\n",
      "  warnings.warn(f'File already exists, skipping download: {os.path.join(path, filename)}')\n"
     ]
    },
    {
     "name": "stdout",
     "output_type": "stream",
     "text": [
      "0...10...20...30...40...50...60...70...80...90...100 - done.\n"
     ]
    },
    {
     "name": "stderr",
     "output_type": "stream",
     "text": [
      "  2%|▏         | 2/99 [00:07<05:51,  3.62s/it]"
     ]
    },
    {
     "name": "stdout",
     "output_type": "stream",
     "text": [
      "0...10...20...30...40...50...60...70...80...90...100 - done.\n"
     ]
    },
    {
     "name": "stderr",
     "output_type": "stream",
     "text": [
      "  3%|▎         | 3/99 [00:36<22:56, 14.34s/it]"
     ]
    },
    {
     "name": "stdout",
     "output_type": "stream",
     "text": [
      "0...10...20...30...40...50...60...70...80...90...100 - done.\n"
     ]
    },
    {
     "name": "stderr",
     "output_type": "stream",
     "text": [
      "  4%|▍         | 4/99 [01:04<30:29, 19.25s/it]"
     ]
    },
    {
     "name": "stdout",
     "output_type": "stream",
     "text": [
      "0...10...20...30...40...50...60...70...80...90...100 - done.\n"
     ]
    },
    {
     "name": "stderr",
     "output_type": "stream",
     "text": [
      "  5%|▌         | 5/99 [01:31<34:45, 22.19s/it]"
     ]
    },
    {
     "name": "stdout",
     "output_type": "stream",
     "text": [
      "0...10...20...30...40...50...60...70...80...90...100 - done.\n"
     ]
    },
    {
     "name": "stderr",
     "output_type": "stream",
     "text": [
      "  6%|▌         | 6/99 [01:58<36:41, 23.67s/it]"
     ]
    },
    {
     "name": "stdout",
     "output_type": "stream",
     "text": [
      "0...10...20...30...40...50...60...70...80...90...100 - done.\n"
     ]
    },
    {
     "name": "stderr",
     "output_type": "stream",
     "text": [
      "  7%|▋         | 7/99 [02:25<37:58, 24.77s/it]"
     ]
    },
    {
     "name": "stdout",
     "output_type": "stream",
     "text": [
      "0...10...20...30...40...50...60...70...80...90...100 - done.\n"
     ]
    },
    {
     "name": "stderr",
     "output_type": "stream",
     "text": [
      "  8%|▊         | 8/99 [02:53<38:59, 25.71s/it]"
     ]
    },
    {
     "name": "stdout",
     "output_type": "stream",
     "text": [
      "0...10...20...30...40...50...60...70...80...90...100 - done.\n"
     ]
    },
    {
     "name": "stderr",
     "output_type": "stream",
     "text": [
      "  9%|▉         | 9/99 [03:20<39:25, 26.28s/it]"
     ]
    },
    {
     "name": "stdout",
     "output_type": "stream",
     "text": [
      "0...10...20...30...40...50...60...70...80...90...100 - done.\n"
     ]
    },
    {
     "name": "stderr",
     "output_type": "stream",
     "text": [
      " 10%|█         | 10/99 [03:48<39:23, 26.56s/it]"
     ]
    },
    {
     "name": "stdout",
     "output_type": "stream",
     "text": [
      "0...10...20...30...40...50...60...70...80...90...100 - done.\n"
     ]
    },
    {
     "name": "stderr",
     "output_type": "stream",
     "text": [
      " 11%|█         | 11/99 [04:15<39:23, 26.85s/it]"
     ]
    },
    {
     "name": "stdout",
     "output_type": "stream",
     "text": [
      "0...10...20...30...40...50...60...70...80...90...100 - done.\n"
     ]
    },
    {
     "name": "stderr",
     "output_type": "stream",
     "text": [
      " 12%|█▏        | 12/99 [04:44<39:41, 27.37s/it]"
     ]
    },
    {
     "name": "stdout",
     "output_type": "stream",
     "text": [
      "0...10...20...30...40...50...60...70...80...90...100 - done.\n"
     ]
    },
    {
     "name": "stderr",
     "output_type": "stream",
     "text": [
      " 13%|█▎        | 13/99 [05:11<39:25, 27.50s/it]"
     ]
    },
    {
     "name": "stdout",
     "output_type": "stream",
     "text": [
      "0...10...20...30...40...50...60...70...80...90...100 - done.\n"
     ]
    },
    {
     "name": "stderr",
     "output_type": "stream",
     "text": [
      " 14%|█▍        | 14/99 [05:39<39:06, 27.61s/it]"
     ]
    },
    {
     "name": "stdout",
     "output_type": "stream",
     "text": [
      "0...10...20...30...40...50...60...70...80...90...100 - done.\n",
      "Downloading bursts for S1 scene: S1A_IW_SLC__1SDV_20201107T015034_20201107T015102_035136_0419CE_F4EF\n",
      "/home/jovyan/OPERA_L2-RTC_CalVal/OPERA_RTC_ALE_California_64/input_OPERA_data/OPERA_L2-RTC_S1A_IW_SLC__1SDV_20201107T015034_20201107T015102_035136_0419CE_F4EF_30_v1.0/vv_bursts\n",
      "28\n",
      "Merging bursts -> /home/jovyan/OPERA_L2-RTC_CalVal/OPERA_RTC_ALE_California_64/input_OPERA_data/OPERA_L2-RTC_S1A_IW_SLC__1SDV_20201107T015034_20201107T015102_035136_0419CE_F4EF_30_v1.0/OPERA_L2_RTC-S1_VV_S1A_IW_SLC__1SDV_20201107T015034_20201107T015102_035136_0419CE_F4EF_30_v1.0_mosaic.tif\n",
      "Downloading bursts for S1 scene: S1A_IW_SLC__1SDV_20220501T015035_20220501T015102_043011_0522A4_42CC\n",
      "/home/jovyan/OPERA_L2-RTC_CalVal/OPERA_RTC_ALE_California_64/input_OPERA_data/OPERA_L2-RTC_S1A_IW_SLC__1SDV_20220501T015035_20220501T015102_043011_0522A4_42CC_30_v1.0/vv_bursts\n",
      "28\n",
      "Merging bursts -> /home/jovyan/OPERA_L2-RTC_CalVal/OPERA_RTC_ALE_California_64/input_OPERA_data/OPERA_L2-RTC_S1A_IW_SLC__1SDV_20220501T015035_20220501T015102_043011_0522A4_42CC_30_v1.0/OPERA_L2_RTC-S1_VV_S1A_IW_SLC__1SDV_20220501T015035_20220501T015102_043011_0522A4_42CC_30_v1.0_mosaic.tif\n",
      "Downloading bursts for S1 scene: S1A_IW_SLC__1SDV_20200604T015028_20200604T015056_032861_03CE63_0CAC\n",
      "/home/jovyan/OPERA_L2-RTC_CalVal/OPERA_RTC_ALE_California_64/input_OPERA_data/OPERA_L2-RTC_S1A_IW_SLC__1SDV_20200604T015028_20200604T015056_032861_03CE63_0CAC_30_v1.0/vv_bursts\n",
      "28\n",
      "Merging bursts -> /home/jovyan/OPERA_L2-RTC_CalVal/OPERA_RTC_ALE_California_64/input_OPERA_data/OPERA_L2-RTC_S1A_IW_SLC__1SDV_20200604T015028_20200604T015056_032861_03CE63_0CAC_30_v1.0/OPERA_L2_RTC-S1_VV_S1A_IW_SLC__1SDV_20200604T015028_20200604T015056_032861_03CE63_0CAC_30_v1.0_mosaic.tif\n",
      "Downloading bursts for S1 scene: S1A_IW_SLC__1SDV_20210130T015031_20210130T015059_036361_044451_A5BC\n",
      "/home/jovyan/OPERA_L2-RTC_CalVal/OPERA_RTC_ALE_California_64/input_OPERA_data/OPERA_L2-RTC_S1A_IW_SLC__1SDV_20210130T015031_20210130T015059_036361_044451_A5BC_30_v1.0/vv_bursts\n",
      "28\n",
      "Merging bursts -> /home/jovyan/OPERA_L2-RTC_CalVal/OPERA_RTC_ALE_California_64/input_OPERA_data/OPERA_L2-RTC_S1A_IW_SLC__1SDV_20210130T015031_20210130T015059_036361_044451_A5BC_30_v1.0/OPERA_L2_RTC-S1_VV_S1A_IW_SLC__1SDV_20210130T015031_20210130T015059_036361_044451_A5BC_30_v1.0_mosaic.tif\n",
      "Downloading bursts for S1 scene: S1A_IW_SLC__1SDV_20200511T015026_20200511T015054_032511_03C3E0_300E\n",
      "/home/jovyan/OPERA_L2-RTC_CalVal/OPERA_RTC_ALE_California_64/input_OPERA_data/OPERA_L2-RTC_S1A_IW_SLC__1SDV_20200511T015026_20200511T015054_032511_03C3E0_300E_30_v1.0/vv_bursts\n",
      "28\n",
      "Merging bursts -> /home/jovyan/OPERA_L2-RTC_CalVal/OPERA_RTC_ALE_California_64/input_OPERA_data/OPERA_L2-RTC_S1A_IW_SLC__1SDV_20200511T015026_20200511T015054_032511_03C3E0_300E_30_v1.0/OPERA_L2_RTC-S1_VV_S1A_IW_SLC__1SDV_20200511T015026_20200511T015054_032511_03C3E0_300E_30_v1.0_mosaic.tif\n",
      "Downloading bursts for S1 scene: S1A_IW_SLC__1SDV_20220314T015033_20220314T015101_042311_050B23_CCD5\n",
      "/home/jovyan/OPERA_L2-RTC_CalVal/OPERA_RTC_ALE_California_64/input_OPERA_data/OPERA_L2-RTC_S1A_IW_SLC__1SDV_20220314T015033_20220314T015101_042311_050B23_CCD5_30_v1.0/vv_bursts\n",
      "28\n",
      "Merging bursts -> /home/jovyan/OPERA_L2-RTC_CalVal/OPERA_RTC_ALE_California_64/input_OPERA_data/OPERA_L2-RTC_S1A_IW_SLC__1SDV_20220314T015033_20220314T015101_042311_050B23_CCD5_30_v1.0/OPERA_L2_RTC-S1_VV_S1A_IW_SLC__1SDV_20220314T015033_20220314T015101_042311_050B23_CCD5_30_v1.0_mosaic.tif\n",
      "Downloading bursts for S1 scene: S1A_IW_SLC__1SDV_20230321T015039_20230321T015107_047736_05BBFD_70D3\n",
      "/home/jovyan/OPERA_L2-RTC_CalVal/OPERA_RTC_ALE_California_64/input_OPERA_data/OPERA_L2-RTC_S1A_IW_SLC__1SDV_20230321T015039_20230321T015107_047736_05BBFD_70D3_30_v1.0/vv_bursts\n",
      "28\n",
      "Merging bursts -> /home/jovyan/OPERA_L2-RTC_CalVal/OPERA_RTC_ALE_California_64/input_OPERA_data/OPERA_L2-RTC_S1A_IW_SLC__1SDV_20230321T015039_20230321T015107_047736_05BBFD_70D3_30_v1.0/OPERA_L2_RTC-S1_VV_S1A_IW_SLC__1SDV_20230321T015039_20230321T015107_047736_05BBFD_70D3_30_v1.0_mosaic.tif\n",
      "Downloading bursts for S1 scene: S1A_IW_SLC__1SDV_20221215T015041_20221215T015109_046336_058CB1_D06E\n",
      "/home/jovyan/OPERA_L2-RTC_CalVal/OPERA_RTC_ALE_California_64/input_OPERA_data/OPERA_L2-RTC_S1A_IW_SLC__1SDV_20221215T015041_20221215T015109_046336_058CB1_D06E_30_v1.0/vv_bursts\n",
      "28\n",
      "Merging bursts -> /home/jovyan/OPERA_L2-RTC_CalVal/OPERA_RTC_ALE_California_64/input_OPERA_data/OPERA_L2-RTC_S1A_IW_SLC__1SDV_20221215T015041_20221215T015109_046336_058CB1_D06E_30_v1.0/OPERA_L2_RTC-S1_VV_S1A_IW_SLC__1SDV_20221215T015041_20221215T015109_046336_058CB1_D06E_30_v1.0_mosaic.tif\n",
      "Downloading bursts for S1 scene: S1A_IW_SLC__1SDV_20200710T015030_20200710T015058_033386_03DE40_5E7A\n",
      "/home/jovyan/OPERA_L2-RTC_CalVal/OPERA_RTC_ALE_California_64/input_OPERA_data/OPERA_L2-RTC_S1A_IW_SLC__1SDV_20200710T015030_20200710T015058_033386_03DE40_5E7A_30_v1.0/vv_bursts\n",
      "28\n",
      "Merging bursts -> /home/jovyan/OPERA_L2-RTC_CalVal/OPERA_RTC_ALE_California_64/input_OPERA_data/OPERA_L2-RTC_S1A_IW_SLC__1SDV_20200710T015030_20200710T015058_033386_03DE40_5E7A_30_v1.0/OPERA_L2_RTC-S1_VV_S1A_IW_SLC__1SDV_20200710T015030_20200710T015058_033386_03DE40_5E7A_30_v1.0_mosaic.tif\n",
      "Downloading bursts for S1 scene: S1A_IW_SLC__1SDV_20200920T015034_20200920T015102_034436_040182_8446\n",
      "/home/jovyan/OPERA_L2-RTC_CalVal/OPERA_RTC_ALE_California_64/input_OPERA_data/OPERA_L2-RTC_S1A_IW_SLC__1SDV_20200920T015034_20200920T015102_034436_040182_8446_30_v1.0/vv_bursts\n",
      "28\n",
      "Merging bursts -> /home/jovyan/OPERA_L2-RTC_CalVal/OPERA_RTC_ALE_California_64/input_OPERA_data/OPERA_L2-RTC_S1A_IW_SLC__1SDV_20200920T015034_20200920T015102_034436_040182_8446_30_v1.0/OPERA_L2_RTC-S1_VV_S1A_IW_SLC__1SDV_20200920T015034_20200920T015102_034436_040182_8446_30_v1.0_mosaic.tif\n",
      "Downloading bursts for S1 scene: S1A_IW_SLC__1SDV_20211126T015036_20211126T015104_040736_04D592_ED2C\n",
      "/home/jovyan/OPERA_L2-RTC_CalVal/OPERA_RTC_ALE_California_64/input_OPERA_data/OPERA_L2-RTC_S1A_IW_SLC__1SDV_20211126T015036_20211126T015104_040736_04D592_ED2C_30_v1.0/vv_bursts\n",
      "28\n",
      "Merging bursts -> /home/jovyan/OPERA_L2-RTC_CalVal/OPERA_RTC_ALE_California_64/input_OPERA_data/OPERA_L2-RTC_S1A_IW_SLC__1SDV_20211126T015036_20211126T015104_040736_04D592_ED2C_30_v1.0/OPERA_L2_RTC-S1_VV_S1A_IW_SLC__1SDV_20211126T015036_20211126T015104_040736_04D592_ED2C_30_v1.0_mosaic.tif\n",
      "Downloading bursts for S1 scene: S1A_IW_SLC__1SDV_20211220T015035_20211220T015103_041086_04E18D_A045\n",
      "/home/jovyan/OPERA_L2-RTC_CalVal/OPERA_RTC_ALE_California_64/input_OPERA_data/OPERA_L2-RTC_S1A_IW_SLC__1SDV_20211220T015035_20211220T015103_041086_04E18D_A045_30_v1.0/vv_bursts\n",
      "28\n",
      "Merging bursts -> /home/jovyan/OPERA_L2-RTC_CalVal/OPERA_RTC_ALE_California_64/input_OPERA_data/OPERA_L2-RTC_S1A_IW_SLC__1SDV_20211220T015035_20211220T015103_041086_04E18D_A045_30_v1.0/OPERA_L2_RTC-S1_VV_S1A_IW_SLC__1SDV_20211220T015035_20211220T015103_041086_04E18D_A045_30_v1.0_mosaic.tif\n",
      "Downloading bursts for S1 scene: S1A_IW_SLC__1SDV_20210717T015036_20210717T015104_038811_049456_3E46\n",
      "/home/jovyan/OPERA_L2-RTC_CalVal/OPERA_RTC_ALE_California_64/input_OPERA_data/OPERA_L2-RTC_S1A_IW_SLC__1SDV_20210717T015036_20210717T015104_038811_049456_3E46_30_v1.0/vv_bursts\n",
      "28\n",
      "Merging bursts -> /home/jovyan/OPERA_L2-RTC_CalVal/OPERA_RTC_ALE_California_64/input_OPERA_data/OPERA_L2-RTC_S1A_IW_SLC__1SDV_20210717T015036_20210717T015104_038811_049456_3E46_30_v1.0/OPERA_L2_RTC-S1_VV_S1A_IW_SLC__1SDV_20210717T015036_20210717T015104_038811_049456_3E46_30_v1.0_mosaic.tif\n",
      "Downloading bursts for S1 scene: S1A_IW_SLC__1SDV_20211009T015040_20211009T015108_040036_04BD45_C5B8\n",
      "/home/jovyan/OPERA_L2-RTC_CalVal/OPERA_RTC_ALE_California_64/input_OPERA_data/OPERA_L2-RTC_S1A_IW_SLC__1SDV_20211009T015040_20211009T015108_040036_04BD45_C5B8_30_v1.0/vv_bursts\n",
      "28\n",
      "Merging bursts -> /home/jovyan/OPERA_L2-RTC_CalVal/OPERA_RTC_ALE_California_64/input_OPERA_data/OPERA_L2-RTC_S1A_IW_SLC__1SDV_20211009T015040_20211009T015108_040036_04BD45_C5B8_30_v1.0/OPERA_L2_RTC-S1_VV_S1A_IW_SLC__1SDV_20211009T015040_20211009T015108_040036_04BD45_C5B8_30_v1.0_mosaic.tif\n",
      "Downloading bursts for S1 scene: S1A_IW_SLC__1SDV_20210211T015030_20210211T015058_036536_044A61_2578\n"
     ]
    },
    {
     "name": "stderr",
     "output_type": "stream",
     "text": [
      " 15%|█▌        | 15/99 [06:06<38:29, 27.49s/it]"
     ]
    },
    {
     "name": "stdout",
     "output_type": "stream",
     "text": [
      "0...10...20...30...40...50...60...70...80...90...100 - done.\n"
     ]
    },
    {
     "name": "stderr",
     "output_type": "stream",
     "text": [
      " 16%|█▌        | 16/99 [06:35<38:29, 27.82s/it]"
     ]
    },
    {
     "name": "stdout",
     "output_type": "stream",
     "text": [
      "0...10...20...30...40...50...60...70...80...90...100 - done.\n"
     ]
    },
    {
     "name": "stderr",
     "output_type": "stream",
     "text": [
      " 17%|█▋        | 17/99 [07:03<38:07, 27.90s/it]"
     ]
    },
    {
     "name": "stdout",
     "output_type": "stream",
     "text": [
      "0...10...20...30...40...50...60...70...80...90...100 - done.\n"
     ]
    },
    {
     "name": "stderr",
     "output_type": "stream",
     "text": [
      " 18%|█▊        | 18/99 [07:31<37:31, 27.80s/it]"
     ]
    },
    {
     "name": "stdout",
     "output_type": "stream",
     "text": [
      "0...10...20...30...40...50...60...70...80...90...100 - done.\n"
     ]
    },
    {
     "name": "stderr",
     "output_type": "stream",
     "text": [
      " 19%|█▉        | 19/99 [07:58<36:58, 27.73s/it]"
     ]
    },
    {
     "name": "stdout",
     "output_type": "stream",
     "text": [
      "0...10...20...30...40...50...60...70...80...90...100 - done.\n"
     ]
    },
    {
     "name": "stderr",
     "output_type": "stream",
     "text": [
      " 20%|██        | 20/99 [08:28<37:16, 28.31s/it]"
     ]
    },
    {
     "name": "stdout",
     "output_type": "stream",
     "text": [
      "0...10...20...30...40...50...60...70...80...90...100 - done.\n"
     ]
    },
    {
     "name": "stderr",
     "output_type": "stream",
     "text": [
      " 21%|██        | 21/99 [08:55<36:21, 27.96s/it]"
     ]
    },
    {
     "name": "stdout",
     "output_type": "stream",
     "text": [
      "0...10...20...30...40...50...60...70...80...90...100 - done.\n"
     ]
    },
    {
     "name": "stderr",
     "output_type": "stream",
     "text": [
      " 22%|██▏       | 22/99 [09:23<35:51, 27.94s/it]"
     ]
    },
    {
     "name": "stdout",
     "output_type": "stream",
     "text": [
      "0...10...20...30...40...50...60...70...80...90...100 - done.\n"
     ]
    },
    {
     "name": "stderr",
     "output_type": "stream",
     "text": [
      " 23%|██▎       | 23/99 [09:51<35:14, 27.82s/it]"
     ]
    },
    {
     "name": "stdout",
     "output_type": "stream",
     "text": [
      "0...10...20...30...40...50...60...70...80...90...100 - done.\n"
     ]
    },
    {
     "name": "stderr",
     "output_type": "stream",
     "text": [
      " 24%|██▍       | 24/99 [10:22<35:57, 28.77s/it]"
     ]
    },
    {
     "name": "stdout",
     "output_type": "stream",
     "text": [
      "0...10...20...30...40...50...60...70...80...90...100 - done.\n"
     ]
    },
    {
     "name": "stderr",
     "output_type": "stream",
     "text": [
      " 25%|██▌       | 25/99 [10:49<35:09, 28.51s/it]"
     ]
    },
    {
     "name": "stdout",
     "output_type": "stream",
     "text": [
      "0...10...20...30...40...50...60...70...80...90...100 - done.\n"
     ]
    },
    {
     "name": "stderr",
     "output_type": "stream",
     "text": [
      " 26%|██▋       | 26/99 [11:17<34:21, 28.24s/it]"
     ]
    },
    {
     "name": "stdout",
     "output_type": "stream",
     "text": [
      "0...10...20...30...40...50...60...70...80...90...100 - done.\n"
     ]
    },
    {
     "name": "stderr",
     "output_type": "stream",
     "text": [
      " 27%|██▋       | 27/99 [11:45<33:39, 28.05s/it]"
     ]
    },
    {
     "name": "stdout",
     "output_type": "stream",
     "text": [
      "0...10...20...30...40...50...60...70...80...90...100 - done.\n"
     ]
    },
    {
     "name": "stderr",
     "output_type": "stream",
     "text": [
      " 28%|██▊       | 28/99 [12:13<33:08, 28.01s/it]"
     ]
    },
    {
     "name": "stdout",
     "output_type": "stream",
     "text": [
      "0...10...20...30...40...50...60...70...80...90...100 - done.\n"
     ]
    },
    {
     "name": "stderr",
     "output_type": "stream",
     "text": [
      " 29%|██▉       | 29/99 [12:40<32:29, 27.86s/it]"
     ]
    },
    {
     "name": "stdout",
     "output_type": "stream",
     "text": [
      "/home/jovyan/OPERA_L2-RTC_CalVal/OPERA_RTC_ALE_California_64/input_OPERA_data/OPERA_L2-RTC_S1A_IW_SLC__1SDV_20210211T015030_20210211T015058_036536_044A61_2578_30_v1.0/vv_bursts\n",
      "28\n",
      "Merging bursts -> /home/jovyan/OPERA_L2-RTC_CalVal/OPERA_RTC_ALE_California_64/input_OPERA_data/OPERA_L2-RTC_S1A_IW_SLC__1SDV_20210211T015030_20210211T015058_036536_044A61_2578_30_v1.0/OPERA_L2_RTC-S1_VV_S1A_IW_SLC__1SDV_20210211T015030_20210211T015058_036536_044A61_2578_30_v1.0_mosaic.tif\n",
      "Downloading bursts for S1 scene: S1A_IW_SLC__1SDV_20220101T015035_20220101T015103_041261_04E75E_3C18\n",
      "/home/jovyan/OPERA_L2-RTC_CalVal/OPERA_RTC_ALE_California_64/input_OPERA_data/OPERA_L2-RTC_S1A_IW_SLC__1SDV_20220101T015035_20220101T015103_041261_04E75E_3C18_30_v1.0/vv_bursts\n",
      "28\n",
      "Merging bursts -> /home/jovyan/OPERA_L2-RTC_CalVal/OPERA_RTC_ALE_California_64/input_OPERA_data/OPERA_L2-RTC_S1A_IW_SLC__1SDV_20220101T015035_20220101T015103_041261_04E75E_3C18_30_v1.0/OPERA_L2_RTC-S1_VV_S1A_IW_SLC__1SDV_20220101T015035_20220101T015103_041261_04E75E_3C18_30_v1.0_mosaic.tif\n",
      "Downloading bursts for S1 scene: S1A_IW_SLC__1SDV_20210106T015032_20210106T015059_036011_04381A_394A\n",
      "/home/jovyan/OPERA_L2-RTC_CalVal/OPERA_RTC_ALE_California_64/input_OPERA_data/OPERA_L2-RTC_S1A_IW_SLC__1SDV_20210106T015032_20210106T015059_036011_04381A_394A_30_v1.0/vv_bursts\n",
      "28\n",
      "Merging bursts -> /home/jovyan/OPERA_L2-RTC_CalVal/OPERA_RTC_ALE_California_64/input_OPERA_data/OPERA_L2-RTC_S1A_IW_SLC__1SDV_20210106T015032_20210106T015059_036011_04381A_394A_30_v1.0/OPERA_L2_RTC-S1_VV_S1A_IW_SLC__1SDV_20210106T015032_20210106T015059_036011_04381A_394A_30_v1.0_mosaic.tif\n",
      "Downloading bursts for S1 scene: S1A_IW_SLC__1SDV_20220525T015036_20220525T015104_043361_052D8D_DCAE\n",
      "/home/jovyan/OPERA_L2-RTC_CalVal/OPERA_RTC_ALE_California_64/input_OPERA_data/OPERA_L2-RTC_S1A_IW_SLC__1SDV_20220525T015036_20220525T015104_043361_052D8D_DCAE_30_v1.0/vv_bursts\n",
      "28\n",
      "Merging bursts -> /home/jovyan/OPERA_L2-RTC_CalVal/OPERA_RTC_ALE_California_64/input_OPERA_data/OPERA_L2-RTC_S1A_IW_SLC__1SDV_20220525T015036_20220525T015104_043361_052D8D_DCAE_30_v1.0/OPERA_L2_RTC-S1_VV_S1A_IW_SLC__1SDV_20220525T015036_20220525T015104_043361_052D8D_DCAE_30_v1.0_mosaic.tif\n",
      "Downloading bursts for S1 scene: S1A_IW_SLC__1SDV_20210307T015030_20210307T015058_036886_045698_5779\n",
      "/home/jovyan/OPERA_L2-RTC_CalVal/OPERA_RTC_ALE_California_64/input_OPERA_data/OPERA_L2-RTC_S1A_IW_SLC__1SDV_20210307T015030_20210307T015058_036886_045698_5779_30_v1.0/vv_bursts\n",
      "28\n",
      "Merging bursts -> /home/jovyan/OPERA_L2-RTC_CalVal/OPERA_RTC_ALE_California_64/input_OPERA_data/OPERA_L2-RTC_S1A_IW_SLC__1SDV_20210307T015030_20210307T015058_036886_045698_5779_30_v1.0/OPERA_L2_RTC-S1_VV_S1A_IW_SLC__1SDV_20210307T015030_20210307T015058_036886_045698_5779_30_v1.0_mosaic.tif\n",
      "Downloading bursts for S1 scene: S1A_IW_SLC__1SDV_20200312T015024_20200312T015052_031636_03A571_0A52\n",
      "/home/jovyan/OPERA_L2-RTC_CalVal/OPERA_RTC_ALE_California_64/input_OPERA_data/OPERA_L2-RTC_S1A_IW_SLC__1SDV_20200312T015024_20200312T015052_031636_03A571_0A52_30_v1.0/vv_bursts\n",
      "28\n",
      "Merging bursts -> /home/jovyan/OPERA_L2-RTC_CalVal/OPERA_RTC_ALE_California_64/input_OPERA_data/OPERA_L2-RTC_S1A_IW_SLC__1SDV_20200312T015024_20200312T015052_031636_03A571_0A52_30_v1.0/OPERA_L2_RTC-S1_VV_S1A_IW_SLC__1SDV_20200312T015024_20200312T015052_031636_03A571_0A52_30_v1.0_mosaic.tif\n",
      "Downloading bursts for S1 scene: S1A_IW_SLC__1SDV_20210530T015033_20210530T015101_038111_047F6C_EE00\n",
      "/home/jovyan/OPERA_L2-RTC_CalVal/OPERA_RTC_ALE_California_64/input_OPERA_data/OPERA_L2-RTC_S1A_IW_SLC__1SDV_20210530T015033_20210530T015101_038111_047F6C_EE00_30_v1.0/vv_bursts\n",
      "28\n",
      "Merging bursts -> /home/jovyan/OPERA_L2-RTC_CalVal/OPERA_RTC_ALE_California_64/input_OPERA_data/OPERA_L2-RTC_S1A_IW_SLC__1SDV_20210530T015033_20210530T015101_038111_047F6C_EE00_30_v1.0/OPERA_L2_RTC-S1_VV_S1A_IW_SLC__1SDV_20210530T015033_20210530T015101_038111_047F6C_EE00_30_v1.0_mosaic.tif\n",
      "Downloading bursts for S1 scene: S1A_IW_SLC__1SDV_20210705T015035_20210705T015103_038636_048F19_3780\n",
      "/home/jovyan/OPERA_L2-RTC_CalVal/OPERA_RTC_ALE_California_64/input_OPERA_data/OPERA_L2-RTC_S1A_IW_SLC__1SDV_20210705T015035_20210705T015103_038636_048F19_3780_30_v1.0/vv_bursts\n",
      "28\n",
      "Merging bursts -> /home/jovyan/OPERA_L2-RTC_CalVal/OPERA_RTC_ALE_California_64/input_OPERA_data/OPERA_L2-RTC_S1A_IW_SLC__1SDV_20210705T015035_20210705T015103_038636_048F19_3780_30_v1.0/OPERA_L2_RTC-S1_VV_S1A_IW_SLC__1SDV_20210705T015035_20210705T015103_038636_048F19_3780_30_v1.0_mosaic.tif\n",
      "Downloading bursts for S1 scene: S1A_IW_SLC__1SDV_20200417T015025_20200417T015053_032161_03B7E9_FCE2\n",
      "/home/jovyan/OPERA_L2-RTC_CalVal/OPERA_RTC_ALE_California_64/input_OPERA_data/OPERA_L2-RTC_S1A_IW_SLC__1SDV_20200417T015025_20200417T015053_032161_03B7E9_FCE2_30_v1.0/vv_bursts\n",
      "28\n",
      "Merging bursts -> /home/jovyan/OPERA_L2-RTC_CalVal/OPERA_RTC_ALE_California_64/input_OPERA_data/OPERA_L2-RTC_S1A_IW_SLC__1SDV_20200417T015025_20200417T015053_032161_03B7E9_FCE2_30_v1.0/OPERA_L2_RTC-S1_VV_S1A_IW_SLC__1SDV_20200417T015025_20200417T015053_032161_03B7E9_FCE2_30_v1.0_mosaic.tif\n",
      "Downloading bursts for S1 scene: S1A_IW_SLC__1SDV_20220817T015042_20220817T015109_044586_055259_E511\n",
      "/home/jovyan/OPERA_L2-RTC_CalVal/OPERA_RTC_ALE_California_64/input_OPERA_data/OPERA_L2-RTC_S1A_IW_SLC__1SDV_20220817T015042_20220817T015109_044586_055259_E511_30_v1.0/vv_bursts\n",
      "28\n",
      "Merging bursts -> /home/jovyan/OPERA_L2-RTC_CalVal/OPERA_RTC_ALE_California_64/input_OPERA_data/OPERA_L2-RTC_S1A_IW_SLC__1SDV_20220817T015042_20220817T015109_044586_055259_E511_30_v1.0/OPERA_L2_RTC-S1_VV_S1A_IW_SLC__1SDV_20220817T015042_20220817T015109_044586_055259_E511_30_v1.0_mosaic.tif\n",
      "Downloading bursts for S1 scene: S1A_IW_SLC__1SDV_20220724T015040_20220724T015108_044236_05479C_17B8\n",
      "/home/jovyan/OPERA_L2-RTC_CalVal/OPERA_RTC_ALE_California_64/input_OPERA_data/OPERA_L2-RTC_S1A_IW_SLC__1SDV_20220724T015040_20220724T015108_044236_05479C_17B8_30_v1.0/vv_bursts\n",
      "28\n",
      "Merging bursts -> /home/jovyan/OPERA_L2-RTC_CalVal/OPERA_RTC_ALE_California_64/input_OPERA_data/OPERA_L2-RTC_S1A_IW_SLC__1SDV_20220724T015040_20220724T015108_044236_05479C_17B8_30_v1.0/OPERA_L2_RTC-S1_VV_S1A_IW_SLC__1SDV_20220724T015040_20220724T015108_044236_05479C_17B8_30_v1.0_mosaic.tif\n",
      "Downloading bursts for S1 scene: S1A_IW_SLC__1SDV_20210331T015030_20210331T015058_037236_0462BD_4F81\n",
      "/home/jovyan/OPERA_L2-RTC_CalVal/OPERA_RTC_ALE_California_64/input_OPERA_data/OPERA_L2-RTC_S1A_IW_SLC__1SDV_20210331T015030_20210331T015058_037236_0462BD_4F81_30_v1.0/vv_bursts\n",
      "28\n",
      "Merging bursts -> /home/jovyan/OPERA_L2-RTC_CalVal/OPERA_RTC_ALE_California_64/input_OPERA_data/OPERA_L2-RTC_S1A_IW_SLC__1SDV_20210331T015030_20210331T015058_037236_0462BD_4F81_30_v1.0/OPERA_L2_RTC-S1_VV_S1A_IW_SLC__1SDV_20210331T015030_20210331T015058_037236_0462BD_4F81_30_v1.0_mosaic.tif\n",
      "Downloading bursts for S1 scene: S1A_IW_SLC__1SDV_20230625T015043_20230625T015111_049136_05E895_CBD9\n",
      "/home/jovyan/OPERA_L2-RTC_CalVal/OPERA_RTC_ALE_California_64/input_OPERA_data/OPERA_L2-RTC_S1A_IW_SLC__1SDV_20230625T015043_20230625T015111_049136_05E895_CBD9_30_v1.0/vv_bursts\n",
      "28\n",
      "Merging bursts -> /home/jovyan/OPERA_L2-RTC_CalVal/OPERA_RTC_ALE_California_64/input_OPERA_data/OPERA_L2-RTC_S1A_IW_SLC__1SDV_20230625T015043_20230625T015111_049136_05E895_CBD9_30_v1.0/OPERA_L2_RTC-S1_VV_S1A_IW_SLC__1SDV_20230625T015043_20230625T015111_049136_05E895_CBD9_30_v1.0_mosaic.tif\n",
      "Downloading bursts for S1 scene: S1A_IW_SLC__1SDV_20200523T015027_20200523T015055_032686_03C92E_AC89\n",
      "/home/jovyan/OPERA_L2-RTC_CalVal/OPERA_RTC_ALE_California_64/input_OPERA_data/OPERA_L2-RTC_S1A_IW_SLC__1SDV_20200523T015027_20200523T015055_032686_03C92E_AC89_30_v1.0/vv_bursts\n",
      "28\n",
      "Merging bursts -> /home/jovyan/OPERA_L2-RTC_CalVal/OPERA_RTC_ALE_California_64/input_OPERA_data/OPERA_L2-RTC_S1A_IW_SLC__1SDV_20200523T015027_20200523T015055_032686_03C92E_AC89_30_v1.0/OPERA_L2_RTC-S1_VV_S1A_IW_SLC__1SDV_20200523T015027_20200523T015055_032686_03C92E_AC89_30_v1.0_mosaic.tif\n",
      "Downloading bursts for S1 scene: S1A_IW_SLC__1SDV_20211021T015040_20211021T015108_040211_04C35D_EC2C\n",
      "/home/jovyan/OPERA_L2-RTC_CalVal/OPERA_RTC_ALE_California_64/input_OPERA_data/OPERA_L2-RTC_S1A_IW_SLC__1SDV_20211021T015040_20211021T015108_040211_04C35D_EC2C_30_v1.0/vv_bursts\n",
      "28\n",
      "0...10...20...30...40...50...60...70...80...90...100 - done.\n"
     ]
    },
    {
     "name": "stderr",
     "output_type": "stream",
     "text": [
      " 30%|███       | 30/99 [13:08<32:01, 27.84s/it]"
     ]
    },
    {
     "name": "stdout",
     "output_type": "stream",
     "text": [
      "0...10...20...30...40...50...60...70...80...90...100 - done.\n"
     ]
    },
    {
     "name": "stderr",
     "output_type": "stream",
     "text": [
      " 31%|███▏      | 31/99 [13:35<31:20, 27.65s/it]"
     ]
    },
    {
     "name": "stdout",
     "output_type": "stream",
     "text": [
      "0...10...20...30...40...50...60...70...80...90...100 - done.\n"
     ]
    },
    {
     "name": "stderr",
     "output_type": "stream",
     "text": [
      " 32%|███▏      | 32/99 [14:05<31:36, 28.30s/it]"
     ]
    },
    {
     "name": "stdout",
     "output_type": "stream",
     "text": [
      "0...10...20...30...40...50...60...70...80...90...100 - done.\n"
     ]
    },
    {
     "name": "stderr",
     "output_type": "stream",
     "text": [
      " 33%|███▎      | 33/99 [14:32<30:52, 28.07s/it]"
     ]
    },
    {
     "name": "stdout",
     "output_type": "stream",
     "text": [
      "0...10...20...30...40...50...60...70...80...90...100 - done.\n"
     ]
    },
    {
     "name": "stderr",
     "output_type": "stream",
     "text": [
      " 34%|███▍      | 34/99 [15:01<30:37, 28.27s/it]"
     ]
    },
    {
     "name": "stdout",
     "output_type": "stream",
     "text": [
      "0...10...20...30...40...50...60...70...80...90...100 - done.\n"
     ]
    },
    {
     "name": "stderr",
     "output_type": "stream",
     "text": [
      " 35%|███▌      | 35/99 [15:28<29:51, 28.00s/it]"
     ]
    },
    {
     "name": "stdout",
     "output_type": "stream",
     "text": [
      "0...10...20...30...40...50...60...70...80...90...100 - done.\n"
     ]
    },
    {
     "name": "stderr",
     "output_type": "stream",
     "text": [
      " 36%|███▋      | 36/99 [15:55<29:02, 27.66s/it]"
     ]
    },
    {
     "name": "stdout",
     "output_type": "stream",
     "text": [
      "0...10...20...30...40...50...60...70...80...90...100 - done.\n"
     ]
    },
    {
     "name": "stderr",
     "output_type": "stream",
     "text": [
      " 37%|███▋      | 37/99 [16:24<28:44, 27.81s/it]"
     ]
    },
    {
     "name": "stdout",
     "output_type": "stream",
     "text": [
      "0...10...20...30...40...50...60...70...80...90...100 - done.\n"
     ]
    },
    {
     "name": "stderr",
     "output_type": "stream",
     "text": [
      " 38%|███▊      | 38/99 [16:50<27:58, 27.52s/it]"
     ]
    },
    {
     "name": "stdout",
     "output_type": "stream",
     "text": [
      "0...10...20...30...40...50...60...70...80...90...100 - done.\n"
     ]
    },
    {
     "name": "stderr",
     "output_type": "stream",
     "text": [
      " 39%|███▉      | 39/99 [17:17<27:20, 27.35s/it]"
     ]
    },
    {
     "name": "stdout",
     "output_type": "stream",
     "text": [
      "0...10...20...30...40...50...60...70...80...90...100 - done.\n"
     ]
    },
    {
     "name": "stderr",
     "output_type": "stream",
     "text": [
      " 40%|████      | 40/99 [17:44<26:48, 27.27s/it]"
     ]
    },
    {
     "name": "stdout",
     "output_type": "stream",
     "text": [
      "0...10...20...30...40...50...60...70...80...90...100 - done.\n"
     ]
    },
    {
     "name": "stderr",
     "output_type": "stream",
     "text": [
      " 41%|████▏     | 41/99 [18:11<26:14, 27.14s/it]"
     ]
    },
    {
     "name": "stdout",
     "output_type": "stream",
     "text": [
      "0...10...20...30...40...50...60...70...80...90...100 - done.\n"
     ]
    },
    {
     "name": "stderr",
     "output_type": "stream",
     "text": [
      " 42%|████▏     | 42/99 [18:38<25:48, 27.17s/it]"
     ]
    },
    {
     "name": "stdout",
     "output_type": "stream",
     "text": [
      "0...10...20...30...40...50...60...70...80...90...100 - done.\n"
     ]
    },
    {
     "name": "stderr",
     "output_type": "stream",
     "text": [
      " 43%|████▎     | 43/99 [19:06<25:19, 27.14s/it]"
     ]
    },
    {
     "name": "stdout",
     "output_type": "stream",
     "text": [
      "Merging bursts -> /home/jovyan/OPERA_L2-RTC_CalVal/OPERA_RTC_ALE_California_64/input_OPERA_data/OPERA_L2-RTC_S1A_IW_SLC__1SDV_20211021T015040_20211021T015108_040211_04C35D_EC2C_30_v1.0/OPERA_L2_RTC-S1_VV_S1A_IW_SLC__1SDV_20211021T015040_20211021T015108_040211_04C35D_EC2C_30_v1.0_mosaic.tif\n",
      "Downloading bursts for S1 scene: S1A_IW_SLC__1SDV_20201002T015034_20201002T015102_034611_0407A2_488F\n",
      "/home/jovyan/OPERA_L2-RTC_CalVal/OPERA_RTC_ALE_California_64/input_OPERA_data/OPERA_L2-RTC_S1A_IW_SLC__1SDV_20201002T015034_20201002T015102_034611_0407A2_488F_30_v1.0/vv_bursts\n",
      "28\n",
      "Merging bursts -> /home/jovyan/OPERA_L2-RTC_CalVal/OPERA_RTC_ALE_California_64/input_OPERA_data/OPERA_L2-RTC_S1A_IW_SLC__1SDV_20201002T015034_20201002T015102_034611_0407A2_488F_30_v1.0/OPERA_L2_RTC-S1_VV_S1A_IW_SLC__1SDV_20201002T015034_20201002T015102_034611_0407A2_488F_30_v1.0_mosaic.tif\n",
      "Downloading bursts for S1 scene: S1A_IW_SLC__1SDV_20210518T015032_20210518T015100_037936_047A28_1DCB\n",
      "/home/jovyan/OPERA_L2-RTC_CalVal/OPERA_RTC_ALE_California_64/input_OPERA_data/OPERA_L2-RTC_S1A_IW_SLC__1SDV_20210518T015032_20210518T015100_037936_047A28_1DCB_30_v1.0/vv_bursts\n",
      "28\n",
      "Merging bursts -> /home/jovyan/OPERA_L2-RTC_CalVal/OPERA_RTC_ALE_California_64/input_OPERA_data/OPERA_L2-RTC_S1A_IW_SLC__1SDV_20210518T015032_20210518T015100_037936_047A28_1DCB_30_v1.0/OPERA_L2_RTC-S1_VV_S1A_IW_SLC__1SDV_20210518T015032_20210518T015100_037936_047A28_1DCB_30_v1.0_mosaic.tif\n",
      "Downloading bursts for S1 scene: S1A_IW_SLC__1SDV_20200908T015033_20200908T015101_034261_03FB47_238D\n",
      "/home/jovyan/OPERA_L2-RTC_CalVal/OPERA_RTC_ALE_California_64/input_OPERA_data/OPERA_L2-RTC_S1A_IW_SLC__1SDV_20200908T015033_20200908T015101_034261_03FB47_238D_30_v1.0/vv_bursts\n",
      "28\n",
      "Merging bursts -> /home/jovyan/OPERA_L2-RTC_CalVal/OPERA_RTC_ALE_California_64/input_OPERA_data/OPERA_L2-RTC_S1A_IW_SLC__1SDV_20200908T015033_20200908T015101_034261_03FB47_238D_30_v1.0/OPERA_L2_RTC-S1_VV_S1A_IW_SLC__1SDV_20200908T015033_20200908T015101_034261_03FB47_238D_30_v1.0_mosaic.tif\n",
      "Downloading bursts for S1 scene: S1A_IW_SLC__1SDV_20230601T015042_20230601T015110_048786_05DDF3_24DF\n",
      "/home/jovyan/OPERA_L2-RTC_CalVal/OPERA_RTC_ALE_California_64/input_OPERA_data/OPERA_L2-RTC_S1A_IW_SLC__1SDV_20230601T015042_20230601T015110_048786_05DDF3_24DF_30_v1.0/vv_bursts\n",
      "28\n",
      "Merging bursts -> /home/jovyan/OPERA_L2-RTC_CalVal/OPERA_RTC_ALE_California_64/input_OPERA_data/OPERA_L2-RTC_S1A_IW_SLC__1SDV_20230601T015042_20230601T015110_048786_05DDF3_24DF_30_v1.0/OPERA_L2_RTC-S1_VV_S1A_IW_SLC__1SDV_20230601T015042_20230601T015110_048786_05DDF3_24DF_30_v1.0_mosaic.tif\n",
      "Downloading bursts for S1 scene: S1A_IW_SLC__1SDV_20220113T015034_20220113T015102_041436_04ED43_9F80\n",
      "/home/jovyan/OPERA_L2-RTC_CalVal/OPERA_RTC_ALE_California_64/input_OPERA_data/OPERA_L2-RTC_S1A_IW_SLC__1SDV_20220113T015034_20220113T015102_041436_04ED43_9F80_30_v1.0/vv_bursts\n",
      "28\n",
      "Merging bursts -> /home/jovyan/OPERA_L2-RTC_CalVal/OPERA_RTC_ALE_California_64/input_OPERA_data/OPERA_L2-RTC_S1A_IW_SLC__1SDV_20220113T015034_20220113T015102_041436_04ED43_9F80_30_v1.0/OPERA_L2_RTC-S1_VV_S1A_IW_SLC__1SDV_20220113T015034_20220113T015102_041436_04ED43_9F80_30_v1.0_mosaic.tif\n",
      "Downloading bursts for S1 scene: S1A_IW_SLC__1SDV_20221227T015041_20221227T015109_046511_0592AC_6E76\n",
      "/home/jovyan/OPERA_L2-RTC_CalVal/OPERA_RTC_ALE_California_64/input_OPERA_data/OPERA_L2-RTC_S1A_IW_SLC__1SDV_20221227T015041_20221227T015109_046511_0592AC_6E76_30_v1.0/vv_bursts\n",
      "28\n",
      "Merging bursts -> /home/jovyan/OPERA_L2-RTC_CalVal/OPERA_RTC_ALE_California_64/input_OPERA_data/OPERA_L2-RTC_S1A_IW_SLC__1SDV_20221227T015041_20221227T015109_046511_0592AC_6E76_30_v1.0/OPERA_L2_RTC-S1_VV_S1A_IW_SLC__1SDV_20221227T015041_20221227T015109_046511_0592AC_6E76_30_v1.0_mosaic.tif\n",
      "Downloading bursts for S1 scene: S1A_IW_SLC__1SDV_20230108T015040_20230108T015108_046686_05988B_CAAE\n",
      "/home/jovyan/OPERA_L2-RTC_CalVal/OPERA_RTC_ALE_California_64/input_OPERA_data/OPERA_L2-RTC_S1A_IW_SLC__1SDV_20230108T015040_20230108T015108_046686_05988B_CAAE_30_v1.0/vv_bursts\n",
      "28\n",
      "Merging bursts -> /home/jovyan/OPERA_L2-RTC_CalVal/OPERA_RTC_ALE_California_64/input_OPERA_data/OPERA_L2-RTC_S1A_IW_SLC__1SDV_20230108T015040_20230108T015108_046686_05988B_CAAE_30_v1.0/OPERA_L2_RTC-S1_VV_S1A_IW_SLC__1SDV_20230108T015040_20230108T015108_046686_05988B_CAAE_30_v1.0_mosaic.tif\n",
      "Downloading bursts for S1 scene: S1A_IW_SLC__1SDV_20220206T015033_20220206T015101_041786_04F91C_DC3C\n",
      "/home/jovyan/OPERA_L2-RTC_CalVal/OPERA_RTC_ALE_California_64/input_OPERA_data/OPERA_L2-RTC_S1A_IW_SLC__1SDV_20220206T015033_20220206T015101_041786_04F91C_DC3C_30_v1.0/vv_bursts\n",
      "28\n",
      "Merging bursts -> /home/jovyan/OPERA_L2-RTC_CalVal/OPERA_RTC_ALE_California_64/input_OPERA_data/OPERA_L2-RTC_S1A_IW_SLC__1SDV_20220206T015033_20220206T015101_041786_04F91C_DC3C_30_v1.0/OPERA_L2_RTC-S1_VV_S1A_IW_SLC__1SDV_20220206T015033_20220206T015101_041786_04F91C_DC3C_30_v1.0_mosaic.tif\n",
      "Downloading bursts for S1 scene: S1A_IW_SLC__1SDV_20200722T015031_20200722T015059_033561_03E39D_5DB4\n",
      "/home/jovyan/OPERA_L2-RTC_CalVal/OPERA_RTC_ALE_California_64/input_OPERA_data/OPERA_L2-RTC_S1A_IW_SLC__1SDV_20200722T015031_20200722T015059_033561_03E39D_5DB4_30_v1.0/vv_bursts\n",
      "28\n",
      "Merging bursts -> /home/jovyan/OPERA_L2-RTC_CalVal/OPERA_RTC_ALE_California_64/input_OPERA_data/OPERA_L2-RTC_S1A_IW_SLC__1SDV_20200722T015031_20200722T015059_033561_03E39D_5DB4_30_v1.0/OPERA_L2_RTC-S1_VV_S1A_IW_SLC__1SDV_20200722T015031_20200722T015059_033561_03E39D_5DB4_30_v1.0_mosaic.tif\n",
      "Downloading bursts for S1 scene: S1A_IW_SLC__1SDV_20210319T015030_20210319T015058_037061_045CB1_063A\n",
      "/home/jovyan/OPERA_L2-RTC_CalVal/OPERA_RTC_ALE_California_64/input_OPERA_data/OPERA_L2-RTC_S1A_IW_SLC__1SDV_20210319T015030_20210319T015058_037061_045CB1_063A_30_v1.0/vv_bursts\n",
      "28\n",
      "Merging bursts -> /home/jovyan/OPERA_L2-RTC_CalVal/OPERA_RTC_ALE_California_64/input_OPERA_data/OPERA_L2-RTC_S1A_IW_SLC__1SDV_20210319T015030_20210319T015058_037061_045CB1_063A_30_v1.0/OPERA_L2_RTC-S1_VV_S1A_IW_SLC__1SDV_20210319T015030_20210319T015058_037061_045CB1_063A_30_v1.0_mosaic.tif\n",
      "Downloading bursts for S1 scene: S1A_IW_SLC__1SDV_20220606T015037_20220606T015105_043536_0532BA_5046\n",
      "/home/jovyan/OPERA_L2-RTC_CalVal/OPERA_RTC_ALE_California_64/input_OPERA_data/OPERA_L2-RTC_S1A_IW_SLC__1SDV_20220606T015037_20220606T015105_043536_0532BA_5046_30_v1.0/vv_bursts\n",
      "28\n",
      "Merging bursts -> /home/jovyan/OPERA_L2-RTC_CalVal/OPERA_RTC_ALE_California_64/input_OPERA_data/OPERA_L2-RTC_S1A_IW_SLC__1SDV_20220606T015037_20220606T015105_043536_0532BA_5046_30_v1.0/OPERA_L2_RTC-S1_VV_S1A_IW_SLC__1SDV_20220606T015037_20220606T015105_043536_0532BA_5046_30_v1.0_mosaic.tif\n",
      "Downloading bursts for S1 scene: S1A_IW_SLC__1SDV_20201014T015034_20201014T015102_034786_040DBF_8DEC\n",
      "/home/jovyan/OPERA_L2-RTC_CalVal/OPERA_RTC_ALE_California_64/input_OPERA_data/OPERA_L2-RTC_S1A_IW_SLC__1SDV_20201014T015034_20201014T015102_034786_040DBF_8DEC_30_v1.0/vv_bursts\n",
      "28\n",
      "Merging bursts -> /home/jovyan/OPERA_L2-RTC_CalVal/OPERA_RTC_ALE_California_64/input_OPERA_data/OPERA_L2-RTC_S1A_IW_SLC__1SDV_20201014T015034_20201014T015102_034786_040DBF_8DEC_30_v1.0/OPERA_L2_RTC-S1_VV_S1A_IW_SLC__1SDV_20201014T015034_20201014T015102_034786_040DBF_8DEC_30_v1.0_mosaic.tif\n",
      "Downloading bursts for S1 scene: S1A_IW_SLC__1SDV_20221028T015043_20221028T015111_045636_0574F3_2909\n",
      "/home/jovyan/OPERA_L2-RTC_CalVal/OPERA_RTC_ALE_California_64/input_OPERA_data/OPERA_L2-RTC_S1A_IW_SLC__1SDV_20221028T015043_20221028T015111_045636_0574F3_2909_30_v1.0/vv_bursts\n",
      "28\n",
      "Merging bursts -> /home/jovyan/OPERA_L2-RTC_CalVal/OPERA_RTC_ALE_California_64/input_OPERA_data/OPERA_L2-RTC_S1A_IW_SLC__1SDV_20221028T015043_20221028T015111_045636_0574F3_2909_30_v1.0/OPERA_L2_RTC-S1_VV_S1A_IW_SLC__1SDV_20221028T015043_20221028T015111_045636_0574F3_2909_30_v1.0_mosaic.tif\n",
      "Downloading bursts for S1 scene: S1A_IW_SLC__1SDV_20210506T015032_20210506T015100_037761_0474E2_5BB9\n",
      "/home/jovyan/OPERA_L2-RTC_CalVal/OPERA_RTC_ALE_California_64/input_OPERA_data/OPERA_L2-RTC_S1A_IW_SLC__1SDV_20210506T015032_20210506T015100_037761_0474E2_5BB9_30_v1.0/vv_bursts\n",
      "28\n",
      "0...10...20...30...40...50...60...70...80...90...100 - done.\n"
     ]
    },
    {
     "name": "stderr",
     "output_type": "stream",
     "text": [
      " 44%|████▍     | 44/99 [19:33<25:03, 27.34s/it]"
     ]
    },
    {
     "name": "stdout",
     "output_type": "stream",
     "text": [
      "0...10...20...30...40...50...60...70...80...90...100 - done.\n"
     ]
    },
    {
     "name": "stderr",
     "output_type": "stream",
     "text": [
      " 45%|████▌     | 45/99 [20:01<24:37, 27.36s/it]"
     ]
    },
    {
     "name": "stdout",
     "output_type": "stream",
     "text": [
      "0...10...20...30...40...50...60...70...80...90...100 - done.\n"
     ]
    },
    {
     "name": "stderr",
     "output_type": "stream",
     "text": [
      " 46%|████▋     | 46/99 [20:28<24:14, 27.45s/it]"
     ]
    },
    {
     "name": "stdout",
     "output_type": "stream",
     "text": [
      "0...10...20...30...40...50...60...70...80...90...100 - done.\n"
     ]
    },
    {
     "name": "stderr",
     "output_type": "stream",
     "text": [
      " 47%|████▋     | 47/99 [20:55<23:40, 27.32s/it]"
     ]
    },
    {
     "name": "stdout",
     "output_type": "stream",
     "text": [
      "0...10...20...30...40...50...60...70...80...90...100 - done.\n"
     ]
    },
    {
     "name": "stderr",
     "output_type": "stream",
     "text": [
      " 48%|████▊     | 48/99 [21:22<23:00, 27.08s/it]"
     ]
    },
    {
     "name": "stdout",
     "output_type": "stream",
     "text": [
      "0...10...20...30...40...50...60...70...80...90...100 - done.\n"
     ]
    },
    {
     "name": "stderr",
     "output_type": "stream",
     "text": [
      " 49%|████▉     | 49/99 [21:48<22:17, 26.76s/it]"
     ]
    },
    {
     "name": "stdout",
     "output_type": "stream",
     "text": [
      "0...10...20...30...40...50...60...70...80...90...100 - done.\n"
     ]
    },
    {
     "name": "stderr",
     "output_type": "stream",
     "text": [
      " 51%|█████     | 50/99 [22:15<21:49, 26.73s/it]"
     ]
    },
    {
     "name": "stdout",
     "output_type": "stream",
     "text": [
      "0...10...20...30...40...50...60...70...80...90...100 - done.\n"
     ]
    },
    {
     "name": "stderr",
     "output_type": "stream",
     "text": [
      " 52%|█████▏    | 51/99 [22:42<21:30, 26.89s/it]"
     ]
    },
    {
     "name": "stdout",
     "output_type": "stream",
     "text": [
      "0...10...20...30...40...50...60...70...80...90...100 - done.\n"
     ]
    },
    {
     "name": "stderr",
     "output_type": "stream",
     "text": [
      " 53%|█████▎    | 52/99 [23:10<21:19, 27.21s/it]"
     ]
    },
    {
     "name": "stdout",
     "output_type": "stream",
     "text": [
      "0...10...20...30...40...50...60...70...80...90...100 - done.\n"
     ]
    },
    {
     "name": "stderr",
     "output_type": "stream",
     "text": [
      " 54%|█████▎    | 53/99 [23:38<21:02, 27.44s/it]"
     ]
    },
    {
     "name": "stdout",
     "output_type": "stream",
     "text": [
      "0...10...20...30...40...50...60...70...80...90...100 - done.\n"
     ]
    },
    {
     "name": "stderr",
     "output_type": "stream",
     "text": [
      " 55%|█████▍    | 54/99 [24:07<21:03, 28.07s/it]"
     ]
    },
    {
     "name": "stdout",
     "output_type": "stream",
     "text": [
      "0...10...20...30...40...50...60...70...80...90...100 - done.\n"
     ]
    },
    {
     "name": "stderr",
     "output_type": "stream",
     "text": [
      " 56%|█████▌    | 55/99 [24:35<20:23, 27.81s/it]"
     ]
    },
    {
     "name": "stdout",
     "output_type": "stream",
     "text": [
      "0...10...20...30...40...50...60...70...80...90...100 - done.\n"
     ]
    },
    {
     "name": "stderr",
     "output_type": "stream",
     "text": [
      " 57%|█████▋    | 56/99 [25:02<19:53, 27.75s/it]"
     ]
    },
    {
     "name": "stdout",
     "output_type": "stream",
     "text": [
      "0...10...20...30...40...50...60...70...80...90...100 - done.\n"
     ]
    },
    {
     "name": "stderr",
     "output_type": "stream",
     "text": [
      " 58%|█████▊    | 57/99 [25:29<19:19, 27.61s/it]"
     ]
    },
    {
     "name": "stdout",
     "output_type": "stream",
     "text": [
      "Merging bursts -> /home/jovyan/OPERA_L2-RTC_CalVal/OPERA_RTC_ALE_California_64/input_OPERA_data/OPERA_L2-RTC_S1A_IW_SLC__1SDV_20210506T015032_20210506T015100_037761_0474E2_5BB9_30_v1.0/OPERA_L2_RTC-S1_VV_S1A_IW_SLC__1SDV_20210506T015032_20210506T015100_037761_0474E2_5BB9_30_v1.0_mosaic.tif\n",
      "Downloading bursts for S1 scene: S1A_IW_SLC__1SDV_20200827T015033_20200827T015101_034086_03F51E_AE5F\n",
      "/home/jovyan/OPERA_L2-RTC_CalVal/OPERA_RTC_ALE_California_64/input_OPERA_data/OPERA_L2-RTC_S1A_IW_SLC__1SDV_20200827T015033_20200827T015101_034086_03F51E_AE5F_30_v1.0/vv_bursts\n",
      "28\n",
      "Merging bursts -> /home/jovyan/OPERA_L2-RTC_CalVal/OPERA_RTC_ALE_California_64/input_OPERA_data/OPERA_L2-RTC_S1A_IW_SLC__1SDV_20200827T015033_20200827T015101_034086_03F51E_AE5F_30_v1.0/OPERA_L2_RTC-S1_VV_S1A_IW_SLC__1SDV_20200827T015033_20200827T015101_034086_03F51E_AE5F_30_v1.0_mosaic.tif\n",
      "Downloading bursts for S1 scene: S1A_IW_SLC__1SDV_20201119T015034_20201119T015102_035311_041FEE_C819\n",
      "/home/jovyan/OPERA_L2-RTC_CalVal/OPERA_RTC_ALE_California_64/input_OPERA_data/OPERA_L2-RTC_S1A_IW_SLC__1SDV_20201119T015034_20201119T015102_035311_041FEE_C819_30_v1.0/vv_bursts\n",
      "28\n",
      "Merging bursts -> /home/jovyan/OPERA_L2-RTC_CalVal/OPERA_RTC_ALE_California_64/input_OPERA_data/OPERA_L2-RTC_S1A_IW_SLC__1SDV_20201119T015034_20201119T015102_035311_041FEE_C819_30_v1.0/OPERA_L2_RTC-S1_VV_S1A_IW_SLC__1SDV_20201119T015034_20201119T015102_035311_041FEE_C819_30_v1.0_mosaic.tif\n",
      "Downloading bursts for S1 scene: S1A_IW_SLC__1SDV_20200803T015031_20200803T015059_033736_03E8F9_DD8B\n",
      "/home/jovyan/OPERA_L2-RTC_CalVal/OPERA_RTC_ALE_California_64/input_OPERA_data/OPERA_L2-RTC_S1A_IW_SLC__1SDV_20200803T015031_20200803T015059_033736_03E8F9_DD8B_30_v1.0/vv_bursts\n",
      "28\n",
      "Merging bursts -> /home/jovyan/OPERA_L2-RTC_CalVal/OPERA_RTC_ALE_California_64/input_OPERA_data/OPERA_L2-RTC_S1A_IW_SLC__1SDV_20200803T015031_20200803T015059_033736_03E8F9_DD8B_30_v1.0/OPERA_L2_RTC-S1_VV_S1A_IW_SLC__1SDV_20200803T015031_20200803T015059_033736_03E8F9_DD8B_30_v1.0_mosaic.tif\n",
      "Downloading bursts for S1 scene: S1A_IW_SLC__1SDV_20230426T015040_20230426T015108_048261_05CDA6_674E\n",
      "/home/jovyan/OPERA_L2-RTC_CalVal/OPERA_RTC_ALE_California_64/input_OPERA_data/OPERA_L2-RTC_S1A_IW_SLC__1SDV_20230426T015040_20230426T015108_048261_05CDA6_674E_30_v1.0/vv_bursts\n",
      "28\n",
      "Merging bursts -> /home/jovyan/OPERA_L2-RTC_CalVal/OPERA_RTC_ALE_California_64/input_OPERA_data/OPERA_L2-RTC_S1A_IW_SLC__1SDV_20230426T015040_20230426T015108_048261_05CDA6_674E_30_v1.0/OPERA_L2_RTC-S1_VV_S1A_IW_SLC__1SDV_20230426T015040_20230426T015108_048261_05CDA6_674E_30_v1.0_mosaic.tif\n",
      "Downloading bursts for S1 scene: S1A_IW_SLC__1SDV_20220805T015041_20220805T015109_044411_054CC1_739B\n",
      "/home/jovyan/OPERA_L2-RTC_CalVal/OPERA_RTC_ALE_California_64/input_OPERA_data/OPERA_L2-RTC_S1A_IW_SLC__1SDV_20220805T015041_20220805T015109_044411_054CC1_739B_30_v1.0/vv_bursts\n",
      "28\n",
      "Merging bursts -> /home/jovyan/OPERA_L2-RTC_CalVal/OPERA_RTC_ALE_California_64/input_OPERA_data/OPERA_L2-RTC_S1A_IW_SLC__1SDV_20220805T015041_20220805T015109_044411_054CC1_739B_30_v1.0/OPERA_L2_RTC-S1_VV_S1A_IW_SLC__1SDV_20220805T015041_20220805T015109_044411_054CC1_739B_30_v1.0_mosaic.tif\n",
      "Downloading bursts for S1 scene: S1A_IW_SLC__1SDV_20220910T015043_20220910T015111_044936_055E1F_60F6\n",
      "/home/jovyan/OPERA_L2-RTC_CalVal/OPERA_RTC_ALE_California_64/input_OPERA_data/OPERA_L2-RTC_S1A_IW_SLC__1SDV_20220910T015043_20220910T015111_044936_055E1F_60F6_30_v1.0/vv_bursts\n",
      "28\n",
      "Merging bursts -> /home/jovyan/OPERA_L2-RTC_CalVal/OPERA_RTC_ALE_California_64/input_OPERA_data/OPERA_L2-RTC_S1A_IW_SLC__1SDV_20220910T015043_20220910T015111_044936_055E1F_60F6_30_v1.0/OPERA_L2_RTC-S1_VV_S1A_IW_SLC__1SDV_20220910T015043_20220910T015111_044936_055E1F_60F6_30_v1.0_mosaic.tif\n",
      "Downloading bursts for S1 scene: S1A_IW_SLC__1SDV_20230414T015040_20230414T015108_048086_05C7C6_C6BB\n",
      "/home/jovyan/OPERA_L2-RTC_CalVal/OPERA_RTC_ALE_California_64/input_OPERA_data/OPERA_L2-RTC_S1A_IW_SLC__1SDV_20230414T015040_20230414T015108_048086_05C7C6_C6BB_30_v1.0/vv_bursts\n",
      "28\n",
      "Merging bursts -> /home/jovyan/OPERA_L2-RTC_CalVal/OPERA_RTC_ALE_California_64/input_OPERA_data/OPERA_L2-RTC_S1A_IW_SLC__1SDV_20230414T015040_20230414T015108_048086_05C7C6_C6BB_30_v1.0/OPERA_L2_RTC-S1_VV_S1A_IW_SLC__1SDV_20230414T015040_20230414T015108_048086_05C7C6_C6BB_30_v1.0_mosaic.tif\n",
      "Downloading bursts for S1 scene: S1A_IW_SLC__1SDV_20201213T015033_20201213T015101_035661_042BFB_4AE6\n",
      "/home/jovyan/OPERA_L2-RTC_CalVal/OPERA_RTC_ALE_California_64/input_OPERA_data/OPERA_L2-RTC_S1A_IW_SLC__1SDV_20201213T015033_20201213T015101_035661_042BFB_4AE6_30_v1.0/vv_bursts\n",
      "28\n",
      "Merging bursts -> /home/jovyan/OPERA_L2-RTC_CalVal/OPERA_RTC_ALE_California_64/input_OPERA_data/OPERA_L2-RTC_S1A_IW_SLC__1SDV_20201213T015033_20201213T015101_035661_042BFB_4AE6_30_v1.0/OPERA_L2_RTC-S1_VV_S1A_IW_SLC__1SDV_20201213T015033_20201213T015101_035661_042BFB_4AE6_30_v1.0_mosaic.tif\n",
      "Downloading bursts for S1 scene: S1A_IW_SLC__1SDV_20211208T015036_20211208T015104_040911_04DBAC_2D29\n",
      "/home/jovyan/OPERA_L2-RTC_CalVal/OPERA_RTC_ALE_California_64/input_OPERA_data/OPERA_L2-RTC_S1A_IW_SLC__1SDV_20211208T015036_20211208T015104_040911_04DBAC_2D29_30_v1.0/vv_bursts\n",
      "28\n",
      "Merging bursts -> /home/jovyan/OPERA_L2-RTC_CalVal/OPERA_RTC_ALE_California_64/input_OPERA_data/OPERA_L2-RTC_S1A_IW_SLC__1SDV_20211208T015036_20211208T015104_040911_04DBAC_2D29_30_v1.0/OPERA_L2_RTC-S1_VV_S1A_IW_SLC__1SDV_20211208T015036_20211208T015104_040911_04DBAC_2D29_30_v1.0_mosaic.tif\n",
      "Downloading bursts for S1 scene: S1A_IW_SLC__1SDV_20200815T015032_20200815T015100_033911_03EEF2_FD43\n",
      "/home/jovyan/OPERA_L2-RTC_CalVal/OPERA_RTC_ALE_California_64/input_OPERA_data/OPERA_L2-RTC_S1A_IW_SLC__1SDV_20200815T015032_20200815T015100_033911_03EEF2_FD43_30_v1.0/vv_bursts\n",
      "28\n",
      "Merging bursts -> /home/jovyan/OPERA_L2-RTC_CalVal/OPERA_RTC_ALE_California_64/input_OPERA_data/OPERA_L2-RTC_S1A_IW_SLC__1SDV_20200815T015032_20200815T015100_033911_03EEF2_FD43_30_v1.0/OPERA_L2_RTC-S1_VV_S1A_IW_SLC__1SDV_20200815T015032_20200815T015100_033911_03EEF2_FD43_30_v1.0_mosaic.tif\n",
      "Downloading bursts for S1 scene: S1A_IW_SLC__1SDV_20230613T015042_20230613T015110_048961_05E341_A548\n",
      "/home/jovyan/OPERA_L2-RTC_CalVal/OPERA_RTC_ALE_California_64/input_OPERA_data/OPERA_L2-RTC_S1A_IW_SLC__1SDV_20230613T015042_20230613T015110_048961_05E341_A548_30_v1.0/vv_bursts\n",
      "28\n",
      "Merging bursts -> /home/jovyan/OPERA_L2-RTC_CalVal/OPERA_RTC_ALE_California_64/input_OPERA_data/OPERA_L2-RTC_S1A_IW_SLC__1SDV_20230613T015042_20230613T015110_048961_05E341_A548_30_v1.0/OPERA_L2_RTC-S1_VV_S1A_IW_SLC__1SDV_20230613T015042_20230613T015110_048961_05E341_A548_30_v1.0_mosaic.tif\n",
      "Downloading bursts for S1 scene: S1A_IW_SLC__1SDV_20200616T015029_20200616T015056_033036_03D3A1_BCBE\n",
      "/home/jovyan/OPERA_L2-RTC_CalVal/OPERA_RTC_ALE_California_64/input_OPERA_data/OPERA_L2-RTC_S1A_IW_SLC__1SDV_20200616T015029_20200616T015056_033036_03D3A1_BCBE_30_v1.0/vv_bursts\n",
      "28\n",
      "Merging bursts -> /home/jovyan/OPERA_L2-RTC_CalVal/OPERA_RTC_ALE_California_64/input_OPERA_data/OPERA_L2-RTC_S1A_IW_SLC__1SDV_20200616T015029_20200616T015056_033036_03D3A1_BCBE_30_v1.0/OPERA_L2_RTC-S1_VV_S1A_IW_SLC__1SDV_20200616T015029_20200616T015056_033036_03D3A1_BCBE_30_v1.0_mosaic.tif\n",
      "Downloading bursts for S1 scene: S1A_IW_SLC__1SDV_20220922T015042_20220922T015110_045111_05640A_2DD1\n",
      "/home/jovyan/OPERA_L2-RTC_CalVal/OPERA_RTC_ALE_California_64/input_OPERA_data/OPERA_L2-RTC_S1A_IW_SLC__1SDV_20220922T015042_20220922T015110_045111_05640A_2DD1_30_v1.0/vv_bursts\n",
      "28\n",
      "Merging bursts -> /home/jovyan/OPERA_L2-RTC_CalVal/OPERA_RTC_ALE_California_64/input_OPERA_data/OPERA_L2-RTC_S1A_IW_SLC__1SDV_20220922T015042_20220922T015110_045111_05640A_2DD1_30_v1.0/OPERA_L2_RTC-S1_VV_S1A_IW_SLC__1SDV_20220922T015042_20220922T015110_045111_05640A_2DD1_30_v1.0_mosaic.tif\n",
      "Downloading bursts for S1 scene: S1A_IW_SLC__1SDV_20230225T015039_20230225T015107_047386_05B025_CFAD\n",
      "/home/jovyan/OPERA_L2-RTC_CalVal/OPERA_RTC_ALE_California_64/input_OPERA_data/OPERA_L2-RTC_S1A_IW_SLC__1SDV_20230225T015039_20230225T015107_047386_05B025_CFAD_30_v1.0/vv_bursts\n",
      "28\n",
      "0...10...20...30...40...50...60...70...80...90...100 - done.\n"
     ]
    },
    {
     "name": "stderr",
     "output_type": "stream",
     "text": [
      " 59%|█████▊    | 58/99 [25:56<18:39, 27.32s/it]"
     ]
    },
    {
     "name": "stdout",
     "output_type": "stream",
     "text": [
      "0...10...20...30...40...50...60...70...80...90...100 - done.\n"
     ]
    },
    {
     "name": "stderr",
     "output_type": "stream",
     "text": [
      " 60%|█████▉    | 59/99 [26:24<18:18, 27.47s/it]"
     ]
    },
    {
     "name": "stdout",
     "output_type": "stream",
     "text": [
      "0...10...20...30...40...50...60...70...80...90...100 - done.\n"
     ]
    },
    {
     "name": "stderr",
     "output_type": "stream",
     "text": [
      " 61%|██████    | 60/99 [26:54<18:17, 28.15s/it]"
     ]
    },
    {
     "name": "stdout",
     "output_type": "stream",
     "text": [
      "0...10...20...30...40...50...60...70...80...90...100 - done.\n"
     ]
    },
    {
     "name": "stderr",
     "output_type": "stream",
     "text": [
      " 62%|██████▏   | 61/99 [27:22<17:50, 28.18s/it]"
     ]
    },
    {
     "name": "stdout",
     "output_type": "stream",
     "text": [
      "0...10...20...30...40...50...60...70...80...90...100 - done.\n"
     ]
    },
    {
     "name": "stderr",
     "output_type": "stream",
     "text": [
      " 63%|██████▎   | 62/99 [27:50<17:19, 28.10s/it]"
     ]
    },
    {
     "name": "stdout",
     "output_type": "stream",
     "text": [
      "0...10...20...30...40...50...60...70...80...90...100 - done.\n"
     ]
    },
    {
     "name": "stderr",
     "output_type": "stream",
     "text": [
      " 64%|██████▎   | 63/99 [28:18<16:48, 28.02s/it]"
     ]
    },
    {
     "name": "stdout",
     "output_type": "stream",
     "text": [
      "0...10...20...30...40...50...60...70...80...90...100 - done.\n"
     ]
    },
    {
     "name": "stderr",
     "output_type": "stream",
     "text": [
      " 65%|██████▍   | 64/99 [28:47<16:36, 28.48s/it]"
     ]
    },
    {
     "name": "stdout",
     "output_type": "stream",
     "text": [
      "0...10...20...30...40...50...60...70...80...90...100 - done.\n"
     ]
    },
    {
     "name": "stderr",
     "output_type": "stream",
     "text": [
      " 66%|██████▌   | 65/99 [29:16<16:08, 28.50s/it]"
     ]
    },
    {
     "name": "stdout",
     "output_type": "stream",
     "text": [
      "0...10...20...30...40...50...60...70...80...90...100 - done.\n"
     ]
    },
    {
     "name": "stderr",
     "output_type": "stream",
     "text": [
      " 67%|██████▋   | 66/99 [29:45<15:44, 28.61s/it]"
     ]
    },
    {
     "name": "stdout",
     "output_type": "stream",
     "text": [
      "0...10...20...30...40...50...60...70...80...90...100 - done.\n"
     ]
    },
    {
     "name": "stderr",
     "output_type": "stream",
     "text": [
      " 68%|██████▊   | 67/99 [30:14<15:19, 28.74s/it]"
     ]
    },
    {
     "name": "stdout",
     "output_type": "stream",
     "text": [
      "0...10...20...30...40...50...60...70...80...90...100 - done.\n"
     ]
    },
    {
     "name": "stderr",
     "output_type": "stream",
     "text": [
      " 69%|██████▊   | 68/99 [30:41<14:39, 28.38s/it]"
     ]
    },
    {
     "name": "stdout",
     "output_type": "stream",
     "text": [
      "0...10...20...30...40...50...60...70...80...90...100 - done.\n"
     ]
    },
    {
     "name": "stderr",
     "output_type": "stream",
     "text": [
      " 70%|██████▉   | 69/99 [31:10<14:12, 28.42s/it]"
     ]
    },
    {
     "name": "stdout",
     "output_type": "stream",
     "text": [
      "0...10...20...30...40...50...60...70...80...90...100 - done.\n"
     ]
    },
    {
     "name": "stderr",
     "output_type": "stream",
     "text": [
      " 71%|███████   | 70/99 [31:39<13:47, 28.54s/it]"
     ]
    },
    {
     "name": "stdout",
     "output_type": "stream",
     "text": [
      "0...10...20...30...40...50...60...70...80...90...100 - done.\n"
     ]
    },
    {
     "name": "stderr",
     "output_type": "stream",
     "text": [
      " 72%|███████▏  | 71/99 [32:07<13:22, 28.66s/it]"
     ]
    },
    {
     "name": "stdout",
     "output_type": "stream",
     "text": [
      "Merging bursts -> /home/jovyan/OPERA_L2-RTC_CalVal/OPERA_RTC_ALE_California_64/input_OPERA_data/OPERA_L2-RTC_S1A_IW_SLC__1SDV_20230225T015039_20230225T015107_047386_05B025_CFAD_30_v1.0/OPERA_L2_RTC-S1_VV_S1A_IW_SLC__1SDV_20230225T015039_20230225T015107_047386_05B025_CFAD_30_v1.0_mosaic.tif\n",
      "Downloading bursts for S1 scene: S1A_IW_SLC__1SDV_20221203T015042_20221203T015110_046161_0586BC_F9C8\n",
      "/home/jovyan/OPERA_L2-RTC_CalVal/OPERA_RTC_ALE_California_64/input_OPERA_data/OPERA_L2-RTC_S1A_IW_SLC__1SDV_20221203T015042_20221203T015110_046161_0586BC_F9C8_30_v1.0/vv_bursts\n",
      "28\n",
      "Merging bursts -> /home/jovyan/OPERA_L2-RTC_CalVal/OPERA_RTC_ALE_California_64/input_OPERA_data/OPERA_L2-RTC_S1A_IW_SLC__1SDV_20221203T015042_20221203T015110_046161_0586BC_F9C8_30_v1.0/OPERA_L2_RTC-S1_VV_S1A_IW_SLC__1SDV_20221203T015042_20221203T015110_046161_0586BC_F9C8_30_v1.0_mosaic.tif\n",
      "Downloading bursts for S1 scene: S1A_IW_SLC__1SDV_20210223T015030_20210223T015058_036711_04507F_CF4B\n",
      "/home/jovyan/OPERA_L2-RTC_CalVal/OPERA_RTC_ALE_California_64/input_OPERA_data/OPERA_L2-RTC_S1A_IW_SLC__1SDV_20210223T015030_20210223T015058_036711_04507F_CF4B_30_v1.0/vv_bursts\n",
      "28\n",
      "Merging bursts -> /home/jovyan/OPERA_L2-RTC_CalVal/OPERA_RTC_ALE_California_64/input_OPERA_data/OPERA_L2-RTC_S1A_IW_SLC__1SDV_20210223T015030_20210223T015058_036711_04507F_CF4B_30_v1.0/OPERA_L2_RTC-S1_VV_S1A_IW_SLC__1SDV_20210223T015030_20210223T015058_036711_04507F_CF4B_30_v1.0_mosaic.tif\n",
      "Downloading bursts for S1 scene: S1A_IW_SLC__1SDV_20201225T015032_20201225T015100_035836_043200_05C4\n",
      "/home/jovyan/OPERA_L2-RTC_CalVal/OPERA_RTC_ALE_California_64/input_OPERA_data/OPERA_L2-RTC_S1A_IW_SLC__1SDV_20201225T015032_20201225T015100_035836_043200_05C4_30_v1.0/vv_bursts\n",
      "28\n",
      "Merging bursts -> /home/jovyan/OPERA_L2-RTC_CalVal/OPERA_RTC_ALE_California_64/input_OPERA_data/OPERA_L2-RTC_S1A_IW_SLC__1SDV_20201225T015032_20201225T015100_035836_043200_05C4_30_v1.0/OPERA_L2_RTC-S1_VV_S1A_IW_SLC__1SDV_20201225T015032_20201225T015100_035836_043200_05C4_30_v1.0_mosaic.tif\n",
      "Downloading bursts for S1 scene: S1A_IW_SLC__1SDV_20210611T015034_20210611T015102_038286_048499_8004\n",
      "/home/jovyan/OPERA_L2-RTC_CalVal/OPERA_RTC_ALE_California_64/input_OPERA_data/OPERA_L2-RTC_S1A_IW_SLC__1SDV_20210611T015034_20210611T015102_038286_048499_8004_30_v1.0/vv_bursts\n",
      "28\n",
      "Merging bursts -> /home/jovyan/OPERA_L2-RTC_CalVal/OPERA_RTC_ALE_California_64/input_OPERA_data/OPERA_L2-RTC_S1A_IW_SLC__1SDV_20210611T015034_20210611T015102_038286_048499_8004_30_v1.0/OPERA_L2_RTC-S1_VV_S1A_IW_SLC__1SDV_20210611T015034_20210611T015102_038286_048499_8004_30_v1.0_mosaic.tif\n",
      "Downloading bursts for S1 scene: S1A_IW_SLC__1SDV_20210903T015039_20210903T015107_039511_04AB3F_C333\n",
      "/home/jovyan/OPERA_L2-RTC_CalVal/OPERA_RTC_ALE_California_64/input_OPERA_data/OPERA_L2-RTC_S1A_IW_SLC__1SDV_20210903T015039_20210903T015107_039511_04AB3F_C333_30_v1.0/vv_bursts\n",
      "28\n",
      "Merging bursts -> /home/jovyan/OPERA_L2-RTC_CalVal/OPERA_RTC_ALE_California_64/input_OPERA_data/OPERA_L2-RTC_S1A_IW_SLC__1SDV_20210903T015039_20210903T015107_039511_04AB3F_C333_30_v1.0/OPERA_L2_RTC-S1_VV_S1A_IW_SLC__1SDV_20210903T015039_20210903T015107_039511_04AB3F_C333_30_v1.0_mosaic.tif\n",
      "Downloading bursts for S1 scene: S1A_IW_SLC__1SDV_20201201T015033_20201201T015101_035486_0425FA_7B42\n",
      "/home/jovyan/OPERA_L2-RTC_CalVal/OPERA_RTC_ALE_California_64/input_OPERA_data/OPERA_L2-RTC_S1A_IW_SLC__1SDV_20201201T015033_20201201T015101_035486_0425FA_7B42_30_v1.0/vv_bursts\n",
      "28\n",
      "Merging bursts -> /home/jovyan/OPERA_L2-RTC_CalVal/OPERA_RTC_ALE_California_64/input_OPERA_data/OPERA_L2-RTC_S1A_IW_SLC__1SDV_20201201T015033_20201201T015101_035486_0425FA_7B42_30_v1.0/OPERA_L2_RTC-S1_VV_S1A_IW_SLC__1SDV_20201201T015033_20201201T015101_035486_0425FA_7B42_30_v1.0_mosaic.tif\n",
      "Downloading bursts for S1 scene: S1A_IW_SLC__1SDV_20221004T015043_20221004T015111_045286_0569EA_E640\n",
      "/home/jovyan/OPERA_L2-RTC_CalVal/OPERA_RTC_ALE_California_64/input_OPERA_data/OPERA_L2-RTC_S1A_IW_SLC__1SDV_20221004T015043_20221004T015111_045286_0569EA_E640_30_v1.0/vv_bursts\n",
      "28\n",
      "Merging bursts -> /home/jovyan/OPERA_L2-RTC_CalVal/OPERA_RTC_ALE_California_64/input_OPERA_data/OPERA_L2-RTC_S1A_IW_SLC__1SDV_20221004T015043_20221004T015111_045286_0569EA_E640_30_v1.0/OPERA_L2_RTC-S1_VV_S1A_IW_SLC__1SDV_20221004T015043_20221004T015111_045286_0569EA_E640_30_v1.0_mosaic.tif\n",
      "Downloading bursts for S1 scene: S1A_IW_SLC__1SDV_20230309T015038_20230309T015106_047561_05B60F_D3B2\n",
      "/home/jovyan/OPERA_L2-RTC_CalVal/OPERA_RTC_ALE_California_64/input_OPERA_data/OPERA_L2-RTC_S1A_IW_SLC__1SDV_20230309T015038_20230309T015106_047561_05B60F_D3B2_30_v1.0/vv_bursts\n",
      "28\n",
      "Merging bursts -> /home/jovyan/OPERA_L2-RTC_CalVal/OPERA_RTC_ALE_California_64/input_OPERA_data/OPERA_L2-RTC_S1A_IW_SLC__1SDV_20230309T015038_20230309T015106_047561_05B60F_D3B2_30_v1.0/OPERA_L2_RTC-S1_VV_S1A_IW_SLC__1SDV_20230309T015038_20230309T015106_047561_05B60F_D3B2_30_v1.0_mosaic.tif\n",
      "Downloading bursts for S1 scene: S1A_IW_SLC__1SDV_20220513T015035_20220513T015103_043186_052856_E534\n",
      "/home/jovyan/OPERA_L2-RTC_CalVal/OPERA_RTC_ALE_California_64/input_OPERA_data/OPERA_L2-RTC_S1A_IW_SLC__1SDV_20220513T015035_20220513T015103_043186_052856_E534_30_v1.0/vv_bursts\n",
      "28\n",
      "Merging bursts -> /home/jovyan/OPERA_L2-RTC_CalVal/OPERA_RTC_ALE_California_64/input_OPERA_data/OPERA_L2-RTC_S1A_IW_SLC__1SDV_20220513T015035_20220513T015103_043186_052856_E534_30_v1.0/OPERA_L2_RTC-S1_VV_S1A_IW_SLC__1SDV_20220513T015035_20220513T015103_043186_052856_E534_30_v1.0_mosaic.tif\n",
      "Downloading bursts for S1 scene: S1A_IW_SLC__1SDV_20221109T015043_20221109T015110_045811_057AE4_078A\n",
      "/home/jovyan/OPERA_L2-RTC_CalVal/OPERA_RTC_ALE_California_64/input_OPERA_data/OPERA_L2-RTC_S1A_IW_SLC__1SDV_20221109T015043_20221109T015110_045811_057AE4_078A_30_v1.0/vv_bursts\n",
      "28\n",
      "Merging bursts -> /home/jovyan/OPERA_L2-RTC_CalVal/OPERA_RTC_ALE_California_64/input_OPERA_data/OPERA_L2-RTC_S1A_IW_SLC__1SDV_20221109T015043_20221109T015110_045811_057AE4_078A_30_v1.0/OPERA_L2_RTC-S1_VV_S1A_IW_SLC__1SDV_20221109T015043_20221109T015110_045811_057AE4_078A_30_v1.0_mosaic.tif\n",
      "Downloading bursts for S1 scene: S1A_IW_SLC__1SDV_20230520T015041_20230520T015109_048611_05D8B8_7DF1\n",
      "/home/jovyan/OPERA_L2-RTC_CalVal/OPERA_RTC_ALE_California_64/input_OPERA_data/OPERA_L2-RTC_S1A_IW_SLC__1SDV_20230520T015041_20230520T015109_048611_05D8B8_7DF1_30_v1.0/vv_bursts\n",
      "28\n",
      "Merging bursts -> /home/jovyan/OPERA_L2-RTC_CalVal/OPERA_RTC_ALE_California_64/input_OPERA_data/OPERA_L2-RTC_S1A_IW_SLC__1SDV_20230520T015041_20230520T015109_048611_05D8B8_7DF1_30_v1.0/OPERA_L2_RTC-S1_VV_S1A_IW_SLC__1SDV_20230520T015041_20230520T015109_048611_05D8B8_7DF1_30_v1.0_mosaic.tif\n",
      "Downloading bursts for S1 scene: S1A_IW_SLC__1SDV_20230508T015041_20230508T015109_048436_05D381_718B\n",
      "/home/jovyan/OPERA_L2-RTC_CalVal/OPERA_RTC_ALE_California_64/input_OPERA_data/OPERA_L2-RTC_S1A_IW_SLC__1SDV_20230508T015041_20230508T015109_048436_05D381_718B_30_v1.0/vv_bursts\n",
      "28\n",
      "Merging bursts -> /home/jovyan/OPERA_L2-RTC_CalVal/OPERA_RTC_ALE_California_64/input_OPERA_data/OPERA_L2-RTC_S1A_IW_SLC__1SDV_20230508T015041_20230508T015109_048436_05D381_718B_30_v1.0/OPERA_L2_RTC-S1_VV_S1A_IW_SLC__1SDV_20230508T015041_20230508T015109_048436_05D381_718B_30_v1.0_mosaic.tif\n",
      "Downloading bursts for S1 scene: S1A_IW_SLC__1SDV_20201026T015034_20201026T015102_034961_0413CB_B982\n",
      "/home/jovyan/OPERA_L2-RTC_CalVal/OPERA_RTC_ALE_California_64/input_OPERA_data/OPERA_L2-RTC_S1A_IW_SLC__1SDV_20201026T015034_20201026T015102_034961_0413CB_B982_30_v1.0/vv_bursts\n",
      "28\n",
      "Merging bursts -> /home/jovyan/OPERA_L2-RTC_CalVal/OPERA_RTC_ALE_California_64/input_OPERA_data/OPERA_L2-RTC_S1A_IW_SLC__1SDV_20201026T015034_20201026T015102_034961_0413CB_B982_30_v1.0/OPERA_L2_RTC-S1_VV_S1A_IW_SLC__1SDV_20201026T015034_20201026T015102_034961_0413CB_B982_30_v1.0_mosaic.tif\n",
      "Downloading bursts for S1 scene: S1A_IW_SLC__1SDV_20220326T015033_20220326T015101_042486_051118_6B3C\n",
      "/home/jovyan/OPERA_L2-RTC_CalVal/OPERA_RTC_ALE_California_64/input_OPERA_data/OPERA_L2-RTC_S1A_IW_SLC__1SDV_20220326T015033_20220326T015101_042486_051118_6B3C_30_v1.0/vv_bursts\n",
      "28\n",
      "0...10...20...30...40...50...60...70...80...90...100 - done.\n"
     ]
    },
    {
     "name": "stderr",
     "output_type": "stream",
     "text": [
      " 73%|███████▎  | 72/99 [32:35<12:47, 28.42s/it]"
     ]
    },
    {
     "name": "stdout",
     "output_type": "stream",
     "text": [
      "0...10...20...30...40...50...60...70...80...90...100 - done.\n"
     ]
    },
    {
     "name": "stderr",
     "output_type": "stream",
     "text": [
      " 74%|███████▎  | 73/99 [33:03<12:14, 28.23s/it]"
     ]
    },
    {
     "name": "stdout",
     "output_type": "stream",
     "text": [
      "0...10...20...30...40...50...60...70...80...90...100 - done.\n"
     ]
    },
    {
     "name": "stderr",
     "output_type": "stream",
     "text": [
      " 75%|███████▍  | 74/99 [33:31<11:43, 28.15s/it]"
     ]
    },
    {
     "name": "stdout",
     "output_type": "stream",
     "text": [
      "0...10...20...30...40...50...60...70...80...90...100 - done.\n"
     ]
    },
    {
     "name": "stderr",
     "output_type": "stream",
     "text": [
      " 76%|███████▌  | 75/99 [33:59<11:17, 28.21s/it]"
     ]
    },
    {
     "name": "stdout",
     "output_type": "stream",
     "text": [
      "0...10...20...30...40...50...60...70...80...90...100 - done.\n"
     ]
    },
    {
     "name": "stderr",
     "output_type": "stream",
     "text": [
      " 77%|███████▋  | 76/99 [34:27<10:45, 28.08s/it]"
     ]
    },
    {
     "name": "stdout",
     "output_type": "stream",
     "text": [
      "0...10...20...30...40...50...60...70...80...90...100 - done.\n"
     ]
    },
    {
     "name": "stderr",
     "output_type": "stream",
     "text": [
      " 78%|███████▊  | 77/99 [34:57<10:30, 28.65s/it]"
     ]
    },
    {
     "name": "stdout",
     "output_type": "stream",
     "text": [
      "0...10...20...30...40...50...60...70...80...90...100 - done.\n"
     ]
    },
    {
     "name": "stderr",
     "output_type": "stream",
     "text": [
      " 79%|███████▉  | 78/99 [35:25<09:55, 28.35s/it]"
     ]
    },
    {
     "name": "stdout",
     "output_type": "stream",
     "text": [
      "0...10...20...30...40...50...60...70...80...90...100 - done.\n"
     ]
    },
    {
     "name": "stderr",
     "output_type": "stream",
     "text": [
      " 80%|███████▉  | 79/99 [35:53<09:26, 28.33s/it]"
     ]
    },
    {
     "name": "stdout",
     "output_type": "stream",
     "text": [
      "0...10...20...30...40...50...60...70...80...90...100 - done.\n"
     ]
    },
    {
     "name": "stderr",
     "output_type": "stream",
     "text": [
      " 81%|████████  | 80/99 [36:20<08:50, 27.94s/it]"
     ]
    },
    {
     "name": "stdout",
     "output_type": "stream",
     "text": [
      "0...10...20...30...40...50...60...70...80...90...100 - done.\n"
     ]
    },
    {
     "name": "stderr",
     "output_type": "stream",
     "text": [
      " 82%|████████▏ | 81/99 [36:48<08:20, 27.78s/it]"
     ]
    },
    {
     "name": "stdout",
     "output_type": "stream",
     "text": [
      "0...10...20...30...40...50...60...70...80...90...100 - done.\n"
     ]
    },
    {
     "name": "stderr",
     "output_type": "stream",
     "text": [
      " 83%|████████▎ | 82/99 [37:16<07:56, 28.06s/it]"
     ]
    },
    {
     "name": "stdout",
     "output_type": "stream",
     "text": [
      "0...10...20...30...40...50...60...70...80...90...100 - done.\n"
     ]
    },
    {
     "name": "stderr",
     "output_type": "stream",
     "text": [
      " 84%|████████▍ | 83/99 [37:45<07:33, 28.33s/it]"
     ]
    },
    {
     "name": "stdout",
     "output_type": "stream",
     "text": [
      "0...10...20...30...40...50...60...70...80...90...100 - done.\n"
     ]
    },
    {
     "name": "stderr",
     "output_type": "stream",
     "text": [
      " 85%|████████▍ | 84/99 [38:15<07:09, 28.66s/it]"
     ]
    },
    {
     "name": "stdout",
     "output_type": "stream",
     "text": [
      "0...10...20...30...40...50...60...70...80...90...100 - done.\n"
     ]
    },
    {
     "name": "stderr",
     "output_type": "stream",
     "text": [
      " 86%|████████▌ | 85/99 [38:43<06:41, 28.69s/it]"
     ]
    },
    {
     "name": "stdout",
     "output_type": "stream",
     "text": [
      "Merging bursts -> /home/jovyan/OPERA_L2-RTC_CalVal/OPERA_RTC_ALE_California_64/input_OPERA_data/OPERA_L2-RTC_S1A_IW_SLC__1SDV_20220326T015033_20220326T015101_042486_051118_6B3C_30_v1.0/OPERA_L2_RTC-S1_VV_S1A_IW_SLC__1SDV_20220326T015033_20220326T015101_042486_051118_6B3C_30_v1.0_mosaic.tif\n",
      "Downloading bursts for S1 scene: S1A_IW_SLC__1SDV_20210927T015040_20210927T015108_039861_04B734_A229\n",
      "/home/jovyan/OPERA_L2-RTC_CalVal/OPERA_RTC_ALE_California_64/input_OPERA_data/OPERA_L2-RTC_S1A_IW_SLC__1SDV_20210927T015040_20210927T015108_039861_04B734_A229_30_v1.0/vv_bursts\n",
      "28\n",
      "Merging bursts -> /home/jovyan/OPERA_L2-RTC_CalVal/OPERA_RTC_ALE_California_64/input_OPERA_data/OPERA_L2-RTC_S1A_IW_SLC__1SDV_20210927T015040_20210927T015108_039861_04B734_A229_30_v1.0/OPERA_L2_RTC-S1_VV_S1A_IW_SLC__1SDV_20210927T015040_20210927T015108_039861_04B734_A229_30_v1.0_mosaic.tif\n",
      "Downloading bursts for S1 scene: S1A_IW_SLC__1SDV_20210810T015038_20210810T015105_039161_049F3C_B9BF\n",
      "/home/jovyan/OPERA_L2-RTC_CalVal/OPERA_RTC_ALE_California_64/input_OPERA_data/OPERA_L2-RTC_S1A_IW_SLC__1SDV_20210810T015038_20210810T015105_039161_049F3C_B9BF_30_v1.0/vv_bursts\n",
      "28\n",
      "Merging bursts -> /home/jovyan/OPERA_L2-RTC_CalVal/OPERA_RTC_ALE_California_64/input_OPERA_data/OPERA_L2-RTC_S1A_IW_SLC__1SDV_20210810T015038_20210810T015105_039161_049F3C_B9BF_30_v1.0/OPERA_L2_RTC-S1_VV_S1A_IW_SLC__1SDV_20210810T015038_20210810T015105_039161_049F3C_B9BF_30_v1.0_mosaic.tif\n",
      "Downloading bursts for S1 scene: S1A_IW_SLC__1SDV_20210822T015038_20210822T015106_039336_04A543_28B2\n",
      "/home/jovyan/OPERA_L2-RTC_CalVal/OPERA_RTC_ALE_California_64/input_OPERA_data/OPERA_L2-RTC_S1A_IW_SLC__1SDV_20210822T015038_20210822T015106_039336_04A543_28B2_30_v1.0/vv_bursts\n",
      "28\n",
      "Merging bursts -> /home/jovyan/OPERA_L2-RTC_CalVal/OPERA_RTC_ALE_California_64/input_OPERA_data/OPERA_L2-RTC_S1A_IW_SLC__1SDV_20210822T015038_20210822T015106_039336_04A543_28B2_30_v1.0/OPERA_L2_RTC-S1_VV_S1A_IW_SLC__1SDV_20210822T015038_20210822T015106_039336_04A543_28B2_30_v1.0_mosaic.tif\n",
      "Downloading bursts for S1 scene: S1A_IW_SLC__1SDV_20210915T015039_20210915T015107_039686_04B155_C63B\n",
      "/home/jovyan/OPERA_L2-RTC_CalVal/OPERA_RTC_ALE_California_64/input_OPERA_data/OPERA_L2-RTC_S1A_IW_SLC__1SDV_20210915T015039_20210915T015107_039686_04B155_C63B_30_v1.0/vv_bursts\n",
      "28\n",
      "Merging bursts -> /home/jovyan/OPERA_L2-RTC_CalVal/OPERA_RTC_ALE_California_64/input_OPERA_data/OPERA_L2-RTC_S1A_IW_SLC__1SDV_20210915T015039_20210915T015107_039686_04B155_C63B_30_v1.0/OPERA_L2_RTC-S1_VV_S1A_IW_SLC__1SDV_20210915T015039_20210915T015107_039686_04B155_C63B_30_v1.0_mosaic.tif\n",
      "Downloading bursts for S1 scene: S1A_IW_SLC__1SDV_20211114T015037_20211114T015105_040561_04CF8E_FCD7\n",
      "/home/jovyan/OPERA_L2-RTC_CalVal/OPERA_RTC_ALE_California_64/input_OPERA_data/OPERA_L2-RTC_S1A_IW_SLC__1SDV_20211114T015037_20211114T015105_040561_04CF8E_FCD7_30_v1.0/vv_bursts\n",
      "28\n",
      "Merging bursts -> /home/jovyan/OPERA_L2-RTC_CalVal/OPERA_RTC_ALE_California_64/input_OPERA_data/OPERA_L2-RTC_S1A_IW_SLC__1SDV_20211114T015037_20211114T015105_040561_04CF8E_FCD7_30_v1.0/OPERA_L2_RTC-S1_VV_S1A_IW_SLC__1SDV_20211114T015037_20211114T015105_040561_04CF8E_FCD7_30_v1.0_mosaic.tif\n",
      "Downloading bursts for S1 scene: S1A_IW_SLC__1SDV_20221016T015043_20221016T015111_045461_056FC0_6681\n",
      "/home/jovyan/OPERA_L2-RTC_CalVal/OPERA_RTC_ALE_California_64/input_OPERA_data/OPERA_L2-RTC_S1A_IW_SLC__1SDV_20221016T015043_20221016T015111_045461_056FC0_6681_30_v1.0/vv_bursts\n",
      "28\n",
      "Merging bursts -> /home/jovyan/OPERA_L2-RTC_CalVal/OPERA_RTC_ALE_California_64/input_OPERA_data/OPERA_L2-RTC_S1A_IW_SLC__1SDV_20221016T015043_20221016T015111_045461_056FC0_6681_30_v1.0/OPERA_L2_RTC-S1_VV_S1A_IW_SLC__1SDV_20221016T015043_20221016T015111_045461_056FC0_6681_30_v1.0_mosaic.tif\n",
      "Downloading bursts for S1 scene: S1A_IW_SLC__1SDV_20220218T015033_20220218T015101_041961_04FF34_E691\n",
      "/home/jovyan/OPERA_L2-RTC_CalVal/OPERA_RTC_ALE_California_64/input_OPERA_data/OPERA_L2-RTC_S1A_IW_SLC__1SDV_20220218T015033_20220218T015101_041961_04FF34_E691_30_v1.0/vv_bursts\n",
      "28\n",
      "Merging bursts -> /home/jovyan/OPERA_L2-RTC_CalVal/OPERA_RTC_ALE_California_64/input_OPERA_data/OPERA_L2-RTC_S1A_IW_SLC__1SDV_20220218T015033_20220218T015101_041961_04FF34_E691_30_v1.0/OPERA_L2_RTC-S1_VV_S1A_IW_SLC__1SDV_20220218T015033_20220218T015101_041961_04FF34_E691_30_v1.0_mosaic.tif\n",
      "Downloading bursts for S1 scene: S1A_IW_SLC__1SDV_20221121T015043_20221121T015111_045986_0580C5_2A46\n",
      "/home/jovyan/OPERA_L2-RTC_CalVal/OPERA_RTC_ALE_California_64/input_OPERA_data/OPERA_L2-RTC_S1A_IW_SLC__1SDV_20221121T015043_20221121T015111_045986_0580C5_2A46_30_v1.0/vv_bursts\n",
      "28\n",
      "Merging bursts -> /home/jovyan/OPERA_L2-RTC_CalVal/OPERA_RTC_ALE_California_64/input_OPERA_data/OPERA_L2-RTC_S1A_IW_SLC__1SDV_20221121T015043_20221121T015111_045986_0580C5_2A46_30_v1.0/OPERA_L2_RTC-S1_VV_S1A_IW_SLC__1SDV_20221121T015043_20221121T015111_045986_0580C5_2A46_30_v1.0_mosaic.tif\n",
      "Downloading bursts for S1 scene: S1A_IW_SLC__1SDV_20230201T015039_20230201T015107_047036_05A453_EBD8\n",
      "/home/jovyan/OPERA_L2-RTC_CalVal/OPERA_RTC_ALE_California_64/input_OPERA_data/OPERA_L2-RTC_S1A_IW_SLC__1SDV_20230201T015039_20230201T015107_047036_05A453_EBD8_30_v1.0/vv_bursts\n",
      "28\n",
      "Merging bursts -> /home/jovyan/OPERA_L2-RTC_CalVal/OPERA_RTC_ALE_California_64/input_OPERA_data/OPERA_L2-RTC_S1A_IW_SLC__1SDV_20230201T015039_20230201T015107_047036_05A453_EBD8_30_v1.0/OPERA_L2_RTC-S1_VV_S1A_IW_SLC__1SDV_20230201T015039_20230201T015107_047036_05A453_EBD8_30_v1.0_mosaic.tif\n",
      "Downloading bursts for S1 scene: S1A_IW_SLC__1SDV_20230120T015039_20230120T015107_046861_059E73_418D\n",
      "/home/jovyan/OPERA_L2-RTC_CalVal/OPERA_RTC_ALE_California_64/input_OPERA_data/OPERA_L2-RTC_S1A_IW_SLC__1SDV_20230120T015039_20230120T015107_046861_059E73_418D_30_v1.0/vv_bursts\n",
      "28\n",
      "Merging bursts -> /home/jovyan/OPERA_L2-RTC_CalVal/OPERA_RTC_ALE_California_64/input_OPERA_data/OPERA_L2-RTC_S1A_IW_SLC__1SDV_20230120T015039_20230120T015107_046861_059E73_418D_30_v1.0/OPERA_L2_RTC-S1_VV_S1A_IW_SLC__1SDV_20230120T015039_20230120T015107_046861_059E73_418D_30_v1.0_mosaic.tif\n",
      "Downloading bursts for S1 scene: S1A_IW_SLC__1SDV_20211102T015040_20211102T015108_040386_04C96F_CE80\n",
      "/home/jovyan/OPERA_L2-RTC_CalVal/OPERA_RTC_ALE_California_64/input_OPERA_data/OPERA_L2-RTC_S1A_IW_SLC__1SDV_20211102T015040_20211102T015108_040386_04C96F_CE80_30_v1.0/vv_bursts\n",
      "28\n",
      "Merging bursts -> /home/jovyan/OPERA_L2-RTC_CalVal/OPERA_RTC_ALE_California_64/input_OPERA_data/OPERA_L2-RTC_S1A_IW_SLC__1SDV_20211102T015040_20211102T015108_040386_04C96F_CE80_30_v1.0/OPERA_L2_RTC-S1_VV_S1A_IW_SLC__1SDV_20211102T015040_20211102T015108_040386_04C96F_CE80_30_v1.0_mosaic.tif\n",
      "Downloading bursts for S1 scene: S1A_IW_SLC__1SDV_20220419T015034_20220419T015102_042836_051CE2_39A8\n",
      "/home/jovyan/OPERA_L2-RTC_CalVal/OPERA_RTC_ALE_California_64/input_OPERA_data/OPERA_L2-RTC_S1A_IW_SLC__1SDV_20220419T015034_20220419T015102_042836_051CE2_39A8_30_v1.0/vv_bursts\n",
      "28\n",
      "Merging bursts -> /home/jovyan/OPERA_L2-RTC_CalVal/OPERA_RTC_ALE_California_64/input_OPERA_data/OPERA_L2-RTC_S1A_IW_SLC__1SDV_20220419T015034_20220419T015102_042836_051CE2_39A8_30_v1.0/OPERA_L2_RTC-S1_VV_S1A_IW_SLC__1SDV_20220419T015034_20220419T015102_042836_051CE2_39A8_30_v1.0_mosaic.tif\n",
      "Downloading bursts for S1 scene: S1A_IW_SLC__1SDV_20210623T015035_20210623T015103_038461_0489D0_98E2\n",
      "/home/jovyan/OPERA_L2-RTC_CalVal/OPERA_RTC_ALE_California_64/input_OPERA_data/OPERA_L2-RTC_S1A_IW_SLC__1SDV_20210623T015035_20210623T015103_038461_0489D0_98E2_30_v1.0/vv_bursts\n",
      "28\n",
      "Merging bursts -> /home/jovyan/OPERA_L2-RTC_CalVal/OPERA_RTC_ALE_California_64/input_OPERA_data/OPERA_L2-RTC_S1A_IW_SLC__1SDV_20210623T015035_20210623T015103_038461_0489D0_98E2_30_v1.0/OPERA_L2_RTC-S1_VV_S1A_IW_SLC__1SDV_20210623T015035_20210623T015103_038461_0489D0_98E2_30_v1.0_mosaic.tif\n",
      "Downloading bursts for S1 scene: S1A_IW_SLC__1SDV_20210412T015031_20210412T015059_037411_0468C7_6259\n",
      "/home/jovyan/OPERA_L2-RTC_CalVal/OPERA_RTC_ALE_California_64/input_OPERA_data/OPERA_L2-RTC_S1A_IW_SLC__1SDV_20210412T015031_20210412T015059_037411_0468C7_6259_30_v1.0/vv_bursts\n",
      "28\n",
      "0...10...20...30...40...50...60...70...80...90...100 - done.\n"
     ]
    },
    {
     "name": "stderr",
     "output_type": "stream",
     "text": [
      " 87%|████████▋ | 86/99 [39:23<05:57, 27.48s/it]\n",
      "Traceback (most recent call last):\n",
      "  File \"/home/jovyan/calval-RTC/bulk_validation_scripts/bulk_papermill_OPERA_RTC_absolute_geolocation_evaluation.py\", line 152, in <module>\n",
      "    main()\n",
      "  File \"/home/jovyan/calval-RTC/bulk_validation_scripts/bulk_papermill_OPERA_RTC_absolute_geolocation_evaluation.py\", line 147, in main\n",
      "    download_mosaic_data(parent_data_dir, args)\n",
      "  File \"/home/jovyan/calval-RTC/bulk_validation_scripts/bulk_papermill_OPERA_RTC_absolute_geolocation_evaluation.py\", line 71, in download_mosaic_data\n",
      "    asf_search.download_urls(urls=vv_urls, path=vv_burst_dir, session=asf_search.ASFSession().auth_with_token(args.EDL_token))\n",
      "  File \"/home/jovyan/.local/envs/opera_calval_rtc/lib/python3.11/site-packages/asf_search/download/download.py\", line 41, in download_urls\n",
      "    download_url(url=url, path=path, session=session)\n",
      "  File \"/home/jovyan/.local/envs/opera_calval_rtc/lib/python3.11/site-packages/asf_search/download/download.py\", line 74, in download_url\n",
      "    response = _try_get_response(session=session, url=url)\n",
      "               ^^^^^^^^^^^^^^^^^^^^^^^^^^^^^^^^^^^^^^^^^^^\n",
      "  File \"/home/jovyan/.local/envs/opera_calval_rtc/lib/python3.11/site-packages/tenacity/__init__.py\", line 289, in wrapped_f\n",
      "    return self(f, *args, **kw)\n",
      "           ^^^^^^^^^^^^^^^^^^^^\n",
      "  File \"/home/jovyan/.local/envs/opera_calval_rtc/lib/python3.11/site-packages/tenacity/__init__.py\", line 379, in __call__\n",
      "    do = self.iter(retry_state=retry_state)\n",
      "         ^^^^^^^^^^^^^^^^^^^^^^^^^^^^^^^^^^\n",
      "  File \"/home/jovyan/.local/envs/opera_calval_rtc/lib/python3.11/site-packages/tenacity/__init__.py\", line 314, in iter\n",
      "    return fut.result()\n",
      "           ^^^^^^^^^^^^\n",
      "  File \"/home/jovyan/.local/envs/opera_calval_rtc/lib/python3.11/concurrent/futures/_base.py\", line 449, in result\n",
      "    return self.__get_result()\n",
      "           ^^^^^^^^^^^^^^^^^^^\n",
      "  File \"/home/jovyan/.local/envs/opera_calval_rtc/lib/python3.11/concurrent/futures/_base.py\", line 401, in __get_result\n",
      "    raise self._exception\n",
      "  File \"/home/jovyan/.local/envs/opera_calval_rtc/lib/python3.11/site-packages/tenacity/__init__.py\", line 382, in __call__\n",
      "    result = fn(*args, **kwargs)\n",
      "             ^^^^^^^^^^^^^^^^^^^\n",
      "  File \"/home/jovyan/.local/envs/opera_calval_rtc/lib/python3.11/site-packages/asf_search/download/download.py\", line 108, in _try_get_response\n",
      "    response = session.get(url, stream=True, hooks={'response': strip_auth_if_aws})\n",
      "               ^^^^^^^^^^^^^^^^^^^^^^^^^^^^^^^^^^^^^^^^^^^^^^^^^^^^^^^^^^^^^^^^^^^^\n",
      "  File \"/home/jovyan/.local/envs/opera_calval_rtc/lib/python3.11/site-packages/requests/sessions.py\", line 602, in get\n",
      "    return self.request(\"GET\", url, **kwargs)\n",
      "           ^^^^^^^^^^^^^^^^^^^^^^^^^^^^^^^^^^\n",
      "  File \"/home/jovyan/.local/envs/opera_calval_rtc/lib/python3.11/site-packages/requests/sessions.py\", line 575, in request\n",
      "    prep = self.prepare_request(req)\n",
      "           ^^^^^^^^^^^^^^^^^^^^^^^^^\n",
      "  File \"/home/jovyan/.local/envs/opera_calval_rtc/lib/python3.11/site-packages/requests/sessions.py\", line 486, in prepare_request\n",
      "    p.prepare(\n",
      "  File \"/home/jovyan/.local/envs/opera_calval_rtc/lib/python3.11/site-packages/requests/models.py\", line 368, in prepare\n",
      "    self.prepare_url(url, params)\n",
      "  File \"/home/jovyan/.local/envs/opera_calval_rtc/lib/python3.11/site-packages/requests/models.py\", line 439, in prepare_url\n",
      "    raise MissingSchema(\n",
      "requests.exceptions.MissingSchema: Invalid URL 'NA': No scheme supplied. Perhaps you meant https://NA?\n"
     ]
    },
    {
     "name": "stdout",
     "output_type": "stream",
     "text": [
      "Merging bursts -> /home/jovyan/OPERA_L2-RTC_CalVal/OPERA_RTC_ALE_California_64/input_OPERA_data/OPERA_L2-RTC_S1A_IW_SLC__1SDV_20210412T015031_20210412T015059_037411_0468C7_6259_30_v1.0/OPERA_L2_RTC-S1_VV_S1A_IW_SLC__1SDV_20210412T015031_20210412T015059_037411_0468C7_6259_30_v1.0_mosaic.tif\n",
      "Downloading bursts for S1 scene: S1A_IW_SLC__1SDV_20220407T015033_20220407T015101_042661_051705_FD8D\n",
      "/home/jovyan/OPERA_L2-RTC_CalVal/OPERA_RTC_ALE_California_64/input_OPERA_data/OPERA_L2-RTC_S1A_IW_SLC__1SDV_20220407T015033_20220407T015101_042661_051705_FD8D_30_v1.0/vv_bursts\n",
      "28\n"
     ]
    }
   ],
   "source": [
    "download = '--skip_download' if 'Validate' in download_options.value else ''\n",
    "delete = '--delete_intermediary' if (calval_module.value == 'Coregistration' and 'delete_options' in locals() and 'Delete' in delete_options.value) else ''\n",
    "script_dir = Path.cwd()/\"bulk_validation_scripts\"\n",
    "with work_dir(script_dir):\n",
    "    site = site_options.value.split(',')[0]\n",
    "    orbital_path = site_options.value.split(' ')[-1]\n",
    "    subprocess.run([f'python {script} --site \"{site}\" --orbital_path {orbital_path} --EDL_token {EDL_token} {download} {delete}'], shell=True)"
   ]
  },
  {
   "cell_type": "code",
   "execution_count": 31,
   "id": "04dde9cc-34c2-4cd8-9b19-c7752885c703",
   "metadata": {},
   "outputs": [],
   "source": [
    "import asf_search\n",
    "url = \"https://datapool.asf.alaska.edu/RTC/OPERA-S1/OPERA_L2_RTC-S1_T064-135528-IW1_20210412T015056Z_20230928T222655Z_S1A_30_v1.0_VV.tif\"\n",
    "asf_search.download_urls(urls=[url], path=Path.cwd(), session=asf_search.ASFSession().auth_with_token(EDL_token))"
   ]
  },
  {
   "cell_type": "code",
   "execution_count": 38,
   "id": "894c33c6-5069-4b19-a52c-1a57625cbdf7",
   "metadata": {},
   "outputs": [],
   "source": [
    "nine8 = ['https://datapool.asf.alaska.edu/RTC/OPERA-S1/OPERA_L2_RTC-S1_T064-135518-IW1_20220712T015039Z_20230928T214154Z_S1A_30_v1.0_VV.tif',\n",
    " 'https://datapool.asf.alaska.edu/RTC/OPERA-S1/OPERA_L2_RTC-S1_T064-135518-IW2_20220712T015040Z_20230928T214154Z_S1A_30_v1.0_VV.tif',\n",
    " 'https://datapool.asf.alaska.edu/RTC/OPERA-S1/OPERA_L2_RTC-S1_T064-135518-IW3_20220712T015041Z_20230928T214154Z_S1A_30_v1.0_VV.tif',\n",
    " 'https://datapool.asf.alaska.edu/RTC/OPERA-S1/OPERA_L2_RTC-S1_T064-135519-IW1_20220712T015042Z_20230928T214154Z_S1A_30_v1.0_VV.tif',\n",
    " 'https://datapool.asf.alaska.edu/RTC/OPERA-S1/OPERA_L2_RTC-S1_T064-135519-IW2_20220712T015043Z_20230928T214154Z_S1A_30_v1.0_VV.tif',\n",
    " 'https://datapool.asf.alaska.edu/RTC/OPERA-S1/OPERA_L2_RTC-S1_T064-135519-IW3_20220712T015044Z_20230928T214154Z_S1A_30_v1.0_VV.tif',\n",
    " 'https://datapool.asf.alaska.edu/RTC/OPERA-S1/OPERA_L2_RTC-S1_T064-135520-IW1_20220712T015045Z_20230928T214154Z_S1A_30_v1.0_VV.tif',\n",
    " 'https://datapool.asf.alaska.edu/RTC/OPERA-S1/OPERA_L2_RTC-S1_T064-135520-IW2_20220712T015046Z_20230928T214154Z_S1A_30_v1.0_VV.tif',\n",
    " 'https://datapool.asf.alaska.edu/RTC/OPERA-S1/OPERA_L2_RTC-S1_T064-135520-IW3_20220712T015047Z_20230928T214154Z_S1A_30_v1.0_VV.tif',\n",
    " 'https://datapool.asf.alaska.edu/RTC/OPERA-S1/OPERA_L2_RTC-S1_T064-135521-IW1_20220712T015048Z_20230928T214154Z_S1A_30_v1.0_VV.tif',\n",
    " 'https://datapool.asf.alaska.edu/RTC/OPERA-S1/OPERA_L2_RTC-S1_T064-135521-IW2_20220712T015048Z_20230928T214154Z_S1A_30_v1.0_VV.tif',\n",
    " 'https://datapool.asf.alaska.edu/RTC/OPERA-S1/OPERA_L2_RTC-S1_T064-135521-IW3_20220712T015049Z_20230928T214154Z_S1A_30_v1.0_VV.tif',\n",
    " 'https://datapool.asf.alaska.edu/RTC/OPERA-S1/OPERA_L2_RTC-S1_T064-135522-IW1_20220712T015050Z_20230928T214154Z_S1A_30_v1.0_VV.tif',\n",
    " 'https://datapool.asf.alaska.edu/RTC/OPERA-S1/OPERA_L2_RTC-S1_T064-135522-IW2_20220712T015051Z_20230928T214154Z_S1A_30_v1.0_VV.tif',\n",
    " 'https://datapool.asf.alaska.edu/RTC/OPERA-S1/OPERA_L2_RTC-S1_T064-135522-IW3_20220712T015052Z_20230928T214154Z_S1A_30_v1.0_VV.tif',\n",
    " 'https://datapool.asf.alaska.edu/RTC/OPERA-S1/OPERA_L2_RTC-S1_T064-135523-IW1_20220712T015053Z_20230928T214154Z_S1A_30_v1.0_VV.tif',\n",
    " 'https://datapool.asf.alaska.edu/RTC/OPERA-S1/OPERA_L2_RTC-S1_T064-135523-IW2_20220712T015054Z_20230928T214154Z_S1A_30_v1.0_VV.tif',\n",
    " 'https://datapool.asf.alaska.edu/RTC/OPERA-S1/OPERA_L2_RTC-S1_T064-135523-IW3_20220712T015055Z_20230928T214154Z_S1A_30_v1.0_VV.tif',\n",
    " 'https://datapool.asf.alaska.edu/RTC/OPERA-S1/OPERA_L2_RTC-S1_T064-135524-IW1_20220712T015056Z_20230928T214154Z_S1A_30_v1.0_VV.tif',\n",
    " 'https://datapool.asf.alaska.edu/RTC/OPERA-S1/OPERA_L2_RTC-S1_T064-135524-IW2_20220712T015057Z_20230928T214154Z_S1A_30_v1.0_VV.tif',\n",
    " 'https://datapool.asf.alaska.edu/RTC/OPERA-S1/OPERA_L2_RTC-S1_T064-135524-IW3_20220712T015058Z_20230928T214154Z_S1A_30_v1.0_VV.tif',\n",
    " 'https://datapool.asf.alaska.edu/RTC/OPERA-S1/OPERA_L2_RTC-S1_T064-135525-IW1_20220712T015059Z_20230928T214154Z_S1A_30_v1.0_VV.tif',\n",
    " 'https://datapool.asf.alaska.edu/RTC/OPERA-S1/OPERA_L2_RTC-S1_T064-135525-IW2_20220712T015059Z_20230928T214154Z_S1A_30_v1.0_VV.tif',\n",
    " 'https://datapool.asf.alaska.edu/RTC/OPERA-S1/OPERA_L2_RTC-S1_T064-135525-IW3_20220712T015100Z_20230928T214154Z_S1A_30_v1.0_VV.tif',\n",
    " 'https://datapool.asf.alaska.edu/RTC/OPERA-S1/OPERA_L2_RTC-S1_T064-135526-IW1_20220712T015101Z_20230928T214154Z_S1A_30_v1.0_VV.tif',\n",
    " 'https://datapool.asf.alaska.edu/RTC/OPERA-S1/OPERA_L2_RTC-S1_T064-135526-IW2_20220712T015102Z_20230928T214154Z_S1A_30_v1.0_VV.tif',\n",
    " 'https://datapool.asf.alaska.edu/RTC/OPERA-S1/OPERA_L2_RTC-S1_T064-135526-IW3_20220712T015103Z_20230928T214154Z_S1A_30_v1.0_VV.tif',\n",
    " 'https://datapool.asf.alaska.edu/RTC/OPERA-S1/OPERA_L2_RTC-S1_T064-135527-IW1_20220712T015104Z_20230928T214154Z_S1A_30_v1.0_VV.tif']"
   ]
  },
  {
   "cell_type": "code",
   "execution_count": 39,
   "id": "ee183986-e5fc-49b2-b480-6abdd73475f6",
   "metadata": {},
   "outputs": [],
   "source": [
    "asf_search.download_urls(urls=nine8, path=Path.cwd()/\"98\", session=asf_search.ASFSession().auth_with_token(EDL_token))"
   ]
  },
  {
   "cell_type": "code",
   "execution_count": null,
   "id": "ed7995fc-ad65-4e8a-ae4f-d6bd577e27ff",
   "metadata": {},
   "outputs": [],
   "source": []
  },
  {
   "cell_type": "code",
   "execution_count": 48,
   "id": "97ccbb4c-6c4d-4064-bfa6-7a8362b7f8e3",
   "metadata": {},
   "outputs": [],
   "source": [
    "atesix = [\n",
    "    \"https://datapool.asf.alaska.edu/RTC/OPERA-S1/OPERA_L2_RTC-S1_T064-135522-IW2_20210412T015040Z_20230928T222655Z_S1A_30_v1.0_VV.tif\", \"https://datapool.asf.alaska.edu/RTC/OPERA-S1/OPERA_L2_RTC-S1_T064-135523-IW2_20210412T015043Z_20230928T222655Z_S1A_30_v1.0_VV.tif\", \"https://datapool.asf.alaska.edu/RTC/OPERA-S1/OPERA_L2_RTC-S1_T064-135524-IW1_20210412T015045Z_20230928T222655Z_S1A_30_v1.0_VV.tif\", \"https://datapool.asf.alaska.edu/RTC/OPERA-S1/OPERA_L2_RTC-S1_T064-135522-IW1_20210412T015039Z_20230928T222655Z_S1A_30_v1.0_VV.tif\", \"https://datapool.asf.alaska.edu/RTC/OPERA-S1/OPERA_L2_RTC-S1_T064-135523-IW1_20210412T015042Z_20230928T222655Z_S1A_30_v1.0_VV.tif\", \"https://datapool.asf.alaska.edu/RTC/OPERA-S1/OPERA_L2_RTC-S1_T064-135520-IW1_20210412T015034Z_20230928T222655Z_S1A_30_v1.0_VV.tif\", \"https://datapool.asf.alaska.edu/RTC/OPERA-S1/OPERA_L2_RTC-S1_T064-135521-IW1_20210412T015036Z_20230928T222655Z_S1A_30_v1.0_VV.tif\", \"https://datapool.asf.alaska.edu/RTC/OPERA-S1/OPERA_L2_RTC-S1_T064-135525-IW2_20210412T015048Z_20230928T222655Z_S1A_30_v1.0_VV.tif\", \"https://datapool.asf.alaska.edu/RTC/OPERA-S1/OPERA_L2_RTC-S1_T064-135527-IW1_20210412T015053Z_20230928T222655Z_S1A_30_v1.0_VV.tif\", \"https://datapool.asf.alaska.edu/RTC/OPERA-S1/OPERA_L2_RTC-S1_T064-135520-IW2_20210412T015035Z_20230928T222655Z_S1A_30_v1.0_VV.tif\", \"https://datapool.asf.alaska.edu/RTC/OPERA-S1/OPERA_L2_RTC-S1_T064-135522-IW3_20210412T015041Z_20230928T222655Z_S1A_30_v1.0_VV.tif\", \"https://datapool.asf.alaska.edu/RTC/OPERA-S1/OPERA_L2_RTC-S1_T064-135524-IW2_20210412T015046Z_20230928T222655Z_S1A_30_v1.0_VV.tif\", \"https://datapool.asf.alaska.edu/RTC/OPERA-S1/OPERA_L2_RTC-S1_T064-135521-IW2_20210412T015037Z_20230928T222655Z_S1A_30_v1.0_VV.tif\", \"https://datapool.asf.alaska.edu/RTC/OPERA-S1/OPERA_L2_RTC-S1_T064-135527-IW3_20210412T015055Z_20230928T222655Z_S1A_30_v1.0_VV.tif\", \"https://datapool.asf.alaska.edu/RTC/OPERA-S1/OPERA_L2_RTC-S1_T064-135524-IW3_20210412T015047Z_20230928T222655Z_S1A_30_v1.0_VV.tif\", \"https://datapool.asf.alaska.edu/RTC/OPERA-S1/OPERA_L2_RTC-S1_T064-135526-IW2_20210412T015051Z_20230928T222655Z_S1A_30_v1.0_VV.tif\", \"https://datapool.asf.alaska.edu/RTC/OPERA-S1/OPERA_L2_RTC-S1_T064-135526-IW3_20210412T015052Z_20230928T222655Z_S1A_30_v1.0_VV.tif\", \"https://datapool.asf.alaska.edu/RTC/OPERA-S1/OPERA_L2_RTC-S1_T064-135519-IW1_20210412T015031Z_20230928T222655Z_S1A_30_v1.0_VV.tif\", \"https://datapool.asf.alaska.edu/RTC/OPERA-S1/OPERA_L2_RTC-S1_T064-135520-IW3_20210412T015036Z_20230928T222655Z_S1A_30_v1.0_VV.tif\", \"https://datapool.asf.alaska.edu/RTC/OPERA-S1/OPERA_L2_RTC-S1_T064-135525-IW3_20210412T015049Z_20230928T222655Z_S1A_30_v1.0_VV.tif\", \"https://datapool.asf.alaska.edu/RTC/OPERA-S1/OPERA_L2_RTC-S1_T064-135526-IW1_20210412T015050Z_20230928T222655Z_S1A_30_v1.0_VV.tif\", \"https://datapool.asf.alaska.edu/RTC/OPERA-S1/OPERA_L2_RTC-S1_T064-135527-IW2_20210412T015054Z_20230928T222655Z_S1A_30_v1.0_VV.tif\", \"https://datapool.asf.alaska.edu/RTC/OPERA-S1/OPERA_L2_RTC-S1_T064-135519-IW2_20210412T015032Z_20230928T222655Z_S1A_30_v1.0_VV.tif\", \"https://datapool.asf.alaska.edu/RTC/OPERA-S1/OPERA_L2_RTC-S1_T064-135519-IW3_20210412T015033Z_20230928T222655Z_S1A_30_v1.0_VV.tif\", \"https://datapool.asf.alaska.edu/RTC/OPERA-S1/OPERA_L2_RTC-S1_T064-135521-IW3_20210412T015038Z_20230928T222655Z_S1A_30_v1.0_VV.tif\", \"https://datapool.asf.alaska.edu/RTC/OPERA-S1/OPERA_L2_RTC-S1_T064-135523-IW3_20210412T015044Z_20230928T222655Z_S1A_30_v1.0_VV.tif\", \"https://datapool.asf.alaska.edu/RTC/OPERA-S1/OPERA_L2_RTC-S1_T064-135525-IW1_20210412T015048Z_20230928T222655Z_S1A_30_v1.0_VV.tif\", \"https://datapool.asf.alaska.edu/RTC/OPERA-S1/OPERA_L2_RTC-S1_T064-135528-IW1_20210412T015056Z_20230928T222655Z_S1A_30_v1.0_VV.tif\",\n",
    "]"
   ]
  },
  {
   "cell_type": "code",
   "execution_count": 49,
   "id": "010963d0-a771-4c36-ae94-8055a2457cb6",
   "metadata": {},
   "outputs": [],
   "source": [
    "asf_search.download_urls(urls=atesix, path=Path.cwd()/\"86\", session=asf_search.ASFSession().auth_with_token(EDL_token))"
   ]
  },
  {
   "cell_type": "code",
   "execution_count": null,
   "id": "b69ae029-7fe0-4252-9c09-c1537a20ef16",
   "metadata": {},
   "outputs": [],
   "source": []
  }
 ],
 "metadata": {
  "kernelspec": {
   "display_name": "Python [conda env:.local-opera_calval_rtc]",
   "language": "python",
   "name": "conda-env-.local-opera_calval_rtc-py"
  },
  "language_info": {
   "codemirror_mode": {
    "name": "ipython",
    "version": 3
   },
   "file_extension": ".py",
   "mimetype": "text/x-python",
   "name": "python",
   "nbconvert_exporter": "python",
   "pygments_lexer": "ipython3",
   "version": "3.11.8"
  }
 },
 "nbformat": 4,
 "nbformat_minor": 5
}
