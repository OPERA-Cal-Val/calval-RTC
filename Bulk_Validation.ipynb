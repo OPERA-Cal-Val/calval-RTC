{
 "cells": [
  {
   "cell_type": "markdown",
   "id": "63f8394a-337d-4649-9cfa-6c1597fbb0ae",
   "metadata": {},
   "source": [
    "# OPERA L2-RTC Validation \n",
    "\n",
    "OPERA L2-RTC Validation is performed on OPERA bursts that are merged into the shape of the source Sentinel-1 scenes.\n",
    "\n",
    "Each validation workflow is a collection of notebooks in this repository. They may be run piecemeal, on individual scenes, but it is time consuming.\n",
    "\n",
    "**This notebook makes it easy to run validation modules in bulk, on all of the data submitted for validation.** \n",
    "\n",
    "1. Select a validation module\n",
    "1. Select a site and orbital path combination\n",
    "1. Download non-OPERA data used in validation\n",
    "1. Run a bulk validation script\n",
    "    1. Downloads and mosaics the bursts\n",
    "    1. Runs validation workflows\n",
    "    \n",
    "After running validation modules from this notebook, the input and output validation data can be found in the `../OPERA_L2-RTC_CalVal` directory."
   ]
  },
  {
   "cell_type": "code",
   "execution_count": null,
   "id": "6c1c2fdf-7f33-4cfb-8326-023775bb3ee6",
   "metadata": {},
   "outputs": [],
   "source": [
    "from getpass import getpass\n",
    "import os\n",
    "from pathlib import Path\n",
    "import subprocess\n",
    "from typing import Union\n",
    "from zipfile import ZipFile \n",
    "\n",
    "import earthaccess\n",
    "from opensarlab_lib import work_dir\n",
    "\n",
    "import ipywidgets as widgets\n",
    "from ipywidgets import Layout"
   ]
  },
  {
   "cell_type": "markdown",
   "id": "a4e1a0b7-7e19-4dd1-a81b-07df2da8d094",
   "metadata": {},
   "source": [
    "## 1. Select Validation Module"
   ]
  },
  {
   "cell_type": "code",
   "execution_count": null,
   "id": "720f040f-bd25-490f-9251-c169d5975a8f",
   "metadata": {},
   "outputs": [],
   "source": [
    "calval_types = [\n",
    "    \"Absolute Location Evaluation (ALE)\",\n",
    "    \"Flattening\",\n",
    "    \"Relative Location Evaluation (RLE)\",\n",
    "]\n",
    "\n",
    "calval_module = widgets.RadioButtons(\n",
    "    options=calval_types,\n",
    "    description='',\n",
    "    disabled=False,\n",
    "    layout=Layout(min_width=\"1000px\")\n",
    "    )\n",
    "\n",
    "print(\"Select an OPERA-RTC validation analysis to perform.\")\n",
    "display(calval_module)"
   ]
  },
  {
   "cell_type": "markdown",
   "id": "1053b9c3-c149-4201-bc48-1f769a481bd2",
   "metadata": {},
   "source": [
    "## 2. Select a validation site and orbital path"
   ]
  },
  {
   "cell_type": "code",
   "execution_count": null,
   "id": "465d11eb-b27f-467f-8a64-c8b930887b62",
   "metadata": {},
   "outputs": [],
   "source": [
    "if \"Absolute\" in calval_module.value:\n",
    "    \n",
    "    sites = [\n",
    "        \"California, Ascending Orbit, Orbital Path 64\",\n",
    "    ]\n",
    "    script = \"bulk_papermill_OPERA_RTC_ALE.py\"\n",
    "elif \"RLE\" in calval_module.value:\n",
    "    sites = [\n",
    "        \"Delta Junction, Ascending Orbit, Path 94\",\n",
    "        \"Delta Junction, Descending Orbit, Path 160\",\n",
    "        \"Brazil, Descending Orbit, Path 170\",\n",
    "    ]\n",
    "    script = \"bulk_papermill_OPERA_RTC_RLE.py\"\n",
    "elif calval_module.value == 'Flattening':\n",
    "    sites = [\n",
    "        \"Vermont, Ascending Orbit, Path 135\",\n",
    "        \"Vermont, Descending Orbit, Path 113\",\n",
    "        \"Delta Junction, Descending Orbit, Path 160\",\n",
    "        \"Brazil, Descending Orbit, Path 39\",\n",
    "    ]\n",
    "    script = \"bulk_papermill_OPERA_RTC_flattening.py\"\n",
    "    \n",
    "else:\n",
    "    raise Exception(f\"{calval_module.value} analysis option not yet added to this notebook\")\n",
    "    \n",
    "site_options = widgets.RadioButtons(\n",
    "    options=sites,\n",
    "    description='',\n",
    "    disabled=False,\n",
    "    layout=Layout(min_width=\"1000px\")\n",
    "    )\n",
    "\n",
    "print(\"Select a site/path for the validation analysis.\")\n",
    "display(site_options)"
   ]
  },
  {
   "cell_type": "markdown",
   "id": "9f526d82-e691-45ba-86d6-a3be0c03d9a8",
   "metadata": {},
   "source": [
    "## 3. Select whether to download and validate data or validate previously downloaded data"
   ]
  },
  {
   "cell_type": "code",
   "execution_count": null,
   "id": "5c02b919-5945-42c6-ba36-630baec26e22",
   "metadata": {},
   "outputs": [],
   "source": [
    "download_mosaic = [\n",
    "    'Download, mosaic, and validate OPERA sample burst data',\n",
    "    'Validate previously downloaded and mosaicked data'\n",
    "]\n",
    "\n",
    "download_options = widgets.RadioButtons(\n",
    "    options=download_mosaic,\n",
    "    description='',\n",
    "    disabled=False,\n",
    "    layout=Layout(min_width=\"1000px\")\n",
    "    )\n",
    "\n",
    "print(\"Download and mosaic OPERA sample burst data or validate previously prepared mosaics?\")\n",
    "display(download_options)\n",
    "\n",
    "if \"RLE\" in calval_module.value:\n",
    "    print(\"\\nSave or delete intermediary data produced during validation?\")\n",
    "    delete_options = widgets.RadioButtons(\n",
    "        options=['Save intermediary data', 'Delete intermediary data'],\n",
    "        description='',\n",
    "        disabled=False,\n",
    "        layout=Layout(min_width=\"1000px\")\n",
    "        )\n",
    "    display(delete_options)"
   ]
  },
  {
   "cell_type": "markdown",
   "id": "1eab7be0-124f-480a-bfac-3d35b1bebbc4",
   "metadata": {},
   "source": [
    "## 4. Download [Copernicus Global Land Cover (100m)](https://lcviewer.vito.be/download) and [NISAR Calibration Corner Reflector](https://uavsar.jpl.nasa.gov/cgi-bin/calibration-nisar.pl) data.  "
   ]
  },
  {
   "cell_type": "code",
   "execution_count": null,
   "id": "51130650-894f-4e4b-93a4-0d2d9fc83ee0",
   "metadata": {},
   "outputs": [],
   "source": [
    "if \"Download\" in download_options.value:\n",
    "    calval_pth = Path.cwd().parent / \"OPERA_L2-RTC_CalVal\"\n",
    "    zip_pth = Path.cwd().parent / \"OPERA_L2-RTC_CalVal.zip\"\n",
    "\n",
    "    if not zip_pth.exists() and not calval_pth.exists():\n",
    "        download_cmd = f'wget --no-check-certificate --no-proxy \"https://asf-opera-rtc-calval.s3.us-west-2.amazonaws.com/OPERA_L2-RTC_LC_CR_Input_Data/OPERA_L2-RTC_CalVal.zip\" -q --show-progress -P {Path.cwd().parent}'\n",
    "        subprocess.run(download_cmd, stdout=None, stderr=subprocess.PIPE, shell=True)\n",
    "    if zip_pth.exists() and not calval_pth.exists():\n",
    "        with ZipFile(zip_pth, 'r') as z:  \n",
    "            z.extractall(path=Path.cwd().parent)    "
   ]
  },
  {
   "cell_type": "markdown",
   "id": "1c6313b0-676b-4047-93e0-7f17c1ded81e",
   "metadata": {},
   "source": [
    "## Log into EarthAccess with your EarthData Login credentials\n",
    "\n",
    "- This will prompt for EDL credentials if they are not already present in a `.netrc` file\n",
    "- Saves your EDL credentials to a `.netrc` file if not already present"
   ]
  },
  {
   "cell_type": "code",
   "execution_count": null,
   "id": "5cfbc0be-f134-49ba-9974-d17a4ef67d68",
   "metadata": {},
   "outputs": [],
   "source": [
    "earthaccess.login(persist=True)"
   ]
  },
  {
   "cell_type": "markdown",
   "id": "6100e808-bc6d-42a4-ad88-eedb213a373c",
   "metadata": {},
   "source": [
    "## 5. Run bulk validation script"
   ]
  },
  {
   "cell_type": "code",
   "execution_count": null,
   "id": "f829f935-6ef0-47af-a69b-94e802428dc9",
   "metadata": {
    "tags": []
   },
   "outputs": [],
   "source": [
    "download = '--skip_download' if 'Validate' in download_options.value else ''\n",
    "delete = '--delete_intermediary' if ('RLE' in calval_module.value and 'delete_options' in locals() and 'Delete' in delete_options.value) else ''\n",
    "script_dir = Path.cwd()/\"bulk_validation_scripts\"\n",
    "with work_dir(script_dir):\n",
    "    site = site_options.value.split(',')[0]\n",
    "    orbital_path = site_options.value.split(' ')[-1]\n",
    "    subprocess.run([f'python {script} --site \"{site}\" --orbital_path {orbital_path} {download} {delete}'], shell=True)"
   ]
  }
 ],
 "metadata": {
  "kernelspec": {
   "display_name": "Python [conda env:.local-opera_calval_rtc]",
   "language": "python",
   "name": "conda-env-.local-opera_calval_rtc-py"
  },
  "language_info": {
   "codemirror_mode": {
    "name": "ipython",
    "version": 3
   },
   "file_extension": ".py",
   "mimetype": "text/x-python",
   "name": "python",
   "nbconvert_exporter": "python",
   "pygments_lexer": "ipython3",
   "version": "3.11.12"
  }
 },
 "nbformat": 4,
 "nbformat_minor": 5
}
