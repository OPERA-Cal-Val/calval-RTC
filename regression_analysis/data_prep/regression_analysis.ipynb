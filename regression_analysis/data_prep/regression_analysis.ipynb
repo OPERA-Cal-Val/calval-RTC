{
 "cells": [
  {
   "cell_type": "markdown",
   "id": "af7940f6-5da7-4241-b4ae-fbc59654a5ed",
   "metadata": {},
   "source": [
    "# Regression Analysis: $Gamma_0$ vs $Local$ Incidence Angle"
   ]
  },
  {
   "cell_type": "markdown",
   "id": "380aa5f4-a73b-4bd1-b1c3-3ed2df5c0dd9",
   "metadata": {},
   "source": [
    "#### _Objecive_: Generate $Gamma_0$ vs $Local$ Incidence angle scatter plots"
   ]
  },
  {
   "cell_type": "code",
   "execution_count": null,
   "id": "aba315bd-d004-447c-803c-1da8e98729aa",
   "metadata": {},
   "outputs": [],
   "source": [
    "from ipyfilechooser import FileChooser\n",
    "import numpy as np\n",
    "from pathlib import Path\n",
    "from glob import glob\n",
    "import shutil\n",
    "from tqdm.auto import tqdm\n",
    "\n",
    "import numpy.ma as ma\n",
    "from osgeo import gdal, osr\n",
    "\n",
    "import matplotlib.pyplot as plt\n",
    "from PIL import Image"
   ]
  },
  {
   "cell_type": "markdown",
   "id": "28945481-956a-4b5e-b637-bc7bcc7b1bf2",
   "metadata": {},
   "source": [
    "### **Get path to $Gamma_0$ and $Local$ Incidence Angle**\n",
    "\n",
    "_NB_: Once selected, your path output should be highlighted in **orange**"
   ]
  },
  {
   "cell_type": "markdown",
   "id": "c6dc3a6b-183d-4460-a106-4105f06ea2a3",
   "metadata": {},
   "source": [
    "#### $Gamma_0$\n",
    "\n",
    "This should be located within <>"
   ]
  },
  {
   "cell_type": "code",
   "execution_count": null,
   "id": "6e1a7f3d-4b89-49df-b6e1-3de08e9ee797",
   "metadata": {},
   "outputs": [],
   "source": [
    "print(\"Select a file that contains the incidence angle map in your GAMMA RTC\")\n",
    "gamma_fc = FileChooser(Path.cwd())\n",
    "display(gamma_fc)"
   ]
  },
  {
   "cell_type": "markdown",
   "id": "905e4127-391f-473f-9bbf-e3432bf89da8",
   "metadata": {},
   "source": [
    "#### $Local$\n",
    "\n",
    "This should be located within your OPERA RTC directory. Filename should look something like this:\n",
    "\n",
    "`OPERA_L2_RTC-S1_..._v0.3_local_incidence_angle_clip_deg.tif`\n"
   ]
  },
  {
   "cell_type": "code",
   "execution_count": null,
   "id": "5d394512-c682-4b1c-8d69-628a711e86d1",
   "metadata": {},
   "outputs": [],
   "source": [
    "print(\"Select a file that contains the incidence angle map in your OPERA RTC\")\n",
    "opera_fc = FileChooser(Path.cwd())\n",
    "display(opera_fc)"
   ]
  },
  {
   "cell_type": "markdown",
   "id": "af711577-1180-486c-8d97-3188b983f895",
   "metadata": {},
   "source": [
    "#### Set file path. Use `gamma` and `opera` variables from this point on"
   ]
  },
  {
   "cell_type": "code",
   "execution_count": null,
   "id": "866463bc-a30e-4e2c-82d4-7937fd39091a",
   "metadata": {},
   "outputs": [],
   "source": [
    "gamma = gamma_fc.selected\n",
    "opera = opera_fc.selected"
   ]
  },
  {
   "cell_type": "markdown",
   "id": "9f3a3338-bb07-40c7-877a-29c09e60f542",
   "metadata": {},
   "source": [
    "### **Generate Scatter Plot for $Gamma_0$ and $Local$ Incidence Angle**\n",
    "\n",
    "_Credit to following Medium article for generating scatter plot in Python: [Raster Data Scatter Plot Using Python](https://towardsdatascience.com/raster-data-scatter-plot-using-python-4bcdc8286769)_"
   ]
  },
  {
   "cell_type": "markdown",
   "id": "d7fb0628-acb6-43ed-93a7-2ed68c8ae2be",
   "metadata": {},
   "source": [
    "#### Define the Raveling Function"
   ]
  },
  {
   "cell_type": "code",
   "execution_count": null,
   "id": "702dafc6-8c33-40d2-a925-e9c9ab605498",
   "metadata": {},
   "outputs": [],
   "source": [
    "#fetch data cleans and ravels rasters. returns raveled raster\n",
    "def fetch_data(raster_file,title=\"\", null_value=-10):\n",
    "    fname = raster_file\n",
    "    print(fname,0)\n",
    "    \n",
    "    #Using PIL to import raster, and convert it to numpy array\n",
    "    im = Image.open(fname)\n",
    "    j = np.array(im)\n",
    "    \n",
    "    #Data cleansing, remove the null value, in this case it's -10\n",
    "    clean = lambda x: np.nan if x == null_value else x\n",
    "    cleann = np.vectorize(clean)\n",
    "    z = np.ravel(j) #ravelling to make a x or y axis\n",
    "    y = cleann(z)\n",
    "    retval = y[~np.isnan(y)]\n",
    "    \n",
    "    #some visualization to describe the data\n",
    "    plt.figure(figsize=(7,3))\n",
    "    plt.hist(retval, color='black', bins=32)\n",
    "    plt.title(title)\n",
    "    \n",
    "    #return raveled data\n",
    "    return retval"
   ]
  },
  {
   "cell_type": "markdown",
   "id": "487a7537-f009-4e34-b162-f29f38064b42",
   "metadata": {},
   "source": [
    "#### Ravel the Data"
   ]
  },
  {
   "cell_type": "code",
   "execution_count": null,
   "id": "54f5a6c1-7797-494d-88a9-102878d5f7cd",
   "metadata": {},
   "outputs": [],
   "source": [
    "# x = gamma\n",
    "# y = opera\n",
    "\n",
    "#path to each raster data\n",
    "gamma_data_path = gamma\n",
    "opera_data_path = opera\n",
    "#raveling the data\n",
    "gamma_data = fetch_data(gamma_data_path)\n",
    "opera_data = fetch_data(opera_data_path)"
   ]
  },
  {
   "cell_type": "markdown",
   "id": "6ed8a42f-3ee6-49a1-af97-f572d18f625b",
   "metadata": {},
   "source": [
    "#### Plotting the Data"
   ]
  },
  {
   "cell_type": "code",
   "execution_count": null,
   "id": "1e560339-5598-46ed-994b-b1528e0f9878",
   "metadata": {},
   "outputs": [],
   "source": [
    "# x = gamma\n",
    "# y = opera\n",
    "\n",
    "# plt.rcParams[\"font.family\"] = \"Times New Roman\"\n",
    "#Declaring the figure, and hiding the ticks' labels\n",
    "fig, ax = plt.subplots(figsize=(15,8))\n",
    "ax.set_yticklabels([])\n",
    "ax.set_xticklabels([])\n",
    "#Actually Plotting the data\n",
    "plt.scatter(gamma_data,opera_data, s=0.1, c='black')\n",
    "#Making the graph pretty and informative!\n",
    "plt.title(\"Raster Data Scatter Plot\", fontsize=28)\n",
    "plt.xlabel(\"X-Axis Raster (GAMMA)\", fontsize=22)\n",
    "plt.ylabel(\"Y-Axis Raster (OPERA)\", fontsize=22)\n",
    "plt.show()"
   ]
  },
  {
   "cell_type": "code",
   "execution_count": null,
   "id": "3b936583-092d-431b-8b8b-8ddc01fc3b8d",
   "metadata": {},
   "outputs": [],
   "source": []
  }
 ],
 "metadata": {
  "kernelspec": {
   "display_name": "rtc_analysis [conda env:.local-rtc_analysis]",
   "language": "python",
   "name": "conda-env-.local-rtc_analysis-py"
  },
  "language_info": {
   "codemirror_mode": {
    "name": "ipython",
    "version": 3
   },
   "file_extension": ".py",
   "mimetype": "text/x-python",
   "name": "python",
   "nbconvert_exporter": "python",
   "pygments_lexer": "ipython3",
   "version": "3.9.16"
  }
 },
 "nbformat": 4,
 "nbformat_minor": 5
}
