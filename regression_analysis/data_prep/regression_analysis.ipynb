{
 "cells": [
  {
   "cell_type": "markdown",
   "id": "af7940f6-5da7-4241-b4ae-fbc59654a5ed",
   "metadata": {},
   "source": [
    "# OPERA RTC Validation: Terrain Flattening Part 2: Regression Analysis\n",
    "\n",
    "**Rui Kawahara & Franz J Meyer; Alaska Satellite Facility, University of Alaska Fairbanks**\n",
    "\n",
    "This notebook analyzes the terrain flattening performance of OPERA RTC products by analyzing the regression between the terrain flattened radar brightness and the local incidence angle information. "
   ]
  },
  {
   "cell_type": "markdown",
   "id": "380aa5f4-a73b-4bd1-b1c3-3ed2df5c0dd9",
   "metadata": {},
   "source": [
    "#### _Objecive_: \n",
    "\n",
    "- Compare incidence angle maps for `GAMMA RTC` vs `OPERA RTC`.\n",
    "- Plot the scatter plot of $Gamma_0$ vs Local Incidence Angle for:\n",
    "    - `OPERA RTC`\n",
    "    - `GAMMA RTC`\n",
    "    \n",
    "#### _Prerequisite_:\n",
    "\n",
    "You will need the following:\n",
    "- Local Iincidence Angle (`.tif`) and\n",
    "- Backscatter (`.tif`) for:\n",
    "    - `GAMMA RTC`\n",
    "    - `OPERA RTC`\n",
    "    \n",
    "- For `OPERA RTC`, you will need to run following 2 notebooks:\n",
    "    - `Prep_OPERA_RTC_CalVal_data_stage1_part1.ipynb`\n",
    "    - `Prep_OPERA_RTC_CalVal_data_stage1_part2.ipynb`\n",
    "\n",
    "#### _Important Notes_:\n",
    "\n",
    "To avoid confusion, $Gamma_0$ will be referred to `backscatter` throughout this notebook.\n",
    "\n",
    "(e.g.) `OPERA_L2_RTC-S1_S..._v0.3_VH_clip_masked_backscatter.tif`"
   ]
  },
  {
   "cell_type": "markdown",
   "id": "6f845abd-e03c-4067-9522-d6908cc896ba",
   "metadata": {},
   "source": [
    "<hr>"
   ]
  },
  {
   "cell_type": "markdown",
   "id": "411eacef-8034-41ed-8d8f-ac62a2f2f189",
   "metadata": {},
   "source": [
    "# 0. OPERA RTC Terrain Flattening Requirement"
   ]
  },
  {
   "cell_type": "markdown",
   "id": "d25a4ae0-16fd-40c4-9745-59d8a57f75e0",
   "metadata": {},
   "source": [
    "<div class=\"alert alert-success\">\n",
    "<i>The median radar backscatter of the OPERA RTC-S1 product over an area of foreslope shall be within 1dB of the median radar backscatter over an area of backslope for forested land-types, for at least 80% of all validation products considered.</i>\n",
    "</div>"
   ]
  },
  {
   "cell_type": "markdown",
   "id": "049b717a-5b2e-4ff8-9744-9e807e148473",
   "metadata": {},
   "source": [
    "<hr>"
   ]
  },
  {
   "cell_type": "markdown",
   "id": "d95d8f4a-9ac1-41cc-94d9-143d20272eec",
   "metadata": {},
   "source": [
    "# 1. Load Necessary Libraries"
   ]
  },
  {
   "cell_type": "code",
   "execution_count": null,
   "id": "aba315bd-d004-447c-803c-1da8e98729aa",
   "metadata": {},
   "outputs": [],
   "source": [
    "from ipyfilechooser import FileChooser\n",
    "import numpy as np\n",
    "from pathlib import Path\n",
    "from glob import glob\n",
    "import shutil\n",
    "from tqdm.auto import tqdm\n",
    "\n",
    "import numpy.ma as ma\n",
    "from osgeo import gdal, osr\n",
    "\n",
    "import matplotlib.pyplot as plt\n",
    "from PIL import Image\n",
    "\n",
    "from scipy.stats import gaussian_kde\n",
    "\n",
    "from matplotlib.colors import LinearSegmentedColormap\n",
    "# \"Viridis-like\" colormap with white background\n",
    "white_viridis = LinearSegmentedColormap.from_list('white_viridis', [\n",
    "    (0, '#ffffff'),\n",
    "    (1e-20, '#440053'),\n",
    "    (0.2, '#404388'),\n",
    "    (0.4, '#2a788e'),\n",
    "    (0.6, '#21a784'),\n",
    "    (0.8, '#78d151'),\n",
    "    (1, '#fde624'),\n",
    "], N=256)"
   ]
  },
  {
   "cell_type": "markdown",
   "id": "695e2d4c-e532-454f-9468-126f2ce36dea",
   "metadata": {},
   "source": [
    "<hr>"
   ]
  },
  {
   "cell_type": "markdown",
   "id": "28945481-956a-4b5e-b637-bc7bcc7b1bf2",
   "metadata": {},
   "source": [
    "# 2. Get Path to `GAMMA RTC` and `OPERA RTC` Products\n",
    "\n",
    "_NB_: Once selected, your path output should be highlighted in **green**"
   ]
  },
  {
   "cell_type": "markdown",
   "id": "c6dc3a6b-183d-4460-a106-4105f06ea2a3",
   "metadata": {},
   "source": [
    "#### **GAMMA RTC**\n",
    "\n",
    "Select the *`Tree_Cover` directory within `GAMMA RTC` dataset. At minimum, it should contain the following items:\n",
    "\n",
    "- Local Incidence Angle (ends in following format: `*lc_inc_map_clip_deg.tif`)\n",
    "- Two backscatter files (vv/vh files)\n",
    "\n",
    "*_This name may differ depending on where you are getting the GAMMA RTC. It should contain the phrase `tree cover`._"
   ]
  },
  {
   "cell_type": "code",
   "execution_count": null,
   "id": "6e1a7f3d-4b89-49df-b6e1-3de08e9ee797",
   "metadata": {},
   "outputs": [],
   "source": [
    "print(\"Select a file that contains the incidence angle map in your GAMMA RTC\")\n",
    "gamma_fc = FileChooser(Path.cwd())\n",
    "display(gamma_fc)"
   ]
  },
  {
   "cell_type": "markdown",
   "id": "905e4127-391f-473f-9bbf-e3432bf89da8",
   "metadata": {},
   "source": [
    "#### **OPERA RTC**\n",
    "\n",
    "Select the `Tree_Cover` directory within `OPERA RTC` dataset. At minimum, it should contain the following items:\n",
    "\n",
    "- Local Incidence Angle (ends in following format: `*_local_incidence_angle_clip_deg.tif`)\n",
    "- Two backscatter files (vv/vh files)\n",
    "\n",
    "If you do not have this, generate the `OPERA RTC` using `Prep_OPERA_RTC_CalVal_data_stage1_part1&2`"
   ]
  },
  {
   "cell_type": "code",
   "execution_count": null,
   "id": "5d394512-c682-4b1c-8d69-628a711e86d1",
   "metadata": {},
   "outputs": [],
   "source": [
    "print(\"Select a file that contains the incidence angle map in your OPERA RTC\")\n",
    "opera_fc = FileChooser(Path.cwd())\n",
    "display(opera_fc)"
   ]
  },
  {
   "cell_type": "markdown",
   "id": "af711577-1180-486c-8d97-3188b983f895",
   "metadata": {},
   "source": [
    "#### Define filepaths for incidence angle and backscatter for both RTCs"
   ]
  },
  {
   "cell_type": "code",
   "execution_count": null,
   "id": "866463bc-a30e-4e2c-82d4-7937fd39091a",
   "metadata": {},
   "outputs": [],
   "source": [
    "gamma = Path(gamma_fc.selected_path)\n",
    "opera = Path(opera_fc.selected_path)\n",
    "\n",
    "# GAMMA RTC\n",
    "gamma_vv = list(gamma.rglob(\"*VV_clip_masked_backscatter.tif\"))[0]\n",
    "gamma_vh = list(gamma.rglob(\"*VH_clip_masked_backscatter.tif\"))[0]\n",
    "gamma_inc_angle = list(gamma.rglob(\"*_lc_inc_map_clip_deg.tif\"))[0]\n",
    "\n",
    "# OPERA RTC\n",
    "opera_vv = list(opera.rglob(\"*_VV_clip_masked_backscatter.tif\"))[0]\n",
    "opera_vh = list(opera.rglob(\"*_VH_clip_masked_backscatter.tif\"))[0]\n",
    "opera_inc_angle = list(opera.rglob(\"*_local_incidence_angle_clip_deg.tif\"))[0]"
   ]
  },
  {
   "cell_type": "markdown",
   "id": "759eb0bd-4d3b-439b-b75e-31d4dc23c284",
   "metadata": {},
   "source": [
    "<hr>"
   ]
  },
  {
   "cell_type": "markdown",
   "id": "9f3a3338-bb07-40c7-877a-29c09e60f542",
   "metadata": {},
   "source": [
    "# 3. Compare Incidence Angle Maps of `GAMMA RTC` vs `OPERA RTC` Products"
   ]
  },
  {
   "cell_type": "markdown",
   "id": "e605e7af-9150-48ba-8935-7b128fbeac59",
   "metadata": {},
   "source": [
    "## 3.1 Define the Raveling Function for Comparing Incidence Angle Map"
   ]
  },
  {
   "cell_type": "code",
   "execution_count": null,
   "id": "702dafc6-8c33-40d2-a925-e9c9ab605498",
   "metadata": {},
   "outputs": [],
   "source": [
    "\"\"\"\n",
    "Dev notes:\n",
    "\n",
    "No need to clean this.\n",
    "Refactor to use the ravel part only\n",
    "(We may not need this?)\n",
    "\"\"\"\n",
    "\n",
    "#fetch data cleans and ravels rasters. returns raveled raster\n",
    "def fetch_data(raster_file, title=\"\", null_value=-10):\n",
    "    fname = raster_file\n",
    "    # print(fname,0)\n",
    "    \n",
    "    #Using PIL to import raster, and convert it to numpy array\n",
    "    im = Image.open(fname)\n",
    "    j = np.array(im)\n",
    "    \n",
    "    #Data cleansing, remove the null value, in this case it's -10\n",
    "    clean = lambda x: np.nan if x == null_value else x\n",
    "    cleann = np.vectorize(clean)\n",
    "    z = np.ravel(j) #ravelling to make a x or y axis\n",
    "    y = cleann(z)\n",
    "    retval = y[~np.isnan(y)]\n",
    "    \n",
    "    #some visualization to describe the data\n",
    "    #plt.figure(figsize=(7,3))\n",
    "    #plt.hist(retval, color='black', bins=32)\n",
    "    #plt.title(title)\n",
    "    \n",
    "    #return raveled data\n",
    "    return retval"
   ]
  },
  {
   "cell_type": "markdown",
   "id": "a6858607-e217-4abe-a4cf-315a613703f6",
   "metadata": {},
   "source": [
    "## 3.2 Ravel the Data"
   ]
  },
  {
   "cell_type": "code",
   "execution_count": null,
   "id": "46a303a2-7592-4ea9-be02-2eb05c08b112",
   "metadata": {},
   "outputs": [],
   "source": [
    "#raveling the data\n",
    "\n",
    "print('This step may take a while...\\n')\n",
    "\n",
    "gamma_inc_angle_data = fetch_data(gamma_inc_angle, 'GAMMA RTC Local Incidence Angle Map')\n",
    "opera_inc_angle_data = fetch_data(opera_inc_angle, 'OPERA RTC Local Incidence Angle Map')\n",
    "opera_inc_angle_data = opera_inc_angle_data / (20.0 * np.pi)"
   ]
  },
  {
   "cell_type": "code",
   "execution_count": null,
   "id": "fcc2e927-f3d6-4fe7-bab6-e0d76a84a3f5",
   "metadata": {},
   "outputs": [],
   "source": [
    "fig, ax = plt.subplots(2, 1, figsize=(7,7))\n",
    "ax[0].hist(gamma_inc_angle_data, color='black', bins=32)\n",
    "ax[0].set_title('GAMMA RTC Local Incidence Angle Map')\n",
    "\n",
    "ax[1].hist(opera_inc_angle_data, color='black', bins=32)\n",
    "ax[1].set_title('OPERA RTC Local Incidence Angle Map')"
   ]
  },
  {
   "cell_type": "markdown",
   "id": "44edef4d-154e-4b2d-bed0-9f5a74f885d8",
   "metadata": {},
   "source": [
    "<hr>"
   ]
  },
  {
   "cell_type": "markdown",
   "id": "9d0857d1-9336-4f51-98ba-67801c9cb3c0",
   "metadata": {},
   "source": [
    "# 4. Generate Scatter Plot for `Backscatter` and `Local Incidence Angle` Maps"
   ]
  },
  {
   "cell_type": "markdown",
   "id": "2a2025c7-a6fd-4635-b830-828c34c68ff4",
   "metadata": {},
   "source": [
    "## 4.1 Helper Function for Plotting\n",
    "\n",
    "Some helpful functions: to generate scatter plots and fit regression lines\n",
    "- [`plt.scatter`](https://matplotlib.org/stable/api/_as_gen/matplotlib.pyplot.scatter.html#matplotlib-pyplot-scatter)"
   ]
  },
  {
   "cell_type": "code",
   "execution_count": null,
   "id": "8c0dfec2-b784-43b7-bb6d-58dc84c4b920",
   "metadata": {},
   "outputs": [],
   "source": [
    "polarity = ['vv', 'vh']\n",
    "\n",
    "def scatterplot(backscatter: float, inc_ang: float, title: str, x_axis_label: str, y_axis_label: str) -> None:\n",
    "    \"\"\"\n",
    "    Given backscatter, incidence angle, and title name, it plots the scatter plot of {backscatter vs inc_ang}\n",
    "    \"\"\"\n",
    "    \n",
    "    a, b = np.polyfit(inc_ang, backscatter, 1)\n",
    "\n",
    "    fig, ax = plt.subplots(figsize=(12,6))\n",
    "    plt.rcParams.update({'font.size': 14})\n",
    "    #ax.set_yticklabels([])\n",
    "    #ax.set_xticklabels([])\n",
    "    \n",
    "    #Actually Plotting the data\n",
    "    # x axis: backscatter\n",
    "    # y axis: inc_ang\n",
    "    #xy = np.vstack([inc_ang,backscatter])\n",
    "    #z = gaussian_kde(xy)(xy)\n",
    "    plt.hist2d(inc_ang,backscatter, bins=(300, 300), cmap=white_viridis)\n",
    "   # plt.scatter(inc_ang,backscatter, c=z, s=100)\n",
    "    \n",
    "    #Making the graph pretty and informative!\n",
    "    plt.title(f\"{title} Scatter Plot\", fontsize=28)\n",
    "    plt.xlabel(f\"{x_axis_label}\", fontsize=22)\n",
    "    plt.ylabel(f\"{y_axis_label}\", fontsize=22)\n",
    "    plt.grid()\n",
    "    plt.ylim([-25, 5])\n",
    "    plt.plot(inc_ang, a*inc_ang+b, color='black', linestyle='-', linewidth=5)\n",
    "    plt.text(5, 3, 'y = ' + '{:.4f}'.format(b) + ' + {:.4f}'.format(a) + 'x', size=18)\n",
    "    output = f\"{title}_regression.png\"\n",
    "    plt.savefig(output, dpi=300)\n",
    "    \n",
    "## Precondition Check - Confirm that the Backscatter and Incidence Angle are same size\n",
    "def get_bs_incValue(backscatter, inc_ang) -> tuple:\n",
    "    \"\"\"\n",
    "    Given path to backscatter and incidence angle (they must be in a PosixPath), \n",
    "    it will return a tuple containing a floating value of backscatter and incidence angle.\n",
    "    \n",
    "    It should return them in a following format:\n",
    "    \n",
    "    (value of backscatter, value of inc_ang)\n",
    "    \n",
    "    NB: Will throw an error if the shape/size of backscatter and inc_ang does not match\n",
    "    \"\"\"\n",
    "    \n",
    "    bs_open, inc_ang_open = gdal.Open(str(backscatter)), gdal.Open(str(inc_ang))\n",
    "    bs_val, inc_ang_val = bs_open.ReadAsArray(), inc_ang_open.ReadAsArray()\n",
    "    bs_val = 10.0 * np.log10(bs_val)\n",
    "    mask = ~np.isnan(bs_val)\n",
    "    bs_val = bs_val[mask]\n",
    "    inc_ang_val = inc_ang_val[mask]\n",
    "    bs_val = bs_val[::5]\n",
    "    inc_ang_val = inc_ang_val[::5]\n",
    "    if np.mean(inc_ang_val) > 1000.0:\n",
    "        inc_ang_val = inc_ang_val / (20.0 * np.pi)\n",
    "    \n",
    "    # NOTE (May 3rd, 2023): != syntax will be deprecated in a future\n",
    "    if bs_val.shape != inc_ang_val.shape:\n",
    "        raise ValueError(\"Size of backscatter and incidence angle are different.\")\n",
    "    \n",
    "    return (bs_val, inc_ang_val)"
   ]
  },
  {
   "cell_type": "markdown",
   "id": "6ed8a42f-3ee6-49a1-af97-f572d18f625b",
   "metadata": {},
   "source": [
    "## 4.2 Plotting the Data (**GAMMA RTC**)"
   ]
  },
  {
   "cell_type": "code",
   "execution_count": null,
   "id": "aeff4d01-7c73-40d2-9ff8-e6f1772d88be",
   "metadata": {},
   "outputs": [],
   "source": [
    "for p in polarity:\n",
    "    backscatter = gamma_vv if p == 'vv' else gamma_vh\n",
    "    bs_inc_val = get_bs_incValue(backscatter, gamma_inc_angle)\n",
    "    \n",
    "    scatterplot(\n",
    "            bs_inc_val[0], \n",
    "            bs_inc_val[1], \n",
    "            f'GAMMA RTC: {p} backscatter vs incident angle', \n",
    "            'x: Local Incidence Angle (Degrees)',\n",
    "            f'y: Radar Brightness ({p})'\n",
    "    )"
   ]
  },
  {
   "cell_type": "markdown",
   "id": "718e1e48-b608-4b22-90af-f206033e7b96",
   "metadata": {},
   "source": [
    "## 4.3 Plotting the Data (**OPERA RTC**)"
   ]
  },
  {
   "cell_type": "code",
   "execution_count": null,
   "id": "0c0f290c-74fb-4d83-89d6-ee4a270a17ad",
   "metadata": {},
   "outputs": [],
   "source": [
    "for p in polarity:\n",
    "    backscatter = opera_vv if p == 'vv' else opera_vh\n",
    "    bs_inc_val = get_bs_incValue(backscatter, opera_inc_angle)\n",
    "    \n",
    "    scatterplot(\n",
    "            bs_inc_val[0], \n",
    "            bs_inc_val[1], \n",
    "            f'OPERA RTC: {p} backscatter vs incident angle', \n",
    "            f'x: polarity ({p})',\n",
    "            'y: incident angle'\n",
    "    )"
   ]
  },
  {
   "cell_type": "markdown",
   "id": "f0b4b8bd-a984-45b3-a275-ce6c97873cd4",
   "metadata": {},
   "source": [
    "<hr>"
   ]
  },
  {
   "cell_type": "code",
   "execution_count": null,
   "id": "92862e0f-a5c9-4835-b713-42dc4c1cb426",
   "metadata": {},
   "outputs": [],
   "source": [
    "\n",
    "\"\"\"\n",
    "Dev notes:\n",
    "\n",
    "We need...\n",
    "\n",
    "Two histograms (inc angles) (done)\n",
    "\n",
    "Four scatterplot (vv/vh for GAMMA RTC inc angle and OPERA RTC's inc angle) (done)\n",
    "\n",
    "Title the x-axis and y-axis appropriately (done)\n",
    "\n",
    "\n",
    "\n",
    "Line fit (scatterplot -> poly fit) (not started)\n",
    "https://www.python-graph-gallery.com/scatterplot-with-regression-fit-in-matplotlib\n",
    "\n",
    "\"\"\""
   ]
  }
 ],
 "metadata": {
  "kernelspec": {
   "display_name": "rtc_analysis [conda env:.local-rtc_analysis]",
   "language": "python",
   "name": "conda-env-.local-rtc_analysis-py"
  },
  "language_info": {
   "codemirror_mode": {
    "name": "ipython",
    "version": 3
   },
   "file_extension": ".py",
   "mimetype": "text/x-python",
   "name": "python",
   "nbconvert_exporter": "python",
   "pygments_lexer": "ipython3",
   "version": "3.9.15"
  }
 },
 "nbformat": 4,
 "nbformat_minor": 5
}
