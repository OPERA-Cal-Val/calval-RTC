{
 "cells": [
  {
   "cell_type": "markdown",
   "id": "e520f2a2-64fa-4f48-9a57-f8f74c27a7ea",
   "metadata": {},
   "source": [
    "# Prep OPERA RTC CalVal data: stage 1, part 2\n",
    "\n",
    "**Alex Lewandowski; Alaska Satellite Facility, University of Alaska Fairbanks**\n",
    "\n",
    "## Performs additional data preparation for OPERA RTC calibration and validation\n",
    "\n",
    "**Notebook Requires**\n",
    "- directory of geotiffs processed with Prep_OPERA_RTC_CalVal_data_stage1_part1.ipynb\n",
    "\n",
    "**Actions**\n",
    "- convert incidence angle maps from radians to degrees\n",
    "- Use the Copernicus global land cover data and HyP3 layover-shadow mask to create a mask of valid land cover pixels unaffected by layover or shadow\n",
    "- Determine _foreslope_, _backslope_, and _flat_ areas by subtracting the ellipsoidal incidence angles from local incidence angles\n",
    "- **(GAMMA RTC)** create 3 backscatter geotiffs for each polarity containing valid pixels of the selected ground cover classification in:\n",
    "    - foreslope regions\n",
    "    - backslope regions\n",
    "    - flat regions\n",
    "- **(OPERA RTC)** create 1 backscatter geotiffs for each polarity"
   ]
  },
  {
   "cell_type": "code",
   "execution_count": null,
   "id": "ef493fa8-f2e4-4d3c-8ead-d6191236559e",
   "metadata": {},
   "outputs": [],
   "source": [
    "from ipyfilechooser import FileChooser\n",
    "import math\n",
    "import numpy as np\n",
    "from pathlib import Path\n",
    "import shutil\n",
    "\n",
    "import numpy.ma as ma\n",
    "from osgeo import gdal\n",
    "\n",
    "import opensarlab_lib as osl"
   ]
  },
  {
   "cell_type": "code",
   "execution_count": null,
   "id": "66bd8411-e3b4-4331-aa95-fd5617be961d",
   "metadata": {},
   "outputs": [],
   "source": [
    "print(\"Select the *_prepped directory output by Prep_OPERA_RTC_CalVal_data_stage1_part1.ipynb\")\n",
    "fc = FileChooser(Path.cwd())\n",
    "display(fc)"
   ]
  },
  {
   "cell_type": "markdown",
   "id": "d014da36-eecb-43fe-a7ef-ce0596cfe023",
   "metadata": {},
   "source": [
    "## Warp all products to pixel size of 30"
   ]
  },
  {
   "cell_type": "code",
   "execution_count": null,
   "id": "d5ad6d3d-f582-4651-84d5-7eade4c85feb",
   "metadata": {},
   "outputs": [],
   "source": [
    "data_dir = Path(fc.selected_path)\n",
    "tiffs = list(data_dir.glob('*.tif'))\n",
    "resolution = 30\n",
    "for t in tiffs:\n",
    "    gdal.Warp(str(t), str(t), xRes=resolution, yRes=resolution, \n",
    "              targetAlignedPixels=True, dstNodata=None, copyMetadata=True)   "
   ]
  },
  {
   "cell_type": "markdown",
   "id": "3ed31c15-0f3a-484b-921b-d1a18f238d96",
   "metadata": {},
   "source": [
    "## Define GAMMA vs OPERA RTC"
   ]
  },
  {
   "cell_type": "code",
   "execution_count": null,
   "id": "527cdae3-f354-4be1-a90c-1a04281dd435",
   "metadata": {},
   "outputs": [],
   "source": [
    "import ipywidgets as widgets\n",
    "from ipywidgets import Layout\n",
    "\n",
    "processor =  widgets.RadioButtons(\n",
    "        options=['OPERA', 'HyP3 GAMMA'],\n",
    "        description='',\n",
    "        disabled=False,\n",
    "        layout=Layout(min_width=\"800px\")\n",
    "    )\n",
    "display(processor)"
   ]
  },
  {
   "cell_type": "code",
   "execution_count": null,
   "id": "7cd9c0e2-a646-4854-a0b0-bb6aa6eb8c93",
   "metadata": {
    "tags": []
   },
   "outputs": [],
   "source": [
    "opera = processor.value == 'OPERA'"
   ]
  },
  {
   "cell_type": "markdown",
   "id": "cc4802fc-3eef-4a20-ac67-12f94d7a26de",
   "metadata": {},
   "source": [
    "## Glob product paths"
   ]
  },
  {
   "cell_type": "code",
   "execution_count": null,
   "id": "2afbbbec-06b0-448a-add5-7126fa18471e",
   "metadata": {},
   "outputs": [],
   "source": [
    "if opera:\n",
    "    lc = '*_local_incidence_angle_*.tif'\n",
    "    ls = '*_layover_shadow_mask_*.tif'\n",
    "else:\n",
    "    # local_inc = list(data_dir.glob('*_lc_inc_map_*.tif'))[0]\n",
    "    # ls_map = list(data_dir.glob('*_ls_map_*.tif'))[0]\n",
    "    lc = '*_lc_inc_map_*.tif'\n",
    "    ls = '*_ls_map_*.tif'\n",
    "    ellipse_inc = list(data_dir.glob('*_ell_inc_map_*.tif'))[0]\n",
    "\n",
    "local_inc = list(data_dir.glob(f'{lc}'))[0]\n",
    "ls_map = list(data_dir.glob(f'{ls}'))[0]\n",
    "vh = list(data_dir.glob(\"*_VH_*.tif\"))[0]\n",
    "vv = list(data_dir.glob(\"*_VV_*.tif\"))[0]\n",
    "dem = list(data_dir.glob(\"*_dem_*.tif\"))[0]\n",
    "landcover = list(data_dir.glob(\"*LC100_global*.tif\"))[0]"
   ]
  },
  {
   "cell_type": "markdown",
   "id": "5e1cee06-c6cc-4166-985f-af2498987fe4",
   "metadata": {},
   "source": [
    "---\n",
    "## Mask unwanted land cover types\n",
    "\n",
    "### Landcover Classifications\n",
    "https://lcviewer.vito.be/download\n",
    "\n",
    "- Tree cover\n",
    "    - 111\n",
    "    - 112\n",
    "    - 114\n",
    "    - 115\n",
    "    - 116"
   ]
  },
  {
   "cell_type": "markdown",
   "id": "17c4f112-70a1-4436-a932-c5104538846e",
   "metadata": {},
   "source": [
    "## Select a ground cover type of interest"
   ]
  },
  {
   "cell_type": "code",
   "execution_count": null,
   "id": "8f374dbc-8c61-49e0-9a85-5c10b53e7ed2",
   "metadata": {},
   "outputs": [],
   "source": [
    "print(\"Select a ground cover type\")\n",
    "ground_cover_choice = osl.select_parameter([\"Tree_Cover\"])\n",
    "display(ground_cover_choice)"
   ]
  },
  {
   "cell_type": "code",
   "execution_count": null,
   "id": "a14d8825-a5e9-46fc-9e41-ecc763b69d32",
   "metadata": {},
   "outputs": [],
   "source": [
    "ground_cover = ground_cover_choice.value\n",
    "ground_covers = [0, 111, 112, 113, 114, 115, 116, 121, 122, 123, 124, 125, 126, 20, 30, 40, 50, 60, 70, 80, 90, 100, 200]\n",
    "\n",
    "if ground_cover == 'Tree_Cover':\n",
    "    valid_covers = [111 , 112, 114, 115, 116]\n",
    "\n",
    "invalid_covers = [c for c in ground_covers if c not in valid_covers]\n",
    "\n",
    "ground_cover_dir = data_dir.parent/ground_cover\n",
    "if not ground_cover_dir.is_dir():\n",
    "    ground_cover_dir.mkdir()"
   ]
  },
  {
   "cell_type": "markdown",
   "id": "f7683d24-f07c-4fe7-8704-cad419188cfe",
   "metadata": {},
   "source": [
    "## Convert incidence angle maps to degrees"
   ]
  },
  {
   "cell_type": "code",
   "execution_count": null,
   "id": "25876e26-9a9e-4a7b-b611-1374f416d56b",
   "metadata": {},
   "outputs": [],
   "source": [
    "to_deg = [local_inc] if opera else [local_inc, ellipse_inc]\n",
    "\n",
    "# to_deg = [local_inc, ellipse_inc]\n",
    "\n",
    "for i, ds in enumerate(to_deg):\n",
    "    out = ground_cover_dir/f\"{ds.stem}_deg.tif\"    \n",
    "    shutil.copy(ds, out)\n",
    "    f = gdal.Open(str(out), gdal.GA_Update)\n",
    "    array = f.ReadAsArray()\n",
    "\n",
    "    array = array / math.pi * 180\n",
    "\n",
    "    f.GetRasterBand(1).WriteArray(array)\n",
    "    f.FlushCache()\n",
    "    if i == 0:\n",
    "        local_inc = out\n",
    "    elif not opera:\n",
    "        elipse_inc = out"
   ]
  },
  {
   "cell_type": "markdown",
   "id": "78d36fa5-1377-46bc-b83b-10b406a7595f",
   "metadata": {},
   "source": [
    "## mask invalid pixels (as determined from layover-shadow mask)\n",
    "\n",
    "## **(GAMMA RTC)** Create 3 backscatter tiffs for each polarization:\n",
    "\n",
    "- foreslope backscatter\n",
    "- backslope backscatter\n",
    "- flat backscatter \n",
    "\n",
    "## **(OPERA RTC)** Create a single backscatter tiffs for each polarization:\n",
    "\n",
    "Remove invalid ground cover and layover/shadow pixels from all output backscatter tiffs "
   ]
  },
  {
   "cell_type": "markdown",
   "id": "f7735e19-b62c-424b-9a42-1cfb051bceff",
   "metadata": {},
   "source": [
    "## Define Land Cover"
   ]
  },
  {
   "cell_type": "code",
   "execution_count": null,
   "id": "a3d72b07-9d82-44ea-a499-751bb20118df",
   "metadata": {},
   "outputs": [],
   "source": [
    "valid_landcover = ground_cover_dir/f\"{landcover.stem}_valid_{ground_cover}.tif\"\n",
    "shutil.copy(landcover, valid_landcover)\n",
    "\n",
    "f_landcover = gdal.Open(str(valid_landcover), gdal.GA_Update)\n",
    "landcover_ar = f_landcover.ReadAsArray()"
   ]
  },
  {
   "cell_type": "markdown",
   "id": "c5306f8b-f1d3-49d0-910d-361f3ca7ad6e",
   "metadata": {},
   "source": [
    "## Set (In)Valid Ground Cover Pixels"
   ]
  },
  {
   "cell_type": "code",
   "execution_count": null,
   "id": "32470fb3-7898-46c8-a794-b2f45aeceaa7",
   "metadata": {},
   "outputs": [],
   "source": [
    "# Set all invalid ground cover pixels to 0\n",
    "for val in invalid_covers:\n",
    "    land_cover_masked = ma.masked_values(landcover_ar, val)\n",
    "    landcover_ar = land_cover_masked.filled(fill_value=0)\n",
    "    # mask = ma.masked_where(landcover_ar==val, landcover_ar)\n",
    "    # landcover_ar = mask.filled(fill_value=0)\n",
    "\n",
    "# set all valid ground cover pixels to 1\n",
    "for val in valid_covers:\n",
    "    land_cover_masked = ma.masked_values(landcover_ar, val)\n",
    "    landcover_ar = land_cover_masked.filled(fill_value=1)\n",
    "    # mask = ma.masked_where(landcover_ar==val, landcover_ar)\n",
    "    # landcover_ar = mask.filled(fill_value=1)"
   ]
  },
  {
   "cell_type": "markdown",
   "id": "0279c59d-74fc-4aee-87dc-4a2979ec8e71",
   "metadata": {},
   "source": [
    "## Set/Update All Pixels Affected"
   ]
  },
  {
   "cell_type": "code",
   "execution_count": null,
   "id": "18752b4d-fff2-4831-8b58-e071d5f88e32",
   "metadata": {},
   "outputs": [],
   "source": [
    "# set all pixels affected by layover or shadow to 0\n",
    "f_ls_mask = gdal.Open(str(ls_map))\n",
    "ls_array = f_ls_mask.ReadAsArray()\n",
    "ls_mask = ma.masked_where(ls_array!=1, ls_array)\n",
    "ls_array = ls_mask.filled(fill_value=0)\n",
    "\n",
    "# Update valid land cover mask with invalid pixels from layover shadow mask\n",
    "ls_mask = ma.masked_where(ls_array==0, landcover_ar)\n",
    "landcover_ar = ls_mask.filled(fill_value=0)\n",
    "\n",
    "# # Save valid land cover mask, containing values=1 for valid land cover pixels unaffected by layover and shadow\n",
    "f_landcover.GetRasterBand(1).WriteArray(landcover_ar)\n",
    "f_landcover.FlushCache()"
   ]
  },
  {
   "cell_type": "markdown",
   "id": "4fab1f58-1ad4-4f14-bfb8-484114e3af1d",
   "metadata": {},
   "source": [
    "## **(GAMMA)** Subtract elliposidal incidence angles from local incidence angles"
   ]
  },
  {
   "cell_type": "code",
   "execution_count": null,
   "id": "2b090768-9ada-4f15-a619-7d4efa43d846",
   "metadata": {},
   "outputs": [],
   "source": [
    "# local incidence angle - elliposidal incidence angle\n",
    "if not opera:\n",
    "    local = gdal.Open(str(local_inc))\n",
    "    local_ar = local.ReadAsArray()\n",
    "    ellipse = gdal.Open(str(elipse_inc))\n",
    "    ellipse_ar = ellipse.ReadAsArray()\n",
    "    ell_minus_local_inc_arr = local_ar - ellipse_ar"
   ]
  },
  {
   "cell_type": "markdown",
   "id": "761dd6ab-d546-445d-a04d-3cc61548e4c2",
   "metadata": {},
   "source": [
    "## Generate Backscatter Tiffs"
   ]
  },
  {
   "cell_type": "code",
   "execution_count": null,
   "id": "07abeeb7-8fdc-42d6-890f-c14bd0138c77",
   "metadata": {},
   "outputs": [],
   "source": [
    "# print(vh.stem)\n",
    "print(ground_cover_dir)"
   ]
  },
  {
   "cell_type": "code",
   "execution_count": null,
   "id": "1722930f-989b-4974-801d-1cd0127210af",
   "metadata": {},
   "outputs": [],
   "source": [
    "for pol in [vh, vv]:\n",
    "    \n",
    "    # (GAMMA) Create foreslope, backslope, and flat backscatter geotiffs for each polarization\n",
    "    if not opera:\n",
    "        foreslope = ground_cover_dir/f\"{pol.stem}_foreslope.tif\"\n",
    "        backslope = ground_cover_dir/f\"{pol.stem}_backslope.tif\"\n",
    "        flat = ground_cover_dir/f\"{pol.stem}_flat.tif\"\n",
    "\n",
    "        slopes = [foreslope, backslope, flat]\n",
    "        for s in slopes:    \n",
    "            shutil.copy(pol, s)\n",
    "            f = gdal.Open(str(s), gdal.GA_Update)\n",
    "            pol_array = f.ReadAsArray()\n",
    "\n",
    "            flat_threshold = [-2, 2]\n",
    "\n",
    "            if \"backslope\" in str(s):\n",
    "                mask = ma.masked_where(ell_minus_local_inc_arr<=2, pol_array)\n",
    "                # Replace values <= upper flat_threshold with 0\n",
    "                masked_array = mask.filled(fill_value=np.nan)\n",
    "            elif \"foreslope\" in str(s):\n",
    "                # Replace values >= lower flat_threshold with 0\n",
    "                mask = ma.masked_where(ell_minus_local_inc_arr>=-2, pol_array)\n",
    "                masked_array = mask.filled(fill_value=np.nan)\n",
    "            else:\n",
    "                # Replace values outside of flat_threshold with 0\n",
    "                mask = ma.masked_where(ell_minus_local_inc_arr>2, pol_array)\n",
    "                masked_array = mask.filled(fill_value=np.nan)\n",
    "                mask = ma.masked_where(ell_minus_local_inc_arr<-2, masked_array)\n",
    "                masked_array = mask.filled(fill_value=np.nan)\n",
    "                \n",
    "        # invalid_mask = ma.masked_where(landcover_ar==0, masked_array)\n",
    "\n",
    "    else:\n",
    "        backscatter = ground_cover_dir/f\"{pol.stem}_backscatter.tif\"\n",
    "        shutil.copy(pol, backscatter)\n",
    "        f = gdal.Open(str(backscatter), gdal.GA_Update)\n",
    "        pol_array = f.ReadAsArray()\n",
    "        \n",
    "        mask = ma.masked_where(landcover_ar==0, pol_array)\n",
    "        masked_array = mask.filled(fill_value=np.nan)\n",
    "        \n",
    "        # invalid_mask = ma.masked_where(landcover_ar==0, pol_array)\n",
    "        \n",
    "    # Remove invalid ground cover and layover/shadow pixels\n",
    "    invalid_mask = ma.masked_where(landcover_ar==0, masked_array)\n",
    "    masked_array = invalid_mask.filled(fill_value=np.nan)\n",
    "\n",
    "    f.GetRasterBand(1).WriteArray(masked_array)\n",
    "    f.FlushCache()"
   ]
  },
  {
   "cell_type": "markdown",
   "id": "4c7ba71b-44e8-405e-b769-16ed4b925266",
   "metadata": {},
   "source": [
    "*Prep_OPERA_RTC_CalVal_data_stage1_part2 - Version 2.0.1 - April 2023*\n",
    "\n",
    "*Changes:*\n",
    "\n",
    "- *swap stage1_part2 and stage1_part3 to finish preprocessing before MGRS tiling*"
   ]
  }
 ],
 "metadata": {
  "kernelspec": {
   "display_name": "rtc_analysis [conda env:.local-rtc_analysis]",
   "language": "python",
   "name": "conda-env-.local-rtc_analysis-py"
  },
  "language_info": {
   "codemirror_mode": {
    "name": "ipython",
    "version": 3
   },
   "file_extension": ".py",
   "mimetype": "text/x-python",
   "name": "python",
   "nbconvert_exporter": "python",
   "pygments_lexer": "ipython3",
   "version": "3.9.16"
  }
 },
 "nbformat": 4,
 "nbformat_minor": 5
}
