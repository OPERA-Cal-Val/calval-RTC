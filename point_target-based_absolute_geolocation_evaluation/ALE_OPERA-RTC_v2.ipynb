{
 "cells": [
  {
   "cell_type": "markdown",
   "metadata": {},
   "source": [
    "# OPERA RTC Validation: Point Target Absolute Geolocation Evaluation\n",
    "\n",
    "**Alex Lewandowski & Franz J Meyer; Alaska Satellite Facility, University of Alaska Fairbanks**\n",
    "\n",
    "This notebook analyzes the absolute geolocation quality of OPERA RTC products using corner reflectors as reference. The notebook allows for analyzing corner reflector sites in California, Oklahoma, and Alaska. \n",
    "\n",
    "**Notebook Notes**\n",
    "- Adapted for OPERA RTCs from https://github.com/OPERA-Cal-Val/calval-CSLC/blob/dev/_ALE_.ipynb"
   ]
  },
  {
   "cell_type": "markdown",
   "metadata": {},
   "source": [
    "<hr>"
   ]
  },
  {
   "cell_type": "markdown",
   "metadata": {},
   "source": [
    "# 0. OPERA RTC Absolute Geolocation Requirement"
   ]
  },
  {
   "cell_type": "markdown",
   "metadata": {},
   "source": [
    "<div class=\"alert alert-success\">\n",
    "<i>The Sentinel-1-based RTC product (RTC-S1) shall meet an absolute geolocation accuracy better than or equal to 6 meters given the 30 meter RTC-S1 product resolution (i.e. 20% of the product resolution), excluding the effects of DEM errors, for at least 80% of all validation products considered.</i>\n",
    "</div>"
   ]
  },
  {
   "cell_type": "markdown",
   "metadata": {},
   "source": [
    "<hr>"
   ]
  },
  {
   "cell_type": "markdown",
   "metadata": {},
   "source": [
    "# 1. Load Necessary Libraries"
   ]
  },
  {
   "cell_type": "code",
   "execution_count": null,
   "metadata": {},
   "outputs": [],
   "source": [
    "import asf_search\n",
    "from pathlib import Path\n",
    "import numpy as np\n",
    "import datetime as dt\n",
    "import ipywidgets as widgets\n",
    "from ipywidgets import Layout\n",
    "import os\n",
    "import pandas as pd\n",
    "import math\n",
    "import scipy\n",
    "import re\n",
    "import requests\n",
    "import warnings\n",
    "import json\n",
    "from pyproj import Proj, CRS\n",
    "import pysolid\n",
    "import matplotlib.pyplot as plt\n",
    "import rasterio as rio\n",
    "from ipyfilechooser import FileChooser\n",
    "from src.ALE_utils import oversample_slc, findCR\n",
    "warnings.filterwarnings('ignore')"
   ]
  },
  {
   "cell_type": "markdown",
   "metadata": {},
   "source": [
    "<hr>"
   ]
  },
  {
   "cell_type": "markdown",
   "metadata": {},
   "source": [
    "# 2. Select OPERA RTC Products over Validation Sites"
   ]
  },
  {
   "cell_type": "code",
   "execution_count": null,
   "metadata": {},
   "outputs": [],
   "source": [
    "print(\"Select the directory holding your OPERA RTCs\")\n",
    "fc = FileChooser(Path.cwd())\n",
    "display(fc)"
   ]
  },
  {
   "cell_type": "code",
   "execution_count": null,
   "metadata": {},
   "outputs": [],
   "source": [
    "data_dir = Path(fc.selected_path)"
   ]
  },
  {
   "cell_type": "code",
   "execution_count": null,
   "metadata": {},
   "outputs": [],
   "source": [
    "rtc_geotiff_paths = list(data_dir.rglob(f\"*_v0.4_v*.tif\"))\n",
    "rtc_geotiff_paths.sort()"
   ]
  },
  {
   "cell_type": "code",
   "execution_count": null,
   "metadata": {},
   "outputs": [],
   "source": [
    "with rio.open(rtc_geotiff_paths[1]) as ds:\n",
    "    rtc = ds.read(1)"
   ]
  },
  {
   "cell_type": "code",
   "execution_count": null,
   "metadata": {},
   "outputs": [],
   "source": [
    "s1_name=rtc_geotiff_paths[1].stem.split('OPERA_RTC_v0.4_vv_')[1].split('_mosaic')[0]"
   ]
  },
  {
   "cell_type": "markdown",
   "metadata": {},
   "source": [
    "Reading required file parameters"
   ]
  },
  {
   "cell_type": "code",
   "execution_count": null,
   "metadata": {},
   "outputs": [],
   "source": [
    "with rio.open(rtc_geotiff_paths[1]) as ds:   \n",
    "    start_x = ds.transform[2]+0.5*ds.transform[0]\n",
    "    start_y = ds.transform[5]+0.5*ds.transform[4]\n",
    "    spacing_x = ds.transform[0]\n",
    "    spacing_y = ds.transform[4]\n",
    "    width = ds.profile['width']\n",
    "    height = ds.profile['height']\n",
    "    epsg_no = ds.crs.to_epsg()\n",
    "    b = ds.bounds"
   ]
  },
  {
   "cell_type": "markdown",
   "metadata": {},
   "source": [
    "**Visualizing RTC Image**"
   ]
  },
  {
   "cell_type": "code",
   "execution_count": null,
   "metadata": {},
   "outputs": [],
   "source": [
    "# Visualize Opera Data\n",
    "%matplotlib widget\n",
    "\n",
    "fig, ax = plt.subplots(1, 1, figsize=(15, 16))\n",
    "\n",
    "ax.set_title(rtc_geotiff_paths[1].stem)\n",
    "ax.imshow(20*np.log10(np.abs(rtc)), cmap='gray',interpolation=None, origin='upper')"
   ]
  },
  {
   "cell_type": "markdown",
   "metadata": {},
   "source": [
    "<hr>"
   ]
  },
  {
   "cell_type": "markdown",
   "metadata": {},
   "source": [
    "# 3. Get Corner Reflector Data and Confirm RTC Coverage"
   ]
  },
  {
   "cell_type": "markdown",
   "metadata": {},
   "source": [
    "Downloading Corner Reflector information from UAVSAR server"
   ]
  },
  {
   "cell_type": "code",
   "execution_count": null,
   "metadata": {},
   "outputs": [],
   "source": [
    "date_ = re.search(\"\\d{8}T\\d{6}\", rtc_geotiff_paths[0].stem).group(0)\n",
    "date_ = dt.datetime.strptime(date_, '%Y%m%dT%H%M%S').strftime('%Y-%m-%d+%H\\u0021%M')\n",
    "\n",
    "\n",
    "# Download corner reflector data from NISAR\n",
    "res = requests.get(f'https://uavsar.jpl.nasa.gov/cgi-bin/corner-reflectors.pl?date={str(date_)}&project=uavsar')\n",
    "open('crdata.csv', 'wb').write(res.content)\n",
    "\n",
    "# Read to pandas dataframe and rename columns\n",
    "df = pd.read_csv('crdata.csv')\n",
    "df.rename(columns={'Corner reflector ID':'ID'}, inplace=True)\n",
    "df.rename(columns={'Latitude (deg)':'lat'}, inplace=True) \n",
    "df.rename(columns={'Longitude (deg)':'lon'}, inplace=True) \n",
    "df.rename(columns={'Azimuth (deg)':'azm'}, inplace=True)\n",
    "df.rename(columns={'Height above ellipsoid (m)':'hgt'}, inplace=True) \n",
    "df.rename(columns={'Side length (m)':'slen'}, inplace=True)\n",
    "\n",
    "df.head()"
   ]
  },
  {
   "cell_type": "markdown",
   "metadata": {},
   "source": [
    "Discovering which Corner Reflectors are within RTC coverage:"
   ]
  },
  {
   "cell_type": "code",
   "execution_count": null,
   "metadata": {},
   "outputs": [],
   "source": [
    "import shapely.wkt\n",
    "from shapely import geometry\n",
    "\n",
    "wkt_border = f'POLYGON(({b.left} {b.top},{b.right} {b.top},{b.right} {b.bottom},{b.left} {b.bottom},{b.left} {b.top}))'\n",
    "poly = shapely.wkt.loads(wkt_border)\n",
    "\n",
    "#calculating the locations of CRs in SAR image\n",
    "UTMx = []\n",
    "UTMy = []\n",
    "xloc = []\n",
    "yloc = []\n",
    "xloc_float = []\n",
    "yloc_float = []\n",
    "_in = []\n",
    "\n",
    "for idx, row in df.iterrows():\n",
    "    \n",
    "    _Proj = Proj(CRS.from_epsg(epsg_no))\n",
    "    _x, _y = _Proj(row['lon'], row['lat'],inverse=False)     #conversion of lat/lon of CRs to UTM coordinates\n",
    "\n",
    "    \n",
    "    #location of CRs in SLC image\n",
    "    _xloc = int((_x-start_x)/spacing_x)    \n",
    "    _yloc = int((_y-start_y)/spacing_y)\n",
    "    \n",
    "    UTMx.append(_x) \n",
    "    UTMy.append(_y)\n",
    "    xloc.append(_xloc)\n",
    "    yloc.append(_yloc)\n",
    "    xloc_float.append((_x-start_x)/spacing_x)\n",
    "    yloc_float.append((_y-start_y)/spacing_y)\n",
    "    _in.append(poly.contains(geometry.Point(_x, _y)))\n",
    "    \n",
    "df['UTMx'] = UTMx\n",
    "df['UTMy'] = UTMy\n",
    "df['xloc'] = xloc\n",
    "df['yloc'] = yloc\n",
    "df['xloc_float'] = xloc_float\n",
    "df['yloc_float'] = yloc_float\n",
    "df['inPoly'] = _in\n",
    "\n",
    "#checking whether CRs are in RTC coverage. Including only CRs within RTC image\n",
    "df = df[df['inPoly']==True]\n",
    "df.drop('inPoly', axis=1, inplace=True)\n",
    "df = df.reset_index(drop=True)"
   ]
  },
  {
   "cell_type": "code",
   "execution_count": null,
   "metadata": {},
   "outputs": [],
   "source": [
    "df"
   ]
  },
  {
   "cell_type": "markdown",
   "metadata": {},
   "source": [
    "**Visualizing** CRs on RTC Image. We color code by reflector size."
   ]
  },
  {
   "cell_type": "code",
   "execution_count": null,
   "metadata": {
    "tags": []
   },
   "outputs": [],
   "source": [
    "%matplotlib widget\n",
    "#Displaying RTC image\n",
    "buffer = 50\n",
    "minX = df['xloc'].min() - buffer\n",
    "maxX = df['xloc'].max() + buffer\n",
    "minY = df['yloc'].min() - buffer\n",
    "maxY = df['yloc'].max() + buffer\n",
    "\n",
    "scale_ = 1.0\n",
    "exp_ = 0.15\n",
    "\n",
    "fig, ax = plt.subplots(figsize=(15, 7))\n",
    "cax = ax.imshow(scale_*(np.abs(rtc))**exp_, cmap='gray',interpolation='bilinear', vmin=0.3, vmax=1.7, origin='upper')\n",
    "ax.set_xlim(minX,maxX)\n",
    "ax.set_ylim(minY,maxY)\n",
    "ax.axis('off')\n",
    "\n",
    "for sl in pd.unique(df.slen):\n",
    "    xx = df.loc[df['slen']==sl]['xloc']\n",
    "    yy = df.loc[df['slen']==sl]['yloc']\n",
    "    ID = df.loc[df['slen']==sl]['ID']\n",
    "    \n",
    "    if sl == 2.4384:\n",
    "        color='white'\n",
    "    elif sl == 4.8:\n",
    "        color='white'\n",
    "    elif sl == 2.8:\n",
    "        color='white'\n",
    "    else:\n",
    "        color='white'\n",
    "    \n",
    "    ax.scatter(xx,yy,color=color,marker=\"o\",facecolor='none',lw=1)\n",
    "    for _ID,_xx,_yy in zip(ID,xx,yy):\n",
    "        ax.annotate(_ID, (_xx, _yy), fontsize=10,color='w')\n",
    "\n",
    "ax.set_aspect(1)\n",
    "plt.gca().invert_yaxis()\n",
    "fig.savefig('S1_geoRTC_CRs.png',dpi=300,bbox_inches='tight')"
   ]
  },
  {
   "cell_type": "markdown",
   "metadata": {},
   "source": [
    "<hr>"
   ]
  },
  {
   "cell_type": "markdown",
   "metadata": {},
   "source": [
    "# 4. Remove Corner Reflectors Facing away from the look direction of the S1 Acquisition "
   ]
  },
  {
   "cell_type": "code",
   "execution_count": null,
   "metadata": {},
   "outputs": [],
   "source": [
    "results = asf_search.granule_search(s1_name)\n",
    "flight_direction = results[0].properties['flightDirection']\n",
    "flight_direction"
   ]
  },
  {
   "cell_type": "code",
   "execution_count": null,
   "metadata": {},
   "outputs": [],
   "source": [
    "# selecting CRs according to orbit direction\n",
    "if flight_direction == 'DESCENDING':\n",
    "    # descending\n",
    "    df_filter = df[df['azm']>340].reset_index(drop=True)\n",
    "    #only east-looking CRs (for right-looking descending)\n",
    "else:\n",
    "    # ascending\n",
    "    df_filter = df[df['azm']<200].reset_index(drop=True)    \n",
    "    #only west-looking CRs (for right-looking ascending)\n",
    "\n",
    "df_filter = df_filter.loc[df_filter['slen']>0.8].reset_index(drop=True)   #excluding SWOT CRs (0.7 m as a side length)\n",
    "df_filter"
   ]
  },
  {
   "cell_type": "markdown",
   "metadata": {},
   "source": [
    "<hr>"
   ]
  },
  {
   "cell_type": "markdown",
   "metadata": {},
   "source": [
    "# 5. Calculate Absolute Geolocation Error in Easting and Northing"
   ]
  },
  {
   "cell_type": "code",
   "execution_count": null,
   "metadata": {},
   "outputs": [],
   "source": [
    "xpeak = []\n",
    "ypeak = []\n",
    "snr = []\n",
    "\n",
    "ovsFactor=16\n",
    "\n",
    "for ID, xoff, yoff in zip(df_filter['ID'],df_filter['xloc'],df_filter['yloc']):\n",
    "    # crop a patch of 10*10 with center at the calculated CR position\n",
    "    pxbuff = 3\n",
    "    pybuff = 3\n",
    "    cropcslc = rtc[(yoff-pybuff):(yoff+pybuff+1),(xoff-pxbuff):(xoff+pxbuff+1)]\n",
    "   # _snr = get_snr_peak(cropcslc)\n",
    "\n",
    "    # find the peak amplitude in the 10*10 patch\n",
    "    yind,xind = np.unravel_index(np.argmax(np.abs(cropcslc), axis=None), cropcslc.shape)\n",
    "    \n",
    "    # give a warning if the peak and the calculated postion are too far\n",
    "    dyind = yind-pybuff; dxind = xind-pxbuff\n",
    "    dist = math.sqrt(dyind**2+dxind**2)\n",
    "    if dist > 2.0:\n",
    "        warnings.warn(f'the most bright pixel and the xloc is too far for CR {ID}')\n",
    "    \n",
    "    plt.rcParams.update({'font.size': 14})\n",
    "    fig, ax = plt.subplots(1, 2, figsize=(15, 7))\n",
    "    ax[0].imshow(np.abs(cropcslc), cmap='gray',interpolation=None, origin='upper')\n",
    "    ax[0].plot(xind,yind,'r+')\n",
    "    ax[0].set_title(f'Corner Reflector ID: {ID}')\n",
    "    \n",
    "    # crop a patch of 32*32 but with its center at the peak\n",
    "    xbuff = 32\n",
    "    ybuff = 32\n",
    "    ycrop = np.arange(yoff+dyind-ybuff,yoff+dyind+ybuff)\n",
    "    xcrop = np.arange(xoff+dxind-xbuff,xoff+dxind+xbuff)\n",
    "    cropcslc = rtc[ycrop,:][:,xcrop]\n",
    "\n",
    "    # Oversample slc\n",
    "    cropcslc_ovs,ycrop_ovs,xcrop_ovs = oversample_slc(cropcslc,sampling=ovsFactor,y=ycrop,x=xcrop)\n",
    "\n",
    "    # find the peak amplitude again in a 2 x 2 patch, it correspond to \n",
    "    # (2*ovsFactor) x (2*ovsFactor) in oversampled slc\n",
    "    yoff2 = int(cropcslc_ovs.shape[0]/2)\n",
    "    xoff2 = int(cropcslc_ovs.shape[1]/2)\n",
    "    cropcslc2 = cropcslc_ovs[yoff2-2*ovsFactor:yoff2+2*ovsFactor+1,\n",
    "                           xoff2-2*ovsFactor:xoff2+2*ovsFactor+1]\n",
    "    yind2,xind2 = np.unravel_index(np.argmax(abs(cropcslc2), axis=None), cropcslc2.shape)\n",
    "    dyind2 = yind2-2*ovsFactor; dxind2 = xind2-2*ovsFactor\n",
    "    \n",
    "    ax[1].imshow(np.abs(cropcslc2), cmap='gray',interpolation=None, origin='upper')\n",
    "    ax[1].plot(xind2,yind2,'r+')\n",
    "    ax[1].set_title(f'Oversampled Corner Reflector ID: {ID}')\n",
    "    \n",
    "    # crop a patch of 3x3 oversampled patch with center at the peak\n",
    "    cropcslc2 = cropcslc_ovs[yoff2+dyind2-1:yoff2+dyind2+2,xoff2+dxind2-1:xoff2+dxind2+2]\n",
    "    ycrop2 = ycrop_ovs[yoff2+dyind2-1:yoff2+dyind2+2]\n",
    "    xcrop2 = xcrop_ovs[xoff2+dxind2-1:xoff2+dxind2+2]\n",
    "    xxcrop2,yycrop2 = np.meshgrid(xcrop2,ycrop2)\n",
    "    xxcrop2_f = xxcrop2.flatten()\n",
    "    yycrop2_f = yycrop2.flatten()\n",
    "    cropcslc2_f = cropcslc2.flatten()\n",
    "\n",
    "    # Check if pixel values in a patch are non-NaN\n",
    "    valid = ~(np.isnan(cropcslc2_f))\n",
    "    count_valid = np.count_nonzero(valid)\n",
    "\n",
    "    if count_valid == 0:\n",
    "        _ypeak, _xpeak = [np.nan, np.nan]\n",
    "\n",
    "    else:\n",
    "        _ypeak,_xpeak = findCR(np.abs(cropcslc2_f[valid]),yycrop2_f[valid],xxcrop2_f[valid],\n",
    "                            x_bound=[xcrop2[0],xcrop2[-1]],y_bound=[ycrop2[0],ycrop2[-1]],method=\"para\")\n",
    "\n",
    "    xpeak.append(_xpeak)\n",
    "    ypeak.append(_ypeak)\n",
    "    #snr.append(_snr)\n",
    "    \n",
    "df_filter['xloc_CR'] = xpeak\n",
    "df_filter['yloc_CR'] = ypeak\n",
    "#df_filter['snr'] = snr\n",
    "df_filter"
   ]
  },
  {
   "cell_type": "markdown",
   "metadata": {},
   "source": [
    "**Visualizing CR Location Measurements**"
   ]
  },
  {
   "cell_type": "code",
   "execution_count": null,
   "metadata": {},
   "outputs": [],
   "source": [
    "df_filter = df_filter.dropna()\n",
    "df_filter"
   ]
  },
  {
   "cell_type": "markdown",
   "metadata": {},
   "source": [
    "## 5.1 Uncomment this Line to Drop CRs that were Poorly Identified"
   ]
  },
  {
   "cell_type": "code",
   "execution_count": null,
   "metadata": {},
   "outputs": [],
   "source": [
    "df_filter = df_filter.drop([6]).reset_index(drop=True)"
   ]
  },
  {
   "cell_type": "markdown",
   "metadata": {},
   "source": [
    "## 5.2 Calculating Absolute Geolocation Numbers:"
   ]
  },
  {
   "cell_type": "code",
   "execution_count": null,
   "metadata": {},
   "outputs": [],
   "source": [
    "#absloute geolocation error in range and azimuth\n",
    "ALE_Rg = (df_filter['xloc_CR'] -  df_filter['xloc_float']) * spacing_x\n",
    "ALE_Az = (df_filter['yloc_CR'] - df_filter['yloc_float']) * spacing_y"
   ]
  },
  {
   "cell_type": "code",
   "execution_count": null,
   "metadata": {},
   "outputs": [],
   "source": [
    "ALE_Rg"
   ]
  },
  {
   "cell_type": "markdown",
   "metadata": {},
   "source": [
    "<hr>"
   ]
  },
  {
   "cell_type": "markdown",
   "metadata": {},
   "source": [
    "# 6. Plot Absolute Geolocation Error in Easting and Northing"
   ]
  },
  {
   "cell_type": "code",
   "execution_count": null,
   "metadata": {},
   "outputs": [],
   "source": [
    "#plotting ALE\n",
    "\n",
    "#msize = (df_filter['CRZscrores'] - np.min(df_filter['CRZscrores']) + 0.000001) * 100.0\n",
    "\n",
    "fig, ax = plt.subplots(figsize=(8,8))\n",
    "Circle1= plt.Circle(( 0.0 , 0.0 ), 6.0, fill=False)\n",
    "ax.add_patch(Circle1)\n",
    "#sc = ax.scatter(ALE_Rg, ALE_Az, s=200, c=df_filter['slen'], alpha=0.6, marker='o')\n",
    "sc = ax.scatter(ALE_Rg, ALE_Az, s=100, c='k', alpha=0.6, marker='o')\n",
    "#ax.legend(*sc.legend_elements(),facecolor='lightgray')\n",
    "#ax.get_legend().set_title('side length (m)')\n",
    "\n",
    "\n",
    "for ii, txt in enumerate(df_filter.iloc[:,0]):\n",
    "    ax.annotate(txt, (ALE_Rg[ii],ALE_Az[ii]), color='black',xytext=(0, 5), textcoords='offset points')   #putting IDs in each CR\n",
    "    \n",
    "ax.grid(True)\n",
    "ax.set_xlim(-25.25,25.25)\n",
    "ax.set_ylim(-25.25,25.25)\n",
    "ax.axhline(0, color='black')\n",
    "ax.axvline(0, color='black')\n",
    "\n",
    "#np.std(data, ddof=1) / np.sqrt(np.size(data))\n",
    "\n",
    "ax.set_title(f'Easting: {np.round(np.nanmean(ALE_Rg), 3)} +/- {np.round(np.nanstd(ALE_Rg) / np.sqrt(np.size(ALE_Rg)),3)} m, \\\n",
    "    Northing: {np.round(np.nanmean(ALE_Az),3)}, +/- {np.round(np.nanstd(ALE_Az) / np.sqrt(np.size(ALE_Az)),3)} m')\n",
    "ax.set_xlabel('Easting error (m)')\n",
    "ax.set_ylabel('Northing error (m)')\n",
    "fig.suptitle('Absolute location error (Circles Scaled by CR Z-Score)')\n",
    "fig.savefig('ALE_geoSLC.png',dpi=300,bbox_inches='tight')\n",
    "\n",
    "plt.errorbar(np.round(np.nanmean(ALE_Rg), 3), np.round(np.nanmean(ALE_Az),3),\\\n",
    "             xerr=np.round(np.nanstd(ALE_Rg) / np.sqrt(np.size(ALE_Rg)),3), yerr=np.round(np.nanstd(ALE_Az) / np.sqrt(np.size(ALE_Az)),3), \\\n",
    "             barsabove=True, capsize=8, capthick=2, fmt='ro', linewidth=2, markersize=20)\n",
    "\n",
    "output = f\"{s1_name}_GeolocationPLOT.png\"\n",
    "\n",
    "plt.savefig(output, dpi=300, transparent='true')"
   ]
  },
  {
   "cell_type": "markdown",
   "metadata": {},
   "source": [
    "*ALE_OPERA_RTC.ipynb - Version 2.0.0 - April 2023*\n",
    "\n",
    "*Change log*\n",
    "\n",
    "- Made CR discovery more robust\n",
    "- Added average visualization in geolocation plot\n",
    "- Made formatting changes"
   ]
  }
 ],
 "metadata": {
  "kernelspec": {
   "display_name": "opera_calval_rtc_pt_target [conda env:.local-opera_calval_rtc_pt_target]",
   "language": "python",
   "name": "conda-env-.local-opera_calval_rtc_pt_target-py"
  },
  "language_info": {
   "codemirror_mode": {
    "name": "ipython",
    "version": 3
   },
   "file_extension": ".py",
   "mimetype": "text/x-python",
   "name": "python",
   "nbconvert_exporter": "python",
   "pygments_lexer": "ipython3",
   "version": "3.11.4"
  },
  "vscode": {
   "interpreter": {
    "hash": "11cc5ba7f1a5f01f06eec0d777911b7e71c9b1fdadce8b2ef27933e84970f723"
   }
  }
 },
 "nbformat": 4,
 "nbformat_minor": 4
}
