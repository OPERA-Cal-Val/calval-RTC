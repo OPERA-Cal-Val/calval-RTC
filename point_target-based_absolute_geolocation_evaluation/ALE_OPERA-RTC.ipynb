{
 "cells": [
  {
   "cell_type": "markdown",
   "metadata": {},
   "source": [
    "# Point Target Absolute Geolocation Evaluation\n",
    "\n",
    "- Adapted for OPERA RTCs from https://github.com/OPERA-Cal-Val/calval-CSLC/blob/dev/_ALE_.ipynb"
   ]
  },
  {
   "cell_type": "code",
   "execution_count": null,
   "metadata": {},
   "outputs": [],
   "source": [
    "import asf_search\n",
    "from pathlib import Path\n",
    "import numpy as np\n",
    "import datetime as dt\n",
    "import ipywidgets as widgets\n",
    "from ipywidgets import Layout\n",
    "import os\n",
    "import pandas as pd\n",
    "import math\n",
    "import scipy\n",
    "import re\n",
    "import requests\n",
    "import warnings\n",
    "import json\n",
    "from pyproj import Proj, CRS\n",
    "import pysolid\n",
    "import matplotlib.pyplot as plt\n",
    "import rasterio as rio\n",
    "from isce3.core import Ellipsoid as ellips\n",
    "warnings.filterwarnings('ignore')"
   ]
  },
  {
   "cell_type": "markdown",
   "metadata": {},
   "source": [
    "## 0. Download OPERA RTC"
   ]
  },
  {
   "cell_type": "code",
   "execution_count": null,
   "metadata": {
    "scrolled": true,
    "tags": []
   },
   "outputs": [],
   "source": [
    "s1_name = \"S1A_IW_SLC__1SDV_20230108T135223_20230108T135251_046693_0598D3_A89F\"\n",
    "rtc_name = f\"ISCE3_RTC_{s1_name}\"\n",
    "rtc_dir_path = Path.cwd()/s1_name\n",
    "if not rtc_dir_path.exists():\n",
    "    opera_rtc_s3_uri = 's3://asf-jupyter-data-west/OPERA_CalVal/ISCE3_RTC_samples/ISCE3_RTC_S1A_IW_SLC__1SDV_20230108T135223_20230108T135251_046693_0598D3_A89F.zip'\n",
    "    !aws s3 cp \"$opera_rtc_s3_uri\" \"$rtc_name\".zip\n",
    "    !unzip \"$rtc_name\".zip\n",
    "    Path(f\"{rtc_name}.zip\").unlink()"
   ]
  },
  {
   "cell_type": "code",
   "execution_count": null,
   "metadata": {},
   "outputs": [],
   "source": [
    "rtc_h5_path = list(rtc_dir_path.rglob(f\"ISCE3_RTC/*.h5\"))[0]\n",
    "rtc_geotiff_paths = list(rtc_dir_path.rglob(f\"ISCE3_RTC/*_V*.tif\"))\n",
    "rtc_geotiff_paths.sort()\n",
    "rtc_geotiff_paths"
   ]
  },
  {
   "cell_type": "code",
   "execution_count": null,
   "metadata": {},
   "outputs": [],
   "source": [
    "with rio.open(rtc_geotiff_paths[0]) as ds:\n",
    "    rtc = ds.read(1)"
   ]
  },
  {
   "cell_type": "code",
   "execution_count": null,
   "metadata": {},
   "outputs": [],
   "source": [
    "# Visualize Opera Data\n",
    "%matplotlib widget\n",
    "\n",
    "fig, ax = plt.subplots(1, 1, figsize=(15, 16))\n",
    "\n",
    "ax.set_title(rtc_geotiff_paths[0].stem)\n",
    "ax.imshow(20*np.log10(np.abs(rtc)), cmap='gray',interpolation=None, origin='upper')"
   ]
  },
  {
   "cell_type": "code",
   "execution_count": null,
   "metadata": {},
   "outputs": [],
   "source": [
    "with rio.open(rtc_geotiff_paths[0]) as ds:   \n",
    "    start_x = ds.transform[2]\n",
    "    start_y = ds.transform[5]\n",
    "    spacing_x = ds.transform[0]\n",
    "    spacing_y = ds.transform[4]\n",
    "    width = ds.profile['width']\n",
    "    height = ds.profile['height']\n",
    "    epsg_no = ds.crs.to_epsg()\n",
    "    b = ds.bounds"
   ]
  },
  {
   "cell_type": "markdown",
   "metadata": {},
   "source": [
    "## 1. Get corner reflector data and confirm RTC coverage"
   ]
  },
  {
   "cell_type": "code",
   "execution_count": null,
   "metadata": {},
   "outputs": [],
   "source": [
    "date_ = re.search(\"\\d{8}T\\d{6}\", rtc_geotiff_paths[0].stem).group(0)\n",
    "date_ = dt.datetime.strptime(date_, '%Y%m%dT%H%M%S').strftime('%Y-%m-%d+%H\\u0021%M')\n",
    "\n",
    "\n",
    "# Download corner reflector data from NISAR\n",
    "res = requests.get(f'https://uavsar.jpl.nasa.gov/cgi-bin/corner-reflectors.pl?date={str(date_)}&project=uavsar')\n",
    "open('crdata.csv', 'wb').write(res.content)\n",
    "\n",
    "# Read to pandas dataframe and rename columns\n",
    "df = pd.read_csv('crdata.csv')\n",
    "df.rename(columns={'Corner reflector ID':'ID'}, inplace=True)\n",
    "df.rename(columns={'Latitude (deg)':'lat'}, inplace=True) \n",
    "df.rename(columns={'Longitude (deg)':'lon'}, inplace=True) \n",
    "df.rename(columns={'Azimuth (deg)':'azm'}, inplace=True)\n",
    "df.rename(columns={'Height above ellipsoid (m)':'hgt'}, inplace=True) \n",
    "df.rename(columns={'Side length (m)':'slen'}, inplace=True)\n",
    "\n",
    "df.head()"
   ]
  },
  {
   "cell_type": "code",
   "execution_count": null,
   "metadata": {},
   "outputs": [],
   "source": [
    "import shapely.wkt\n",
    "from shapely import geometry\n",
    "\n",
    "wkt_border = f'POLYGON(({b.left} {b.top},{b.right} {b.top},{b.right} {b.bottom},{b.left} {b.bottom},{b.left} {b.top}))'\n",
    "poly = shapely.wkt.loads(wkt_border)\n",
    "\n",
    "#calculating the locations of CRs in SAR image\n",
    "UTMx = []\n",
    "UTMy = []\n",
    "xloc = []\n",
    "yloc = []\n",
    "xloc_float = []\n",
    "yloc_float = []\n",
    "_in = []\n",
    "\n",
    "for idx, row in df.iterrows():\n",
    "    \n",
    "    _Proj = Proj(CRS.from_epsg(epsg_no))\n",
    "    _x, _y = _Proj(row['lon'], row['lat'],inverse=False)     #conversion of lat/lon of CRs to UTM coordinates\n",
    "\n",
    "    \n",
    "    #location of CRs in SLC image\n",
    "    _xloc = int((_x-start_x)/spacing_x)    \n",
    "    _yloc = int((_y-start_y)/spacing_y)\n",
    "    \n",
    "    UTMx.append(_x) \n",
    "    UTMy.append(_y)\n",
    "    xloc.append(_xloc)\n",
    "    yloc.append(_yloc)\n",
    "    xloc_float.append((_x-start_x)/spacing_x)\n",
    "    yloc_float.append((_y-start_y)/spacing_y)\n",
    "    _in.append(poly.contains(geometry.Point(_x, _y)))\n",
    "    \n",
    "df['UTMx'] = UTMx\n",
    "df['UTMy'] = UTMy\n",
    "df['xloc'] = xloc\n",
    "df['yloc'] = yloc\n",
    "df['xloc_float'] = xloc_float\n",
    "df['yloc_float'] = yloc_float\n",
    "df['inPoly'] = _in\n",
    "\n",
    "#checking whether CRs are in RTC coverage. Including only CRs within RTC image\n",
    "df = df[df['inPoly']==True]\n",
    "df.drop('inPoly', axis=1, inplace=True)\n",
    "df = df.reset_index(drop=True)"
   ]
  },
  {
   "cell_type": "code",
   "execution_count": null,
   "metadata": {
    "tags": []
   },
   "outputs": [],
   "source": [
    "#Displaying RTC image\n",
    "buffer = 50\n",
    "minX = df['xloc'].min() - buffer\n",
    "maxX = df['xloc'].max() + buffer\n",
    "minY = df['yloc'].min() - buffer\n",
    "maxY = df['yloc'].max() + buffer\n",
    "\n",
    "scale_ = 1.0\n",
    "exp_ = 0.15\n",
    "\n",
    "fig, ax = plt.subplots(figsize=(12, 3))\n",
    "cax = ax.imshow(scale_*(np.abs(rtc))**exp_, cmap='gray',interpolation=None, origin='upper')\n",
    "ax.set_xlim(minX,maxX)\n",
    "ax.set_ylim(minY,maxY)\n",
    "#ax.axis('off')\n",
    "\n",
    "for sl in pd.unique(df.slen):\n",
    "    xx = df.loc[df['slen']==sl]['xloc']\n",
    "    yy = df.loc[df['slen']==sl]['yloc']\n",
    "    ID = df.loc[df['slen']==sl]['ID']\n",
    "    \n",
    "    if sl == 2.4384:\n",
    "        color='blue'\n",
    "    elif sl == 4.8:\n",
    "        color='red'\n",
    "    elif sl == 2.8:\n",
    "        color='yellow'\n",
    "    else:\n",
    "        color='green'\n",
    "    \n",
    "    ax.scatter(xx,yy,color=color,marker=\"+\",lw=1)\n",
    "    for _ID,_xx,_yy in zip(ID,xx,yy):\n",
    "        ax.annotate(_ID, (_xx, _yy), fontsize=10)\n",
    "\n",
    "ax.set_aspect(1)\n",
    "fig.savefig('S1_geoRTC_CRs.png',dpi=300,bbox_inches='tight')"
   ]
  },
  {
   "cell_type": "markdown",
   "metadata": {},
   "source": [
    "## Remove corner reflectors facing away from the look direction of the S1 acquisition "
   ]
  },
  {
   "cell_type": "code",
   "execution_count": null,
   "metadata": {},
   "outputs": [],
   "source": [
    "results = asf_search.granule_search(s1_name)\n",
    "flight_direction = results[0].properties['flightDirection']\n",
    "flight_direction"
   ]
  },
  {
   "cell_type": "code",
   "execution_count": null,
   "metadata": {},
   "outputs": [],
   "source": [
    "# selecting CRs according to orbit direction\n",
    "if flight_direction == 'DESCENDING':\n",
    "    # descending\n",
    "    df_filter = df[df['azm']>340].reset_index(drop=True)\n",
    "    #only east-looking CRs (for right-looking descending)\n",
    "else:\n",
    "    # ascending\n",
    "    df_filter = df[df['azm']<200].reset_index(drop=True)    \n",
    "    #only west-looking CRs (for right-looking ascending)\n",
    "\n",
    "df_filter = df_filter.loc[df_filter['slen']>0.8].reset_index(drop=True)   #excluding SWOT CRs (0.7 m as a side length)\n",
    "df_filter"
   ]
  },
  {
   "cell_type": "markdown",
   "metadata": {},
   "source": [
    "## Calculate absloute geolocation error in range and azimuth after corrections"
   ]
  },
  {
   "cell_type": "code",
   "execution_count": null,
   "metadata": {},
   "outputs": [],
   "source": [
    "from src.ALE_utils import oversample_slc, findCR\n",
    "\n",
    "xpeak = []\n",
    "ypeak = []\n",
    "\n",
    "for ID, xoff, yoff in zip(df_filter['ID'],df_filter['xloc'],df_filter['yloc']):\n",
    "    # crop a patch of 10*10 with center at the calculated CR position\n",
    "    pxbuff = 5\n",
    "    pybuff = 5\n",
    "    croprtc = rtc[(yoff-pybuff):(yoff+pybuff+1),(xoff-pxbuff):(xoff+pxbuff+1)]\n",
    "    \n",
    "    # find the peak amplitude in the 10*10 patch\n",
    "    yind,xind = np.unravel_index(np.argmax(np.abs(croprtc), axis=None), croprtc.shape)\n",
    "    \n",
    "    # give a warning if the peak and the calculated postion are too far\n",
    "    dyind = yind-pybuff; dxind = xind-pxbuff\n",
    "    dist = math.sqrt(dyind**2+dxind**2)\n",
    "    if dist > 5.0:\n",
    "        warnings.warn(f'the most bright pixel and the xloc is too far for CR {ID}')\n",
    "    \n",
    "    # crop a patch of 32*32 but with its center at the peak\n",
    "    xbuff = 16\n",
    "    ybuff = 16\n",
    "    ycrop = np.arange(yoff+dyind-ybuff,yoff+dyind+ybuff+1)\n",
    "    xcrop = np.arange(xoff+dxind-xbuff,xoff+dxind+xbuff+1)\n",
    "    croprtc = rtc[ycrop,:][:,xcrop]\n",
    "\n",
    "    # oversample this 32*32 patch by 32\n",
    "    ovsFactor = 32\n",
    "    croprtc_ovs,ycrop_ovs,xcrop_ovs = oversample_slc(croprtc,sampling=ovsFactor,y=ycrop,x=xcrop)\n",
    "\n",
    "    # find the peak amplitude again in a 2 x 2 patch, it correspond to \n",
    "    # (2*ovsFactor) x (2*ovsFactor) in oversampled slc\n",
    "    yoff2 = int(croprtc_ovs.shape[0]/2)\n",
    "    xoff2 = int(croprtc_ovs.shape[1]/2)\n",
    "    croprtc2 = croprtc_ovs[yoff2-ovsFactor:yoff2+ovsFactor+1,\n",
    "                           xoff2-ovsFactor:xoff2+ovsFactor+1]\n",
    "    yind2,xind2 = np.unravel_index(np.argmax(abs(croprtc2), axis=None), croprtc2.shape)\n",
    "    dyind2 = yind2-ovsFactor; dxind2 = xind2-ovsFactor\n",
    "\n",
    "    # crop a patch of 3x3 oversampled patch with center at the peak\n",
    "    croprtc2 = croprtc_ovs[yoff2+dyind2-1:yoff2+dyind2+2,xoff2+dxind2-1:xoff2+dxind2+2]\n",
    "    ycrop2 = ycrop_ovs[yoff2+dyind2-1:yoff2+dyind2+2]\n",
    "    xcrop2 = xcrop_ovs[xoff2+dxind2-1:xoff2+dxind2+2]\n",
    "    xxcrop2,yycrop2 = np.meshgrid(xcrop2,ycrop2)\n",
    "    xxcrop2_f = xxcrop2.flatten()\n",
    "    yycrop2_f = yycrop2.flatten()\n",
    "    croprtc2_f = croprtc2.flatten()\n",
    "\n",
    "    # Check if pixel values in a patch are non-NaN\n",
    "    valid = ~(np.isnan(croprtc2_f))\n",
    "    count_valid = np.count_nonzero(valid)\n",
    "\n",
    "    if count_valid == 0:\n",
    "        _ypeak, _xpeak = [np.nan, np.nan]\n",
    "\n",
    "    else:\n",
    "        _ypeak,_xpeak = findCR(np.abs(croprtc2_f[valid]),yycrop2_f[valid],xxcrop2_f[valid],\n",
    "                            x_bound=[xcrop2[0],xcrop2[-1]],y_bound=[ycrop2[0],ycrop2[-1]],method=\"para\")\n",
    "\n",
    "    xpeak.append(_xpeak)\n",
    "    ypeak.append(_ypeak)\n",
    "\n",
    "df_filter['xloc_CR'] = xpeak\n",
    "df_filter['yloc_CR'] = ypeak"
   ]
  },
  {
   "cell_type": "code",
   "execution_count": null,
   "metadata": {},
   "outputs": [],
   "source": [
    "df_filter = df_filter.dropna()\n",
    "df_filter"
   ]
  },
  {
   "cell_type": "code",
   "execution_count": null,
   "metadata": {},
   "outputs": [],
   "source": [
    "#absloute geolocation error in range and azimuth after corrections\n",
    "ALE_Rg = (df_filter['xloc_CR'] -  df_filter['xloc_float'])\n",
    "ALE_Az = (df_filter['yloc_CR'] - df_filter['yloc_float'])"
   ]
  },
  {
   "cell_type": "markdown",
   "metadata": {},
   "source": [
    "# Plot absloute geolocation error in range and azimuth"
   ]
  },
  {
   "cell_type": "code",
   "execution_count": null,
   "metadata": {},
   "outputs": [],
   "source": [
    "#plotting ALE\n",
    "fig, ax = plt.subplots(figsize=(8,6))\n",
    "sc = ax.scatter(ALE_Rg, ALE_Az, s=200, c=df_filter['slen'], alpha=0.6, marker='o')\n",
    "ax.legend(*sc.legend_elements(),facecolor='lightgray')\n",
    "ax.get_legend().set_title('side length (m)')\n",
    "\n",
    "for ii, txt in enumerate(df_filter.iloc[:,0]):\n",
    "    ax.annotate(txt, (ALE_Rg[ii],ALE_Az[ii]), color='orange')   #putting IDs in each CR\n",
    "    \n",
    "ax.grid(True)\n",
    "ax.set_xlim(-7.25,7.25)\n",
    "ax.set_ylim(-7.25,7.25)\n",
    "ax.axhline(0, color='black')\n",
    "ax.axvline(0, color='black')\n",
    "ax.set_title(f'Range: {np.round(np.nanmean(ALE_Rg), 3)} +/- {np.round(np.nanstd(ALE_Rg),3)} m, \\\n",
    "    Azimuth: {np.round(np.nanmean(ALE_Az),3)}, +/- {np.round(np.nanstd(ALE_Az),3)} m')\n",
    "ax.set_xlabel('Easting error (m)')\n",
    "ax.set_ylabel('Northing error (m)')\n",
    "fig.suptitle('Absolute location error')\n",
    "fig.savefig('ALE_geoSLC.png',dpi=300,bbox_inches='tight')"
   ]
  }
 ],
 "metadata": {
  "kernelspec": {
   "display_name": "opera_calval_RTC [conda env:.local-opera_calval_RTC]",
   "language": "python",
   "name": "conda-env-.local-opera_calval_RTC-py"
  },
  "language_info": {
   "codemirror_mode": {
    "name": "ipython",
    "version": 3
   },
   "file_extension": ".py",
   "mimetype": "text/x-python",
   "name": "python",
   "nbconvert_exporter": "python",
   "pygments_lexer": "ipython3",
   "version": "3.11.0"
  },
  "vscode": {
   "interpreter": {
    "hash": "11cc5ba7f1a5f01f06eec0d777911b7e71c9b1fdadce8b2ef27933e84970f723"
   }
  }
 },
 "nbformat": 4,
 "nbformat_minor": 4
}
