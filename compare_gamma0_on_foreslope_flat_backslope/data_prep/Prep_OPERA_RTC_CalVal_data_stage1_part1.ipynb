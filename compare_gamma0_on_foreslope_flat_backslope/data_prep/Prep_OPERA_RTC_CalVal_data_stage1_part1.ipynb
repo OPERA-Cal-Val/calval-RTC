{
 "cells": [
  {
   "cell_type": "markdown",
   "id": "1af4ea9a-ac0f-44b0-9f35-a573a4f66bbe",
   "metadata": {},
   "source": [
    "# Prep OPERA RTC CalVal data: stage 1, part 1\n",
    "\n",
    "**Alex Lewandowski; Alaska Satellite Facility, University of Alaska Fairbanks**\n",
    "\n",
    "## Performs initial data preparation for OPERA RTC calibration and validation\n",
    "\n",
    "**Notebook Requires**\n",
    "- dual-pol backscatter geotiffs\n",
    "- local incidence angle map\n",
    "- ellipsoidal incidence angle map\n",
    "- layover-shadow mask\n",
    "- dem\n",
    "- scene shape files\n",
    "- Copernicus 100m global land cover classification map\n",
    "    - multiple tiles may be included for complete AOI coverage (they will be merged)\n",
    "    - [Copernicus Global Land Cover (100m)](https://lcviewer.vito.be/download)\n",
    "\n",
    "**Actions**\n",
    "- merges land cover classification maps\n",
    "- subsets all geotiffs to scene\n",
    "- masks water bodies in land cover map (sets values 80 & 200 -> 0)"
   ]
  },
  {
   "cell_type": "code",
   "execution_count": null,
   "id": "4a9c2c4e-8ddd-4ff5-812a-2ee824297862",
   "metadata": {},
   "outputs": [],
   "source": [
    "from ipyfilechooser import FileChooser\n",
    "import numpy as np\n",
    "from pathlib import Path\n",
    "from glob import glob # for grabbing arbitrary filename\n",
    "import shutil\n",
    "from tqdm.auto import tqdm\n",
    "\n",
    "import numpy.ma as ma\n",
    "from osgeo import gdal"
   ]
  },
  {
   "cell_type": "markdown",
   "id": "090d69a9-f660-459e-a2ff-91ab60ef1ca9",
   "metadata": {},
   "source": [
    "## Select the directory holding your RTC product directory and Copernicus global land cover Discrete-Classification maps\n",
    "\n",
    "Note: dems, local incidence angle maps, ellipsoidal incidence maps, layover-shadow maps, dual-pol backscatter geotiffs, scene shape files, and Copernicus global land cover data are needed\n",
    "\n",
    "```\n",
    "data_directory   \n",
    "│\n",
    "└───product_1_directory\n",
    "│   │   *_VH.tif\n",
    "│   │   *_VV.tif\n",
    "│   │   *lc_inc_map.tif\n",
    "│   │   *el_inc_map.tif\n",
    "│   │   *ls_map.tif\n",
    "│   │   *_shape.dbf\n",
    "│   │   *_shape.prj\n",
    "│   │   *_shape.shp\n",
    "│   │   *_shape.shx\n",
    "│   │   *_dem.tif\n",
    "│   ...\n",
    "│   \n",
    "└───*_PROBAV_LC100_global_v3.0.1_2019-nrt_Discrete-Classification-map_EPSG-4326.tif \n",
    "...\n",
    "```"
   ]
  },
  {
   "cell_type": "code",
   "execution_count": null,
   "id": "a08bf8f1-a256-4439-bb1c-7b933f516737",
   "metadata": {},
   "outputs": [],
   "source": [
    "print(\"Select the directory holding your data with the file structure shown above\")\n",
    "fc = FileChooser(Path.cwd())\n",
    "display(fc)"
   ]
  },
  {
   "cell_type": "code",
   "execution_count": null,
   "id": "be9fc061-9b68-480b-9e9f-aa06caf7c2e6",
   "metadata": {},
   "outputs": [],
   "source": [
    "data_dir = Path(fc.selected_path)\n",
    "product_name = list(data_dir.glob(\"*/*_VH.tif\"))[0].parent\n",
    "output_dir = data_dir.parent/f\"{product_name}_prepped\"\n",
    "if not output_dir.is_dir():\n",
    "    output_dir.mkdir()"
   ]
  },
  {
   "cell_type": "markdown",
   "id": "94592b81-3b67-41e9-8676-58ca70994c61",
   "metadata": {},
   "source": [
    "## Merge Copernicus Global Land Cover Tiles if necessary"
   ]
  },
  {
   "cell_type": "code",
   "execution_count": null,
   "id": "2e8a99d6-8ac0-4a1d-a5c3-6cdd727a1860",
   "metadata": {},
   "outputs": [],
   "source": [
    "land_cover = list(data_dir.glob('*PROBAV_LC100_global_v3.0.1_2019-nrt_Discrete-Classification-map_EPSG-*.tif')) # change filename -> PROBAV_LC100\n",
    "land_cover"
   ]
  },
  {
   "cell_type": "code",
   "execution_count": null,
   "id": "bae04ad4-3583-4765-9aee-71991ea6d2cd",
   "metadata": {},
   "outputs": [],
   "source": [
    "epsg = '4326'\n",
    "print(f'{data_dir}/*PROBAV_LC100_global_v3.0.1_2019-nrt_Discrete-Classification-map_EPSG-{epsg}.tif')"
   ]
  },
  {
   "cell_type": "code",
   "execution_count": null,
   "id": "55a73fba-9435-4b42-a7cc-6ed602dee02d",
   "metadata": {},
   "outputs": [],
   "source": [
    "if len(land_cover) > 1:\n",
    "    output_prefix = ''.join(l.name[0:8] for l in land_cover) # prefix for all coordinates used\n",
    "\n",
    "    merge_str = ''\n",
    "    # epsg = land_cover[0].stem.split('EPSG-')[1]\n",
    "    epsg = '4326'\n",
    "    for tiff in land_cover:\n",
    "        merge_str = f\"{merge_str} {str(tiff)}\"\n",
    "    print(merge_str,'\\n')\n",
    "\n",
    "    gdal_cmd = f\"gdal_merge.py -o {data_dir}/merged_{output_prefix}PROBAV_LC100_global_v3.0.1_2019-nrt_Discrete-Classification-map_EPSG-{epsg}.tif {merge_str}\" # change filename -> PROBAV_LC100\n",
    "    !$gdal_cmd\n",
    "    \n",
    "    land_cover = list(data_dir.glob('merged_*.tif'))[0] # -> PROBAV_LC100\n",
    "else:\n",
    "    land_cover = land_cover[0]\n",
    "    \n",
    "# check epsg"
   ]
  },
  {
   "cell_type": "markdown",
   "id": "aa1ff9b8-7425-4779-9f86-610585883455",
   "metadata": {},
   "source": [
    "## Subset Copernicus Global Land Cover Data and Local Incidence Angle Map using HyP3 product shape file"
   ]
  },
  {
   "cell_type": "code",
   "execution_count": null,
   "id": "4cb667e4-75f0-4f48-be85-1929df3bb794",
   "metadata": {},
   "outputs": [],
   "source": [
    "shp = list(data_dir.glob('*/*_shape.shp'))\n",
    "local_inc = list(data_dir.glob('*/*_lc_inc_map.tif'))[0]\n",
    "elipse_inc = list(data_dir.glob('*/*_ell_inc_map.tif'))[0]\n",
    "ls_map = list(data_dir.glob('*/*_ls_map.tif'))[0]\n",
    "vh = list(data_dir.glob(\"*/*_VH.tif\"))[0]\n",
    "vv = list(data_dir.glob(\"*/*_VV.tif\"))[0]\n",
    "dem = list(data_dir.glob(\"*/*_dem.tif\"))[0]\n",
    "to_clip = [land_cover, local_inc, elipse_inc, ls_map, vh, vv, dem]\n",
    "to_clip"
   ]
  },
  {
   "cell_type": "code",
   "execution_count": null,
   "id": "d699f365-80a6-4436-b158-9728e5577b53",
   "metadata": {},
   "outputs": [],
   "source": [
    "from typing import Union\n",
    "\n",
    "def get_epsg(path: Union[str, Path]) -> str:\n",
    "    \"\"\"\n",
    "    returns the EPSG of a geotiff\n",
    "    \"\"\"\n",
    "    info = gdal.Info(str(path), format='json')\n",
    "    return info['coordinateSystem']['wkt'].split('ID')[-1].split(',')[1][0:-2]"
   ]
  },
  {
   "cell_type": "code",
   "execution_count": null,
   "id": "4179f17d-72d9-4b23-84c4-86809776cc6b",
   "metadata": {},
   "outputs": [],
   "source": [
    "print(land_cover)"
   ]
  },
  {
   "cell_type": "code",
   "execution_count": null,
   "id": "68bdfa8e-3704-444b-9f00-b3339247859d",
   "metadata": {},
   "outputs": [],
   "source": [
    "# f = gdal.Open(str(land_cover))\n",
    "# resolution = f.GetGeoTransform()[1]\n",
    "\n",
    "# resolution = 10 # 30?\n",
    "resolution = 30\n",
    "src_epsg = get_epsg(land_cover)\n",
    "dst_epsg = get_epsg(vh)\n",
    "# reproj_path = land_cover.parent/f\"{land_cover.stem.split('EPSG')[0]}EPSG-{dst_epsg}.tif\"\n",
    "reproj_path = land_cover.parent/f\"{land_cover.stem.split('EPSG')[0]}EPSG-{dst_epsg}.tif\"\n",
    "reproj_path"
   ]
  },
  {
   "cell_type": "code",
   "execution_count": null,
   "id": "86b17679-b234-40d8-a1db-06647f5a98b6",
   "metadata": {
    "tags": []
   },
   "outputs": [],
   "source": [
    "gdal.Warp(str(reproj_path), str(land_cover),\n",
    "          srcSRS=f'EPSG:{src_epsg}', dstSRS=f'EPSG:{dst_epsg}',\n",
    "          xRes=resolution, yRes=resolution, targetAlignedPixels=True,\n",
    "         dstNodata=None, copyMetadata=True)\n",
    "\n",
    "to_clip.remove(land_cover)\n",
    "to_clip.append(reproj_path)\n",
    "land_cover = reproj_path\n",
    "print(to_clip)"
   ]
  },
  {
   "cell_type": "code",
   "execution_count": null,
   "id": "d20c2b8e-146c-4667-91ea-e83bb0df40ba",
   "metadata": {},
   "outputs": [],
   "source": [
    "for pth in tqdm(to_clip):\n",
    "    clip = output_dir/f\"{pth.stem}_clip.tif\"\n",
    "    if clip.is_file():\n",
    "        clip.unlink()\n",
    "    subset_command = f'gdalwarp -cutline {str(shp[0])} -crop_to_cutline {str(pth)} {str(clip)} -dstnodata {np.nan}'\n",
    "    if pth == land_cover:\n",
    "        land_cover = clip\n",
    "    !$subset_command"
   ]
  },
  {
   "cell_type": "markdown",
   "id": "c4874ad9-38e0-41ec-af33-7e1d30ae9741",
   "metadata": {},
   "source": [
    "*Prep_OPERA_RTC_CalVal_data_stage1_part1 - Version 2.1.0 - April 2023*\n",
    "\n",
    "*Change Log:*\n",
    "\n",
    "- *refactor to use Copernicus 100M Global Landcover data*"
   ]
  }
 ],
 "metadata": {
  "kernelspec": {
   "display_name": "rtc_analysis [conda env:.local-rtc_analysis]",
   "language": "python",
   "name": "conda-env-.local-rtc_analysis-py"
  },
  "language_info": {
   "codemirror_mode": {
    "name": "ipython",
    "version": 3
   },
   "file_extension": ".py",
   "mimetype": "text/x-python",
   "name": "python",
   "nbconvert_exporter": "python",
   "pygments_lexer": "ipython3",
   "version": "3.9.16"
  }
 },
 "nbformat": 4,
 "nbformat_minor": 5
}
