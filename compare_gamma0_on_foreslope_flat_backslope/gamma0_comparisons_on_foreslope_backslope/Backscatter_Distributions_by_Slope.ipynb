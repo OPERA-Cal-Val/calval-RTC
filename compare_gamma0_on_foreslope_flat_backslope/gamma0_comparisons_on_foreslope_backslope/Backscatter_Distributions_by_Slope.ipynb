{
 "cells": [
  {
   "cell_type": "markdown",
   "id": "26e5669e-b4fa-463b-ac40-1e40974a7e57",
   "metadata": {},
   "source": [
    "# Backscatter Distributions by Slope (Foreslope, Backslope, Flat)\n",
    "\n",
    "**Alex Lewandowski; Alaska Satellite Facility, University of Alaska Fairbanks**\n",
    "\n",
    "## Plots the RTC backscatter distributions of each slope category of every MGRS tile and polarization\n",
    "\n",
    "**Notebook Requires**\n",
    "- MGRS tiles of prepared OPERA RTC CalVal data created with Prep_OPERA_RTC_CalVal_data_stage1_part3.ipynb"
   ]
  },
  {
   "cell_type": "code",
   "execution_count": null,
   "id": "13588c8b-f971-44bd-8414-ef09280351e6",
   "metadata": {},
   "outputs": [],
   "source": [
    "import copy\n",
    "from ipyfilechooser import FileChooser\n",
    "import numpy.ma as ma\n",
    "import numpy as np\n",
    "import pandas as pd\n",
    "from pathlib import Path\n",
    "from pprint import pprint\n",
    "import rioxarray as rxr\n",
    "from scipy import stats\n",
    "\n",
    "from matplotlib.patches import Rectangle\n",
    "import matplotlib.pyplot as plt\n",
    "import matplotlib.lines as lines\n",
    "from matplotlib.offsetbox import AnchoredText\n",
    "\n",
    "import opensarlab_lib as osl"
   ]
  },
  {
   "cell_type": "code",
   "execution_count": null,
   "id": "46db586f-d189-49c1-bb07-be2c5fbdc707",
   "metadata": {},
   "outputs": [],
   "source": [
    "# ******* IMPORTANT NOTE *******\n",
    "# Updated data has not yet been stored to S3 (as of May 27 2022). \n",
    "# Update March 5 2023, Chip 1 Tree Cover data now accessible with more soon to follow\n",
    "\n",
    "print(\"Select whether you will be downloading data or accessing data already stored on your volume.\")\n",
    "sources = ['Download Data from S3 Bucket', 'Access Locally Stored Data']\n",
    "data_source = osl.select_parameter(sources)\n",
    "display(data_source)"
   ]
  },
  {
   "cell_type": "code",
   "execution_count": null,
   "id": "6dc0ab7a-46fe-4fce-aaa3-a656e8d93b2e",
   "metadata": {},
   "outputs": [],
   "source": [
    "s3 = data_source.value == sources[0]\n",
    "local = data_source.value == sources[1]\n",
    "# s3 = False\n",
    "# local = True\n",
    "\n",
    "if local:\n",
    "    print(\"Select the directory holding your MGRS tile sub-directories\")\n",
    "    fc = FileChooser(Path.cwd())\n",
    "    display(fc)\n",
    "elif s3:\n",
    "    chips = {\n",
    "        \"Chip 1 (Amazon Rainforest), Descending Orbit, Summer\": \"S1A_IW_20150430T092132_DVP_RTC30_G_gpuned_35F5.zip\",\n",
    "        \"Chip 2 (Southern California), Ascending Orbit, Summer\": \"S1A_IW_20201107T015034_DVP_RTC30_G_gpuned_B760.zip\",\n",
    "        \"Chip 2 (Southern California), Descending Orbit, Summer\": \"S1A_IW_20201107T135214_DVP_RTC30_G_gpuned_A5CF.zip\",\n",
    "        \"Chip 3 (Interior Alaska), Ascending Orbit, Summer\": \"S1B_IW_20200730T032005_DVP_RTC30_G_gpuned_5B61.zip\",\n",
    "        \"Chip 3 (Interior Alaska), Ascending Orbit, Winter\": \"S1B_IW_20200120T031959_DVP_RTC30_G_gpuned_97CF.zip\",\n",
    "        \"Chip 3 (Interior Alaska), Descending Orbit, Summer\": \"S1A_IW_20200716T161219_DVP_RTC30_G_gpuned_1B48.zip\",\n",
    "        \"Chip 3 (Interior Alaska), Descending Orbit, Winter\": \"S1A_IW_20200118T161214_DVP_RTC30_G_gpuned_3D73.zip\",\n",
    "        \"Chip 4 (Vermont and New Hampshire), Ascending Orbit, Summer\": \"S1A_IW_20200831T224357_DVP_RTC30_G_gpuned_6B97.zip\",\n",
    "        \"Chip 4 (Vermont and New Hampshire), Descending Orbit, Summer\": \"mgrs_chip3_desc_winter.zip\", # chip_4_desc not in s3 bucket\n",
    "        \"Chip 5 (Eastern Siberia), Ascending Orbit, Summer\": \"S1A_IW_20200622T092025_DVP_RTC30_G_gpuned_2A64.zip\",\n",
    "        \"Chip 5 (Eastern Siberia), Descending Orbit, Summer\": \"S1B_IW_20200617T215129_DVP_RTC30_G_gpuned_210E.zip\"\n",
    "    }\n",
    "    \n",
    "    landcovers = {\n",
    "        \"Tree Cover\": \"tree_cover\",\n",
    "        \"Shrub\": \"shrub\",\n",
    "        \"Herbaceous Vegetation\": \"herbs\",\n",
    "        \"Agriculture\": \"agriculture\"\n",
    "    }\n",
    "    \n",
    "    print(\"Select a dataset:\")\n",
    "    chip = osl.select_parameter(chips)\n",
    "    display(chip)\n",
    "    \n",
    "    print(\"\\nSelect a land cover classification:\")\n",
    "    landcover = osl.select_parameter(landcovers)\n",
    "    display(landcover)\n",
    "    "
   ]
  },
  {
   "cell_type": "code",
   "execution_count": null,
   "id": "0024ad64-8d55-4a02-b7e3-8c13549b005b",
   "metadata": {
    "tags": []
   },
   "outputs": [],
   "source": [
    "if local: \n",
    "    data_dir = Path(fc.selected_path)\n",
    "elif s3:\n",
    "    s3_pth = \"s3://asf-opera-rtc-calval/compare_gamma0_on_foreslope_flat_backslope/sentinel_1/prepped_for_slope_comparisons\"\n",
    "    s3_pth = f\"{s3_pth}/{landcover.value.lower()}_{chip.value}\"\n",
    "    ds_zip = Path(s3_pth).name\n",
    "    # !aws --region=us-west-2 --no-sign-request s3 cp {s3_pth} {ds_zip} # if public bucket access\n",
    "    !aws s3 cp {s3_pth} {ds_zip}\n",
    "    osl.asf_unzip(str(Path.cwd()), ds_zip)\n",
    "    Path(ds_zip).unlink()\n",
    "    data_dir = Path.cwd()/Path(ds_zip).stem\n",
    "    \n",
    "mgrs = list()\n",
    "full_scene_tiffs = list()\n",
    "for p in Path(data_dir).iterdir():\n",
    "    if p.is_dir() and len(p.name) == 5:\n",
    "        mgrs.append(p)\n",
    "    else:\n",
    "        full_scene_tiffs.append(p)\n",
    "        \n",
    "pprint(mgrs)\n",
    "print()\n",
    "pprint(full_scene_tiffs)"
   ]
  },
  {
   "cell_type": "markdown",
   "id": "9a631c4b-0ae1-41fd-a1c4-d9c667ac93ed",
   "metadata": {},
   "source": [
    "## Plot Backscatter Distributions"
   ]
  },
  {
   "cell_type": "code",
   "execution_count": null,
   "id": "40cac89d-e48a-436f-b820-93771c41dcf5",
   "metadata": {},
   "outputs": [],
   "source": [
    "def plot_backscatter_distributions_by_slope(fore, back, flat, central_moments, polarization, dataset_name, tile=None, backscatter_minmax=None, output=None):\n",
    "            # create histograms\n",
    "            f, ax = plt.subplots(figsize=(18, 8))\n",
    "            n_bins = 200\n",
    "            colors = ['blue', 'green', 'darkorange']\n",
    "            n, bins, patches = ax.hist([fore,back,flat], n_bins, color=colors,\n",
    "                                       range=backscatter_minmax, histtype='step')\n",
    "\n",
    "            # fill 1st standard deviation for each histogram and add line at mean\n",
    "            std_colors = ['skyblue', 'lightgreen', 'orange']\n",
    "            for j, hist in enumerate(patches):\n",
    "                y_max = hist[0].get_path().get_extents().y1\n",
    "                hist_path = hist[0].get_path().vertices\n",
    "                std_hist = plt.Polygon(hist_path, color=std_colors[j], fill=True, alpha=0.2)\n",
    "                ax.add_patch(std_hist)\n",
    "                std_clip = plt.Rectangle([means[j]-stds[j],means[j]+stds[j]], stds[j]*2, y_max, \n",
    "                                          fill=True, visible=False)\n",
    "                ax.add_patch(std_clip)\n",
    "                std_hist.set_clip_path(std_clip)\n",
    "                mean_line = lines.Line2D([means[j],means[j]], [0, y_max], color=colors[j], ls='--')\n",
    "                ax.add_artist(mean_line)\n",
    "                mean_line.set_clip_path(hist[0])\n",
    "\n",
    "            annotation = AnchoredText(\n",
    "                (f\"PIXEL COUNTS:\\n\"\n",
    "                 f\"foreslope:  {np.count_nonzero(~np.isnan(fore))}\\n\"\n",
    "                 f\"backslope: {np.count_nonzero(~np.isnan(back))}\\n\"\n",
    "                 f\"flat:           {np.count_nonzero(~np.isnan(flat))}\\n\\n\"\n",
    "                 f\"MEAN:\\n\"\n",
    "                 f\"foreslope:  {central_moments[0][0]}\\n\"\n",
    "                 f\"backslope: {central_moments[0][1]}\\n\"\n",
    "                 f\"flat:           {central_moments[0][2]}\\n\\n\"\n",
    "                 f\"MEDIAN:\\n\"\n",
    "                 f\"foreslope:  {central_moments[1][0]}\\n\"\n",
    "                 f\"backslope: {central_moments[1][1]}\\n\"\n",
    "                 f\"flat:           {central_moments[1][2]}\\n\\n\"\n",
    "                 f\"MODE:\\n\"\n",
    "                 f\"foreslope:  {central_moments[2][0]}\\n\"\n",
    "                 f\"backslope: {central_moments[2][1]}\\n\"\n",
    "                 f\"flat:           {central_moments[2][2]}\\n\\n\"\n",
    "                 f\"STANDARD DEVIATION:\\n\"\n",
    "                 f\"foreslope:  {central_moments[3][0]}\\n\"\n",
    "                 f\"backslope: {central_moments[3][1]}\\n\"\n",
    "                 f\"flat:           {central_moments[3][2]}\"                 \n",
    "                ),\n",
    "                loc='upper left', prop=dict(size=12), frameon=True, bbox_to_anchor=(1.0,1.0), bbox_transform=ax.transAxes)\n",
    "            annotation.patch.set_boxstyle(\"round,pad=0.,rounding_size=0.2\")\n",
    "            ax.add_artist(annotation)  \n",
    "\n",
    "            # add histogram legend\n",
    "            hist_handles = [lines.Line2D([0,1], [0,0], lw=1, color=c) for c in colors]\n",
    "            hist_legend = ax.legend(handles=hist_handles, labels=['foreslope','backslope','flat'], loc='upper right')\n",
    "            ax.add_artist(hist_legend)\n",
    "\n",
    "            # add standard deviation legend\n",
    "            std_handles = [Rectangle((0,0),1,1,color=c,ec=\"k\",alpha=0.2) for c in std_colors]\n",
    "            std_legend = ax.legend(handles=std_handles, labels=['foreslope 1 std', 'backslope 1 std', 'flat 1 std'], loc='center right', bbox_to_anchor=(1,0.75))\n",
    "            ax.add_artist(std_legend)\n",
    "\n",
    "            # add mean legend\n",
    "            mean_handles = [lines.Line2D([0,0], [0,1], color=c, ls='--') for c in colors]\n",
    "            mean_legend = ax.legend(handles=mean_handles, labels=['foreslope mean', 'backslope mean', 'flat mean'], loc='center right', bbox_to_anchor=(1,0.55))\n",
    "            ax.add_artist(mean_legend)\n",
    "\n",
    "            if tile:\n",
    "                title = f\"Distribution of {polarization} Foreslope, Backslope, and Flat Backscatter Values\\n{dataset_name}\\nMGRS: {tile}\"\n",
    "            else:\n",
    "                title = f\"Distribution of {polarization} Foreslope, Backslope, and Flat Backscatter Values\\n{dataset_name}\"\n",
    "            \n",
    "            ax.set(title=title,\n",
    "                   xlabel='Backscatter',\n",
    "                   ylabel='Frequency')\n",
    "            if output:\n",
    "                plt.savefig(output, dpi=300, transparent='true')\n",
    "            plt.show()"
   ]
  },
  {
   "cell_type": "code",
   "execution_count": null,
   "id": "f16cde9f-8613-4d79-82d1-b7b7a20a34b1",
   "metadata": {},
   "outputs": [],
   "source": [
    "print(\"Select the scale in which to work:\")\n",
    "scale_choice = osl.select_parameter(['log scale', 'power scale'])\n",
    "display(scale_choice)\n",
    "\n",
    "print(\"Would you like to save output plots?\")\n",
    "save_choice = osl.select_parameter([\"Save Plots\", \"Do not save plots\"])\n",
    "display(save_choice)"
   ]
  },
  {
   "cell_type": "markdown",
   "id": "bd0a5329-a7db-4651-9b58-cc57a563359f",
   "metadata": {},
   "source": [
    "### Generate Histograms for MGRS Tiles"
   ]
  },
  {
   "cell_type": "code",
   "execution_count": null,
   "id": "67f090dc-451d-4cb8-ae6f-89a18f1b0cfd",
   "metadata": {},
   "outputs": [],
   "source": [
    "save = save_choice.value == \"Save Plots\"\n",
    "\n",
    "log = scale_choice.value == 'log scale'\n",
    "pols = ['VH', 'VV']\n",
    "\n",
    "vh_total = [np.array([]), np.array([]), np.array([])]\n",
    "vv_total = [np.array([]), np.array([]), np.array([])]\n",
    "\n",
    "if save:\n",
    "    plot_dir = data_dir.parent/f\"{data_dir.name}_PLOTS\"\n",
    "    if not plot_dir.is_dir():\n",
    "        plot_dir.mkdir()\n",
    "        \n",
    "for i, m in enumerate(mgrs):\n",
    "    tile = m.stem\n",
    "    for p in pols:\n",
    "        fore_pth = list(m.glob(f\"*{p}_clip_foreslope_*.tif\"))[0]\n",
    "        back_pth = list(m.glob(f\"*{p}_clip_backslope_*.tif\"))[0]\n",
    "        flat_pth = list(m.glob(f\"*{p}_clip_flat_*.tif\"))[0]\n",
    "        \n",
    "        fore = rxr.open_rasterio(str(fore_pth), masked=True).to_numpy().flatten()\n",
    "        back = rxr.open_rasterio(str(back_pth), masked=True).to_numpy().flatten()\n",
    "        flat = rxr.open_rasterio(str(flat_pth), masked=True).to_numpy().flatten()\n",
    "        \n",
    "        if np.count_nonzero(~np.isnan(fore)) < 1000 or np.count_nonzero(~np.isnan(back)) < 1000 or np.count_nonzero(~np.isnan(flat)) < 1000:\n",
    "            print(f\"Skipping Tile: {tile}\")\n",
    "            print(f\"It contains a backscatter layer with less than 1000 data points\")\n",
    "            break\n",
    "\n",
    "        if log:\n",
    "            fore = 10 * np.log10(fore)\n",
    "            back = 10 * np.log10(back)\n",
    "            flat = 10 * np.log10(flat)     \n",
    "\n",
    "        # calculate means and standard deviations\n",
    "        fore_mean = np.nanmean(fore)\n",
    "        fore_median = np.nanmedian(fore)\n",
    "        fore_mode = stats.mode(fore[~np.isnan(fore)])[0][0]\n",
    "        fore_std = np.nanstd(fore)\n",
    "        \n",
    "        back_mean = np.nanmean(back)\n",
    "        back_median = np.nanmedian(back)\n",
    "        back_mode = stats.mode(back[~np.isnan(back)])[0][0]\n",
    "        back_std = np.nanstd(back)\n",
    "        \n",
    "        flat_mean = np.nanmean(flat)\n",
    "        flat_median = np.nanmedian(flat)\n",
    "        flat_mode = stats.mode(flat[~np.isnan(flat)])[0][0]\n",
    "        flat_std = np.nanstd(flat)  \n",
    "        \n",
    "        means = [fore_mean, back_mean, flat_mean]\n",
    "        medians = [fore_median, back_median, flat_median]\n",
    "        modes = [fore_mode, back_mode, flat_mode]\n",
    "        stds = [fore_std, back_std, flat_std]\n",
    "        central_moments = [means, medians, modes, stds]\n",
    "        \n",
    "        if save:\n",
    "            output = m.parents[1]/f\"{m.parents[0].relative_to(m.parents[1])}_PLOTS/{m.stem}_{p}\"\n",
    "        else:\n",
    "            output = None\n",
    "            \n",
    "        if p == 'VH':\n",
    "            minmax = [-19, -7]\n",
    "        else:\n",
    "            minmax = [-14, -1]\n",
    "        \n",
    "        plot_backscatter_distributions_by_slope(fore, back, flat, central_moments, p, data_dir.stem, tile=tile, backscatter_minmax=minmax, output=output)\n",
    "    \n",
    "    ## uncomment following 2 lines for development if stopping after 2nd plot\n",
    "    # if i == 1:\n",
    "    #     break"
   ]
  },
  {
   "cell_type": "markdown",
   "id": "92be7324-1d64-4fdd-bfc9-69af4c97c548",
   "metadata": {},
   "source": [
    "### Generate Summary Histograms for Full Scene Data"
   ]
  },
  {
   "cell_type": "code",
   "execution_count": null,
   "id": "cc485cf2-d681-4d08-be62-0fffede0239f",
   "metadata": {},
   "outputs": [],
   "source": [
    "for p in pols:\n",
    "    fore_pth = list(data_dir.glob(f\"*{p}_clip_foreslope.tif\"))[0]\n",
    "    back_pth = list(data_dir.glob(f\"*{p}_clip_backslope.tif\"))[0]\n",
    "    flat_pth = list(data_dir.glob(f\"*{p}_clip_flat.tif\"))[0]\n",
    "    \n",
    "    fore = rxr.open_rasterio(str(fore_pth), masked=True).to_numpy().flatten()\n",
    "    back = rxr.open_rasterio(str(back_pth), masked=True).to_numpy().flatten()\n",
    "    flat = rxr.open_rasterio(str(flat_pth), masked=True).to_numpy().flatten()\n",
    "    \n",
    "    if log:\n",
    "        fore = 10 * np.log10(fore)\n",
    "        back = 10 * np.log10(back)\n",
    "        flat = 10 * np.log10(flat)    \n",
    "    \n",
    "    # calculate means and standard deviations for full scene\n",
    "    means = [np.nanmean(fore), np.nanmean(back), np.nanmean(flat)]\n",
    "    medians = [np.nanmedian(fore), np.nanmedian(back), np.nanmedian(flat)]\n",
    "    modes = [stats.mode(fore[~np.isnan(fore)])[0][0], stats.mode(back[~np.isnan(back)])[0][0], stats.mode(flat[~np.isnan(flat)])[0][0]]\n",
    "    stds = [np.nanstd(fore), np.nanstd(back), np.nanstd(flat)]\n",
    "    central_moments = [means, medians, modes, stds]\n",
    "    \n",
    "    if save:\n",
    "        output = f\"{plot_dir}/full_scene_{p}_PLOT\"\n",
    "    else:\n",
    "        output = None        \n",
    "        \n",
    "    if p == 'VH':\n",
    "        minmax = [-19, -7]\n",
    "        vh_fore = fore\n",
    "        vh_back = back\n",
    "    else:\n",
    "        minmax = [-14, -1]\n",
    "        vv_fore = fore\n",
    "        vv_back = back\n",
    "\n",
    "    plot_backscatter_distributions_by_slope(fore, back, flat, central_moments, f'FULL SCENE {p}', data_dir.stem, backscatter_minmax=minmax, output=output)"
   ]
  },
  {
   "cell_type": "markdown",
   "id": "b3396639-e04e-4e81-9769-a154e1f11945",
   "metadata": {},
   "source": [
    "---\n",
    "## Subset datasets for T-tests\n",
    "\n",
    "For each polarization:\n",
    "- avoid using adjoining foreslope and backslope pixels to ensure independent sampling\n",
    "    - keep every 30th foreslope pixel value, starting at index 0\n",
    "    - keep every 30th backslope pixel value, starting at index 15\n",
    "- remove nan values from subsets\n",
    "- select n pixels from each subset (as defined by `sample_size` below"
   ]
  },
  {
   "cell_type": "code",
   "execution_count": null,
   "id": "fc603af1-5c98-4074-bd6b-1dfdba16a977",
   "metadata": {},
   "outputs": [],
   "source": [
    "sample_size = 500\n",
    "\n",
    "vh_fore_subset = vh_fore[::30]\n",
    "vh_fore_subset = vh_fore_subset[~np.isnan(vh_fore_subset)]\n",
    "vh_fore_subset = np.random.choice(vh_fore_subset, size=sample_size, replace=False)\n",
    "\n",
    "vh_back_subset = vh_back[15::30]\n",
    "vh_back_subset = vh_back_subset[~np.isnan(vh_back_subset)]\n",
    "vh_back_subset = np.random.choice(vh_back_subset, size=sample_size, replace=False)\n",
    "\n",
    "vv_fore_subset = vv_fore[::30]\n",
    "vv_fore_subset = vv_fore_subset[~np.isnan(vv_fore_subset)]\n",
    "vv_fore_subset = np.random.choice(vv_fore_subset, size=sample_size, replace=False)\n",
    "\n",
    "vv_back_subset = vv_back[15::30]\n",
    "vv_back_subset = vv_back_subset[~np.isnan(vv_back_subset)]\n",
    "vv_back_subset = np.random.choice(vv_back_subset, size=sample_size, replace=False)"
   ]
  },
  {
   "cell_type": "markdown",
   "id": "b021f67c-b543-44a0-a748-083f57396f35",
   "metadata": {},
   "source": [
    "---\n",
    "## Perform Shapiro-Wilk tests to confirm that the subset backscatter data are normally distributed for each polarization and slope\n",
    "\n",
    "### VH Foreslope Normality"
   ]
  },
  {
   "cell_type": "code",
   "execution_count": null,
   "id": "a96102fd-1f9d-454d-9579-d9ff1234d6ba",
   "metadata": {},
   "outputs": [],
   "source": [
    "import math\n",
    "vh_fore_stats = stats.describe(vh_fore_subset)\n",
    "print(f\"vh_fore_subset:\\n{vh_fore_stats}\")\n",
    "mean = vh_fore_stats.mean\n",
    "std = math.sqrt(vh_fore_stats.variance)"
   ]
  },
  {
   "cell_type": "code",
   "execution_count": null,
   "id": "ad2b215a-14a1-46b3-bd4b-67816fc0af1e",
   "metadata": {},
   "outputs": [],
   "source": [
    "_, ax = plt.subplots(figsize=(8, 6))\n",
    "ax.hist(vh_fore_subset, bins=50)\n",
    "ax.set(title='VH Foreslope Subset Pixel Distribution', xlabel='backscatter', ylabel='Frequency')\n",
    "plt.show()"
   ]
  },
  {
   "cell_type": "code",
   "execution_count": null,
   "id": "fa6b674d-70c5-49ae-9008-1fe4a17d9a82",
   "metadata": {},
   "outputs": [],
   "source": [
    "stats.anderson(vh_fore_subset, dist='norm')"
   ]
  },
  {
   "cell_type": "code",
   "execution_count": null,
   "id": "15a8b8b6-0883-4742-bfc8-7167dd319a8a",
   "metadata": {},
   "outputs": [],
   "source": [
    "vh_fore_shapiro = stats.shapiro(vh_fore_subset)\n",
    "print(f\"{vh_fore_shapiro}\\n\")\n",
    "vh_fore_normal = vh_fore_shapiro.pvalue >= 0.05\n",
    "if vh_fore_normal:\n",
    "    print(f\"The VH foreslope subset backscatter values are normally distributed\")\n",
    "else:\n",
    "    print(f\"The VH foreslope subset backscatter values are NOT normally distributed\")"
   ]
  },
  {
   "cell_type": "markdown",
   "id": "06225e53-73ee-4016-bebd-071210f70ddc",
   "metadata": {},
   "source": [
    "### VH Backslope Normality"
   ]
  },
  {
   "cell_type": "code",
   "execution_count": null,
   "id": "3ab674bc-4377-4b8d-91f6-ec71319bdd80",
   "metadata": {},
   "outputs": [],
   "source": [
    "_, ax = plt.subplots(figsize=(8, 6))\n",
    "ax.hist(vh_back_subset, bins=200)\n",
    "ax.set(title='VH Backslope Subset Pixel Distribution', xlabel='backscatter', ylabel='Frequency')\n",
    "plt.show()"
   ]
  },
  {
   "cell_type": "code",
   "execution_count": null,
   "id": "c35cf1b8-2591-4457-9d66-f0e7ce19d877",
   "metadata": {},
   "outputs": [],
   "source": [
    "stats.anderson(vh_back_subset, dist='norm')"
   ]
  },
  {
   "cell_type": "code",
   "execution_count": null,
   "id": "29525912-d008-4282-bb91-127f9c83fc2a",
   "metadata": {},
   "outputs": [],
   "source": [
    "vh_back_shapiro = stats.shapiro(vh_back_subset)\n",
    "print(f\"{vh_back_shapiro}\\n\")\n",
    "vh_back_normal = vh_back_shapiro.pvalue >= 0.05\n",
    "if vh_back_normal:\n",
    "    print(f\"The VH backslope subset backscatter values are normally distributed\")\n",
    "else:\n",
    "    print(f\"The VH backslope subset backscatter values are NOT normally distributed\")"
   ]
  },
  {
   "cell_type": "markdown",
   "id": "1271026b-ee2e-45d2-b118-60b16243f3a2",
   "metadata": {},
   "source": [
    "### VV Foreslope Normality"
   ]
  },
  {
   "cell_type": "code",
   "execution_count": null,
   "id": "3b45ecb9-bb9c-44fb-baae-0de9b9f790b3",
   "metadata": {},
   "outputs": [],
   "source": [
    "_, ax = plt.subplots(figsize=(8, 6))\n",
    "ax.hist(vv_fore_subset, bins=200)\n",
    "ax.set(title='VV Foreslope Subset Pixel Distribution', xlabel='backscatter', ylabel='Frequency')\n",
    "plt.show()"
   ]
  },
  {
   "cell_type": "code",
   "execution_count": null,
   "id": "18e97373-0a88-4f7c-be8d-22b08f417532",
   "metadata": {},
   "outputs": [],
   "source": [
    "stats.anderson(vv_fore_subset, dist='norm')"
   ]
  },
  {
   "cell_type": "code",
   "execution_count": null,
   "id": "3a0b3ad1-4f0a-41a5-8988-cdf730032ef6",
   "metadata": {},
   "outputs": [],
   "source": [
    "vv_fore_shapiro = stats.shapiro(vv_fore_subset)\n",
    "print(f\"{vv_fore_shapiro}\\n\")\n",
    "vv_fore_normal = vv_fore_shapiro.pvalue >= 0.05\n",
    "if vv_fore_normal:\n",
    "    print(f\"The VV foreslope subset backscatter values are normally distributed\")\n",
    "else:\n",
    "    print(f\"The VV foreslope subset backscatter values are NOT normally distributed\")"
   ]
  },
  {
   "cell_type": "markdown",
   "id": "f31ea39e-b9ef-426b-8b47-9a9db6d7c497",
   "metadata": {},
   "source": [
    "### VV Backslope Normality"
   ]
  },
  {
   "cell_type": "code",
   "execution_count": null,
   "id": "31ea32b8-dc7d-47e6-8660-4e8baf2b952d",
   "metadata": {},
   "outputs": [],
   "source": [
    "_, ax = plt.subplots(figsize=(8, 6))\n",
    "ax.hist(vv_back_subset, bins=200)\n",
    "ax.set(title='VV Backslope Subset Pixel Distribution', xlabel='backscatter', ylabel='Frequency')\n",
    "plt.show()"
   ]
  },
  {
   "cell_type": "code",
   "execution_count": null,
   "id": "7ca031cc-14ea-415a-a49e-9434ac2bd01c",
   "metadata": {},
   "outputs": [],
   "source": [
    "stats.anderson(vv_back_subset, dist='norm')"
   ]
  },
  {
   "cell_type": "code",
   "execution_count": null,
   "id": "5834cf5b-25bd-48ce-8767-5b12dc3518b1",
   "metadata": {},
   "outputs": [],
   "source": [
    "vv_back_shapiro = stats.shapiro(vv_back_subset)\n",
    "print(f\"{vv_back_shapiro}\\n\")\n",
    "vv_back_normal = vv_back_shapiro.pvalue >= 0.05\n",
    "if vv_back_normal:\n",
    "    print(f\"The VV backslope subset backscatter values are normally distributed\")\n",
    "else:\n",
    "    print(f\"The VV backslope subset backscatter values are NOT normally distributed\")"
   ]
  },
  {
   "cell_type": "markdown",
   "id": "24a0a61e-4408-4e2b-ae16-2d2439ce6364",
   "metadata": {},
   "source": [
    "---\n",
    "## VH T-Tests\n",
    "\n",
    "### Print some general sample stats"
   ]
  },
  {
   "cell_type": "code",
   "execution_count": null,
   "id": "3baf8f4c-3cbe-4c75-8ead-ee36810c5f51",
   "metadata": {},
   "outputs": [],
   "source": [
    "print(f\"vh_fore_subset:\\n{stats.describe(vh_fore_subset)}\")\n",
    "print(f\"\\nvh_back_subset:\\n{stats.describe(vh_back_subset)}\")"
   ]
  },
  {
   "cell_type": "markdown",
   "id": "ba2ef365-3caf-4b0a-b562-594a8adc23fc",
   "metadata": {},
   "source": [
    "### VH T-test for means of two independent samples from descriptive statistics.\n",
    "https://docs.scipy.org/doc/scipy/reference/generated/scipy.stats.ttest_ind_from_stats.html#scipy.stats.ttest_ind_from_stats\n",
    "\n",
    "- This is a test for the null hypothesis that two independent samples have identical average (expected) values."
   ]
  },
  {
   "cell_type": "code",
   "execution_count": null,
   "id": "a12e272f-e4d6-46b9-ad06-040629d8f59d",
   "metadata": {},
   "outputs": [],
   "source": [
    "stats.ttest_ind_from_stats(np.mean(vh_fore_subset), np.std(vh_fore_subset), len(vh_fore_subset), \n",
    "                           np.mean(vh_back_subset), np.std(vh_back_subset), len(vh_back_subset), \n",
    "                           equal_var=False, alternative='two-sided')"
   ]
  },
  {
   "cell_type": "markdown",
   "id": "1cc755ac-fe69-46aa-b673-0d0173775e30",
   "metadata": {},
   "source": [
    "### VH T-test for the means of two independent samples.\n",
    "https://docs.scipy.org/doc/scipy/reference/generated/scipy.stats.ttest_ind.html\n",
    "\n",
    "- This is a test for the null hypothesis that 2 independent samples have identical average (expected) values"
   ]
  },
  {
   "cell_type": "code",
   "execution_count": null,
   "id": "4bad5cd0-24e5-449f-8de2-7a5ee3292c17",
   "metadata": {},
   "outputs": [],
   "source": [
    "stats.ttest_ind(vh_fore_subset, vh_back_subset, equal_var=False)"
   ]
  },
  {
   "cell_type": "markdown",
   "id": "76f57629-f581-4d52-ad4d-4f7cad406298",
   "metadata": {},
   "source": [
    "### VH T-test on TWO RELATED samples of scores, a and b.\n",
    "https://docs.scipy.org/doc/scipy/reference/generated/scipy.stats.ttest_rel.html\n",
    "\n",
    "- This is a test for the null hypothesis that two related or repeated samples have identical average (expected) values."
   ]
  },
  {
   "cell_type": "code",
   "execution_count": null,
   "id": "188aae33-6d94-4651-b6fc-a6b5a6994ced",
   "metadata": {},
   "outputs": [],
   "source": [
    "stats.ttest_rel(vh_fore_subset, vh_back_subset)"
   ]
  },
  {
   "cell_type": "markdown",
   "id": "bcb86fe0-6f2c-46a5-8bd9-ac69758a4e5b",
   "metadata": {},
   "source": [
    "---\n",
    "## VV T-Tests\n",
    "\n",
    "### Print some general sample stats"
   ]
  },
  {
   "cell_type": "code",
   "execution_count": null,
   "id": "0b9adf88-9215-4315-8be0-c4488e239a48",
   "metadata": {},
   "outputs": [],
   "source": [
    "print(f\"vv_fore_subset:\\n{stats.describe(vv_fore_subset)}\")\n",
    "print(f\"\\nvv_back_subset:\\n{stats.describe(vv_back_subset)}\")"
   ]
  },
  {
   "cell_type": "markdown",
   "id": "580a8e4b-59cd-47ff-905a-f328050cbe7a",
   "metadata": {},
   "source": [
    "### VV T-test for means of two independent samples from descriptive statistics.\n",
    "https://docs.scipy.org/doc/scipy/reference/generated/scipy.stats.ttest_ind_from_stats.html#scipy.stats.ttest_ind_from_stats\n",
    "\n",
    "- This is a test for the null hypothesis that two independent samples have identical average (expected) values."
   ]
  },
  {
   "cell_type": "code",
   "execution_count": null,
   "id": "4b98cbb0-dff7-48a2-9b1e-870b3e22e684",
   "metadata": {},
   "outputs": [],
   "source": [
    "stats.ttest_ind_from_stats(np.mean(vv_fore_subset), np.std(vv_fore_subset), len(vv_fore_subset), \n",
    "                           np.mean(vv_back_subset), np.std(vv_back_subset), len(vv_back_subset), \n",
    "                           equal_var=False, alternative='two-sided')"
   ]
  },
  {
   "cell_type": "markdown",
   "id": "441962c9-75df-430f-9d1a-ca73b25605b4",
   "metadata": {},
   "source": [
    "### VV T-test for the means of two independent samples.\n",
    "https://docs.scipy.org/doc/scipy/reference/generated/scipy.stats.ttest_ind.html\n",
    "\n",
    "- This is a test for the null hypothesis that 2 independent samples have identical average (expected) values"
   ]
  },
  {
   "cell_type": "code",
   "execution_count": null,
   "id": "6c90365c-b113-45c9-b071-6c0183077b97",
   "metadata": {},
   "outputs": [],
   "source": [
    "stats.ttest_ind(vv_fore_subset, vv_back_subset, equal_var=False)"
   ]
  },
  {
   "cell_type": "markdown",
   "id": "9697895b-e221-458e-9384-5b93fcf766b6",
   "metadata": {},
   "source": [
    "### VV T-test on TWO RELATED samples of scores, a and b.\n",
    "https://docs.scipy.org/doc/scipy/reference/generated/scipy.stats.ttest_rel.html\n",
    "\n",
    "- This is a test for the null hypothesis that two related or repeated samples have identical average (expected) values."
   ]
  },
  {
   "cell_type": "code",
   "execution_count": null,
   "id": "a464f364-0b60-467d-9179-3daf816a815c",
   "metadata": {
    "tags": []
   },
   "outputs": [],
   "source": [
    "stats.ttest_rel(vv_fore_subset, vv_back_subset)"
   ]
  },
  {
   "cell_type": "markdown",
   "id": "6fc4618f-952a-4d9a-8d76-dc92d1471856",
   "metadata": {},
   "source": [
    "*Backscatter_Distributions_by_Slope - Version 2.0.0 - May 2022*\n",
    "\n",
    "*Change log*\n",
    "\n",
    "- *Do not remove outliers*\n",
    "- *Fixed ranges for x-axis scaling*\n",
    "  - *different ranges for VH and VV polarizations*\n",
    "- *Add median and mode to central moments*"
   ]
  }
 ],
 "metadata": {
  "kernelspec": {
   "display_name": "rtc_analysis [conda env:.local-rtc_analysis]",
   "language": "python",
   "name": "conda-env-.local-rtc_analysis-py"
  },
  "language_info": {
   "codemirror_mode": {
    "name": "ipython",
    "version": 3
   },
   "file_extension": ".py",
   "mimetype": "text/x-python",
   "name": "python",
   "nbconvert_exporter": "python",
   "pygments_lexer": "ipython3",
   "version": "3.9.16"
  }
 },
 "nbformat": 4,
 "nbformat_minor": 5
}
