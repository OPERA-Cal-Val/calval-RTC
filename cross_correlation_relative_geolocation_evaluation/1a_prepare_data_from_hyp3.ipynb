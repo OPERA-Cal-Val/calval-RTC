{
 "cells": [
  {
   "cell_type": "markdown",
   "id": "3aa8a08c-8eab-47a0-a418-f51380692110",
   "metadata": {},
   "source": [
    "# Get data from Hyp3"
   ]
  },
  {
   "cell_type": "markdown",
   "id": "4714d28c-cb62-4251-9941-4292edcf678f",
   "metadata": {},
   "source": [
    "### Import Python libraries"
   ]
  },
  {
   "cell_type": "code",
   "execution_count": null,
   "id": "4972fff2-efed-468e-afdf-fdf6ae52a198",
   "metadata": {},
   "outputs": [],
   "source": [
    "import pathlib\n",
    "\n",
    "import opensarlab_lib as asfn"
   ]
  },
  {
   "cell_type": "markdown",
   "id": "d6132d3c-8df6-4d25-8987-081e5da84396",
   "metadata": {},
   "source": [
    "### List of Hyp3 product urls to download"
   ]
  },
  {
   "cell_type": "code",
   "execution_count": null,
   "id": "e83e1c57-df89-455c-b507-02c593aadd73",
   "metadata": {},
   "outputs": [],
   "source": [
    "FILE_URLS = [\n",
    "    \"https://d3gm2hf49xd6jj.cloudfront.net/905f0e00-c481-4e66-9dad-d4a6e19ad3b6/S1A_IW_20230108T135249_DVP_RTC30_G_gpuned_147E.zip\",\n",
    "    \"https://d3gm2hf49xd6jj.cloudfront.net/309b9228-45a1-4727-993f-daaeb1ad8d53/S1A_IW_20230108T015040_DVP_RTC30_G_gpuned_12E6.zip\",\n",
    "    \"https://d3gm2hf49xd6jj.cloudfront.net/3d5d2d90-ff0f-41cd-8f68-bc3b818ad95f/S1A_IW_20230217T162852_DVP_RTC30_G_gpuned_F015.zip\",\n",
    "    \"https://d3gm2hf49xd6jj.cloudfront.net/fafea39c-87cb-492a-9695-bc6375cd574a/S1A_IW_20230215T164448_DVP_RTC30_G_gpuned_159B.zip\",\n",
    "    \"https://d3gm2hf49xd6jj.cloudfront.net/c2d35486-2fd5-412f-9ab2-21a081da4804/S1A_IW_20230221T155639_DVP_RTC30_G_gpuned_F367.zip\",\n",
    "    \"https://d3gm2hf49xd6jj.cloudfront.net/d54446f2-9266-4755-abaa-3a0965c11475/S1A_IW_20230217T162916_DVP_RTC30_G_gpuned_E2F8.zip\",\n",
    "    \"https://d3gm2hf49xd6jj.cloudfront.net/38854d11-c30a-4853-86c5-0370a552eab7/S1A_IW_20230215T032116_DVP_RTC30_G_gpuned_8695.zip\",\n",
    "    \"https://d3gm2hf49xd6jj.cloudfront.net/9cea61f0-6337-4f64-b99e-d7bcf7126357/S1A_IW_20230215T032141_DVP_RTC30_G_gpuned_303C.zip\",\n",
    "    \"https://d3gm2hf49xd6jj.cloudfront.net/208fedff-05b0-40af-b2d0-3e6cd8d16006/S1A_IW_20230217T162827_DVP_RTC30_G_gpuned_01FF.zip\"\n",
    "]"
   ]
  },
  {
   "cell_type": "markdown",
   "id": "47e5d766-fa17-4879-abbd-8488846a6969",
   "metadata": {},
   "source": [
    "### Commonly used helps"
   ]
  },
  {
   "cell_type": "code",
   "execution_count": null,
   "id": "2333befd-e77a-495c-8dee-551d0dd42167",
   "metadata": {},
   "outputs": [],
   "source": [
    "CWD = pathlib.Path().absolute()\n",
    "CWD"
   ]
  },
  {
   "cell_type": "markdown",
   "id": "91f76978-d03f-4410-91e9-c03271c06627",
   "metadata": {},
   "source": [
    "### Download RTCs and unzip"
   ]
  },
  {
   "cell_type": "code",
   "execution_count": null,
   "id": "30450c3d-9983-43cc-9f86-88e5cbcecbf3",
   "metadata": {},
   "outputs": [],
   "source": [
    "!mkdir -p {CWD}/data/zips\n",
    "with asfn.work_dir(f\"{CWD}/data/\"):\n",
    "    for file_url in FILE_URLS:\n",
    "        file_name = file_url.split(\"/\")[-1]\n",
    "        does_file_path_exist = pathlib.Path(f'./zips/{file_name}').is_file()\n",
    "\n",
    "        print(f\"File '{file_name}' from URL '{file_url}' has path '{does_file_path_exist}'\")\n",
    "\n",
    "        if not does_file_path_exist:\n",
    "            #pass\n",
    "            !wget -O ./zips/{file_name} {file_url}\n",
    "            !unzip ./zips/{file_name}"
   ]
  },
  {
   "cell_type": "code",
   "execution_count": null,
   "id": "4f691353-f6e2-4895-85cc-e4e53dbab2ac",
   "metadata": {},
   "outputs": [],
   "source": []
  }
 ],
 "metadata": {
  "kernelspec": {
   "display_name": "opera-rtc-cross-corr [conda env:.local-opera-rtc-cross-corr]",
   "language": "python",
   "name": "conda-env-.local-opera-rtc-cross-corr-py"
  },
  "language_info": {
   "codemirror_mode": {
    "name": "ipython",
    "version": 3
   },
   "file_extension": ".py",
   "mimetype": "text/x-python",
   "name": "python",
   "nbconvert_exporter": "python",
   "pygments_lexer": "ipython3",
   "version": "3.11.0"
  }
 },
 "nbformat": 4,
 "nbformat_minor": 5
}
