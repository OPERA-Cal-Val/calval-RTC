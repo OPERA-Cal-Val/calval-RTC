{
 "cells": [
  {
   "cell_type": "markdown",
   "id": "3aa8a08c-8eab-47a0-a418-f51380692110",
   "metadata": {},
   "source": [
    "# Get data from Hyp3"
   ]
  },
  {
   "cell_type": "markdown",
   "id": "4714d28c-cb62-4251-9941-4292edcf678f",
   "metadata": {},
   "source": [
    "### Import Python libraries"
   ]
  },
  {
   "cell_type": "code",
   "execution_count": 1,
   "id": "4972fff2-efed-468e-afdf-fdf6ae52a198",
   "metadata": {},
   "outputs": [],
   "source": [
    "import pathlib\n",
    "\n",
    "import opensarlab_lib as asfn"
   ]
  },
  {
   "cell_type": "markdown",
   "id": "d6132d3c-8df6-4d25-8987-081e5da84396",
   "metadata": {},
   "source": [
    "### List of Hyp3 product urls to download"
   ]
  },
  {
   "cell_type": "code",
   "execution_count": 2,
   "id": "e83e1c57-df89-455c-b507-02c593aadd73",
   "metadata": {},
   "outputs": [],
   "source": [
    "FILE_URLS = [\n",
    "    \"https://d3gm2hf49xd6jj.cloudfront.net/2ce2311c-daba-4228-b2cd-4de7a142a4c8/S1B_IW_20170312T031939_DVP_RTC30_G_gpuned_90F4.zip\",\n",
    "    \"https://d3gm2hf49xd6jj.cloudfront.net/6581c0be-c0f1-46bc-92f4-47131a8497cd/S1A_IW_20150422T032016_DVP_RTC30_G_gpuned_AEEA.zip\",\n",
    "    \"https://d3gm2hf49xd6jj.cloudfront.net/5336db17-b7cf-46eb-ad0b-07b81e6cebf3/S1A_IW_20141211T032016_SVP_RTC30_G_gpuned_1123.zip\",\n",
    "    \"https://d3gm2hf49xd6jj.cloudfront.net/aa59f083-7626-4385-b621-2cc5af66635c/S1B_IW_20170920T031948_DVP_RTC30_G_gpuned_6AED.zip\"\n",
    "]"
   ]
  },
  {
   "cell_type": "markdown",
   "id": "47e5d766-fa17-4879-abbd-8488846a6969",
   "metadata": {},
   "source": [
    "### Commonly used helps"
   ]
  },
  {
   "cell_type": "code",
   "execution_count": 3,
   "id": "2333befd-e77a-495c-8dee-551d0dd42167",
   "metadata": {},
   "outputs": [
    {
     "data": {
      "text/plain": [
       "PosixPath('/home/jovyan/calval-RTC/cross_correlation_relative_geolocation_evaluation')"
      ]
     },
     "execution_count": 3,
     "metadata": {},
     "output_type": "execute_result"
    }
   ],
   "source": [
    "CWD = pathlib.Path().absolute()\n",
    "CWD"
   ]
  },
  {
   "cell_type": "markdown",
   "id": "91f76978-d03f-4410-91e9-c03271c06627",
   "metadata": {},
   "source": [
    "### Download RTCs and unzip"
   ]
  },
  {
   "cell_type": "code",
   "execution_count": 4,
   "id": "30450c3d-9983-43cc-9f86-88e5cbcecbf3",
   "metadata": {},
   "outputs": [
    {
     "name": "stdout",
     "output_type": "stream",
     "text": [
      "File 'S1B_IW_20170312T031939_DVP_RTC30_G_gpuned_90F4.zip' from URL 'https://d3gm2hf49xd6jj.cloudfront.net/2ce2311c-daba-4228-b2cd-4de7a142a4c8/S1B_IW_20170312T031939_DVP_RTC30_G_gpuned_90F4.zip' has path 'False'\n",
      "--2023-04-12 21:50:59--  https://d3gm2hf49xd6jj.cloudfront.net/2ce2311c-daba-4228-b2cd-4de7a142a4c8/S1B_IW_20170312T031939_DVP_RTC30_G_gpuned_90F4.zip\n",
      "Resolving d3gm2hf49xd6jj.cloudfront.net (d3gm2hf49xd6jj.cloudfront.net)... 18.161.3.168, 18.161.3.115, 18.161.3.23, ...\n",
      "Connecting to d3gm2hf49xd6jj.cloudfront.net (d3gm2hf49xd6jj.cloudfront.net)|18.161.3.168|:443... connected.\n",
      "HTTP request sent, awaiting response... 200 OK\n",
      "Length: 450810003 (430M) [application/zip]\n",
      "Saving to: ‘./zips/S1B_IW_20170312T031939_DVP_RTC30_G_gpuned_90F4.zip’\n",
      "\n",
      "./zips/S1B_IW_20170 100%[===================>] 429.93M  37.1MB/s    in 12s     \n",
      "\n",
      "2023-04-12 21:51:11 (36.6 MB/s) - ‘./zips/S1B_IW_20170312T031939_DVP_RTC30_G_gpuned_90F4.zip’ saved [450810003/450810003]\n",
      "\n",
      "Archive:  ./zips/S1B_IW_20170312T031939_DVP_RTC30_G_gpuned_90F4.zip\n",
      "   creating: S1B_IW_20170312T031939_DVP_RTC30_G_gpuned_90F4/\n",
      "  inflating: S1B_IW_20170312T031939_DVP_RTC30_G_gpuned_90F4/S1B_IW_20170312T031939_DVP_RTC30_G_gpuned_90F4_ls_map.tif  \n",
      "  inflating: S1B_IW_20170312T031939_DVP_RTC30_G_gpuned_90F4/S1B_IW_20170312T031939_DVP_RTC30_G_gpuned_90F4_VV.tif.xml  \n",
      "  inflating: S1B_IW_20170312T031939_DVP_RTC30_G_gpuned_90F4/S1B_IW_20170312T031939_DVP_RTC30_G_gpuned_90F4_ls_map.tif.xml  \n",
      "  inflating: S1B_IW_20170312T031939_DVP_RTC30_G_gpuned_90F4/S1B_IW_20170312T031939_DVP_RTC30_G_gpuned_90F4_VH.tif.xml  \n",
      "  inflating: S1B_IW_20170312T031939_DVP_RTC30_G_gpuned_90F4/S1B_IW_20170312T031939_DVP_RTC30_G_gpuned_90F4_rgb.png  \n",
      "  inflating: S1B_IW_20170312T031939_DVP_RTC30_G_gpuned_90F4/S1B_IW_20170312T031939_DVP_RTC30_G_gpuned_90F4_VH.tif  \n",
      "  inflating: S1B_IW_20170312T031939_DVP_RTC30_G_gpuned_90F4/S1B_IW_20170312T031939_DVP_RTC30_G_gpuned_90F4_rgb.kmz  \n",
      "  inflating: S1B_IW_20170312T031939_DVP_RTC30_G_gpuned_90F4/S1B_IW_20170312T031939_DVP_RTC30_G_gpuned_90F4_shape.prj  \n",
      "  inflating: S1B_IW_20170312T031939_DVP_RTC30_G_gpuned_90F4/S1B_IW_20170312T031939_DVP_RTC30_G_gpuned_90F4.png.xml  \n",
      "  inflating: S1B_IW_20170312T031939_DVP_RTC30_G_gpuned_90F4/S1B_IW_20170312T031939_DVP_RTC30_G_gpuned_90F4.png  \n",
      "  inflating: S1B_IW_20170312T031939_DVP_RTC30_G_gpuned_90F4/S1B_IW_20170312T031939_DVP_RTC30_G_gpuned_90F4_shape.shp  \n",
      "  inflating: S1B_IW_20170312T031939_DVP_RTC30_G_gpuned_90F4/S1B_IW_20170312T031939_DVP_RTC30_G_gpuned_90F4.README.md.txt  \n",
      "  inflating: S1B_IW_20170312T031939_DVP_RTC30_G_gpuned_90F4/S1B_IW_20170312T031939_DVP_RTC30_G_gpuned_90F4_rgb.png.xml  \n",
      "  inflating: S1B_IW_20170312T031939_DVP_RTC30_G_gpuned_90F4/S1B_IW_20170312T031939_DVP_RTC30_G_gpuned_90F4_shape.dbf  \n",
      "  inflating: S1B_IW_20170312T031939_DVP_RTC30_G_gpuned_90F4/S1B_IW_20170312T031939_DVP_RTC30_G_gpuned_90F4.kmz  \n",
      "  inflating: S1B_IW_20170312T031939_DVP_RTC30_G_gpuned_90F4/S1B_IW_20170312T031939_DVP_RTC30_G_gpuned_90F4.png.aux.xml  \n",
      "  inflating: S1B_IW_20170312T031939_DVP_RTC30_G_gpuned_90F4/S1B_IW_20170312T031939_DVP_RTC30_G_gpuned_90F4_shape.shx  \n",
      "  inflating: S1B_IW_20170312T031939_DVP_RTC30_G_gpuned_90F4/S1B_IW_20170312T031939_DVP_RTC30_G_gpuned_90F4_VV.tif  \n",
      "  inflating: S1B_IW_20170312T031939_DVP_RTC30_G_gpuned_90F4/S1B_IW_20170312T031939_DVP_RTC30_G_gpuned_90F4.log  \n",
      "  inflating: S1B_IW_20170312T031939_DVP_RTC30_G_gpuned_90F4/S1B_IW_20170312T031939_DVP_RTC30_G_gpuned_90F4_rgb.png.aux.xml  \n",
      "File 'S1A_IW_20150422T032016_DVP_RTC30_G_gpuned_AEEA.zip' from URL 'https://d3gm2hf49xd6jj.cloudfront.net/6581c0be-c0f1-46bc-92f4-47131a8497cd/S1A_IW_20150422T032016_DVP_RTC30_G_gpuned_AEEA.zip' has path 'False'\n",
      "--2023-04-12 21:51:15--  https://d3gm2hf49xd6jj.cloudfront.net/6581c0be-c0f1-46bc-92f4-47131a8497cd/S1A_IW_20150422T032016_DVP_RTC30_G_gpuned_AEEA.zip\n",
      "Resolving d3gm2hf49xd6jj.cloudfront.net (d3gm2hf49xd6jj.cloudfront.net)... 18.161.3.81, 18.161.3.115, 18.161.3.23, ...\n",
      "Connecting to d3gm2hf49xd6jj.cloudfront.net (d3gm2hf49xd6jj.cloudfront.net)|18.161.3.81|:443... connected.\n",
      "HTTP request sent, awaiting response... 200 OK\n",
      "Length: 452714674 (432M) [application/zip]\n",
      "Saving to: ‘./zips/S1A_IW_20150422T032016_DVP_RTC30_G_gpuned_AEEA.zip’\n",
      "\n",
      "./zips/S1A_IW_20150 100%[===================>] 431.74M  36.0MB/s    in 11s     \n",
      "\n",
      "2023-04-12 21:51:27 (37.6 MB/s) - ‘./zips/S1A_IW_20150422T032016_DVP_RTC30_G_gpuned_AEEA.zip’ saved [452714674/452714674]\n",
      "\n",
      "Archive:  ./zips/S1A_IW_20150422T032016_DVP_RTC30_G_gpuned_AEEA.zip\n",
      "   creating: S1A_IW_20150422T032016_DVP_RTC30_G_gpuned_AEEA/\n",
      "  inflating: S1A_IW_20150422T032016_DVP_RTC30_G_gpuned_AEEA/S1A_IW_20150422T032016_DVP_RTC30_G_gpuned_AEEA.log  \n",
      "  inflating: S1A_IW_20150422T032016_DVP_RTC30_G_gpuned_AEEA/S1A_IW_20150422T032016_DVP_RTC30_G_gpuned_AEEA_ls_map.tif.xml  \n",
      "  inflating: S1A_IW_20150422T032016_DVP_RTC30_G_gpuned_AEEA/S1A_IW_20150422T032016_DVP_RTC30_G_gpuned_AEEA_VH.tif  \n",
      "  inflating: S1A_IW_20150422T032016_DVP_RTC30_G_gpuned_AEEA/S1A_IW_20150422T032016_DVP_RTC30_G_gpuned_AEEA.png.xml  \n",
      "  inflating: S1A_IW_20150422T032016_DVP_RTC30_G_gpuned_AEEA/S1A_IW_20150422T032016_DVP_RTC30_G_gpuned_AEEA.png.aux.xml  \n",
      "  inflating: S1A_IW_20150422T032016_DVP_RTC30_G_gpuned_AEEA/S1A_IW_20150422T032016_DVP_RTC30_G_gpuned_AEEA_shape.shx  \n",
      "  inflating: S1A_IW_20150422T032016_DVP_RTC30_G_gpuned_AEEA/S1A_IW_20150422T032016_DVP_RTC30_G_gpuned_AEEA_rgb.png.xml  \n",
      "  inflating: S1A_IW_20150422T032016_DVP_RTC30_G_gpuned_AEEA/S1A_IW_20150422T032016_DVP_RTC30_G_gpuned_AEEA_shape.shp  \n",
      "  inflating: S1A_IW_20150422T032016_DVP_RTC30_G_gpuned_AEEA/S1A_IW_20150422T032016_DVP_RTC30_G_gpuned_AEEA_VV.tif.xml  \n",
      "  inflating: S1A_IW_20150422T032016_DVP_RTC30_G_gpuned_AEEA/S1A_IW_20150422T032016_DVP_RTC30_G_gpuned_AEEA_shape.prj  \n",
      "  inflating: S1A_IW_20150422T032016_DVP_RTC30_G_gpuned_AEEA/S1A_IW_20150422T032016_DVP_RTC30_G_gpuned_AEEA_ls_map.tif  \n",
      "  inflating: S1A_IW_20150422T032016_DVP_RTC30_G_gpuned_AEEA/S1A_IW_20150422T032016_DVP_RTC30_G_gpuned_AEEA_VV.tif  \n",
      "  inflating: S1A_IW_20150422T032016_DVP_RTC30_G_gpuned_AEEA/S1A_IW_20150422T032016_DVP_RTC30_G_gpuned_AEEA_VH.tif.xml  \n",
      "  inflating: S1A_IW_20150422T032016_DVP_RTC30_G_gpuned_AEEA/S1A_IW_20150422T032016_DVP_RTC30_G_gpuned_AEEA_rgb.png  \n",
      "  inflating: S1A_IW_20150422T032016_DVP_RTC30_G_gpuned_AEEA/S1A_IW_20150422T032016_DVP_RTC30_G_gpuned_AEEA_rgb.png.aux.xml  \n",
      "  inflating: S1A_IW_20150422T032016_DVP_RTC30_G_gpuned_AEEA/S1A_IW_20150422T032016_DVP_RTC30_G_gpuned_AEEA_rgb.kmz  \n",
      "  inflating: S1A_IW_20150422T032016_DVP_RTC30_G_gpuned_AEEA/S1A_IW_20150422T032016_DVP_RTC30_G_gpuned_AEEA.png  \n",
      "  inflating: S1A_IW_20150422T032016_DVP_RTC30_G_gpuned_AEEA/S1A_IW_20150422T032016_DVP_RTC30_G_gpuned_AEEA_shape.dbf  \n",
      "  inflating: S1A_IW_20150422T032016_DVP_RTC30_G_gpuned_AEEA/S1A_IW_20150422T032016_DVP_RTC30_G_gpuned_AEEA.kmz  \n",
      "  inflating: S1A_IW_20150422T032016_DVP_RTC30_G_gpuned_AEEA/S1A_IW_20150422T032016_DVP_RTC30_G_gpuned_AEEA.README.md.txt  \n",
      "File 'S1A_IW_20141211T032016_SVP_RTC30_G_gpuned_1123.zip' from URL 'https://d3gm2hf49xd6jj.cloudfront.net/5336db17-b7cf-46eb-ad0b-07b81e6cebf3/S1A_IW_20141211T032016_SVP_RTC30_G_gpuned_1123.zip' has path 'False'\n",
      "--2023-04-12 21:51:31--  https://d3gm2hf49xd6jj.cloudfront.net/5336db17-b7cf-46eb-ad0b-07b81e6cebf3/S1A_IW_20141211T032016_SVP_RTC30_G_gpuned_1123.zip\n",
      "Resolving d3gm2hf49xd6jj.cloudfront.net (d3gm2hf49xd6jj.cloudfront.net)... 18.161.3.23, 18.161.3.168, 18.161.3.115, ...\n",
      "Connecting to d3gm2hf49xd6jj.cloudfront.net (d3gm2hf49xd6jj.cloudfront.net)|18.161.3.23|:443... connected.\n",
      "HTTP request sent, awaiting response... 200 OK\n",
      "Length: 222699235 (212M) [application/zip]\n",
      "Saving to: ‘./zips/S1A_IW_20141211T032016_SVP_RTC30_G_gpuned_1123.zip’\n",
      "\n",
      "./zips/S1A_IW_20141 100%[===================>] 212.38M  38.7MB/s    in 5.5s    \n",
      "\n",
      "2023-04-12 21:51:37 (38.5 MB/s) - ‘./zips/S1A_IW_20141211T032016_SVP_RTC30_G_gpuned_1123.zip’ saved [222699235/222699235]\n",
      "\n",
      "Archive:  ./zips/S1A_IW_20141211T032016_SVP_RTC30_G_gpuned_1123.zip\n",
      "   creating: S1A_IW_20141211T032016_SVP_RTC30_G_gpuned_1123/\n",
      "  inflating: S1A_IW_20141211T032016_SVP_RTC30_G_gpuned_1123/S1A_IW_20141211T032016_SVP_RTC30_G_gpuned_1123_shape.prj  \n",
      "  inflating: S1A_IW_20141211T032016_SVP_RTC30_G_gpuned_1123/S1A_IW_20141211T032016_SVP_RTC30_G_gpuned_1123_VV.tif.xml  \n",
      "  inflating: S1A_IW_20141211T032016_SVP_RTC30_G_gpuned_1123/S1A_IW_20141211T032016_SVP_RTC30_G_gpuned_1123.png.xml  \n",
      "  inflating: S1A_IW_20141211T032016_SVP_RTC30_G_gpuned_1123/S1A_IW_20141211T032016_SVP_RTC30_G_gpuned_1123_VV.tif  \n",
      "  inflating: S1A_IW_20141211T032016_SVP_RTC30_G_gpuned_1123/S1A_IW_20141211T032016_SVP_RTC30_G_gpuned_1123_shape.dbf  \n",
      "  inflating: S1A_IW_20141211T032016_SVP_RTC30_G_gpuned_1123/S1A_IW_20141211T032016_SVP_RTC30_G_gpuned_1123_ls_map.tif.xml  \n",
      "  inflating: S1A_IW_20141211T032016_SVP_RTC30_G_gpuned_1123/S1A_IW_20141211T032016_SVP_RTC30_G_gpuned_1123.png.aux.xml  \n",
      "  inflating: S1A_IW_20141211T032016_SVP_RTC30_G_gpuned_1123/S1A_IW_20141211T032016_SVP_RTC30_G_gpuned_1123.log  \n",
      "  inflating: S1A_IW_20141211T032016_SVP_RTC30_G_gpuned_1123/S1A_IW_20141211T032016_SVP_RTC30_G_gpuned_1123.kmz  \n",
      "  inflating: S1A_IW_20141211T032016_SVP_RTC30_G_gpuned_1123/S1A_IW_20141211T032016_SVP_RTC30_G_gpuned_1123_ls_map.tif  \n",
      "  inflating: S1A_IW_20141211T032016_SVP_RTC30_G_gpuned_1123/S1A_IW_20141211T032016_SVP_RTC30_G_gpuned_1123.README.md.txt  \n",
      "  inflating: S1A_IW_20141211T032016_SVP_RTC30_G_gpuned_1123/S1A_IW_20141211T032016_SVP_RTC30_G_gpuned_1123_shape.shx  \n",
      "  inflating: S1A_IW_20141211T032016_SVP_RTC30_G_gpuned_1123/S1A_IW_20141211T032016_SVP_RTC30_G_gpuned_1123.png  \n",
      "  inflating: S1A_IW_20141211T032016_SVP_RTC30_G_gpuned_1123/S1A_IW_20141211T032016_SVP_RTC30_G_gpuned_1123_shape.shp  \n",
      "File 'S1B_IW_20170920T031948_DVP_RTC30_G_gpuned_6AED.zip' from URL 'https://d3gm2hf49xd6jj.cloudfront.net/aa59f083-7626-4385-b621-2cc5af66635c/S1B_IW_20170920T031948_DVP_RTC30_G_gpuned_6AED.zip' has path 'False'\n",
      "--2023-04-12 21:51:39--  https://d3gm2hf49xd6jj.cloudfront.net/aa59f083-7626-4385-b621-2cc5af66635c/S1B_IW_20170920T031948_DVP_RTC30_G_gpuned_6AED.zip\n",
      "Resolving d3gm2hf49xd6jj.cloudfront.net (d3gm2hf49xd6jj.cloudfront.net)... 18.161.3.81, 18.161.3.168, 18.161.3.115, ...\n",
      "Connecting to d3gm2hf49xd6jj.cloudfront.net (d3gm2hf49xd6jj.cloudfront.net)|18.161.3.81|:443... connected.\n",
      "HTTP request sent, awaiting response... 200 OK\n",
      "Length: 452112300 (431M) [application/zip]\n",
      "Saving to: ‘./zips/S1B_IW_20170920T031948_DVP_RTC30_G_gpuned_6AED.zip’\n",
      "\n",
      "./zips/S1B_IW_20170 100%[===================>] 431.17M  34.5MB/s    in 12s     \n",
      "\n",
      "2023-04-12 21:51:51 (37.2 MB/s) - ‘./zips/S1B_IW_20170920T031948_DVP_RTC30_G_gpuned_6AED.zip’ saved [452112300/452112300]\n",
      "\n",
      "Archive:  ./zips/S1B_IW_20170920T031948_DVP_RTC30_G_gpuned_6AED.zip\n",
      "   creating: S1B_IW_20170920T031948_DVP_RTC30_G_gpuned_6AED/\n",
      "  inflating: S1B_IW_20170920T031948_DVP_RTC30_G_gpuned_6AED/S1B_IW_20170920T031948_DVP_RTC30_G_gpuned_6AED_rgb.kmz  \n",
      "  inflating: S1B_IW_20170920T031948_DVP_RTC30_G_gpuned_6AED/S1B_IW_20170920T031948_DVP_RTC30_G_gpuned_6AED_VV.tif.xml  \n",
      "  inflating: S1B_IW_20170920T031948_DVP_RTC30_G_gpuned_6AED/S1B_IW_20170920T031948_DVP_RTC30_G_gpuned_6AED_shape.shp  \n",
      "  inflating: S1B_IW_20170920T031948_DVP_RTC30_G_gpuned_6AED/S1B_IW_20170920T031948_DVP_RTC30_G_gpuned_6AED.png.xml  \n",
      "  inflating: S1B_IW_20170920T031948_DVP_RTC30_G_gpuned_6AED/S1B_IW_20170920T031948_DVP_RTC30_G_gpuned_6AED.log  \n",
      "  inflating: S1B_IW_20170920T031948_DVP_RTC30_G_gpuned_6AED/S1B_IW_20170920T031948_DVP_RTC30_G_gpuned_6AED_rgb.png.xml  \n",
      "  inflating: S1B_IW_20170920T031948_DVP_RTC30_G_gpuned_6AED/S1B_IW_20170920T031948_DVP_RTC30_G_gpuned_6AED_VV.tif  \n",
      "  inflating: S1B_IW_20170920T031948_DVP_RTC30_G_gpuned_6AED/S1B_IW_20170920T031948_DVP_RTC30_G_gpuned_6AED_rgb.png  \n",
      "  inflating: S1B_IW_20170920T031948_DVP_RTC30_G_gpuned_6AED/S1B_IW_20170920T031948_DVP_RTC30_G_gpuned_6AED_shape.dbf  \n",
      "  inflating: S1B_IW_20170920T031948_DVP_RTC30_G_gpuned_6AED/S1B_IW_20170920T031948_DVP_RTC30_G_gpuned_6AED.kmz  \n",
      "  inflating: S1B_IW_20170920T031948_DVP_RTC30_G_gpuned_6AED/S1B_IW_20170920T031948_DVP_RTC30_G_gpuned_6AED_VH.tif  \n",
      "  inflating: S1B_IW_20170920T031948_DVP_RTC30_G_gpuned_6AED/S1B_IW_20170920T031948_DVP_RTC30_G_gpuned_6AED.png.aux.xml  \n",
      "  inflating: S1B_IW_20170920T031948_DVP_RTC30_G_gpuned_6AED/S1B_IW_20170920T031948_DVP_RTC30_G_gpuned_6AED_ls_map.tif  \n",
      "  inflating: S1B_IW_20170920T031948_DVP_RTC30_G_gpuned_6AED/S1B_IW_20170920T031948_DVP_RTC30_G_gpuned_6AED.README.md.txt  \n",
      "  inflating: S1B_IW_20170920T031948_DVP_RTC30_G_gpuned_6AED/S1B_IW_20170920T031948_DVP_RTC30_G_gpuned_6AED_shape.shx  \n",
      "  inflating: S1B_IW_20170920T031948_DVP_RTC30_G_gpuned_6AED/S1B_IW_20170920T031948_DVP_RTC30_G_gpuned_6AED_VH.tif.xml  \n",
      "  inflating: S1B_IW_20170920T031948_DVP_RTC30_G_gpuned_6AED/S1B_IW_20170920T031948_DVP_RTC30_G_gpuned_6AED_shape.prj  \n",
      "  inflating: S1B_IW_20170920T031948_DVP_RTC30_G_gpuned_6AED/S1B_IW_20170920T031948_DVP_RTC30_G_gpuned_6AED_ls_map.tif.xml  \n",
      "  inflating: S1B_IW_20170920T031948_DVP_RTC30_G_gpuned_6AED/S1B_IW_20170920T031948_DVP_RTC30_G_gpuned_6AED.png  \n",
      "  inflating: S1B_IW_20170920T031948_DVP_RTC30_G_gpuned_6AED/S1B_IW_20170920T031948_DVP_RTC30_G_gpuned_6AED_rgb.png.aux.xml  \n"
     ]
    }
   ],
   "source": [
    "!mkdir -p {CWD}/data/zips\n",
    "with asfn.work_dir(f\"{CWD}/data/\"):\n",
    "    for file_url in FILE_URLS:\n",
    "        file_name = file_url.split(\"/\")[-1]\n",
    "        does_file_path_exist = pathlib.Path(f'./zips/{file_name}').is_file()\n",
    "\n",
    "        print(f\"File '{file_name}' from URL '{file_url}' has path '{does_file_path_exist}'\")\n",
    "\n",
    "        if not does_file_path_exist:\n",
    "            #pass\n",
    "            !wget -O ./zips/{file_name} {file_url}\n",
    "            !unzip ./zips/{file_name}"
   ]
  },
  {
   "cell_type": "code",
   "execution_count": null,
   "id": "4f691353-f6e2-4895-85cc-e4e53dbab2ac",
   "metadata": {},
   "outputs": [],
   "source": []
  }
 ],
 "metadata": {
  "kernelspec": {
   "display_name": "opera-rtc-cross-corr [conda env:.local-opera-rtc-cross-corr]",
   "language": "python",
   "name": "conda-env-.local-opera-rtc-cross-corr-py"
  },
  "language_info": {
   "codemirror_mode": {
    "name": "ipython",
    "version": 3
   },
   "file_extension": ".py",
   "mimetype": "text/x-python",
   "name": "python",
   "nbconvert_exporter": "python",
   "pygments_lexer": "ipython3",
   "version": "3.11.0"
  }
 },
 "nbformat": 4,
 "nbformat_minor": 5
}
