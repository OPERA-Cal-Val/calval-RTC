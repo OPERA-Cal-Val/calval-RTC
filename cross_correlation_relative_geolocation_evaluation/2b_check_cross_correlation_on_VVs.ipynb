{
 "cells": [
  {
   "cell_type": "code",
   "execution_count": null,
   "id": "cd88d746-0230-4f87-851f-b8b23094fbb3",
   "metadata": {},
   "outputs": [],
   "source": [
    "import pathlib\n",
    "import math\n",
    "import datetime\n",
    "\n",
    "from ipyfilechooser import FileChooser\n",
    "import rasterio\n",
    "from rasterio.mask import mask\n",
    "from shapely import geometry\n",
    "from osgeo import gdal\n",
    "import pandas as pd\n",
    "import numpy as np\n",
    "\n",
    "import opensarlab_lib as asfn"
   ]
  },
  {
   "cell_type": "markdown",
   "id": "3f35af97-6c91-433e-aad9-dec1be04341a",
   "metadata": {},
   "source": [
    "### Some Prerequisites"
   ]
  },
  {
   "cell_type": "code",
   "execution_count": null,
   "id": "90382517-fa81-48de-bb8b-c054d0e2d03c",
   "metadata": {},
   "outputs": [],
   "source": [
    "# Get working directory of notebook\n",
    "CWD = pathlib.Path().absolute()\n",
    "CWD\n",
    "\n",
    "# Set some paths to be used later\n",
    "!mkdir -p \"{CWD}/work/\"\n",
    "\n",
    "ORIGINAL_DIR = CWD / \"work/original\"\n",
    "!mkdir -p \"{CWD}/work/original\"\n",
    "\n",
    "SUPERSET_DIR = CWD / \"work/superset\"\n",
    "!mkdir -p \"{CWD}/work/superset\"\n",
    "\n",
    "FLATTEN_DIR = CWD / \"work/flatten\"\n",
    "!mkdir -p \"{CWD}/work/flatten\"\n",
    "\n",
    "TILES_DIR = CWD / \"work/tiles\"\n",
    "!mkdir -p \"{CWD}/work/tiles\"\n",
    "\n",
    "RESULTS_DIR = CWD / \"work/correlation\"\n",
    "!mkdir -p \"{CWD}/work/correlation\""
   ]
  },
  {
   "cell_type": "markdown",
   "id": "1eabccbb-61fd-4c1d-a92c-8a7e82f86bb4",
   "metadata": {},
   "source": [
    "#### Clear out work directory"
   ]
  },
  {
   "cell_type": "code",
   "execution_count": null,
   "id": "9b0d7360-1304-482c-91ad-3ae74bd08d63",
   "metadata": {},
   "outputs": [],
   "source": [
    "clear_out = input(\"Clear out work directory? (YES, NO)\")\n",
    "\n",
    "if clear_out == 'YES':\n",
    "    !rm -rf \"{CWD}/work/*\""
   ]
  },
  {
   "cell_type": "markdown",
   "id": "3845e7b6-8bf0-46c7-821f-49c632e15bee",
   "metadata": {},
   "source": [
    "### 1. Select VVs\n",
    "\n",
    "Choose the parent directory of all child directories contain the stack of VVs"
   ]
  },
  {
   "cell_type": "code",
   "execution_count": null,
   "id": "a2b2f5d1-55a0-4885-90dd-45ee98c385ef",
   "metadata": {},
   "outputs": [],
   "source": [
    "fc = FileChooser(f'{CWD}/data/')\n",
    "fc.show_only_dirs = True\n",
    "display(fc)"
   ]
  },
  {
   "cell_type": "code",
   "execution_count": null,
   "id": "ae67db51-5826-4434-b8e7-646c9dabfb80",
   "metadata": {},
   "outputs": [],
   "source": [
    "parent_directory = pathlib.Path(fc.selected_path).absolute()\n",
    "\n",
    "# Find all VVs within\n",
    "all_vv_paths = parent_directory.glob(f\"**/*_VV.tif\")\n",
    "print(list(all_vv_paths))\n",
    "\n",
    "# Move desired products to work directory.\n",
    "for source_path in all_vv_paths:\n",
    "    print(f\"Copying {source_path} to {CWD}/work/original/{source_path.name}\")\n",
    "    !cp \"{source_path}\" \"{CWD}/work/original/{source_path.name}\""
   ]
  },
  {
   "cell_type": "markdown",
   "id": "f4ddfebc-8775-41aa-82f2-d08695914fcc",
   "metadata": {},
   "source": [
    "### 2. Superset VVs\n",
    "\n",
    "Scene frames have a tendency to move over time. This means that the extant coverage for the whole scene is always different per frame. For the cross-correlation to properly work and for more accurate comparison, all the scenes need to be \"normalized\" by increasing/decreasing the size of the square extant. \n",
    "\n",
    "From extant metadata, get the full superset coordinates for all stack scenes."
   ]
  },
  {
   "cell_type": "code",
   "execution_count": null,
   "id": "d31340f6-3946-4198-8e7e-c51f3cc7927e",
   "metadata": {},
   "outputs": [],
   "source": [
    "# Open all the tiffs and get overall coords.\n",
    "superset = {\n",
    "    'left': math.inf,\n",
    "    'bottom': math.inf,\n",
    "    'right': -math.inf,\n",
    "    'top': -math.inf\n",
    "}\n",
    "\n",
    "# The SRS is set to the first raster. It is assumed that the SRSs are the same (or close enough) for all.\n",
    "output_srs = None\n",
    "\n",
    "vv_original_paths = pathlib.Path(f\"{CWD}/work/original\").glob(f\"*_VV.tif\")\n",
    "\n",
    "for i, original_path in enumerate(vv_original_paths):\n",
    "\n",
    "    raster = rasterio.open(original_path)    \n",
    "    raster_bounds = raster.bounds\n",
    "    print(raster_bounds)\n",
    "    \n",
    "    if i == 0:\n",
    "        output_srs = raster.crs\n",
    "    \n",
    "    superset = {\n",
    "        'left': min(superset['left'], raster_bounds.left),\n",
    "        'bottom': min(superset['bottom'], raster_bounds.bottom), \n",
    "        'right': max(superset['right'], raster_bounds.right), \n",
    "        'top': max(superset['top'], raster_bounds.top)\n",
    "    }\n",
    "\n",
    "print(f\"Superset box coords: {superset}\")\n",
    "print(f\"Output SRS: {output_srs}\")"
   ]
  },
  {
   "cell_type": "code",
   "execution_count": null,
   "id": "47e6229d-3de8-4d11-ab62-897b2a64c909",
   "metadata": {},
   "outputs": [],
   "source": [
    "output_bounds = (\n",
    "            superset['left'], \n",
    "            superset['bottom'],\n",
    "            superset['right'],\n",
    "            superset['top'],\n",
    "        )\n",
    "\n",
    "print(f\"Output bounds (superset) set to '{output_bounds}'\")\n",
    "print(f\"Output SRS set to '{output_srs}'\")\n",
    "\n",
    "# Superset and save VVs\n",
    "vv_original_paths = pathlib.Path(f\"{CWD}/work/original\").glob(f\"*_VV.tif\")\n",
    "for original_path in vv_original_paths:\n",
    "    \n",
    "    superset_path = pathlib.Path(str(original_path).replace('original', 'superset'))\n",
    "    print(f\"Taking {original_path} and supersetting to {superset_path}\")\n",
    "    \n",
    "    gdal.Warp(\n",
    "        str(superset_path),\n",
    "        str(original_path), \n",
    "        outputBounds=output_bounds,\n",
    "        outputBoundsSRS=output_srs\n",
    "    )\n",
    "    "
   ]
  },
  {
   "cell_type": "markdown",
   "id": "4064dd33-addc-4526-abd8-2f20b43a5882",
   "metadata": {},
   "source": [
    "### 3. Flatten and Save VVs\n",
    "\n",
    "Often the VVs have extraneous high and low values that make matching difficult. So we need to get rid of these and save the intermediate results."
   ]
  },
  {
   "cell_type": "code",
   "execution_count": null,
   "id": "ce713694-0dc2-4dac-ad13-8ca8a77c2147",
   "metadata": {},
   "outputs": [],
   "source": [
    "def flatten(df: pd.DataFrame) -> pd.DataFrame:\n",
    "    \"\"\"\n",
    "    Truncated values become NaNs\n",
    "    \"\"\"\n",
    "    df[df < np.nanpercentile(df, 1)] = np.nan\n",
    "    df[df > np.nanpercentile(df, 99)] = np.nan\n",
    "    return df\n",
    "\n",
    "# Flatten and save VVs\n",
    "superset_vv_paths = pathlib.Path(f\"{CWD}/work/superset\").glob(f\"*_VV.tif\")\n",
    "\n",
    "for superset_path in superset_vv_paths:\n",
    "    print(f\"Flattening {superset_path}\")\n",
    "    \n",
    "    # Convert raster to dataframe\n",
    "    raster = rasterio.open(superset_path)\n",
    "    raster_metadata = raster.meta\n",
    "\n",
    "    raster0 = raster.read(1)\n",
    "    df_superset = pd.DataFrame(raster0)\n",
    "    \n",
    "    # Flatten raster data\n",
    "    df_flatten = flatten(df_superset)\n",
    "    \n",
    "    flatten_path = pathlib.Path(str(superset_path).replace('superset', 'flatten'))\n",
    "    \n",
    "    with rasterio.open(flatten_path, 'w', **raster_metadata) as out:\n",
    "        out.write(df_flatten, 1)"
   ]
  },
  {
   "cell_type": "markdown",
   "id": "9ccf64fa-e58e-4b07-bdfb-fcca460567ee",
   "metadata": {},
   "source": [
    "### 4. Tile and Save VVs"
   ]
  },
  {
   "cell_type": "code",
   "execution_count": null,
   "id": "7394ba90-1ffc-47d2-94cd-62db426fb6b9",
   "metadata": {},
   "outputs": [],
   "source": [
    "X_NUM = 8\n",
    "Y_NUM = 8\n",
    "\n",
    "# https://gis.stackexchange.com/a/306862\n",
    "# Takes a Rasterio dataset and splits it into squares of dimensions squareDim * squareDim\n",
    "def splitImageIntoCells(input_file: str, output_dir: str, x_num=1, y_num=1):    \n",
    "\n",
    "    raster = rasterio.open(input_file)\n",
    "    \n",
    "    x_dim = raster.shape[1] // x_num\n",
    "    y_dim = raster.shape[0] // y_num\n",
    "\n",
    "    x, y = 0, 0\n",
    "    for y_iter in range(y_num):\n",
    "        y = y_iter * y_dim\n",
    "        for x_iter in range(x_num):\n",
    "            x = x_iter * x_dim\n",
    "            \n",
    "            input_filestem = pathlib.Path(input_file).stem\n",
    "            \n",
    "            output_file = f'{input_filestem}_{y_iter}_{x_iter}.tif'\n",
    "            print(f\"Creating tile {output_file}...\")\n",
    "            \n",
    "            # Get tile geometry\n",
    "            corner1 = raster.transform * (x, y)\n",
    "            corner2 = raster.transform * (x + x_dim, y + y_dim)\n",
    "            geom = geometry.box(corner1[0], corner1[1], corner2[0], corner2[1])\n",
    "            \n",
    "            # Get cell \n",
    "            crop, cropTransform = mask(raster, [geom], crop=True)\n",
    "            raster.meta.update(\n",
    "                {\n",
    "                    \"driver\": \"GTiff\",\n",
    "                    \"height\": crop.shape[1],\n",
    "                    \"width\": crop.shape[2],\n",
    "                    \"transform\": cropTransform,\n",
    "                    \"crs\": raster.crs\n",
    "                }\n",
    "            )\n",
    "            \n",
    "            # If crop tile is more than 10% NANs, make whole tile NANs\n",
    "            # ??\n",
    "            \n",
    "            output_filepath = f\"{output_dir}/{output_file}\"\n",
    "            with rasterio.open(output_filepath, \"w\", **raster.meta) as out:\n",
    "                out.write(crop)"
   ]
  },
  {
   "cell_type": "code",
   "execution_count": null,
   "id": "75d37caf-ceff-4e5f-be61-6bccde3dbed4",
   "metadata": {
    "scrolled": true,
    "tags": []
   },
   "outputs": [],
   "source": [
    "flatten_vv_paths = pathlib.Path(f\"{CWD}/work/flatten\").glob(f\"*_VV.tif\")\n",
    "\n",
    "start_time = datetime.now()\n",
    "\n",
    "for flatten_path in flatten_vv_paths:\n",
    "    print(f\"Tileing {flatten_path}\")\n",
    "    splitImageIntoCells(flatten_path, f\"{CWD}/work/tiles\", x_num=X_NUM, y_num=Y_NUM)\n",
    "    \n",
    "end_time = datetime.now()\n",
    "print(f\"\\nEnd time is {end_time}\")\n",
    "print(f\"Time elapsed is {end_time - start_time}\\n\")  "
   ]
  },
  {
   "cell_type": "markdown",
   "id": "0a3c8f60-94de-462d-862c-7995dc61ee46",
   "metadata": {},
   "source": [
    "### 5. Correlate Tiles and Save Results"
   ]
  },
  {
   "cell_type": "code",
   "execution_count": null,
   "id": "5ed10930-54c8-40b0-ac0a-270077af4360",
   "metadata": {},
   "outputs": [],
   "source": [
    "tiled_vv_paths = pathlib.Path(f\"{CWD}/work/tiled\").glob(f\"*_VV.tif\")\n",
    "\n",
    "start_time = datetime.datetime.now()\n",
    "\n",
    "def order_tiles():\n",
    "    return None\n",
    "\n",
    "for tiled_path in tiled_vv_paths:\n",
    "    print(f\"Correlating {tiled_path}\")\n",
    "    \n",
    "    #shift, error, phase = phase_cross_correlation(\n",
    "    #    df_ref.replace(np.nan, 0), \n",
    "    #    df_sec.replace(np.nan, 0),\n",
    "    #    normalization=None\n",
    "    #)\n",
    "    \n",
    "    # Put results into files to read for analysis\n",
    "    \n",
    "end_time = datetime.datetime.now()\n",
    "print(f\"\\nEnd time is {end_time}\")\n",
    "print(f\"Time elapsed is {end_time - start_time}\\n\")  "
   ]
  },
  {
   "cell_type": "markdown",
   "id": "67c76bba-9d9b-4a18-9feb-19edd74ede06",
   "metadata": {},
   "source": [
    "### 6. Do Anaylsis on Tiles"
   ]
  },
  {
   "cell_type": "code",
   "execution_count": null,
   "id": "e2f86ad8-b5d5-4ad5-b740-c069e14dfdfb",
   "metadata": {},
   "outputs": [],
   "source": [
    "# Put results into 3D Pandas dataset\n",
    "\n",
    "# Do analysis:\n",
    "# 1. Slice mean and stdev\n",
    "# 2. Temporeal trend mean and stdev\n",
    "# 3. Global mean and stdev"
   ]
  }
 ],
 "metadata": {
  "kernelspec": {
   "display_name": "opera-rtc-cross-corr [conda env:.local-opera-rtc-cross-corr]",
   "language": "python",
   "name": "conda-env-.local-opera-rtc-cross-corr-py"
  },
  "language_info": {
   "codemirror_mode": {
    "name": "ipython",
    "version": 3
   },
   "file_extension": ".py",
   "mimetype": "text/x-python",
   "name": "python",
   "nbconvert_exporter": "python",
   "pygments_lexer": "ipython3",
   "version": "3.11.0"
  }
 },
 "nbformat": 4,
 "nbformat_minor": 5
}
