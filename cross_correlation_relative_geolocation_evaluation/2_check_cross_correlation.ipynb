{
 "cells": [
  {
   "cell_type": "markdown",
   "id": "37b3bc47-15bf-43af-877f-108c1bcc914d",
   "metadata": {
    "tags": []
   },
   "source": [
    "# Cross Correlation Check"
   ]
  },
  {
   "cell_type": "markdown",
   "id": "46f63b7e-926f-49ba-9eb5-24b997fe384e",
   "metadata": {},
   "source": [
    "### Import Python libraries"
   ]
  },
  {
   "cell_type": "code",
   "execution_count": null,
   "id": "609a1558-fe52-4b17-b0d7-101afa8fcda2",
   "metadata": {},
   "outputs": [],
   "source": [
    "import pathlib\n",
    "\n",
    "from osgeo import gdal\n",
    "import shapely\n",
    "from shapely import wkt\n",
    "from ipyfilechooser import FileChooser\n",
    "import numpy as np\n",
    "import pandas as pd\n",
    "import matplotlib.pyplot as plt\n",
    "from skimage.registration import phase_cross_correlation\n",
    "\n",
    "import opensarlab_lib as asfn"
   ]
  },
  {
   "cell_type": "markdown",
   "id": "31b643f5-2500-4d39-be8a-d322d3715c46",
   "metadata": {},
   "source": [
    "### Define some later-used methods and variables"
   ]
  },
  {
   "cell_type": "code",
   "execution_count": null,
   "id": "67dcf1fa-7b56-42e1-9002-94ad3ce1f786",
   "metadata": {},
   "outputs": [],
   "source": [
    "def tiff_to_df(tiff_filename: str):\n",
    "    \"\"\"\n",
    "    Convert a tiff file to a pandas DataFrame.\n",
    "    \"\"\"\n",
    "    img = gdal.Open(tiff_filename)\n",
    "    band = img.GetRasterBand(1)\n",
    "    raster0 = band.ReadAsArray()\n",
    "    df = pd.DataFrame(raster0)\n",
    "    \n",
    "    # Cutoff pixel values to 1 and 99 percentile to reduce saturation (so we can see features)\n",
    "    df = df[(df > np.percentile(df, 1)) & (df < np.percentile(df, 99))]\n",
    "    \n",
    "    return df\n",
    "    \n",
    "# Get working directory of notebook\n",
    "CWD = pathlib.Path().absolute()\n",
    "CWD"
   ]
  },
  {
   "cell_type": "markdown",
   "id": "f92ed533-d4ec-4bc0-986e-d671764a5d7f",
   "metadata": {
    "tags": []
   },
   "source": [
    "### Choose tiff files to compare."
   ]
  },
  {
   "cell_type": "code",
   "execution_count": null,
   "id": "0d17da70-6ac1-4d0b-ab07-55fa9af541b5",
   "metadata": {},
   "outputs": [],
   "source": [
    "# Choose the tiffs\n",
    "fc1 = FileChooser(f'{CWD}/data/')\n",
    "display(fc1)"
   ]
  },
  {
   "cell_type": "code",
   "execution_count": null,
   "id": "81f8b2e4-cab6-47af-9c80-10a6d9798d01",
   "metadata": {},
   "outputs": [],
   "source": [
    "# Choose the tiffs\n",
    "fc2 = FileChooser(f'{CWD}/data/')\n",
    "display(fc2)"
   ]
  },
  {
   "cell_type": "code",
   "execution_count": null,
   "id": "1a74cb68-ce71-4ee0-b269-5ca06d4b3849",
   "metadata": {},
   "outputs": [],
   "source": [
    "reference_path = fc1.selected_path\n",
    "reference_file = fc1.selected_filename\n",
    "print(reference_path, reference_file)\n",
    "\n",
    "secondary_path = fc2.selected_path\n",
    "secondary_file = fc2.selected_filename\n",
    "print(secondary_path, secondary_file)"
   ]
  },
  {
   "cell_type": "code",
   "execution_count": null,
   "id": "b0afe274-97c1-46c4-bbda-f9f93b657193",
   "metadata": {},
   "outputs": [],
   "source": [
    "!mkdir -p {CWD}/work/\n",
    "!cp {reference_path}/{reference_file} {CWD}/work/reference.tif\n",
    "!cp {secondary_path}/{secondary_file} {CWD}/work/secondary.tif"
   ]
  },
  {
   "cell_type": "markdown",
   "id": "0c29b4ed-7be1-4289-9d09-da0b95331166",
   "metadata": {},
   "source": [
    "### Display the original two tiffs"
   ]
  },
  {
   "cell_type": "code",
   "execution_count": null,
   "id": "ab963eaa-fbba-457b-ba0a-57d32545d51f",
   "metadata": {},
   "outputs": [],
   "source": [
    "# Display reference and secondary\n",
    "with asfn.work_dir(f\"{CWD}/work/\"):\n",
    "    df_reference = tiff_to_df(\"reference.tif\")\n",
    "    df_secondary = tiff_to_df(\"secondary.tif\")\n",
    "    \n",
    "    fig = plt.figure(figsize=(16, 8))\n",
    "    ax1 = fig.add_subplot(121, title=\"reference\")\n",
    "    ax2 = fig.add_subplot(122, title=\"secondary\")\n",
    "    ax1.imshow(df_reference)\n",
    "    ax2.imshow(df_secondary)"
   ]
  },
  {
   "cell_type": "markdown",
   "id": "eaad4c5a-c763-4b30-b4a9-3a1db65ab8b7",
   "metadata": {},
   "source": [
    "### Subset to the AOI and show"
   ]
  },
  {
   "cell_type": "code",
   "execution_count": null,
   "id": "810f31b3-a12d-4d4e-8d03-7c75fcb28588",
   "metadata": {},
   "outputs": [],
   "source": [
    "# Subset reference and secondary\n",
    "with asfn.work_dir(f\"{CWD}/work/\"):\n",
    "\n",
    "    SEARCH_WKT = \"POLYGON((-118.3968 33.9967,-117.9123 33.9967,-117.9123 34.3065,-118.3968 34.3065,-118.3968 33.9967))\"\n",
    "    \n",
    "    shape = wkt.loads(SEARCH_WKT)\n",
    "    bounds = shapely.bounds(shape)\n",
    "    print(f\"Shapely bounds: {bounds}\")\n",
    "    \n",
    "    !rm reference_subset.tif    \n",
    "    !gdalwarp -te {bounds[0]} {bounds[1]} {bounds[2]} {bounds[3]} -te_srs EPSG:4326 reference.tif reference_subset.tif\n",
    "    !rm secondary_subset.tif\n",
    "    !gdalwarp -te {bounds[0]} {bounds[1]} {bounds[2]} {bounds[3]} -te_srs EPSG:4326 secondary.tif secondary_subset.tif\n",
    "    \n",
    "    df_reference = tiff_to_df(\"reference_subset.tif\")\n",
    "    df_secondary = tiff_to_df(\"secondary_subset.tif\")\n",
    "    \n",
    "    fig = plt.figure(figsize=(16, 8))\n",
    "    ax1 = fig.add_subplot(121, title='reference')\n",
    "    ax2 = fig.add_subplot(122, title='secondary')\n",
    "    ax1.imshow(df_reference)\n",
    "    ax2.imshow(df_secondary)"
   ]
  },
  {
   "cell_type": "markdown",
   "id": "5c34eee3-cbc5-4f30-ba09-faf98120cb01",
   "metadata": {},
   "source": [
    "### Show where the NANs are in the tiffs"
   ]
  },
  {
   "cell_type": "code",
   "execution_count": null,
   "id": "15aa31e9-5435-436f-8fe8-06b83f274fb9",
   "metadata": {},
   "outputs": [],
   "source": [
    "nan_reference_mask = np.isnan(df_reference)\n",
    "nan_moving_mask = np.isnan(df_secondary)\n",
    "\n",
    "fig = plt.figure(figsize=(16, 8))\n",
    "ax1 = fig.add_subplot(121, title='NaNs - reference')\n",
    "ax2 = fig.add_subplot(122, title='NaNs - secondary')\n",
    "ax1.imshow(nan_reference_mask)\n",
    "ax2.imshow(nan_moving_mask)"
   ]
  },
  {
   "cell_type": "markdown",
   "id": "54ab7d2b-eab3-4096-8760-a46c51e955cf",
   "metadata": {},
   "source": [
    "### Perform cross-correlation on the tiffs"
   ]
  },
  {
   "cell_type": "code",
   "execution_count": null,
   "id": "dcbc7aaa-b592-4c75-ad20-d348b1bf45c5",
   "metadata": {},
   "outputs": [],
   "source": [
    "with asfn.work_dir(f\"{CWD}/work/\"):\n",
    "\n",
    "    # Find cross correlation\n",
    "    # https://scikit-image.org/docs/stable/api/skimage.registration.html#skimage.registration.phase_cross_correlation\n",
    "    \n",
    "    print(\"Replacing NaNs with zero....\")\n",
    "    shift, error, phase = phase_cross_correlation(df_reference.replace(np.nan,0), df_secondary.replace(np.nan,0))\n",
    "    print(f\"Shift vector (in pixels) required to register moving_image with reference_image: {shift}\")\n",
    "    print(f\"Translation invariant normalized RMS error between reference_image and moving_image: {error}\")\n",
    "    print(f\"Global phase difference between the two images (should be zero if images are non-negative).: {phase}\\n\")\n",
    "    \n",
    "    print(\"Using NaN mask...\")\n",
    "    shift = phase_cross_correlation(df_reference, df_secondary, reference_mask=~nan_reference_mask, moving_mask=~nan_moving_mask)\n",
    "    print(f\"Shift vector (in pixels) required to register moving_image with reference_image: {shift}\")\n",
    "    print(f\"No error or phase given with masks.\")"
   ]
  },
  {
   "cell_type": "code",
   "execution_count": null,
   "id": "3fe0dfa3-3694-462e-8828-6316fcf9617b",
   "metadata": {},
   "outputs": [],
   "source": []
  }
 ],
 "metadata": {
  "kernelspec": {
   "display_name": "opera-rtc-cross-corr [conda env:.local-opera-rtc-cross-corr]",
   "language": "python",
   "name": "conda-env-.local-opera-rtc-cross-corr-py"
  },
  "language_info": {
   "codemirror_mode": {
    "name": "ipython",
    "version": 3
   },
   "file_extension": ".py",
   "mimetype": "text/x-python",
   "name": "python",
   "nbconvert_exporter": "python",
   "pygments_lexer": "ipython3",
   "version": "3.11.0"
  }
 },
 "nbformat": 4,
 "nbformat_minor": 5
}
