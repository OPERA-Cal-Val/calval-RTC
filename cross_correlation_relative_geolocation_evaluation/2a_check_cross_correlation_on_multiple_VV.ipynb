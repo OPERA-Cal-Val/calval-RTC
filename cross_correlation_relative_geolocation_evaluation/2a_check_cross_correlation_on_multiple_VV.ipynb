{
 "cells": [
  {
   "cell_type": "markdown",
   "id": "37b3bc47-15bf-43af-877f-108c1bcc914d",
   "metadata": {
    "tags": []
   },
   "source": [
    "# Cross Correlation Check On Whole Stack with VV"
   ]
  },
  {
   "cell_type": "markdown",
   "id": "46f63b7e-926f-49ba-9eb5-24b997fe384e",
   "metadata": {},
   "source": [
    "### Import Python libraries"
   ]
  },
  {
   "cell_type": "code",
   "execution_count": null,
   "id": "609a1558-fe52-4b17-b0d7-101afa8fcda2",
   "metadata": {},
   "outputs": [],
   "source": [
    "import pathlib\n",
    "import math\n",
    "\n",
    "from osgeo import gdal\n",
    "import shapely\n",
    "from shapely import wkt\n",
    "import numpy as np\n",
    "import pandas as pd\n",
    "import matplotlib.pyplot as plt\n",
    "from skimage.registration import phase_cross_correlation\n",
    "\n",
    "import opensarlab_lib as asfn"
   ]
  },
  {
   "cell_type": "markdown",
   "id": "5489baf7-1485-4f23-8e85-478a538c848f",
   "metadata": {},
   "source": [
    "### Define the search area WKT"
   ]
  },
  {
   "cell_type": "code",
   "execution_count": null,
   "id": "27f2be05-3f49-4e8e-857e-918215792798",
   "metadata": {},
   "outputs": [],
   "source": [
    "SEARCH_WKT = \"POLYGON((-151.4766 62.3946,-143.781 62.3946,-143.781 65.6086,-151.4766 65.6086,-151.4766 62.3946))\""
   ]
  },
  {
   "cell_type": "markdown",
   "id": "31b643f5-2500-4d39-be8a-d322d3715c46",
   "metadata": {},
   "source": [
    "### Define some later-used methods and variables"
   ]
  },
  {
   "cell_type": "code",
   "execution_count": null,
   "id": "67dcf1fa-7b56-42e1-9002-94ad3ce1f786",
   "metadata": {},
   "outputs": [],
   "source": [
    "def tiff_to_df(tiff_filename: str):\n",
    "    \"\"\"\n",
    "    Convert a tiff file to a pandas DataFrame.\n",
    "    \"\"\"\n",
    "    img = gdal.Open(tiff_filename)\n",
    "    band = img.GetRasterBand(1)\n",
    "    raster0 = band.ReadAsArray()\n",
    "    df = pd.DataFrame(raster0)\n",
    "    \n",
    "    # Cutoff pixel values to 1 and 99 percentile to reduce saturation (so we can see features)\n",
    "    df = df[(df > np.percentile(df, 1)) & (df < np.percentile(df, 99))]\n",
    "    \n",
    "    return df\n",
    "\n",
    "def plot_tiffs(df_tiffs: list):\n",
    "    \"\"\"\n",
    "    arg: df_tiffs\n",
    "    type: list of dataframes\n",
    "    \"\"\"\n",
    "    len_tiffs = len(df_tiffs)\n",
    "    number_of_x_figs = 4\n",
    "    number_of_y_figs = math.ceil(len_tiffs / number_of_x_figs)\n",
    "    \n",
    "    print(f\"A grid of ({number_of_y_figs}, {number_of_x_figs}).\")\n",
    "    \n",
    "    fig, axs = plt.subplots(number_of_y_figs, number_of_x_figs)\n",
    "    \n",
    "    for num, df in enumerate(df_tiffs):\n",
    "        xx = num % number_of_x_figs\n",
    "        yy = int(num / number_of_x_figs)\n",
    "        \n",
    "        axs[yy, xx].imshow(df)\n",
    "        vars(df)\n",
    "        axs[yy, xx].set_title('')\n",
    "\n",
    "# Get working directory of notebook\n",
    "CWD = pathlib.Path().absolute()\n",
    "CWD"
   ]
  },
  {
   "cell_type": "markdown",
   "id": "f92ed533-d4ec-4bc0-986e-d671764a5d7f",
   "metadata": {
    "tags": []
   },
   "source": [
    "### Get all VV tiffs files to compare."
   ]
  },
  {
   "cell_type": "code",
   "execution_count": null,
   "id": "7ecf2177-2943-4f27-8264-7589b929b7b0",
   "metadata": {},
   "outputs": [],
   "source": [
    "tiff_paths = []\n",
    "\n",
    "# Get all VV's\n",
    "vvs = !ls {CWD}/data/S1A_*/S1A_*_VV.tif\n",
    "\n",
    "!mkdir -p {CWD}/work/\n",
    "for filepath in vvs:\n",
    "    tiff_path = pathlib.Path(filepath)\n",
    "    tiff_paths.append(tiff_path)\n",
    "    !cp {filepath} {CWD}/work/{tiff_path.name}\n",
    "    \n",
    "tiff_paths"
   ]
  },
  {
   "cell_type": "markdown",
   "id": "0c29b4ed-7be1-4289-9d09-da0b95331166",
   "metadata": {},
   "source": [
    "### Display the original tiffs"
   ]
  },
  {
   "cell_type": "code",
   "execution_count": null,
   "id": "ab963eaa-fbba-457b-ba0a-57d32545d51f",
   "metadata": {},
   "outputs": [],
   "source": [
    "# Display all tiffs\n",
    "with asfn.work_dir(f\"{CWD}/work/\"):\n",
    "    df_tiffs = [tiff_to_df(str(tiff_path)) for tiff_path in tiff_paths]\n",
    "    plot_tiffs(df_tiffs)\n",
    "del df_tiffs"
   ]
  },
  {
   "cell_type": "markdown",
   "id": "eaad4c5a-c763-4b30-b4a9-3a1db65ab8b7",
   "metadata": {},
   "source": [
    "### Subset to the AOI and show"
   ]
  },
  {
   "cell_type": "code",
   "execution_count": null,
   "id": "810f31b3-a12d-4d4e-8d03-7c75fcb28588",
   "metadata": {},
   "outputs": [],
   "source": [
    "# Subset reference and secondary\n",
    "with asfn.work_dir(f\"{CWD}/work/\"):\n",
    "\n",
    "    shape = wkt.loads(SEARCH_WKT)\n",
    "    bounds = shapely.bounds(shape)\n",
    "    print(f\"Shapely bounds: {bounds}\")\n",
    "    \n",
    "    tiff_subset_paths = []\n",
    "    \n",
    "    for tiff_path in tiff_paths:\n",
    "        tiff_subset_path = f\"{tiff_path.parent / tiff_path.stem}_subset{tiff_path.suffix}\"\n",
    "        tiff_subset_paths.append(tiff_subset_path)\n",
    "            \n",
    "        gdal.Warp(\n",
    "            str(tiff_subset_path), \n",
    "            str(tiff_path),\n",
    "            outputBounds=(bounds[0],bounds[1],bounds[2],bounds[3]),\n",
    "            outputBoundsSRS=\"EPSG:4326\"\n",
    "        )\n",
    "    \n",
    "    df_subset_tiffs = [tiff_to_df(str(tiff_subset_path)) for tiff_subset_path in tiff_subset_paths]\n",
    "    plot_tiffs(df_subset_tiffs)\n"
   ]
  },
  {
   "cell_type": "markdown",
   "id": "5c34eee3-cbc5-4f30-ba09-faf98120cb01",
   "metadata": {},
   "source": [
    "### Show where the NANs are in the subset tiffs"
   ]
  },
  {
   "cell_type": "code",
   "execution_count": null,
   "id": "15aa31e9-5435-436f-8fe8-06b83f274fb9",
   "metadata": {},
   "outputs": [],
   "source": [
    "df_tiff_nans = [np.isnan(tiff_to_df(str(tiff_subset_path))) for tiff_subset_path in tiff_subset_paths]\n",
    "plot_tiffs(df_tiff_nans)\n",
    "del df_tiff_nans"
   ]
  },
  {
   "cell_type": "markdown",
   "id": "54ab7d2b-eab3-4096-8760-a46c51e955cf",
   "metadata": {},
   "source": [
    "### Perform cross-correlation on the tiffs, cross correlate one-by-one"
   ]
  },
  {
   "cell_type": "code",
   "execution_count": null,
   "id": "dcbc7aaa-b592-4c75-ad20-d348b1bf45c5",
   "metadata": {},
   "outputs": [],
   "source": [
    "with asfn.work_dir(f\"{CWD}/work/\"):\n",
    "\n",
    "    # Find cross correlation\n",
    "    # https://scikit-image.org/docs/stable/api/skimage.registration.html#skimage.registration.phase_cross_correlation\n",
    "    \n",
    "    results = []\n",
    "    \n",
    "    for x, df_subset_1 in enumerate(df_subset_tiffs):\n",
    "        for y, df_subset_2 in enumerate(df_subset_tiffs):\n",
    "            shift, error, phase = phase_cross_correlation(df_subset_1.replace(np.nan,0), df_subset_2.replace(np.nan,0))\n",
    "            results.append( (x, y, shift, error, phase) )\n",
    "    \n",
    "    print(f\"Shift: Shift vector (in pixels) required to register moving_image with reference_image.\")\n",
    "    print(f\"Error: Translation invariant normalized RMS error between reference_image and moving_image.\")\n",
    "    print(f\"Phase: Global phase difference between the two images (should be zero if images are non-negative).\\n\")\n",
    "    \n",
    "    print(results)\n",
    "    \n",
    "    #print(\"Using NaN mask...\")\n",
    "    #shift = phase_cross_correlation(df_reference, df_secondary, reference_mask=~nan_reference_mask, moving_mask=~nan_moving_mask)\n",
    "    #print(f\"Shift vector (in pixels) required to register moving_image with reference_image: {shift}\")\n",
    "    #print(f\"No error or phase given with masks.\")"
   ]
  },
  {
   "cell_type": "code",
   "execution_count": null,
   "id": "85cab008-0702-40d9-8d6d-11d3b60b361d",
   "metadata": {},
   "outputs": [],
   "source": []
  }
 ],
 "metadata": {
  "kernelspec": {
   "display_name": "opera-rtc-cross-corr [conda env:.local-opera-rtc-cross-corr]",
   "language": "python",
   "name": "conda-env-.local-opera-rtc-cross-corr-py"
  },
  "language_info": {
   "codemirror_mode": {
    "name": "ipython",
    "version": 3
   },
   "file_extension": ".py",
   "mimetype": "text/x-python",
   "name": "python",
   "nbconvert_exporter": "python",
   "pygments_lexer": "ipython3",
   "version": "3.11.0"
  }
 },
 "nbformat": 4,
 "nbformat_minor": 5
}
