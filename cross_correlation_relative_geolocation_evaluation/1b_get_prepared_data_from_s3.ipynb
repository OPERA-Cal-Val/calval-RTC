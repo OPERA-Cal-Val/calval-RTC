{
 "cells": [
  {
   "cell_type": "markdown",
   "id": "5b3c4e14-2bb6-4e9b-ae23-453ef9b7f6ca",
   "metadata": {},
   "source": [
    "## Get Prepared Data From S3"
   ]
  },
  {
   "cell_type": "code",
   "execution_count": null,
   "id": "3d034621-1ef5-4ac4-8e0d-6397aebf3e9c",
   "metadata": {},
   "outputs": [],
   "source": [
    "import opensarlab_lib as asfn"
   ]
  },
  {
   "cell_type": "code",
   "execution_count": null,
   "id": "2357b7ea-6f23-44c8-b6fd-21917258a713",
   "metadata": {},
   "outputs": [],
   "source": [
    "# Small config that maps dataset name to S3 folder location\n",
    "s3_metadata = [\n",
    "    {\n",
    "        \"name\": \"Delta Asc\", \n",
    "        \"location\": \"s3://asf-opera-rtc-calval/cross_correlation_relative_geolocation_evaluation/data/gamma/delta_asc/\"\n",
    "    }, \n",
    "    {\n",
    "        \"name\": \"Delta Desc\", \n",
    "        \"location\": \"s3://asf-opera-rtc-calval/cross_correlation_relative_geolocation_evaluation/data/gamma/delta_desc/\"\n",
    "    }\n",
    "]"
   ]
  },
  {
   "cell_type": "markdown",
   "id": "c77664ff-e08d-45cd-99d3-4951dbd360d6",
   "metadata": {},
   "source": [
    "### Select from prepared datasets and download"
   ]
  },
  {
   "cell_type": "code",
   "execution_count": null,
   "id": "daacaced-9718-4e19-9589-d68658a59bea",
   "metadata": {},
   "outputs": [],
   "source": [
    "project_names = [meta['name'] for meta in s3_metadata]\n",
    "\n",
    "turn_the_radio_up_for_that_sweet_sound = asfn.widgets.RadioButtons(\n",
    "    options=project_names,\n",
    "    description='Project',\n",
    "    disabled=False\n",
    ")"
   ]
  },
  {
   "cell_type": "code",
   "execution_count": null,
   "id": "272d90e2-79af-41d6-ae55-121f1def0f8c",
   "metadata": {},
   "outputs": [],
   "source": [
    "turn_the_radio_up_for_that_sweet_sound"
   ]
  },
  {
   "cell_type": "code",
   "execution_count": null,
   "id": "15a393ee-0df2-4284-a75d-e42e86c8393a",
   "metadata": {},
   "outputs": [],
   "source": [
    "selected_name = turn_the_radio_up_for_that_sweet_sound.value\n",
    "selected_location = [metadata['location'] for metadata in s3_metadata if metadata['name'] == selected_name][0]\n",
    "\n",
    "print(f\"Selected project '{selected_name}' at location '{selected_location}'\")"
   ]
  },
  {
   "cell_type": "code",
   "execution_count": null,
   "id": "c24fcdc4-846a-404c-a4c7-0abd2a666481",
   "metadata": {},
   "outputs": [],
   "source": [
    "# Copy selected data from S3 to local data dir \"./data/s3/\"\n",
    "!aws --no-sign-request --region us-west-2 s3 sync \"{selected_location}\" \"./data/s3/{selected_name}/\"  "
   ]
  },
  {
   "cell_type": "code",
   "execution_count": null,
   "id": "652fa847-5a63-4655-bfbf-3f45210b567d",
   "metadata": {},
   "outputs": [],
   "source": []
  }
 ],
 "metadata": {
  "kernelspec": {
   "display_name": "opera-rtc-cross-corr [conda env:.local-opera-rtc-cross-corr]",
   "language": "python",
   "name": "conda-env-.local-opera-rtc-cross-corr-py"
  },
  "language_info": {
   "codemirror_mode": {
    "name": "ipython",
    "version": 3
   },
   "file_extension": ".py",
   "mimetype": "text/x-python",
   "name": "python",
   "nbconvert_exporter": "python",
   "pygments_lexer": "ipython3",
   "version": "3.11.0"
  }
 },
 "nbformat": 4,
 "nbformat_minor": 5
}
