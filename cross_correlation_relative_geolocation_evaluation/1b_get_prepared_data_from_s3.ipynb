{
 "cells": [
  {
   "cell_type": "markdown",
   "id": "5b3c4e14-2bb6-4e9b-ae23-453ef9b7f6ca",
   "metadata": {},
   "source": [
    "## Get Prepared Data From S3"
   ]
  },
  {
   "cell_type": "code",
   "execution_count": 1,
   "id": "3d034621-1ef5-4ac4-8e0d-6397aebf3e9c",
   "metadata": {},
   "outputs": [],
   "source": [
    "import opensarlab_lib as asfn"
   ]
  },
  {
   "cell_type": "code",
   "execution_count": 2,
   "id": "2357b7ea-6f23-44c8-b6fd-21917258a713",
   "metadata": {},
   "outputs": [],
   "source": [
    "# Small config that maps dataset name to S3 folder location\n",
    "s3_metadata = [\n",
    "    {\n",
    "        \"name\": \"Delta Asc\", \n",
    "        \"location\": \"s3://asf-opera-rtc-calval/cross_correlation_relative_geolocation_evaluation/data/sentinel_1_rtc/delta_asc/\"\n",
    "    }, \n",
    "    {\n",
    "        \"name\": \"Delta Desc\", \n",
    "        \"location\": \"s3://asf-opera-rtc-calval/cross_correlation_relative_geolocation_evaluation/data/sentinel_1_rtc/delta_desc/\"\n",
    "    }\n",
    "]"
   ]
  },
  {
   "cell_type": "markdown",
   "id": "c77664ff-e08d-45cd-99d3-4951dbd360d6",
   "metadata": {},
   "source": [
    "### Select from prepared datasets and download"
   ]
  },
  {
   "cell_type": "code",
   "execution_count": 3,
   "id": "daacaced-9718-4e19-9589-d68658a59bea",
   "metadata": {},
   "outputs": [],
   "source": [
    "project_names = [meta['name'] for meta in s3_metadata]\n",
    "\n",
    "turn_the_radio_up_for_that_sweet_sound = asfn.widgets.RadioButtons(\n",
    "    options=project_names,\n",
    "    description='Project',\n",
    "    disabled=False\n",
    ")"
   ]
  },
  {
   "cell_type": "code",
   "execution_count": 4,
   "id": "272d90e2-79af-41d6-ae55-121f1def0f8c",
   "metadata": {},
   "outputs": [
    {
     "data": {
      "application/vnd.jupyter.widget-view+json": {
       "model_id": "fe83174ff0fb47fc99b9b0108e7d61fd",
       "version_major": 2,
       "version_minor": 0
      },
      "text/plain": [
       "RadioButtons(description='Project', options=('Delta Asc', 'Delta Desc'), value='Delta Asc')"
      ]
     },
     "metadata": {},
     "output_type": "display_data"
    }
   ],
   "source": [
    "turn_the_radio_up_for_that_sweet_sound"
   ]
  },
  {
   "cell_type": "code",
   "execution_count": 10,
   "id": "15a393ee-0df2-4284-a75d-e42e86c8393a",
   "metadata": {},
   "outputs": [
    {
     "name": "stdout",
     "output_type": "stream",
     "text": [
      "Selected project 'Delta Desc' at location 's3://asf-opera-rtc-calval/cross_correlation_relative_geolocation_evaluation/data/sentinel_1_rtc/delta_desc/'\n"
     ]
    }
   ],
   "source": [
    "selected_name = turn_the_radio_up_for_that_sweet_sound.value\n",
    "selected_location = [metadata['location'] for metadata in s3_metadata if metadata['name'] == selected_name][0]\n",
    "\n",
    "print(f\"Selected project '{selected_name}' at location '{selected_location}'\")"
   ]
  },
  {
   "cell_type": "code",
   "execution_count": 11,
   "id": "c24fcdc4-846a-404c-a4c7-0abd2a666481",
   "metadata": {},
   "outputs": [
    {
     "name": "stdout",
     "output_type": "stream",
     "text": [
      "download: s3://asf-opera-rtc-calval/cross_correlation_relative_geolocation_evaluation/data/sentinel_1_rtc/delta_desc/S1A_IW_20200529T161216_DVP_RTC30_G_gpuned_59DC/S1A_IW_20200529T161216_DVP_RTC30_G_gpuned_59DC.README.md.txt to data/s3/Delta Desc/S1A_IW_20200529T161216_DVP_RTC30_G_gpuned_59DC/S1A_IW_20200529T161216_DVP_RTC30_G_gpuned_59DC.README.md.txt\n",
      "download: s3://asf-opera-rtc-calval/cross_correlation_relative_geolocation_evaluation/data/sentinel_1_rtc/delta_desc/S1A_IW_20200529T161216_DVP_RTC30_G_gpuned_59DC/S1A_IW_20200529T161216_DVP_RTC30_G_gpuned_59DC.kmz to data/s3/Delta Desc/S1A_IW_20200529T161216_DVP_RTC30_G_gpuned_59DC/S1A_IW_20200529T161216_DVP_RTC30_G_gpuned_59DC.kmz\n",
      "download: s3://asf-opera-rtc-calval/cross_correlation_relative_geolocation_evaluation/data/sentinel_1_rtc/delta_desc/S1A_IW_20200529T161216_DVP_RTC30_G_gpuned_59DC/S1A_IW_20200529T161216_DVP_RTC30_G_gpuned_59DC_ls_map.tif to data/s3/Delta Desc/S1A_IW_20200529T161216_DVP_RTC30_G_gpuned_59DC/S1A_IW_20200529T161216_DVP_RTC30_G_gpuned_59DC_ls_map.tif\n",
      "download: s3://asf-opera-rtc-calval/cross_correlation_relative_geolocation_evaluation/data/sentinel_1_rtc/delta_desc/S1A_IW_20200529T161216_DVP_RTC30_G_gpuned_59DC/S1A_IW_20200529T161216_DVP_RTC30_G_gpuned_59DC_ls_map.tif.xml to data/s3/Delta Desc/S1A_IW_20200529T161216_DVP_RTC30_G_gpuned_59DC/S1A_IW_20200529T161216_DVP_RTC30_G_gpuned_59DC_ls_map.tif.xml\n",
      "download: s3://asf-opera-rtc-calval/cross_correlation_relative_geolocation_evaluation/data/sentinel_1_rtc/delta_desc/S1A_IW_20200529T161216_DVP_RTC30_G_gpuned_59DC/S1A_IW_20200529T161216_DVP_RTC30_G_gpuned_59DC_VH.tif.xml to data/s3/Delta Desc/S1A_IW_20200529T161216_DVP_RTC30_G_gpuned_59DC/S1A_IW_20200529T161216_DVP_RTC30_G_gpuned_59DC_VH.tif.xml\n",
      "download: s3://asf-opera-rtc-calval/cross_correlation_relative_geolocation_evaluation/data/sentinel_1_rtc/delta_desc/S1A_IW_20200529T161216_DVP_RTC30_G_gpuned_59DC/S1A_IW_20200529T161216_DVP_RTC30_G_gpuned_59DC.png.aux.xml to data/s3/Delta Desc/S1A_IW_20200529T161216_DVP_RTC30_G_gpuned_59DC/S1A_IW_20200529T161216_DVP_RTC30_G_gpuned_59DC.png.aux.xml\n",
      "download: s3://asf-opera-rtc-calval/cross_correlation_relative_geolocation_evaluation/data/sentinel_1_rtc/delta_desc/S1A_IW_20200529T161216_DVP_RTC30_G_gpuned_59DC/S1A_IW_20200529T161216_DVP_RTC30_G_gpuned_59DC_VV.tif.xml to data/s3/Delta Desc/S1A_IW_20200529T161216_DVP_RTC30_G_gpuned_59DC/S1A_IW_20200529T161216_DVP_RTC30_G_gpuned_59DC_VV.tif.xml\n",
      "download: s3://asf-opera-rtc-calval/cross_correlation_relative_geolocation_evaluation/data/sentinel_1_rtc/delta_desc/S1A_IW_20200529T161216_DVP_RTC30_G_gpuned_59DC/S1A_IW_20200529T161216_DVP_RTC30_G_gpuned_59DC.log to data/s3/Delta Desc/S1A_IW_20200529T161216_DVP_RTC30_G_gpuned_59DC/S1A_IW_20200529T161216_DVP_RTC30_G_gpuned_59DC.log\n",
      "download: s3://asf-opera-rtc-calval/cross_correlation_relative_geolocation_evaluation/data/sentinel_1_rtc/delta_desc/S1A_IW_20200529T161216_DVP_RTC30_G_gpuned_59DC/S1A_IW_20200529T161216_DVP_RTC30_G_gpuned_59DC.png.xml to data/s3/Delta Desc/S1A_IW_20200529T161216_DVP_RTC30_G_gpuned_59DC/S1A_IW_20200529T161216_DVP_RTC30_G_gpuned_59DC.png.xml\n",
      "download: s3://asf-opera-rtc-calval/cross_correlation_relative_geolocation_evaluation/data/sentinel_1_rtc/delta_desc/S1A_IW_20200529T161216_DVP_RTC30_G_gpuned_59DC/S1A_IW_20200529T161216_DVP_RTC30_G_gpuned_59DC_rgb.kmz to data/s3/Delta Desc/S1A_IW_20200529T161216_DVP_RTC30_G_gpuned_59DC/S1A_IW_20200529T161216_DVP_RTC30_G_gpuned_59DC_rgb.kmz\n",
      "download: s3://asf-opera-rtc-calval/cross_correlation_relative_geolocation_evaluation/data/sentinel_1_rtc/delta_desc/S1A_IW_20200529T161216_DVP_RTC30_G_gpuned_59DC/S1A_IW_20200529T161216_DVP_RTC30_G_gpuned_59DC_rgb.png.aux.xml to data/s3/Delta Desc/S1A_IW_20200529T161216_DVP_RTC30_G_gpuned_59DC/S1A_IW_20200529T161216_DVP_RTC30_G_gpuned_59DC_rgb.png.aux.xml\n",
      "download: s3://asf-opera-rtc-calval/cross_correlation_relative_geolocation_evaluation/data/sentinel_1_rtc/delta_desc/S1A_IW_20200529T161216_DVP_RTC30_G_gpuned_59DC/S1A_IW_20200529T161216_DVP_RTC30_G_gpuned_59DC.png to data/s3/Delta Desc/S1A_IW_20200529T161216_DVP_RTC30_G_gpuned_59DC/S1A_IW_20200529T161216_DVP_RTC30_G_gpuned_59DC.png\n",
      "download: s3://asf-opera-rtc-calval/cross_correlation_relative_geolocation_evaluation/data/sentinel_1_rtc/delta_desc/S1A_IW_20200529T161216_DVP_RTC30_G_gpuned_59DC/S1A_IW_20200529T161216_DVP_RTC30_G_gpuned_59DC_shape.dbf to data/s3/Delta Desc/S1A_IW_20200529T161216_DVP_RTC30_G_gpuned_59DC/S1A_IW_20200529T161216_DVP_RTC30_G_gpuned_59DC_shape.dbf\n",
      "download: s3://asf-opera-rtc-calval/cross_correlation_relative_geolocation_evaluation/data/sentinel_1_rtc/delta_desc/S1A_IW_20200529T161216_DVP_RTC30_G_gpuned_59DC/S1A_IW_20200529T161216_DVP_RTC30_G_gpuned_59DC_rgb.png.xml to data/s3/Delta Desc/S1A_IW_20200529T161216_DVP_RTC30_G_gpuned_59DC/S1A_IW_20200529T161216_DVP_RTC30_G_gpuned_59DC_rgb.png.xml\n",
      "download: s3://asf-opera-rtc-calval/cross_correlation_relative_geolocation_evaluation/data/sentinel_1_rtc/delta_desc/S1A_IW_20200529T161216_DVP_RTC30_G_gpuned_59DC/S1A_IW_20200529T161216_DVP_RTC30_G_gpuned_59DC_shape.shp to data/s3/Delta Desc/S1A_IW_20200529T161216_DVP_RTC30_G_gpuned_59DC/S1A_IW_20200529T161216_DVP_RTC30_G_gpuned_59DC_shape.shp\n",
      "download: s3://asf-opera-rtc-calval/cross_correlation_relative_geolocation_evaluation/data/sentinel_1_rtc/delta_desc/S1A_IW_20200529T161216_DVP_RTC30_G_gpuned_59DC/S1A_IW_20200529T161216_DVP_RTC30_G_gpuned_59DC_shape.prj to data/s3/Delta Desc/S1A_IW_20200529T161216_DVP_RTC30_G_gpuned_59DC/S1A_IW_20200529T161216_DVP_RTC30_G_gpuned_59DC_shape.prj\n",
      "download: s3://asf-opera-rtc-calval/cross_correlation_relative_geolocation_evaluation/data/sentinel_1_rtc/delta_desc/S1A_IW_20200529T161216_DVP_RTC30_G_gpuned_59DC/S1A_IW_20200529T161216_DVP_RTC30_G_gpuned_59DC_shape.shx to data/s3/Delta Desc/S1A_IW_20200529T161216_DVP_RTC30_G_gpuned_59DC/S1A_IW_20200529T161216_DVP_RTC30_G_gpuned_59DC_shape.shx\n",
      "download: s3://asf-opera-rtc-calval/cross_correlation_relative_geolocation_evaluation/data/sentinel_1_rtc/delta_desc/S1A_IW_20200529T161216_DVP_RTC30_G_gpuned_59DC/S1A_IW_20200529T161216_DVP_RTC30_G_gpuned_59DC_rgb.png to data/s3/Delta Desc/S1A_IW_20200529T161216_DVP_RTC30_G_gpuned_59DC/S1A_IW_20200529T161216_DVP_RTC30_G_gpuned_59DC_rgb.png\n",
      "download: s3://asf-opera-rtc-calval/cross_correlation_relative_geolocation_evaluation/data/sentinel_1_rtc/delta_desc/S1A_IW_20200610T161217_DVP_RTC30_G_gpuned_F2C8/S1A_IW_20200610T161217_DVP_RTC30_G_gpuned_F2C8.README.md.txt to data/s3/Delta Desc/S1A_IW_20200610T161217_DVP_RTC30_G_gpuned_F2C8/S1A_IW_20200610T161217_DVP_RTC30_G_gpuned_F2C8.README.md.txt\n",
      "download: s3://asf-opera-rtc-calval/cross_correlation_relative_geolocation_evaluation/data/sentinel_1_rtc/delta_desc/S1A_IW_20200610T161217_DVP_RTC30_G_gpuned_F2C8/S1A_IW_20200610T161217_DVP_RTC30_G_gpuned_F2C8.log to data/s3/Delta Desc/S1A_IW_20200610T161217_DVP_RTC30_G_gpuned_F2C8/S1A_IW_20200610T161217_DVP_RTC30_G_gpuned_F2C8.log\n",
      "download: s3://asf-opera-rtc-calval/cross_correlation_relative_geolocation_evaluation/data/sentinel_1_rtc/delta_desc/S1A_IW_20200610T161217_DVP_RTC30_G_gpuned_F2C8/S1A_IW_20200610T161217_DVP_RTC30_G_gpuned_F2C8.kmz to data/s3/Delta Desc/S1A_IW_20200610T161217_DVP_RTC30_G_gpuned_F2C8/S1A_IW_20200610T161217_DVP_RTC30_G_gpuned_F2C8.kmz\n",
      "download: s3://asf-opera-rtc-calval/cross_correlation_relative_geolocation_evaluation/data/sentinel_1_rtc/delta_desc/S1A_IW_20200610T161217_DVP_RTC30_G_gpuned_F2C8/S1A_IW_20200610T161217_DVP_RTC30_G_gpuned_F2C8.png.aux.xml to data/s3/Delta Desc/S1A_IW_20200610T161217_DVP_RTC30_G_gpuned_F2C8/S1A_IW_20200610T161217_DVP_RTC30_G_gpuned_F2C8.png.aux.xml\n",
      "download: s3://asf-opera-rtc-calval/cross_correlation_relative_geolocation_evaluation/data/sentinel_1_rtc/delta_desc/S1A_IW_20200610T161217_DVP_RTC30_G_gpuned_F2C8/S1A_IW_20200610T161217_DVP_RTC30_G_gpuned_F2C8.png.xml to data/s3/Delta Desc/S1A_IW_20200610T161217_DVP_RTC30_G_gpuned_F2C8/S1A_IW_20200610T161217_DVP_RTC30_G_gpuned_F2C8.png.xml\n",
      "download: s3://asf-opera-rtc-calval/cross_correlation_relative_geolocation_evaluation/data/sentinel_1_rtc/delta_desc/S1A_IW_20200610T161217_DVP_RTC30_G_gpuned_F2C8/S1A_IW_20200610T161217_DVP_RTC30_G_gpuned_F2C8.png to data/s3/Delta Desc/S1A_IW_20200610T161217_DVP_RTC30_G_gpuned_F2C8/S1A_IW_20200610T161217_DVP_RTC30_G_gpuned_F2C8.png\n",
      "download: s3://asf-opera-rtc-calval/cross_correlation_relative_geolocation_evaluation/data/sentinel_1_rtc/delta_desc/S1A_IW_20200610T161217_DVP_RTC30_G_gpuned_F2C8/S1A_IW_20200610T161217_DVP_RTC30_G_gpuned_F2C8_VH.tif.xml to data/s3/Delta Desc/S1A_IW_20200610T161217_DVP_RTC30_G_gpuned_F2C8/S1A_IW_20200610T161217_DVP_RTC30_G_gpuned_F2C8_VH.tif.xml\n",
      "download: s3://asf-opera-rtc-calval/cross_correlation_relative_geolocation_evaluation/data/sentinel_1_rtc/delta_desc/S1A_IW_20200610T161217_DVP_RTC30_G_gpuned_F2C8/S1A_IW_20200610T161217_DVP_RTC30_G_gpuned_F2C8_VV.tif.xml to data/s3/Delta Desc/S1A_IW_20200610T161217_DVP_RTC30_G_gpuned_F2C8/S1A_IW_20200610T161217_DVP_RTC30_G_gpuned_F2C8_VV.tif.xml\n",
      "download: s3://asf-opera-rtc-calval/cross_correlation_relative_geolocation_evaluation/data/sentinel_1_rtc/delta_desc/S1A_IW_20200610T161217_DVP_RTC30_G_gpuned_F2C8/S1A_IW_20200610T161217_DVP_RTC30_G_gpuned_F2C8_ls_map.tif to data/s3/Delta Desc/S1A_IW_20200610T161217_DVP_RTC30_G_gpuned_F2C8/S1A_IW_20200610T161217_DVP_RTC30_G_gpuned_F2C8_ls_map.tif\n",
      "download: s3://asf-opera-rtc-calval/cross_correlation_relative_geolocation_evaluation/data/sentinel_1_rtc/delta_desc/S1A_IW_20200610T161217_DVP_RTC30_G_gpuned_F2C8/S1A_IW_20200610T161217_DVP_RTC30_G_gpuned_F2C8_ls_map.tif.xml to data/s3/Delta Desc/S1A_IW_20200610T161217_DVP_RTC30_G_gpuned_F2C8/S1A_IW_20200610T161217_DVP_RTC30_G_gpuned_F2C8_ls_map.tif.xml\n",
      "download: s3://asf-opera-rtc-calval/cross_correlation_relative_geolocation_evaluation/data/sentinel_1_rtc/delta_desc/S1A_IW_20200610T161217_DVP_RTC30_G_gpuned_F2C8/S1A_IW_20200610T161217_DVP_RTC30_G_gpuned_F2C8_rgb.kmz to data/s3/Delta Desc/S1A_IW_20200610T161217_DVP_RTC30_G_gpuned_F2C8/S1A_IW_20200610T161217_DVP_RTC30_G_gpuned_F2C8_rgb.kmz\n",
      "download: s3://asf-opera-rtc-calval/cross_correlation_relative_geolocation_evaluation/data/sentinel_1_rtc/delta_desc/S1A_IW_20200610T161217_DVP_RTC30_G_gpuned_F2C8/S1A_IW_20200610T161217_DVP_RTC30_G_gpuned_F2C8_rgb.png.aux.xml to data/s3/Delta Desc/S1A_IW_20200610T161217_DVP_RTC30_G_gpuned_F2C8/S1A_IW_20200610T161217_DVP_RTC30_G_gpuned_F2C8_rgb.png.aux.xml\n",
      "download: s3://asf-opera-rtc-calval/cross_correlation_relative_geolocation_evaluation/data/sentinel_1_rtc/delta_desc/S1A_IW_20200610T161217_DVP_RTC30_G_gpuned_F2C8/S1A_IW_20200610T161217_DVP_RTC30_G_gpuned_F2C8_rgb.png to data/s3/Delta Desc/S1A_IW_20200610T161217_DVP_RTC30_G_gpuned_F2C8/S1A_IW_20200610T161217_DVP_RTC30_G_gpuned_F2C8_rgb.png\n",
      "download: s3://asf-opera-rtc-calval/cross_correlation_relative_geolocation_evaluation/data/sentinel_1_rtc/delta_desc/S1A_IW_20200610T161217_DVP_RTC30_G_gpuned_F2C8/S1A_IW_20200610T161217_DVP_RTC30_G_gpuned_F2C8_rgb.png.xml to data/s3/Delta Desc/S1A_IW_20200610T161217_DVP_RTC30_G_gpuned_F2C8/S1A_IW_20200610T161217_DVP_RTC30_G_gpuned_F2C8_rgb.png.xml\n",
      "download: s3://asf-opera-rtc-calval/cross_correlation_relative_geolocation_evaluation/data/sentinel_1_rtc/delta_desc/S1A_IW_20200610T161217_DVP_RTC30_G_gpuned_F2C8/S1A_IW_20200610T161217_DVP_RTC30_G_gpuned_F2C8_shape.dbf to data/s3/Delta Desc/S1A_IW_20200610T161217_DVP_RTC30_G_gpuned_F2C8/S1A_IW_20200610T161217_DVP_RTC30_G_gpuned_F2C8_shape.dbf\n",
      "download: s3://asf-opera-rtc-calval/cross_correlation_relative_geolocation_evaluation/data/sentinel_1_rtc/delta_desc/S1A_IW_20200610T161217_DVP_RTC30_G_gpuned_F2C8/S1A_IW_20200610T161217_DVP_RTC30_G_gpuned_F2C8_shape.prj to data/s3/Delta Desc/S1A_IW_20200610T161217_DVP_RTC30_G_gpuned_F2C8/S1A_IW_20200610T161217_DVP_RTC30_G_gpuned_F2C8_shape.prj\n",
      "download: s3://asf-opera-rtc-calval/cross_correlation_relative_geolocation_evaluation/data/sentinel_1_rtc/delta_desc/S1A_IW_20200610T161217_DVP_RTC30_G_gpuned_F2C8/S1A_IW_20200610T161217_DVP_RTC30_G_gpuned_F2C8_shape.shp to data/s3/Delta Desc/S1A_IW_20200610T161217_DVP_RTC30_G_gpuned_F2C8/S1A_IW_20200610T161217_DVP_RTC30_G_gpuned_F2C8_shape.shp\n",
      "download: s3://asf-opera-rtc-calval/cross_correlation_relative_geolocation_evaluation/data/sentinel_1_rtc/delta_desc/S1A_IW_20200610T161217_DVP_RTC30_G_gpuned_F2C8/S1A_IW_20200610T161217_DVP_RTC30_G_gpuned_F2C8_shape.shx to data/s3/Delta Desc/S1A_IW_20200610T161217_DVP_RTC30_G_gpuned_F2C8/S1A_IW_20200610T161217_DVP_RTC30_G_gpuned_F2C8_shape.shx\n",
      "download: s3://asf-opera-rtc-calval/cross_correlation_relative_geolocation_evaluation/data/sentinel_1_rtc/delta_desc/S1A_IW_20200622T161217_DVP_RTC30_G_gpuned_252E/S1A_IW_20200622T161217_DVP_RTC30_G_gpuned_252E.README.md.txt to data/s3/Delta Desc/S1A_IW_20200622T161217_DVP_RTC30_G_gpuned_252E/S1A_IW_20200622T161217_DVP_RTC30_G_gpuned_252E.README.md.txt\n",
      "download: s3://asf-opera-rtc-calval/cross_correlation_relative_geolocation_evaluation/data/sentinel_1_rtc/delta_desc/S1A_IW_20200622T161217_DVP_RTC30_G_gpuned_252E/S1A_IW_20200622T161217_DVP_RTC30_G_gpuned_252E.kmz to data/s3/Delta Desc/S1A_IW_20200622T161217_DVP_RTC30_G_gpuned_252E/S1A_IW_20200622T161217_DVP_RTC30_G_gpuned_252E.kmz\n",
      "download: s3://asf-opera-rtc-calval/cross_correlation_relative_geolocation_evaluation/data/sentinel_1_rtc/delta_desc/S1A_IW_20200622T161217_DVP_RTC30_G_gpuned_252E/S1A_IW_20200622T161217_DVP_RTC30_G_gpuned_252E.log to data/s3/Delta Desc/S1A_IW_20200622T161217_DVP_RTC30_G_gpuned_252E/S1A_IW_20200622T161217_DVP_RTC30_G_gpuned_252E.log\n",
      "download: s3://asf-opera-rtc-calval/cross_correlation_relative_geolocation_evaluation/data/sentinel_1_rtc/delta_desc/S1A_IW_20200622T161217_DVP_RTC30_G_gpuned_252E/S1A_IW_20200622T161217_DVP_RTC30_G_gpuned_252E.png to data/s3/Delta Desc/S1A_IW_20200622T161217_DVP_RTC30_G_gpuned_252E/S1A_IW_20200622T161217_DVP_RTC30_G_gpuned_252E.png\n",
      "download: s3://asf-opera-rtc-calval/cross_correlation_relative_geolocation_evaluation/data/sentinel_1_rtc/delta_desc/S1A_IW_20200622T161217_DVP_RTC30_G_gpuned_252E/S1A_IW_20200622T161217_DVP_RTC30_G_gpuned_252E.png.aux.xml to data/s3/Delta Desc/S1A_IW_20200622T161217_DVP_RTC30_G_gpuned_252E/S1A_IW_20200622T161217_DVP_RTC30_G_gpuned_252E.png.aux.xml\n",
      "download: s3://asf-opera-rtc-calval/cross_correlation_relative_geolocation_evaluation/data/sentinel_1_rtc/delta_desc/S1A_IW_20200622T161217_DVP_RTC30_G_gpuned_252E/S1A_IW_20200622T161217_DVP_RTC30_G_gpuned_252E.png.xml to data/s3/Delta Desc/S1A_IW_20200622T161217_DVP_RTC30_G_gpuned_252E/S1A_IW_20200622T161217_DVP_RTC30_G_gpuned_252E.png.xml\n",
      "download: s3://asf-opera-rtc-calval/cross_correlation_relative_geolocation_evaluation/data/sentinel_1_rtc/delta_desc/S1A_IW_20200622T161217_DVP_RTC30_G_gpuned_252E/S1A_IW_20200622T161217_DVP_RTC30_G_gpuned_252E_VH.tif.xml to data/s3/Delta Desc/S1A_IW_20200622T161217_DVP_RTC30_G_gpuned_252E/S1A_IW_20200622T161217_DVP_RTC30_G_gpuned_252E_VH.tif.xml\n",
      "download: s3://asf-opera-rtc-calval/cross_correlation_relative_geolocation_evaluation/data/sentinel_1_rtc/delta_desc/S1A_IW_20200529T161216_DVP_RTC30_G_gpuned_59DC/S1A_IW_20200529T161216_DVP_RTC30_G_gpuned_59DC_VV.tif to data/s3/Delta Desc/S1A_IW_20200529T161216_DVP_RTC30_G_gpuned_59DC/S1A_IW_20200529T161216_DVP_RTC30_G_gpuned_59DC_VV.tif\n",
      "download: s3://asf-opera-rtc-calval/cross_correlation_relative_geolocation_evaluation/data/sentinel_1_rtc/delta_desc/S1A_IW_20200529T161216_DVP_RTC30_G_gpuned_59DC/S1A_IW_20200529T161216_DVP_RTC30_G_gpuned_59DC_VH.tif to data/s3/Delta Desc/S1A_IW_20200529T161216_DVP_RTC30_G_gpuned_59DC/S1A_IW_20200529T161216_DVP_RTC30_G_gpuned_59DC_VH.tif\n",
      "download: s3://asf-opera-rtc-calval/cross_correlation_relative_geolocation_evaluation/data/sentinel_1_rtc/delta_desc/S1A_IW_20200622T161217_DVP_RTC30_G_gpuned_252E/S1A_IW_20200622T161217_DVP_RTC30_G_gpuned_252E_VV.tif.xml to data/s3/Delta Desc/S1A_IW_20200622T161217_DVP_RTC30_G_gpuned_252E/S1A_IW_20200622T161217_DVP_RTC30_G_gpuned_252E_VV.tif.xml\n",
      "download: s3://asf-opera-rtc-calval/cross_correlation_relative_geolocation_evaluation/data/sentinel_1_rtc/delta_desc/S1A_IW_20200622T161217_DVP_RTC30_G_gpuned_252E/S1A_IW_20200622T161217_DVP_RTC30_G_gpuned_252E_ls_map.tif to data/s3/Delta Desc/S1A_IW_20200622T161217_DVP_RTC30_G_gpuned_252E/S1A_IW_20200622T161217_DVP_RTC30_G_gpuned_252E_ls_map.tif\n",
      "download: s3://asf-opera-rtc-calval/cross_correlation_relative_geolocation_evaluation/data/sentinel_1_rtc/delta_desc/S1A_IW_20200622T161217_DVP_RTC30_G_gpuned_252E/S1A_IW_20200622T161217_DVP_RTC30_G_gpuned_252E_ls_map.tif.xml to data/s3/Delta Desc/S1A_IW_20200622T161217_DVP_RTC30_G_gpuned_252E/S1A_IW_20200622T161217_DVP_RTC30_G_gpuned_252E_ls_map.tif.xml\n",
      "download: s3://asf-opera-rtc-calval/cross_correlation_relative_geolocation_evaluation/data/sentinel_1_rtc/delta_desc/S1A_IW_20200622T161217_DVP_RTC30_G_gpuned_252E/S1A_IW_20200622T161217_DVP_RTC30_G_gpuned_252E_rgb.kmz to data/s3/Delta Desc/S1A_IW_20200622T161217_DVP_RTC30_G_gpuned_252E/S1A_IW_20200622T161217_DVP_RTC30_G_gpuned_252E_rgb.kmz\n",
      "download: s3://asf-opera-rtc-calval/cross_correlation_relative_geolocation_evaluation/data/sentinel_1_rtc/delta_desc/S1A_IW_20200610T161217_DVP_RTC30_G_gpuned_F2C8/S1A_IW_20200610T161217_DVP_RTC30_G_gpuned_F2C8_VH.tif to data/s3/Delta Desc/S1A_IW_20200610T161217_DVP_RTC30_G_gpuned_F2C8/S1A_IW_20200610T161217_DVP_RTC30_G_gpuned_F2C8_VH.tif\n",
      "download: s3://asf-opera-rtc-calval/cross_correlation_relative_geolocation_evaluation/data/sentinel_1_rtc/delta_desc/S1A_IW_20200622T161217_DVP_RTC30_G_gpuned_252E/S1A_IW_20200622T161217_DVP_RTC30_G_gpuned_252E_rgb.png.xml to data/s3/Delta Desc/S1A_IW_20200622T161217_DVP_RTC30_G_gpuned_252E/S1A_IW_20200622T161217_DVP_RTC30_G_gpuned_252E_rgb.png.xml\n",
      "download: s3://asf-opera-rtc-calval/cross_correlation_relative_geolocation_evaluation/data/sentinel_1_rtc/delta_desc/S1A_IW_20200622T161217_DVP_RTC30_G_gpuned_252E/S1A_IW_20200622T161217_DVP_RTC30_G_gpuned_252E_rgb.png.aux.xml to data/s3/Delta Desc/S1A_IW_20200622T161217_DVP_RTC30_G_gpuned_252E/S1A_IW_20200622T161217_DVP_RTC30_G_gpuned_252E_rgb.png.aux.xml\n",
      "download: s3://asf-opera-rtc-calval/cross_correlation_relative_geolocation_evaluation/data/sentinel_1_rtc/delta_desc/S1A_IW_20200622T161217_DVP_RTC30_G_gpuned_252E/S1A_IW_20200622T161217_DVP_RTC30_G_gpuned_252E_shape.prj to data/s3/Delta Desc/S1A_IW_20200622T161217_DVP_RTC30_G_gpuned_252E/S1A_IW_20200622T161217_DVP_RTC30_G_gpuned_252E_shape.prj\n",
      "download: s3://asf-opera-rtc-calval/cross_correlation_relative_geolocation_evaluation/data/sentinel_1_rtc/delta_desc/S1A_IW_20200610T161217_DVP_RTC30_G_gpuned_F2C8/S1A_IW_20200610T161217_DVP_RTC30_G_gpuned_F2C8_VV.tif to data/s3/Delta Desc/S1A_IW_20200610T161217_DVP_RTC30_G_gpuned_F2C8/S1A_IW_20200610T161217_DVP_RTC30_G_gpuned_F2C8_VV.tif\n",
      "download: s3://asf-opera-rtc-calval/cross_correlation_relative_geolocation_evaluation/data/sentinel_1_rtc/delta_desc/S1A_IW_20200622T161217_DVP_RTC30_G_gpuned_252E/S1A_IW_20200622T161217_DVP_RTC30_G_gpuned_252E_shape.dbf to data/s3/Delta Desc/S1A_IW_20200622T161217_DVP_RTC30_G_gpuned_252E/S1A_IW_20200622T161217_DVP_RTC30_G_gpuned_252E_shape.dbf\n",
      "download: s3://asf-opera-rtc-calval/cross_correlation_relative_geolocation_evaluation/data/sentinel_1_rtc/delta_desc/S1A_IW_20200622T161217_DVP_RTC30_G_gpuned_252E/S1A_IW_20200622T161217_DVP_RTC30_G_gpuned_252E_shape.shx to data/s3/Delta Desc/S1A_IW_20200622T161217_DVP_RTC30_G_gpuned_252E/S1A_IW_20200622T161217_DVP_RTC30_G_gpuned_252E_shape.shx\n",
      "download: s3://asf-opera-rtc-calval/cross_correlation_relative_geolocation_evaluation/data/sentinel_1_rtc/delta_desc/S1A_IW_20200622T161217_DVP_RTC30_G_gpuned_252E/S1A_IW_20200622T161217_DVP_RTC30_G_gpuned_252E_shape.shp to data/s3/Delta Desc/S1A_IW_20200622T161217_DVP_RTC30_G_gpuned_252E/S1A_IW_20200622T161217_DVP_RTC30_G_gpuned_252E_shape.shp\n",
      "download: s3://asf-opera-rtc-calval/cross_correlation_relative_geolocation_evaluation/data/sentinel_1_rtc/delta_desc/S1A_IW_20200704T161218_DVP_RTC30_G_gpuned_871B/S1A_IW_20200704T161218_DVP_RTC30_G_gpuned_871B.README.md.txt to data/s3/Delta Desc/S1A_IW_20200704T161218_DVP_RTC30_G_gpuned_871B/S1A_IW_20200704T161218_DVP_RTC30_G_gpuned_871B.README.md.txt\n",
      "download: s3://asf-opera-rtc-calval/cross_correlation_relative_geolocation_evaluation/data/sentinel_1_rtc/delta_desc/S1A_IW_20200622T161217_DVP_RTC30_G_gpuned_252E/S1A_IW_20200622T161217_DVP_RTC30_G_gpuned_252E_rgb.png to data/s3/Delta Desc/S1A_IW_20200622T161217_DVP_RTC30_G_gpuned_252E/S1A_IW_20200622T161217_DVP_RTC30_G_gpuned_252E_rgb.png\n",
      "download: s3://asf-opera-rtc-calval/cross_correlation_relative_geolocation_evaluation/data/sentinel_1_rtc/delta_desc/S1A_IW_20200704T161218_DVP_RTC30_G_gpuned_871B/S1A_IW_20200704T161218_DVP_RTC30_G_gpuned_871B.kmz to data/s3/Delta Desc/S1A_IW_20200704T161218_DVP_RTC30_G_gpuned_871B/S1A_IW_20200704T161218_DVP_RTC30_G_gpuned_871B.kmz\n",
      "download: s3://asf-opera-rtc-calval/cross_correlation_relative_geolocation_evaluation/data/sentinel_1_rtc/delta_desc/S1A_IW_20200704T161218_DVP_RTC30_G_gpuned_871B/S1A_IW_20200704T161218_DVP_RTC30_G_gpuned_871B.png to data/s3/Delta Desc/S1A_IW_20200704T161218_DVP_RTC30_G_gpuned_871B/S1A_IW_20200704T161218_DVP_RTC30_G_gpuned_871B.png\n",
      "download: s3://asf-opera-rtc-calval/cross_correlation_relative_geolocation_evaluation/data/sentinel_1_rtc/delta_desc/S1A_IW_20200704T161218_DVP_RTC30_G_gpuned_871B/S1A_IW_20200704T161218_DVP_RTC30_G_gpuned_871B.png.xml to data/s3/Delta Desc/S1A_IW_20200704T161218_DVP_RTC30_G_gpuned_871B/S1A_IW_20200704T161218_DVP_RTC30_G_gpuned_871B.png.xml\n",
      "download: s3://asf-opera-rtc-calval/cross_correlation_relative_geolocation_evaluation/data/sentinel_1_rtc/delta_desc/S1A_IW_20200704T161218_DVP_RTC30_G_gpuned_871B/S1A_IW_20200704T161218_DVP_RTC30_G_gpuned_871B.png.aux.xml to data/s3/Delta Desc/S1A_IW_20200704T161218_DVP_RTC30_G_gpuned_871B/S1A_IW_20200704T161218_DVP_RTC30_G_gpuned_871B.png.aux.xml\n",
      "download: s3://asf-opera-rtc-calval/cross_correlation_relative_geolocation_evaluation/data/sentinel_1_rtc/delta_desc/S1A_IW_20200704T161218_DVP_RTC30_G_gpuned_871B/S1A_IW_20200704T161218_DVP_RTC30_G_gpuned_871B_VH.tif.xml to data/s3/Delta Desc/S1A_IW_20200704T161218_DVP_RTC30_G_gpuned_871B/S1A_IW_20200704T161218_DVP_RTC30_G_gpuned_871B_VH.tif.xml\n",
      "download: s3://asf-opera-rtc-calval/cross_correlation_relative_geolocation_evaluation/data/sentinel_1_rtc/delta_desc/S1A_IW_20200704T161218_DVP_RTC30_G_gpuned_871B/S1A_IW_20200704T161218_DVP_RTC30_G_gpuned_871B.log to data/s3/Delta Desc/S1A_IW_20200704T161218_DVP_RTC30_G_gpuned_871B/S1A_IW_20200704T161218_DVP_RTC30_G_gpuned_871B.log\n",
      "download: s3://asf-opera-rtc-calval/cross_correlation_relative_geolocation_evaluation/data/sentinel_1_rtc/delta_desc/S1A_IW_20200704T161218_DVP_RTC30_G_gpuned_871B/S1A_IW_20200704T161218_DVP_RTC30_G_gpuned_871B_VV.tif.xml to data/s3/Delta Desc/S1A_IW_20200704T161218_DVP_RTC30_G_gpuned_871B/S1A_IW_20200704T161218_DVP_RTC30_G_gpuned_871B_VV.tif.xml\n",
      "download: s3://asf-opera-rtc-calval/cross_correlation_relative_geolocation_evaluation/data/sentinel_1_rtc/delta_desc/S1A_IW_20200704T161218_DVP_RTC30_G_gpuned_871B/S1A_IW_20200704T161218_DVP_RTC30_G_gpuned_871B_ls_map.tif to data/s3/Delta Desc/S1A_IW_20200704T161218_DVP_RTC30_G_gpuned_871B/S1A_IW_20200704T161218_DVP_RTC30_G_gpuned_871B_ls_map.tif\n",
      "download: s3://asf-opera-rtc-calval/cross_correlation_relative_geolocation_evaluation/data/sentinel_1_rtc/delta_desc/S1A_IW_20200704T161218_DVP_RTC30_G_gpuned_871B/S1A_IW_20200704T161218_DVP_RTC30_G_gpuned_871B_ls_map.tif.xml to data/s3/Delta Desc/S1A_IW_20200704T161218_DVP_RTC30_G_gpuned_871B/S1A_IW_20200704T161218_DVP_RTC30_G_gpuned_871B_ls_map.tif.xml\n",
      "download: s3://asf-opera-rtc-calval/cross_correlation_relative_geolocation_evaluation/data/sentinel_1_rtc/delta_desc/S1A_IW_20200704T161218_DVP_RTC30_G_gpuned_871B/S1A_IW_20200704T161218_DVP_RTC30_G_gpuned_871B_rgb.kmz to data/s3/Delta Desc/S1A_IW_20200704T161218_DVP_RTC30_G_gpuned_871B/S1A_IW_20200704T161218_DVP_RTC30_G_gpuned_871B_rgb.kmz\n",
      "download: s3://asf-opera-rtc-calval/cross_correlation_relative_geolocation_evaluation/data/sentinel_1_rtc/delta_desc/S1A_IW_20200704T161218_DVP_RTC30_G_gpuned_871B/S1A_IW_20200704T161218_DVP_RTC30_G_gpuned_871B_rgb.png.aux.xml to data/s3/Delta Desc/S1A_IW_20200704T161218_DVP_RTC30_G_gpuned_871B/S1A_IW_20200704T161218_DVP_RTC30_G_gpuned_871B_rgb.png.aux.xml\n",
      "download: s3://asf-opera-rtc-calval/cross_correlation_relative_geolocation_evaluation/data/sentinel_1_rtc/delta_desc/S1A_IW_20200704T161218_DVP_RTC30_G_gpuned_871B/S1A_IW_20200704T161218_DVP_RTC30_G_gpuned_871B_rgb.png.xml to data/s3/Delta Desc/S1A_IW_20200704T161218_DVP_RTC30_G_gpuned_871B/S1A_IW_20200704T161218_DVP_RTC30_G_gpuned_871B_rgb.png.xml\n",
      "download: s3://asf-opera-rtc-calval/cross_correlation_relative_geolocation_evaluation/data/sentinel_1_rtc/delta_desc/S1A_IW_20200704T161218_DVP_RTC30_G_gpuned_871B/S1A_IW_20200704T161218_DVP_RTC30_G_gpuned_871B_rgb.png to data/s3/Delta Desc/S1A_IW_20200704T161218_DVP_RTC30_G_gpuned_871B/S1A_IW_20200704T161218_DVP_RTC30_G_gpuned_871B_rgb.png\n",
      "download: s3://asf-opera-rtc-calval/cross_correlation_relative_geolocation_evaluation/data/sentinel_1_rtc/delta_desc/S1A_IW_20200704T161218_DVP_RTC30_G_gpuned_871B/S1A_IW_20200704T161218_DVP_RTC30_G_gpuned_871B_shape.dbf to data/s3/Delta Desc/S1A_IW_20200704T161218_DVP_RTC30_G_gpuned_871B/S1A_IW_20200704T161218_DVP_RTC30_G_gpuned_871B_shape.dbf\n",
      "download: s3://asf-opera-rtc-calval/cross_correlation_relative_geolocation_evaluation/data/sentinel_1_rtc/delta_desc/S1A_IW_20200704T161218_DVP_RTC30_G_gpuned_871B/S1A_IW_20200704T161218_DVP_RTC30_G_gpuned_871B_shape.prj to data/s3/Delta Desc/S1A_IW_20200704T161218_DVP_RTC30_G_gpuned_871B/S1A_IW_20200704T161218_DVP_RTC30_G_gpuned_871B_shape.prj\n",
      "download: s3://asf-opera-rtc-calval/cross_correlation_relative_geolocation_evaluation/data/sentinel_1_rtc/delta_desc/S1A_IW_20200704T161218_DVP_RTC30_G_gpuned_871B/S1A_IW_20200704T161218_DVP_RTC30_G_gpuned_871B_shape.shp to data/s3/Delta Desc/S1A_IW_20200704T161218_DVP_RTC30_G_gpuned_871B/S1A_IW_20200704T161218_DVP_RTC30_G_gpuned_871B_shape.shp\n",
      "download: s3://asf-opera-rtc-calval/cross_correlation_relative_geolocation_evaluation/data/sentinel_1_rtc/delta_desc/S1A_IW_20200704T161218_DVP_RTC30_G_gpuned_871B/S1A_IW_20200704T161218_DVP_RTC30_G_gpuned_871B_shape.shx to data/s3/Delta Desc/S1A_IW_20200704T161218_DVP_RTC30_G_gpuned_871B/S1A_IW_20200704T161218_DVP_RTC30_G_gpuned_871B_shape.shx\n",
      "download: s3://asf-opera-rtc-calval/cross_correlation_relative_geolocation_evaluation/data/sentinel_1_rtc/delta_desc/S1A_IW_20200716T161219_DVP_RTC30_G_gpuned_26CA/S1A_IW_20200716T161219_DVP_RTC30_G_gpuned_26CA.README.md.txt to data/s3/Delta Desc/S1A_IW_20200716T161219_DVP_RTC30_G_gpuned_26CA/S1A_IW_20200716T161219_DVP_RTC30_G_gpuned_26CA.README.md.txt\n",
      "download: s3://asf-opera-rtc-calval/cross_correlation_relative_geolocation_evaluation/data/sentinel_1_rtc/delta_desc/S1A_IW_20200622T161217_DVP_RTC30_G_gpuned_252E/S1A_IW_20200622T161217_DVP_RTC30_G_gpuned_252E_VH.tif to data/s3/Delta Desc/S1A_IW_20200622T161217_DVP_RTC30_G_gpuned_252E/S1A_IW_20200622T161217_DVP_RTC30_G_gpuned_252E_VH.tif\n",
      "download: s3://asf-opera-rtc-calval/cross_correlation_relative_geolocation_evaluation/data/sentinel_1_rtc/delta_desc/S1A_IW_20200716T161219_DVP_RTC30_G_gpuned_26CA/S1A_IW_20200716T161219_DVP_RTC30_G_gpuned_26CA.kmz to data/s3/Delta Desc/S1A_IW_20200716T161219_DVP_RTC30_G_gpuned_26CA/S1A_IW_20200716T161219_DVP_RTC30_G_gpuned_26CA.kmz\n",
      "download: s3://asf-opera-rtc-calval/cross_correlation_relative_geolocation_evaluation/data/sentinel_1_rtc/delta_desc/S1A_IW_20200716T161219_DVP_RTC30_G_gpuned_26CA/S1A_IW_20200716T161219_DVP_RTC30_G_gpuned_26CA.png to data/s3/Delta Desc/S1A_IW_20200716T161219_DVP_RTC30_G_gpuned_26CA/S1A_IW_20200716T161219_DVP_RTC30_G_gpuned_26CA.png\n",
      "download: s3://asf-opera-rtc-calval/cross_correlation_relative_geolocation_evaluation/data/sentinel_1_rtc/delta_desc/S1A_IW_20200716T161219_DVP_RTC30_G_gpuned_26CA/S1A_IW_20200716T161219_DVP_RTC30_G_gpuned_26CA.png.aux.xml to data/s3/Delta Desc/S1A_IW_20200716T161219_DVP_RTC30_G_gpuned_26CA/S1A_IW_20200716T161219_DVP_RTC30_G_gpuned_26CA.png.aux.xml\n",
      "download: s3://asf-opera-rtc-calval/cross_correlation_relative_geolocation_evaluation/data/sentinel_1_rtc/delta_desc/S1A_IW_20200716T161219_DVP_RTC30_G_gpuned_26CA/S1A_IW_20200716T161219_DVP_RTC30_G_gpuned_26CA.log to data/s3/Delta Desc/S1A_IW_20200716T161219_DVP_RTC30_G_gpuned_26CA/S1A_IW_20200716T161219_DVP_RTC30_G_gpuned_26CA.log\n",
      "download: s3://asf-opera-rtc-calval/cross_correlation_relative_geolocation_evaluation/data/sentinel_1_rtc/delta_desc/S1A_IW_20200716T161219_DVP_RTC30_G_gpuned_26CA/S1A_IW_20200716T161219_DVP_RTC30_G_gpuned_26CA.png.xml to data/s3/Delta Desc/S1A_IW_20200716T161219_DVP_RTC30_G_gpuned_26CA/S1A_IW_20200716T161219_DVP_RTC30_G_gpuned_26CA.png.xml\n",
      "download: s3://asf-opera-rtc-calval/cross_correlation_relative_geolocation_evaluation/data/sentinel_1_rtc/delta_desc/S1A_IW_20200716T161219_DVP_RTC30_G_gpuned_26CA/S1A_IW_20200716T161219_DVP_RTC30_G_gpuned_26CA_VH.tif.xml to data/s3/Delta Desc/S1A_IW_20200716T161219_DVP_RTC30_G_gpuned_26CA/S1A_IW_20200716T161219_DVP_RTC30_G_gpuned_26CA_VH.tif.xml\n",
      "download: s3://asf-opera-rtc-calval/cross_correlation_relative_geolocation_evaluation/data/sentinel_1_rtc/delta_desc/S1A_IW_20200622T161217_DVP_RTC30_G_gpuned_252E/S1A_IW_20200622T161217_DVP_RTC30_G_gpuned_252E_VV.tif to data/s3/Delta Desc/S1A_IW_20200622T161217_DVP_RTC30_G_gpuned_252E/S1A_IW_20200622T161217_DVP_RTC30_G_gpuned_252E_VV.tif\n",
      "download: s3://asf-opera-rtc-calval/cross_correlation_relative_geolocation_evaluation/data/sentinel_1_rtc/delta_desc/S1A_IW_20200716T161219_DVP_RTC30_G_gpuned_26CA/S1A_IW_20200716T161219_DVP_RTC30_G_gpuned_26CA_VV.tif.xml to data/s3/Delta Desc/S1A_IW_20200716T161219_DVP_RTC30_G_gpuned_26CA/S1A_IW_20200716T161219_DVP_RTC30_G_gpuned_26CA_VV.tif.xml\n",
      "download: s3://asf-opera-rtc-calval/cross_correlation_relative_geolocation_evaluation/data/sentinel_1_rtc/delta_desc/S1A_IW_20200716T161219_DVP_RTC30_G_gpuned_26CA/S1A_IW_20200716T161219_DVP_RTC30_G_gpuned_26CA_ls_map.tif to data/s3/Delta Desc/S1A_IW_20200716T161219_DVP_RTC30_G_gpuned_26CA/S1A_IW_20200716T161219_DVP_RTC30_G_gpuned_26CA_ls_map.tif\n",
      "download: s3://asf-opera-rtc-calval/cross_correlation_relative_geolocation_evaluation/data/sentinel_1_rtc/delta_desc/S1A_IW_20200716T161219_DVP_RTC30_G_gpuned_26CA/S1A_IW_20200716T161219_DVP_RTC30_G_gpuned_26CA_ls_map.tif.xml to data/s3/Delta Desc/S1A_IW_20200716T161219_DVP_RTC30_G_gpuned_26CA/S1A_IW_20200716T161219_DVP_RTC30_G_gpuned_26CA_ls_map.tif.xml\n",
      "download: s3://asf-opera-rtc-calval/cross_correlation_relative_geolocation_evaluation/data/sentinel_1_rtc/delta_desc/S1A_IW_20200716T161219_DVP_RTC30_G_gpuned_26CA/S1A_IW_20200716T161219_DVP_RTC30_G_gpuned_26CA_rgb.kmz to data/s3/Delta Desc/S1A_IW_20200716T161219_DVP_RTC30_G_gpuned_26CA/S1A_IW_20200716T161219_DVP_RTC30_G_gpuned_26CA_rgb.kmz\n",
      "download: s3://asf-opera-rtc-calval/cross_correlation_relative_geolocation_evaluation/data/sentinel_1_rtc/delta_desc/S1A_IW_20200716T161219_DVP_RTC30_G_gpuned_26CA/S1A_IW_20200716T161219_DVP_RTC30_G_gpuned_26CA_rgb.png.aux.xml to data/s3/Delta Desc/S1A_IW_20200716T161219_DVP_RTC30_G_gpuned_26CA/S1A_IW_20200716T161219_DVP_RTC30_G_gpuned_26CA_rgb.png.aux.xml\n",
      "download: s3://asf-opera-rtc-calval/cross_correlation_relative_geolocation_evaluation/data/sentinel_1_rtc/delta_desc/S1A_IW_20200716T161219_DVP_RTC30_G_gpuned_26CA/S1A_IW_20200716T161219_DVP_RTC30_G_gpuned_26CA_rgb.png to data/s3/Delta Desc/S1A_IW_20200716T161219_DVP_RTC30_G_gpuned_26CA/S1A_IW_20200716T161219_DVP_RTC30_G_gpuned_26CA_rgb.png\n",
      "download: s3://asf-opera-rtc-calval/cross_correlation_relative_geolocation_evaluation/data/sentinel_1_rtc/delta_desc/S1A_IW_20200716T161219_DVP_RTC30_G_gpuned_26CA/S1A_IW_20200716T161219_DVP_RTC30_G_gpuned_26CA_rgb.png.xml to data/s3/Delta Desc/S1A_IW_20200716T161219_DVP_RTC30_G_gpuned_26CA/S1A_IW_20200716T161219_DVP_RTC30_G_gpuned_26CA_rgb.png.xml\n",
      "download: s3://asf-opera-rtc-calval/cross_correlation_relative_geolocation_evaluation/data/sentinel_1_rtc/delta_desc/S1A_IW_20200716T161219_DVP_RTC30_G_gpuned_26CA/S1A_IW_20200716T161219_DVP_RTC30_G_gpuned_26CA_shape.dbf to data/s3/Delta Desc/S1A_IW_20200716T161219_DVP_RTC30_G_gpuned_26CA/S1A_IW_20200716T161219_DVP_RTC30_G_gpuned_26CA_shape.dbf\n",
      "download: s3://asf-opera-rtc-calval/cross_correlation_relative_geolocation_evaluation/data/sentinel_1_rtc/delta_desc/S1A_IW_20200716T161219_DVP_RTC30_G_gpuned_26CA/S1A_IW_20200716T161219_DVP_RTC30_G_gpuned_26CA_shape.prj to data/s3/Delta Desc/S1A_IW_20200716T161219_DVP_RTC30_G_gpuned_26CA/S1A_IW_20200716T161219_DVP_RTC30_G_gpuned_26CA_shape.prj\n",
      "download: s3://asf-opera-rtc-calval/cross_correlation_relative_geolocation_evaluation/data/sentinel_1_rtc/delta_desc/S1A_IW_20200716T161219_DVP_RTC30_G_gpuned_26CA/S1A_IW_20200716T161219_DVP_RTC30_G_gpuned_26CA_shape.shx to data/s3/Delta Desc/S1A_IW_20200716T161219_DVP_RTC30_G_gpuned_26CA/S1A_IW_20200716T161219_DVP_RTC30_G_gpuned_26CA_shape.shx\n",
      "download: s3://asf-opera-rtc-calval/cross_correlation_relative_geolocation_evaluation/data/sentinel_1_rtc/delta_desc/S1A_IW_20200716T161219_DVP_RTC30_G_gpuned_26CA/S1A_IW_20200716T161219_DVP_RTC30_G_gpuned_26CA_shape.shp to data/s3/Delta Desc/S1A_IW_20200716T161219_DVP_RTC30_G_gpuned_26CA/S1A_IW_20200716T161219_DVP_RTC30_G_gpuned_26CA_shape.shp\n",
      "download: s3://asf-opera-rtc-calval/cross_correlation_relative_geolocation_evaluation/data/sentinel_1_rtc/delta_desc/S1A_IW_20200704T161218_DVP_RTC30_G_gpuned_871B/S1A_IW_20200704T161218_DVP_RTC30_G_gpuned_871B_VH.tif to data/s3/Delta Desc/S1A_IW_20200704T161218_DVP_RTC30_G_gpuned_871B/S1A_IW_20200704T161218_DVP_RTC30_G_gpuned_871B_VH.tif\n",
      "download: s3://asf-opera-rtc-calval/cross_correlation_relative_geolocation_evaluation/data/sentinel_1_rtc/delta_desc/S1A_IW_20200704T161218_DVP_RTC30_G_gpuned_871B/S1A_IW_20200704T161218_DVP_RTC30_G_gpuned_871B_VV.tif to data/s3/Delta Desc/S1A_IW_20200704T161218_DVP_RTC30_G_gpuned_871B/S1A_IW_20200704T161218_DVP_RTC30_G_gpuned_871B_VV.tif\n",
      "download: s3://asf-opera-rtc-calval/cross_correlation_relative_geolocation_evaluation/data/sentinel_1_rtc/delta_desc/S1A_IW_20200716T161219_DVP_RTC30_G_gpuned_26CA/S1A_IW_20200716T161219_DVP_RTC30_G_gpuned_26CA_VV.tif to data/s3/Delta Desc/S1A_IW_20200716T161219_DVP_RTC30_G_gpuned_26CA/S1A_IW_20200716T161219_DVP_RTC30_G_gpuned_26CA_VV.tif\n",
      "download: s3://asf-opera-rtc-calval/cross_correlation_relative_geolocation_evaluation/data/sentinel_1_rtc/delta_desc/S1A_IW_20200716T161219_DVP_RTC30_G_gpuned_26CA/S1A_IW_20200716T161219_DVP_RTC30_G_gpuned_26CA_VH.tif to data/s3/Delta Desc/S1A_IW_20200716T161219_DVP_RTC30_G_gpuned_26CA/S1A_IW_20200716T161219_DVP_RTC30_G_gpuned_26CA_VH.tif\n"
     ]
    }
   ],
   "source": [
    "# Copy selected data from S3 to local data dir \"./data/s3/\"\n",
    "!aws --no-sign-request --region us-west-2 s3 sync \"{selected_location}\" \"./data/s3/{selected_name}/\"  "
   ]
  },
  {
   "cell_type": "code",
   "execution_count": null,
   "id": "652fa847-5a63-4655-bfbf-3f45210b567d",
   "metadata": {},
   "outputs": [],
   "source": []
  }
 ],
 "metadata": {
  "kernelspec": {
   "display_name": "opera-rtc-cross-corr [conda env:.local-opera-rtc-cross-corr]",
   "language": "python",
   "name": "conda-env-.local-opera-rtc-cross-corr-py"
  },
  "language_info": {
   "codemirror_mode": {
    "name": "ipython",
    "version": 3
   },
   "file_extension": ".py",
   "mimetype": "text/x-python",
   "name": "python",
   "nbconvert_exporter": "python",
   "pygments_lexer": "ipython3",
   "version": "3.11.0"
  }
 },
 "nbformat": 4,
 "nbformat_minor": 5
}
