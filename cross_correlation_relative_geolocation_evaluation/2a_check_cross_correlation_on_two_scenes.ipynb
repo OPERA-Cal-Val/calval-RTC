{
 "cells": [
  {
   "cell_type": "markdown",
   "id": "37b3bc47-15bf-43af-877f-108c1bcc914d",
   "metadata": {
    "tags": []
   },
   "source": [
    "# Cross Correlation Check"
   ]
  },
  {
   "cell_type": "markdown",
   "id": "1465cc9a-f4f6-43cf-b30e-22aa9155fb28",
   "metadata": {},
   "source": []
  },
  {
   "cell_type": "markdown",
   "id": "46f63b7e-926f-49ba-9eb5-24b997fe384e",
   "metadata": {},
   "source": [
    "### Import Python libraries"
   ]
  },
  {
   "cell_type": "code",
   "execution_count": null,
   "id": "609a1558-fe52-4b17-b0d7-101afa8fcda2",
   "metadata": {},
   "outputs": [],
   "source": [
    "import time\n",
    "import pathlib\n",
    "import glob\n",
    "from datetime import datetime\n",
    "from pprint import pprint\n",
    "\n",
    "import dask.distributed\n",
    "import rasterio\n",
    "from rasterio.windows import from_bounds\n",
    "from shapely import geometry\n",
    "from rasterio.mask import mask\n",
    "from osgeo import gdal\n",
    "import shapely\n",
    "from shapely import wkt\n",
    "from ipyfilechooser import FileChooser\n",
    "import numpy as np\n",
    "import pandas as pd\n",
    "import matplotlib.pyplot as plt\n",
    "from skimage.registration import phase_cross_correlation\n",
    "from PIL import Image as PILImage\n",
    "\n",
    "PILImage.MAX_IMAGE_PIXELS = None\n",
    "\n",
    "import opensarlab_lib as asfn"
   ]
  },
  {
   "cell_type": "markdown",
   "id": "31b643f5-2500-4d39-be8a-d322d3715c46",
   "metadata": {},
   "source": [
    "### Define some later-used methods and variables"
   ]
  },
  {
   "cell_type": "code",
   "execution_count": null,
   "id": "67dcf1fa-7b56-42e1-9002-94ad3ce1f786",
   "metadata": {},
   "outputs": [],
   "source": [
    "def save_tiff_as_png(save_path_and_name: str):\n",
    "    \"\"\"\n",
    "    Convert dataframe of tiff into png.\n",
    "    \"\"\"\n",
    "    img = Image.open(save_path_and_name).convert('RGB')\n",
    "    img.save(save_path_and_name + \".png\")\n",
    "\n",
    "def flatten_df(df):\n",
    "    df[df < np.nanpercentile(df, 1)] = 0\n",
    "    df[df > np.nanpercentile(df, 99)] = 0\n",
    "    return df\n",
    "    \n",
    "def convert_rast_to_df(rasterio_obj, window=None):\n",
    "    if window:\n",
    "        raster0 = rasterio_obj.read(1, window=window)\n",
    "    else:\n",
    "        raster0 = rasterio_obj.read(1)\n",
    "    df = pd.DataFrame(raster0)\n",
    "\n",
    "    return df\n",
    "    \n",
    "# Get working directory of notebook\n",
    "CWD = pathlib.Path().absolute()\n",
    "CWD\n",
    "\n",
    "# Note: 8x8 tiles will use about 120 GB of RAM  \n",
    "# ~2GB+ per tile to process\n",
    "X_NUM = 8\n",
    "Y_NUM = 8"
   ]
  },
  {
   "cell_type": "markdown",
   "id": "f92ed533-d4ec-4bc0-986e-d671764a5d7f",
   "metadata": {
    "tags": []
   },
   "source": [
    "### Choose tiff files to compare."
   ]
  },
  {
   "cell_type": "code",
   "execution_count": null,
   "id": "0d17da70-6ac1-4d0b-ab07-55fa9af541b5",
   "metadata": {},
   "outputs": [],
   "source": [
    "# Choose the tiffs\n",
    "fc1 = FileChooser(f'{CWD}/data/')\n",
    "display(fc1)"
   ]
  },
  {
   "cell_type": "code",
   "execution_count": null,
   "id": "81f8b2e4-cab6-47af-9c80-10a6d9798d01",
   "metadata": {},
   "outputs": [],
   "source": [
    "# Choose the tiffs\n",
    "fc2 = FileChooser(f'{CWD}/data/')\n",
    "display(fc2)"
   ]
  },
  {
   "cell_type": "code",
   "execution_count": null,
   "id": "1a74cb68-ce71-4ee0-b269-5ca06d4b3849",
   "metadata": {},
   "outputs": [],
   "source": [
    "reference_path = fc1.selected_path\n",
    "reference_file = fc1.selected_filename\n",
    "print(reference_path, reference_file)\n",
    "\n",
    "secondary_path = fc2.selected_path\n",
    "secondary_file = fc2.selected_filename\n",
    "print(secondary_path, secondary_file)"
   ]
  },
  {
   "cell_type": "markdown",
   "id": "8953ff2a-7271-4440-a462-3c37d24e492a",
   "metadata": {},
   "source": [
    "### <span style=\"color:green\">The following cells can be ran automatically via the \"Run Selected Cell and All Below\" menu option.</span> "
   ]
  },
  {
   "cell_type": "code",
   "execution_count": null,
   "id": "b0afe274-97c1-46c4-bbda-f9f93b657193",
   "metadata": {},
   "outputs": [],
   "source": [
    "!mkdir -p {CWD}/work/\n",
    "!cp {reference_path}/{reference_file} {CWD}/work/reference.tif\n",
    "!cp {secondary_path}/{secondary_file} {CWD}/work/secondary.tif"
   ]
  },
  {
   "cell_type": "markdown",
   "id": "ecffcacd-5fee-4132-acb5-16e49e6a62b8",
   "metadata": {},
   "source": [
    "### Convert tiffs to rasterio objects"
   ]
  },
  {
   "cell_type": "code",
   "execution_count": null,
   "id": "a48ed2b2-4664-4908-a3e7-2a22624e8959",
   "metadata": {},
   "outputs": [],
   "source": [
    "with asfn.work_dir(f\"{CWD}/work/\"):\n",
    "    reference = rasterio.open('reference.tif')    \n",
    "    secondary = rasterio.open('secondary.tif')\n",
    "    \n",
    "    print(reference.meta)\n",
    "    print(secondary.meta)"
   ]
  },
  {
   "cell_type": "markdown",
   "id": "f7ebf829-fd51-4391-a99f-cdf31cad4953",
   "metadata": {},
   "source": [
    "### Plot original reference and secondary scenes"
   ]
  },
  {
   "cell_type": "code",
   "execution_count": null,
   "id": "cbb93a91-6885-4c29-a442-7ff492471124",
   "metadata": {},
   "outputs": [],
   "source": [
    "df_reference = convert_rast_to_df(reference)\n",
    "df_secondary = convert_rast_to_df(secondary)\n",
    "\n",
    "ref_counts, ref_bins = np.histogram(df_reference)\n",
    "print(ref_counts)\n",
    "\n",
    "sec_counts, sec_bins = np.histogram(df_secondary)\n",
    "print(sec_counts)\n",
    "\n",
    "fig = plt.figure(figsize=(16, 8))\n",
    "ax1 = fig.add_subplot(221, title=\"reference\")\n",
    "ax2 = fig.add_subplot(222, title=\"secondary\")\n",
    "ax3 = fig.add_subplot(223, title=\"reference hist\")\n",
    "ax4 = fig.add_subplot(224, title=\"secondary hist\")\n",
    "\n",
    "ax1.imshow(df_reference)\n",
    "ax2.imshow(df_secondary)\n",
    "ax3.hist(ref_counts, ref_bins, log=True)\n",
    "ax4.hist(sec_counts, sec_bins, log=True)"
   ]
  },
  {
   "cell_type": "markdown",
   "id": "7ffbae11-338b-48a5-ba4f-7d5df5e54aa3",
   "metadata": {},
   "source": [
    "### Flatten Reference and Secondary Scenes\n"
   ]
  },
  {
   "cell_type": "code",
   "execution_count": null,
   "id": "2e714f0b-013e-4647-b25d-5d94d031c3d0",
   "metadata": {},
   "outputs": [],
   "source": [
    "with asfn.work_dir(f\"{CWD}/work/\"):\n",
    "    \n",
    "    df_reference_flatten = flatten_df(df_reference)\n",
    "    filepath = \"flat_reference.tif\"   \n",
    "    with rasterio.open(filepath, 'w', **reference.meta) as out:\n",
    "        out.write(df_reference_flatten, 1)\n",
    "        \n",
    "    df_secondary_flatten = flatten_df(df_secondary)\n",
    "    filepath = \"flat_secondary.tif\"\n",
    "    with rasterio.open(filepath, \"w\", **secondary.meta) as out:\n",
    "        out.write(df_secondary_flatten, 1)"
   ]
  },
  {
   "cell_type": "markdown",
   "id": "5ffc0c25-8484-470f-a327-aede9c9a429f",
   "metadata": {},
   "source": [
    "### Plot Flatten Reference and Secondary Scenes"
   ]
  },
  {
   "cell_type": "code",
   "execution_count": null,
   "id": "e5e41c7a-f974-45f2-a75a-21ba4af5780e",
   "metadata": {},
   "outputs": [],
   "source": [
    "ref_counts, ref_bins = np.histogram(df_reference_flatten)\n",
    "print(ref_counts)\n",
    "\n",
    "sec_counts, sec_bins = np.histogram(df_secondary_flatten)\n",
    "print(sec_counts)\n",
    "\n",
    "fig = plt.figure(figsize=(16, 8))\n",
    "ax1 = fig.add_subplot(221, title=\"flatten reference\")\n",
    "ax2 = fig.add_subplot(222, title=\"flatten secondary\")\n",
    "ax3 = fig.add_subplot(223, title=\"flatten reference hist\")\n",
    "ax4 = fig.add_subplot(224, title=\"flatten secondary hist\")\n",
    "\n",
    "ax1.imshow(df_reference_flatten)\n",
    "ax2.imshow(df_secondary_flatten)\n",
    "ax3.hist(ref_counts, ref_bins, log=True)\n",
    "ax4.hist(sec_counts, sec_bins, log=True)"
   ]
  },
  {
   "cell_type": "markdown",
   "id": "09a40d54-578e-430e-8c18-b840bf06be4a",
   "metadata": {},
   "source": [
    "### Find smallest common superset area and transform the scenes"
   ]
  },
  {
   "cell_type": "code",
   "execution_count": null,
   "id": "068da359-f085-40d4-828f-28352b6a95c4",
   "metadata": {},
   "outputs": [],
   "source": [
    "ref_bound = reference.bounds\n",
    "sec_bound = secondary.bounds\n",
    "\n",
    "superset = {\n",
    "    'left': min(ref_bound.left, sec_bound.left),\n",
    "    'bottom': min(ref_bound.bottom, sec_bound.bottom), \n",
    "    'right': max(ref_bound.right, sec_bound.right), \n",
    "    'top': max(ref_bound.top, sec_bound.top)\n",
    "}\n",
    "\n",
    "print(ref_bound)\n",
    "print(sec_bound)\n",
    "print(superset)\n",
    "\n",
    "with asfn.work_dir(f\"{CWD}/work/\"):\n",
    "    gdal.Warp(\n",
    "            str('flat_reference_superset.tif'), \n",
    "            str('flat_reference.tif'),\n",
    "            outputBounds=(\n",
    "                superset['left'], \n",
    "                superset['bottom'],\n",
    "                superset['right'],\n",
    "                superset['top'],\n",
    "            ),\n",
    "            outputBoundsSRS=reference.crs #\"EPSG:4326\"\n",
    "        )\n",
    "    \n",
    "    gdal.Warp(\n",
    "            str('flat_secondary_superset.tif'), \n",
    "            str('flat_secondary.tif'),\n",
    "            outputBounds=(\n",
    "                superset['left'], \n",
    "                superset['bottom'],\n",
    "                superset['right'],\n",
    "                superset['top'],\n",
    "            ),\n",
    "            outputBoundsSRS=secondary.crs #\"EPSG:4326\"\n",
    "        )"
   ]
  },
  {
   "cell_type": "markdown",
   "id": "5c7667ff-361a-40b6-b635-a036265d663b",
   "metadata": {},
   "source": [
    "### Show superset-ed scenes"
   ]
  },
  {
   "cell_type": "code",
   "execution_count": null,
   "id": "ab570751-e87c-4770-a917-f25fc2c3faaf",
   "metadata": {},
   "outputs": [],
   "source": [
    "with asfn.work_dir(f\"{CWD}/work/\"):\n",
    "    reference_superset = rasterio.open('flat_reference_superset.tif')    \n",
    "    secondary_superset = rasterio.open('flat_secondary_superset.tif')"
   ]
  },
  {
   "cell_type": "code",
   "execution_count": null,
   "id": "530a353f-d9c3-4b10-a74d-2d07b7e22e41",
   "metadata": {},
   "outputs": [],
   "source": [
    "df_reference_superset = convert_rast_to_df(reference_superset)\n",
    "df_reference_superset = flatten_df(df_reference_superset)\n",
    "\n",
    "df_secondary_superset = convert_rast_to_df(secondary_superset)\n",
    "df_secondary_superset = flatten_df(df_secondary_superset)\n",
    "\n",
    "\n",
    "ref_counts, ref_bins = np.histogram(df_reference_superset)\n",
    "print(ref_counts)\n",
    "\n",
    "sec_counts, sec_bins = np.histogram(df_secondary_superset)\n",
    "print(sec_counts)\n",
    "\n",
    "fig = plt.figure(figsize=(16, 8))\n",
    "ax1 = fig.add_subplot(221, title=\"reference\")\n",
    "ax2 = fig.add_subplot(222, title=\"secondary\")\n",
    "ax3 = fig.add_subplot(223, title=\"reference hist\")\n",
    "ax4 = fig.add_subplot(224, title=\"secondary hist\")\n",
    "\n",
    "ax1.imshow(df_reference_superset)\n",
    "ax2.imshow(df_secondary_superset)\n",
    "ax3.hist(ref_counts, ref_bins, log=True)\n",
    "ax4.hist(sec_counts, sec_bins, log=True)"
   ]
  },
  {
   "cell_type": "markdown",
   "id": "54ab7d2b-eab3-4096-8760-a46c51e955cf",
   "metadata": {},
   "source": [
    "### Perform cross-correlation on the tiffs (replacing Nans with Zeroes)"
   ]
  },
  {
   "cell_type": "code",
   "execution_count": null,
   "id": "dcbc7aaa-b592-4c75-ad20-d348b1bf45c5",
   "metadata": {},
   "outputs": [],
   "source": [
    "# Find cross correlation\n",
    "# https://scikit-image.org/docs/stable/api/skimage.registration.html#skimage.registration.phase_cross_correlation\n",
    "\n",
    "print(\"Phase Cross Correlation....\")\n",
    "\n",
    "shift, error, phase = phase_cross_correlation(\n",
    "    df_reference_superset,\n",
    "    df_secondary_superset,\n",
    "    normalization=None\n",
    ")\n",
    "\n",
    "print(f\"Shift vector (in pixels) required to register moving_image with reference_image: {shift}\")\n",
    "print(f\"Translation invariant normalized RMS error between reference_image and moving_image: {error}\")\n",
    "print(f\"Global phase difference between the two images (should be zero if images are non-negative).: {phase}\\n\")"
   ]
  },
  {
   "cell_type": "markdown",
   "id": "3b4db746-8618-40e8-a7ed-3a5e82c1a6bd",
   "metadata": {},
   "source": [
    "### Tile scenes into equal rectangles/squares\n",
    "\n",
    "//Save files as PNGs as well"
   ]
  },
  {
   "cell_type": "code",
   "execution_count": null,
   "id": "80ed9f7a-791f-46e0-9f66-cb2f24e51b16",
   "metadata": {},
   "outputs": [],
   "source": [
    "# https://gis.stackexchange.com/a/306862\n",
    "# Takes a Rasterio dataset and splits it into squares of dimensions squareDim * squareDim\n",
    "def splitImageIntoCells(img, filename, x_num=1, y_num=1):    \n",
    "    x_dim = img.shape[1] // x_num\n",
    "    y_dim = img.shape[0] // y_num\n",
    "\n",
    "    x, y = 0, 0\n",
    "    for y_iter in range(y_num):\n",
    "        y = y_iter * y_dim\n",
    "        for x_iter in range(x_num):\n",
    "            x = x_iter * x_dim\n",
    "            \n",
    "            filepath = f'{filename}_{y_iter}_{x_iter}.tif'\n",
    "            print(f\"Creating tile {filepath}...\")\n",
    "            \n",
    "            # Get tile geometry\n",
    "            corner1 = img.transform * (x, y)\n",
    "            corner2 = img.transform * (x + x_dim, y + y_dim)\n",
    "            geom = geometry.box(corner1[0], corner1[1], corner2[0], corner2[1])\n",
    "            \n",
    "            # Get cell \n",
    "            crop, cropTransform = mask(img, [geom], crop=True)\n",
    "            img.meta.update(\n",
    "                {\n",
    "                    \"driver\": \"GTiff\",\n",
    "                    \"height\": crop.shape[1],\n",
    "                    \"width\": crop.shape[2],\n",
    "                    \"transform\": cropTransform,\n",
    "                    \"crs\": img.crs\n",
    "                }\n",
    "            )\n",
    "            \n",
    "            with rasterio.open(filepath, \"w\", **img.meta) as out:\n",
    "                out.write(crop)\n",
    "                \n",
    "            #rbg = PILImage.open(filepath).convert('RGB')\n",
    "            #rbg.save(filepath + \".png\")"
   ]
  },
  {
   "cell_type": "code",
   "execution_count": null,
   "id": "553505b9-c052-45cc-ba1e-79502bf67f6d",
   "metadata": {
    "scrolled": true,
    "tags": []
   },
   "outputs": [],
   "source": [
    "start_time = datetime.now()\n",
    "print(f\"Start time is {start_time}\\n\")\n",
    "\n",
    "!mkdir -p {CWD}/work/reference_tiles/\n",
    "with asfn.work_dir(f\"{CWD}/work/reference_tiles\"):\n",
    "    splitImageIntoCells(reference_superset, 'flat_reference', x_num=X_NUM, y_num=Y_NUM)\n",
    "    \n",
    "end_time = datetime.now()\n",
    "print(f\"\\nEnd time is {end_time}\")\n",
    "print(f\"Time elapsed is {end_time - start_time}\\n\")"
   ]
  },
  {
   "cell_type": "code",
   "execution_count": null,
   "id": "494f02b5-a926-48a6-8fdd-187bd2117097",
   "metadata": {
    "scrolled": true,
    "tags": []
   },
   "outputs": [],
   "source": [
    "start_time = datetime.now()\n",
    "print(f\"Start time is {start_time}\\n\")\n",
    "\n",
    "!mkdir -p {CWD}/work/secondary_tiles/\n",
    "with asfn.work_dir(f\"{CWD}/work/secondary_tiles\"):\n",
    "    splitImageIntoCells(secondary_superset, 'flat_secondary', x_num=X_NUM, y_num=Y_NUM)\n",
    "    \n",
    "end_time = datetime.now()\n",
    "print(f\"\\nEnd time is {end_time}\")\n",
    "print(f\"Time elapsed is {end_time - start_time}\\n\")"
   ]
  },
  {
   "cell_type": "markdown",
   "id": "98495add-c602-4693-8832-026d7c3dfce2",
   "metadata": {},
   "source": [
    "### Using Dask parallelization, calculate the cross correlation of the tiles"
   ]
  },
  {
   "cell_type": "code",
   "execution_count": null,
   "id": "7970c416-df59-44ef-a03e-16f192f78425",
   "metadata": {},
   "outputs": [],
   "source": [
    "RAM_PER_WORKER_GB = 20\n",
    "NUM_WORKERS = 6\n",
    "NUM_THREADS_PER_WORKER = 1\n",
    "\n",
    "cluster = dask.distributed.LocalCluster(\n",
    "    threads_per_worker=NUM_THREADS_PER_WORKER,\n",
    "    n_workers=NUM_WORKERS,\n",
    "    memory_limit=f\"{RAM_PER_WORKER_GB}GB\",\n",
    "    processes=True\n",
    ")\n",
    "\n",
    "client = dask.distributed.Client(cluster)\n",
    "display(client)"
   ]
  },
  {
   "cell_type": "code",
   "execution_count": null,
   "id": "cc8d5bcc-539f-4684-a0ef-96a712400cc8",
   "metadata": {},
   "outputs": [],
   "source": [
    "def calc_data(args):\n",
    "    \n",
    "        count = args['count']\n",
    "        ref_file_path = args['ref_file_path']\n",
    "        sec_file_path = args['sec_file_path']\n",
    "        \n",
    "        ###### Reference \n",
    "        stime = datetime.now()\n",
    "        print(f\"\\nTile {count}: Rendering {ref_file_path}...\")\n",
    "        rast = rasterio.open(ref_file_path)\n",
    "        \n",
    "        df_ref = convert_rast_to_df(rast)\n",
    "        #df_ref = flatten_df(df_ref)\n",
    "        print(f\"Tile {count}: Time to complete ref: {datetime.now() - stime}\")\n",
    "\n",
    "        \n",
    "        ###### Secondary\n",
    "        stime = datetime.now()\n",
    "        print(f\"\\nTile {count}: Rendering {sec_file_path}...\")\n",
    "        rast = rasterio.open(sec_file_path)\n",
    "        \n",
    "        df_sec = convert_rast_to_df(rast)\n",
    "        #df_sec = flatten_df(df_sec)\n",
    "        print(f\"Tile {count}: Time to complete sec: {datetime.now() - stime}\")\n",
    "    \n",
    "    \n",
    "        ####### Cross corr without masking\n",
    "        stime = datetime.now()\n",
    "        print(f\"\\nTile {count}: Finding phase correlation with nans set to zero....\")\n",
    "        shift, error, phase = phase_cross_correlation(\n",
    "            \n",
    "            df_ref.replace(np.nan, 0), \n",
    "            df_sec.replace(np.nan, 0),\n",
    "            \n",
    "            normalization=None\n",
    "        )\n",
    "        print(f\"Tile {count}: Shift vector (in pixels) required to register moving_image with reference_image: {shift}\")\n",
    "        print(f\"Tile {count}: Translation invariant normalized RMS error between reference_image and moving_image: {error}\")\n",
    "        print(f\"Tile {count}: Global phase difference between the two images (should be zero if images are non-negative).: {phase}\\n\")\n",
    "\n",
    "        print(f\"Tile {count}:  Time to complete correlation: {datetime.now() - stime}\")\n",
    "        \n",
    "        return {\n",
    "            \"count\": count,\n",
    "            \"ref_file\": ref_file_path,\n",
    "            \"sec_file\": sec_file_path,\n",
    "            \"shift\": shift, \n",
    "            \"error\": error, \n",
    "            \"phase\": phase\n",
    "        }\n",
    "\n",
    "def get_cross_corr_args() -> list:\n",
    "    \n",
    "    cross_corr_args = []\n",
    "\n",
    "    count = 1\n",
    "    for i in range(X_NUM):\n",
    "\n",
    "        #if i not in [5,6]:\n",
    "        #    continue\n",
    "\n",
    "        for j in range(Y_NUM):\n",
    "\n",
    "            #if j not in [5,6]:\n",
    "            #    continue\n",
    "\n",
    "            cross_corr_args.append({\n",
    "                'count': count,\n",
    "                'ref_file_path': f'{CWD}/work/reference_tiles/flat_reference_{i}_{j}.tif',\n",
    "                'sec_file_path': f'{CWD}/work/secondary_tiles/flat_secondary_{i}_{j}.tif'\n",
    "            })\n",
    "\n",
    "            count = count + 1\n",
    "            \n",
    "    return cross_corr_args\n",
    "    \n",
    "def do_dask(cross_corr_args: list) -> list:\n",
    "    futures = client.map(calc_data, cross_corr_args)\n",
    "    dask.distributed.progress(futures)\n",
    "    \n",
    "    return client.gather(futures)"
   ]
  },
  {
   "cell_type": "code",
   "execution_count": null,
   "id": "5e87bfa5-096b-47d4-b01b-50122352e8b1",
   "metadata": {
    "scrolled": true,
    "tags": []
   },
   "outputs": [],
   "source": [
    "start_time = datetime.now()\n",
    "print(f\"Global start time is {start_time}\\n\")\n",
    "\n",
    "cross_corr_args = get_cross_corr_args()\n",
    "cross_corr_results = do_dask(cross_corr_args)\n",
    "\n",
    "client.shutdown()\n",
    "\n",
    "end_time = datetime.now()\n",
    "print(f\"\\nGlobal end time is {end_time}\")\n",
    "print(f\"\\nGlobal time elapsed is {end_time - start_time}\")"
   ]
  },
  {
   "cell_type": "markdown",
   "id": "03301ec4-762c-4148-8227-08161cea34bb",
   "metadata": {},
   "source": [
    "### Print results"
   ]
  },
  {
   "cell_type": "code",
   "execution_count": null,
   "id": "5c8f8cd1-e2ee-4084-a483-626f55922e65",
   "metadata": {
    "scrolled": true,
    "tags": []
   },
   "outputs": [],
   "source": [
    "pprint(cross_corr_results)"
   ]
  },
  {
   "cell_type": "markdown",
   "id": "f310359d-c044-4582-9112-452e51d22eae",
   "metadata": {},
   "source": [
    "### Plot Reference tiles, Secondary tiles and Correlation tiles"
   ]
  },
  {
   "cell_type": "code",
   "execution_count": null,
   "id": "af553e88-c4a7-4aaf-9ad2-a3b4194dc45c",
   "metadata": {},
   "outputs": [],
   "source": [
    "ref_plt = plt.figure(figsize=(10,10))\n",
    "sec_plt = plt.figure(figsize=(10,10))\n",
    "corr_plt = plt.figure(figsize=(10,10))        \n",
    "    \n",
    "for cross_corr_result in cross_corr_results:\n",
    "    \n",
    "    count = cross_corr_result['count']\n",
    "    ref_file_path = cross_corr_result['ref_file']\n",
    "    sec_file_path = cross_corr_result['sec_file']\n",
    "    shift = cross_corr_result['shift']\n",
    "    error = cross_corr_result['error']\n",
    "    phase = cross_corr_result['phase']\n",
    "    \n",
    "    # Plot references\n",
    "    rast = rasterio.open(ref_file_path)\n",
    "    df_ref = convert_rast_to_df(rast)\n",
    "    \n",
    "    ax_ref = ref_plt.add_subplot(X_NUM, Y_NUM, count, xticks=[], yticks=[])\n",
    "    ax_ref.spines[:].set_color('blue')\n",
    "    ax_ref.imshow(df_ref)\n",
    "    \n",
    "    # Plot secondary\n",
    "    rast = rasterio.open(sec_file_path)\n",
    "    df_sec = convert_rast_to_df(rast)\n",
    "    \n",
    "    ax_sec = sec_plt.add_subplot(X_NUM, Y_NUM, count, xticks=[], yticks=[])\n",
    "    ax_sec.spines[:].set_color('orange')\n",
    "    ax_sec.imshow(df_sec)\n",
    "    \n",
    "    # Plot result texts\n",
    "    ax_corr = corr_plt.add_subplot(X_NUM, Y_NUM, count, xticks=[], yticks=[])\n",
    "    ax_corr.spines[:].set_color('green')\n",
    "    ax_corr.text(0.1, 0.8, str(shift), transform = ax_corr.transAxes, fontsize='small')\n",
    "    ax_corr.text(0.1, 0.4, str(error), transform = ax_corr.transAxes, fontsize='x-small')\n",
    "    ax_corr.text(0.1, 0.1, str(phase), transform = ax_corr.transAxes, fontsize='xx-small')"
   ]
  },
  {
   "cell_type": "markdown",
   "id": "b123d48a-6fbd-49bd-a626-f55220b00f4a",
   "metadata": {},
   "source": [
    "### Graph some of the results"
   ]
  },
  {
   "cell_type": "code",
   "execution_count": null,
   "id": "18d6cd12-8faf-4216-ae1d-d578973f616e",
   "metadata": {},
   "outputs": [],
   "source": [
    "df_cross_corr_results = pd.DataFrame(cross_corr_results)\n",
    "\n",
    "# Split out shift into x and y\n",
    "df_cross_corr_results['xshift'] = df_cross_corr_results.apply(lambda x: x['shift'][0], axis=1)\n",
    "df_cross_corr_results['yshift'] = df_cross_corr_results.apply(lambda x: x['shift'][1], axis=1)\n",
    "\n",
    "# Create shift perimeter\n",
    "df_cross_corr_results['shift_perimeter'] = df_cross_corr_results.apply(lambda x: np.sqrt(x['shift'][0]**2 + x['shift'][1]**2), axis=1)\n",
    "\n",
    "df_cross_corr_results"
   ]
  },
  {
   "cell_type": "code",
   "execution_count": null,
   "id": "ae7c74d9-1531-4768-b422-7d469c98acb6",
   "metadata": {},
   "outputs": [],
   "source": [
    "df_cross_corr_results.plot.scatter(x = 'shift_perimeter', y = 'error')"
   ]
  },
  {
   "cell_type": "code",
   "execution_count": null,
   "id": "a51d467e-a0eb-495d-aebf-97f4c39cf798",
   "metadata": {},
   "outputs": [],
   "source": [
    "df_cross_corr_results.plot.scatter(x = 'xshift', y = 'yshift')"
   ]
  },
  {
   "cell_type": "code",
   "execution_count": null,
   "id": "756448cc-bf3e-4282-b28e-8e429e23b74f",
   "metadata": {},
   "outputs": [],
   "source": []
  },
  {
   "cell_type": "code",
   "execution_count": null,
   "id": "e2ac0773-8d8d-4ea6-bc2f-fba214bff250",
   "metadata": {},
   "outputs": [],
   "source": []
  }
 ],
 "metadata": {
  "kernelspec": {
   "display_name": "opera-rtc-cross-corr [conda env:.local-opera-rtc-cross-corr]",
   "language": "python",
   "name": "conda-env-.local-opera-rtc-cross-corr-py"
  },
  "language_info": {
   "codemirror_mode": {
    "name": "ipython",
    "version": 3
   },
   "file_extension": ".py",
   "mimetype": "text/x-python",
   "name": "python",
   "nbconvert_exporter": "python",
   "pygments_lexer": "ipython3",
   "version": "3.11.0"
  }
 },
 "nbformat": 4,
 "nbformat_minor": 5
}
