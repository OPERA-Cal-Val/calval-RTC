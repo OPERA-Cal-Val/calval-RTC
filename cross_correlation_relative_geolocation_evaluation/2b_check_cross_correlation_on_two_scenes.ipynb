{
 "cells": [
  {
   "cell_type": "markdown",
   "id": "37b3bc47-15bf-43af-877f-108c1bcc914d",
   "metadata": {
    "tags": []
   },
   "source": [
    "# Cross Correlation Check"
   ]
  },
  {
   "cell_type": "markdown",
   "id": "46f63b7e-926f-49ba-9eb5-24b997fe384e",
   "metadata": {},
   "source": [
    "### Import Python libraries"
   ]
  },
  {
   "cell_type": "code",
   "execution_count": null,
   "id": "609a1558-fe52-4b17-b0d7-101afa8fcda2",
   "metadata": {},
   "outputs": [],
   "source": [
    "import pathlib\n",
    "import glob\n",
    "from datetime import datetime\n",
    "\n",
    "import rasterio\n",
    "from rasterio.windows import from_bounds\n",
    "from osgeo import gdal\n",
    "import shapely\n",
    "from shapely import wkt\n",
    "from ipyfilechooser import FileChooser\n",
    "import numpy as np\n",
    "import pandas as pd\n",
    "import matplotlib.pyplot as plt\n",
    "from skimage.registration import phase_cross_correlation\n",
    "from PIL import Image as PILImage\n",
    "\n",
    "PILImage.MAX_IMAGE_PIXELS = None\n",
    "\n",
    "import opensarlab_lib as asfn"
   ]
  },
  {
   "cell_type": "markdown",
   "id": "31b643f5-2500-4d39-be8a-d322d3715c46",
   "metadata": {},
   "source": [
    "### Define some later-used methods and variables"
   ]
  },
  {
   "cell_type": "code",
   "execution_count": null,
   "id": "67dcf1fa-7b56-42e1-9002-94ad3ce1f786",
   "metadata": {},
   "outputs": [],
   "source": [
    "def save_tiff_as_png(save_path_and_name: str):\n",
    "    \"\"\"\n",
    "    Convert dataframe of tiff into png.\n",
    "    \"\"\"\n",
    "    img = Image.open(save_path_and_name).convert('RGB')\n",
    "    img.save(save_path_and_name + \".png\")\n",
    "    \n",
    "def convert_rast_to_df(rasterio_obj, window=None, flatten=None):\n",
    "    \n",
    "    def flat(df):\n",
    "        return df[(df > np.percentile(df, 1)) & (df < np.percentile(df, 99))]\n",
    "    if not flatten:\n",
    "        flatten = flat\n",
    "    \n",
    "    if window:\n",
    "        raster0 = rasterio_obj.read(1, window=window)\n",
    "    else:\n",
    "        raster0 = rasterio_obj.read(1)\n",
    "    df = pd.DataFrame(raster0)\n",
    "    \n",
    "    df = flatten(df)\n",
    "    \n",
    "    return df\n",
    "    \n",
    "# Get working directory of notebook\n",
    "CWD = pathlib.Path().absolute()\n",
    "CWD\n",
    "\n",
    "X_NUM = 10\n",
    "Y_NUM = 10"
   ]
  },
  {
   "cell_type": "markdown",
   "id": "f92ed533-d4ec-4bc0-986e-d671764a5d7f",
   "metadata": {
    "tags": []
   },
   "source": [
    "### Choose tiff files to compare."
   ]
  },
  {
   "cell_type": "code",
   "execution_count": null,
   "id": "0d17da70-6ac1-4d0b-ab07-55fa9af541b5",
   "metadata": {},
   "outputs": [],
   "source": [
    "# Choose the tiffs\n",
    "fc1 = FileChooser(f'{CWD}/data/')\n",
    "display(fc1)"
   ]
  },
  {
   "cell_type": "code",
   "execution_count": null,
   "id": "81f8b2e4-cab6-47af-9c80-10a6d9798d01",
   "metadata": {},
   "outputs": [],
   "source": [
    "# Choose the tiffs\n",
    "fc2 = FileChooser(f'{CWD}/data/')\n",
    "display(fc2)"
   ]
  },
  {
   "cell_type": "code",
   "execution_count": null,
   "id": "1a74cb68-ce71-4ee0-b269-5ca06d4b3849",
   "metadata": {},
   "outputs": [],
   "source": [
    "reference_path = fc1.selected_path\n",
    "reference_file = fc1.selected_filename\n",
    "print(reference_path, reference_file)\n",
    "\n",
    "secondary_path = fc2.selected_path\n",
    "secondary_file = fc2.selected_filename\n",
    "print(secondary_path, secondary_file)"
   ]
  },
  {
   "cell_type": "code",
   "execution_count": null,
   "id": "b0afe274-97c1-46c4-bbda-f9f93b657193",
   "metadata": {},
   "outputs": [],
   "source": [
    "!mkdir -p {CWD}/work/\n",
    "!cp {reference_path}/{reference_file} {CWD}/work/reference.tif\n",
    "!cp {secondary_path}/{secondary_file} {CWD}/work/secondary.tif"
   ]
  },
  {
   "cell_type": "markdown",
   "id": "ecffcacd-5fee-4132-acb5-16e49e6a62b8",
   "metadata": {},
   "source": [
    "### Convert tiffs to rasterio objects"
   ]
  },
  {
   "cell_type": "code",
   "execution_count": null,
   "id": "a48ed2b2-4664-4908-a3e7-2a22624e8959",
   "metadata": {},
   "outputs": [],
   "source": [
    "with asfn.work_dir(f\"{CWD}/work/\"):\n",
    "    reference = rasterio.open('reference.tif')    \n",
    "    secondary = rasterio.open('secondary.tif')\n",
    "    \n",
    "    print(reference.meta)\n",
    "    print(secondary.meta)"
   ]
  },
  {
   "cell_type": "markdown",
   "id": "f7ebf829-fd51-4391-a99f-cdf31cad4953",
   "metadata": {},
   "source": [
    "### Plot original reference and secondary scenes"
   ]
  },
  {
   "cell_type": "code",
   "execution_count": null,
   "id": "cbb93a91-6885-4c29-a442-7ff492471124",
   "metadata": {},
   "outputs": [],
   "source": [
    "df_reference = convert_rast_to_df(reference)\n",
    "df_secondary = convert_rast_to_df(secondary)\n",
    "\n",
    "fig = plt.figure(figsize=(16, 8))\n",
    "ax1 = fig.add_subplot(121, title=\"reference\")\n",
    "ax2 = fig.add_subplot(122, title=\"secondary\")\n",
    "\n",
    "ax1.imshow(df_reference)\n",
    "ax2.imshow(df_secondary)"
   ]
  },
  {
   "cell_type": "markdown",
   "id": "09a40d54-578e-430e-8c18-b840bf06be4a",
   "metadata": {},
   "source": [
    "### Find smallest common superset area and transform the scenes"
   ]
  },
  {
   "cell_type": "code",
   "execution_count": null,
   "id": "068da359-f085-40d4-828f-28352b6a95c4",
   "metadata": {},
   "outputs": [],
   "source": [
    "ref_bound = reference.bounds\n",
    "sec_bound = secondary.bounds\n",
    "\n",
    "superset = {\n",
    "    'left': min(ref_bound.left, sec_bound.left),\n",
    "    'bottom': min(ref_bound.bottom, sec_bound.bottom), \n",
    "    'right': max(ref_bound.right, sec_bound.right), \n",
    "    'top': max(ref_bound.top, sec_bound.top)\n",
    "}\n",
    "\n",
    "print(ref_bound)\n",
    "print(sec_bound)\n",
    "print(superset)\n",
    "\n",
    "with asfn.work_dir(f\"{CWD}/work/\"):\n",
    "    gdal.Warp(\n",
    "            str('reference_superset.tif'), \n",
    "            str('reference.tif'),\n",
    "            outputBounds=(\n",
    "                superset['left'], \n",
    "                superset['bottom'],\n",
    "                superset['right'],\n",
    "                superset['top'],\n",
    "            ),\n",
    "            outputBoundsSRS=reference.crs #\"EPSG:4326\"\n",
    "        )\n",
    "    \n",
    "    gdal.Warp(\n",
    "            str('secondary_superset.tif'), \n",
    "            str('secondary.tif'),\n",
    "            outputBounds=(\n",
    "                superset['left'], \n",
    "                superset['bottom'],\n",
    "                superset['right'],\n",
    "                superset['top'],\n",
    "            ),\n",
    "            outputBoundsSRS=secondary.crs #\"EPSG:4326\"\n",
    "        )"
   ]
  },
  {
   "cell_type": "markdown",
   "id": "5c7667ff-361a-40b6-b635-a036265d663b",
   "metadata": {},
   "source": [
    "### Show superset-ed scenes"
   ]
  },
  {
   "cell_type": "code",
   "execution_count": null,
   "id": "ab570751-e87c-4770-a917-f25fc2c3faaf",
   "metadata": {},
   "outputs": [],
   "source": [
    "with asfn.work_dir(f\"{CWD}/work/\"):\n",
    "    reference_superset = rasterio.open('reference_superset.tif')    \n",
    "    secondary_superset = rasterio.open('secondary_superset.tif')"
   ]
  },
  {
   "cell_type": "code",
   "execution_count": null,
   "id": "530a353f-d9c3-4b10-a74d-2d07b7e22e41",
   "metadata": {},
   "outputs": [],
   "source": [
    "df_reference_superset = convert_rast_to_df(reference_superset)\n",
    "df_secondary_superset = convert_rast_to_df(secondary_superset)\n",
    "\n",
    "fig = plt.figure(figsize=(16, 8))\n",
    "ax1 = fig.add_subplot(121, title=\"reference\")\n",
    "ax2 = fig.add_subplot(122, title=\"secondary\")\n",
    "\n",
    "ax1.imshow(df_reference_superset)\n",
    "ax2.imshow(df_secondary_superset)"
   ]
  },
  {
   "cell_type": "markdown",
   "id": "54ab7d2b-eab3-4096-8760-a46c51e955cf",
   "metadata": {},
   "source": [
    "### Perform cross-correlation on the tiffs (replacing Nans with Zeroes)"
   ]
  },
  {
   "cell_type": "code",
   "execution_count": null,
   "id": "dcbc7aaa-b592-4c75-ad20-d348b1bf45c5",
   "metadata": {},
   "outputs": [],
   "source": [
    "with asfn.work_dir(f\"{CWD}/work/\"):\n",
    "\n",
    "    # Find cross correlation\n",
    "    # https://scikit-image.org/docs/stable/api/skimage.registration.html#skimage.registration.phase_cross_correlation\n",
    "\n",
    "    print(\"Replacing NaNs with zero....\")\n",
    "    shift, error, phase = phase_cross_correlation(\n",
    "        df_reference_superset.replace(np.nan,0), \n",
    "        df_secondary_superset.replace(np.nan,0)\n",
    "    )\n",
    "    print(f\"Shift vector (in pixels) required to register moving_image with reference_image: {shift}\")\n",
    "    print(f\"Translation invariant normalized RMS error between reference_image and moving_image: {error}\")\n",
    "    print(f\"Global phase difference between the two images (should be zero if images are non-negative).: {phase}\\n\")"
   ]
  },
  {
   "cell_type": "markdown",
   "id": "5c34eee3-cbc5-4f30-ba09-faf98120cb01",
   "metadata": {},
   "source": [
    "### Show where the NANs are in the tiffs"
   ]
  },
  {
   "cell_type": "code",
   "execution_count": null,
   "id": "15aa31e9-5435-436f-8fe8-06b83f274fb9",
   "metadata": {},
   "outputs": [],
   "source": [
    "nan_reference_mask = np.isnan(df_reference_superset)\n",
    "nan_moving_mask = np.isnan(df_secondary_superset)\n",
    "\n",
    "fig = plt.figure(figsize=(16, 8))\n",
    "ax1 = fig.add_subplot(121, title='NaNs - reference')\n",
    "ax2 = fig.add_subplot(122, title='NaNs - secondary')\n",
    "ax1.imshow(nan_reference_mask)\n",
    "ax2.imshow(nan_moving_mask)"
   ]
  },
  {
   "cell_type": "markdown",
   "id": "da5d596d-d1ee-47eb-a6f4-24966dddf919",
   "metadata": {},
   "source": [
    "### Perform cross-correlation on the tiffs (Masking Nans)"
   ]
  },
  {
   "cell_type": "code",
   "execution_count": null,
   "id": "371b68ea-408d-4746-80c9-2745e4ef5799",
   "metadata": {},
   "outputs": [],
   "source": [
    "with asfn.work_dir(f\"{CWD}/work/\"):\n",
    "    # Find cross correlation\n",
    "    # https://scikit-image.org/docs/stable/api/skimage.registration.html#skimage.registration.phase_cross_correlation\n",
    "    \n",
    "    print(\"Using NaN mask...\")\n",
    "    shift = phase_cross_correlation(df_reference_superset, df_secondary_superset, reference_mask=~nan_reference_mask, moving_mask=~nan_moving_mask)\n",
    "    print(f\"Shift vector (in pixels) required to register moving_image with reference_image: {shift}\")\n",
    "    print(f\"No error or phase given with masks.\")"
   ]
  },
  {
   "cell_type": "markdown",
   "id": "3b4db746-8618-40e8-a7ed-3a5e82c1a6bd",
   "metadata": {},
   "source": [
    "### Tile scenes into equal rectangles/squares\n",
    "\n",
    "Save files as PNGs as well"
   ]
  },
  {
   "cell_type": "code",
   "execution_count": null,
   "id": "80ed9f7a-791f-46e0-9f66-cb2f24e51b16",
   "metadata": {},
   "outputs": [],
   "source": [
    "# https://gis.stackexchange.com/a/306862\n",
    "from shapely import geometry\n",
    "from rasterio.mask import mask\n",
    "\n",
    "# Takes a Rasterio dataset and splits it into squares of dimensions squareDim * squareDim\n",
    "def splitImageIntoCells(img, filename, x_num=1, y_num=1):    \n",
    "    x_dim = img.shape[1] // x_num\n",
    "    y_dim = img.shape[0] // y_num\n",
    "\n",
    "    x, y = 0, 0\n",
    "    for y_iter in range(y_num):\n",
    "        y = y_iter * y_dim\n",
    "        for x_iter in range(x_num):\n",
    "            x = x_iter * x_dim\n",
    "            \n",
    "            filepath = f'{filename}_{y_iter}_{x_iter}.tif'\n",
    "            print(f\"Creating tile {filepath}...\")\n",
    "            \n",
    "            # Get tile geometry\n",
    "            corner1 = img.transform * (x, y)\n",
    "            corner2 = img.transform * (x + x_dim, y + y_dim)\n",
    "            geom = geometry.box(corner1[0], corner1[1], corner2[0], corner2[1])\n",
    "            \n",
    "            # Get cell \n",
    "            crop, cropTransform = mask(img, [geom], crop=True)\n",
    "            img.meta.update(\n",
    "                {\n",
    "                    \"driver\": \"GTiff\",\n",
    "                    \"height\": crop.shape[1],\n",
    "                    \"width\": crop.shape[2],\n",
    "                    \"transform\": cropTransform,\n",
    "                    \"crs\": img.crs\n",
    "                }\n",
    "            )\n",
    "            \n",
    "            with rasterio.open(filepath, \"w\", **img.meta) as out:\n",
    "                out.write(crop)\n",
    "                \n",
    "            rbg = PILImage.open(filepath).convert('RGB')\n",
    "            rbg.save(filepath + \".png\")"
   ]
  },
  {
   "cell_type": "code",
   "execution_count": null,
   "id": "553505b9-c052-45cc-ba1e-79502bf67f6d",
   "metadata": {},
   "outputs": [],
   "source": [
    "start_time = datetime.now()\n",
    "print(f\"Start time is {start_time}\\n\")\n",
    "\n",
    "!mkdir -p {CWD}/work/reference_tiles/\n",
    "with asfn.work_dir(f\"{CWD}/work/reference_tiles\"):\n",
    "    splitImageIntoCells(reference_superset, 'reference', x_num=X_NUM, y_num=Y_NUM)\n",
    "    \n",
    "end_time = datetime.now()\n",
    "print(f\"\\nEnd time is {end_time}\")\n",
    "print(f\"Time elapsed is {end_time - start_time}\\n\")"
   ]
  },
  {
   "cell_type": "code",
   "execution_count": null,
   "id": "494f02b5-a926-48a6-8fdd-187bd2117097",
   "metadata": {},
   "outputs": [],
   "source": [
    "start_time = datetime.now()\n",
    "print(f\"Start time is {start_time}\\n\")\n",
    "\n",
    "!mkdir -p {CWD}/work/secondary_tiles/\n",
    "with asfn.work_dir(f\"{CWD}/work/secondary_tiles\"):\n",
    "    splitImageIntoCells(secondary_superset, 'secondary', x_num=X_NUM, y_num=Y_NUM)\n",
    "    \n",
    "end_time = datetime.now()\n",
    "print(f\"\\nEnd time is {end_time}\")\n",
    "print(f\"Time elapsed is {end_time - start_time}\\n\")"
   ]
  },
  {
   "cell_type": "markdown",
   "id": "aaf15de2-e5a4-4e90-a2cd-7513d0555961",
   "metadata": {},
   "source": [
    "### Plot Reference and Secondary tiles"
   ]
  },
  {
   "cell_type": "code",
   "execution_count": null,
   "id": "c0451b7f-ce61-490d-b25d-a464ca6939bb",
   "metadata": {},
   "outputs": [],
   "source": [
    "with asfn.work_dir(f\"{CWD}/work\"):\n",
    "    \n",
    "    start_time = datetime.now()\n",
    "    print(f\"Start time is {start_time}\\n\")\n",
    "    \n",
    "    ref = plt.figure(figsize=(10,10))\n",
    "    sec = plt.figure(figsize=(10,10))\n",
    "    corr = plt.figure(figsize=(10,10))\n",
    "    \n",
    "    cross_corr_results = []\n",
    "    \n",
    "    count = 1\n",
    "    for i in range(X_NUM):\n",
    "        \n",
    "        if i not in [1]:\n",
    "            continue\n",
    "            \n",
    "        for j in range(Y_NUM):\n",
    "            \n",
    "            if j not in [1]:\n",
    "                continue\n",
    "            \n",
    "            ###### Reference\n",
    "            ref_file_path = f'./reference_tiles/reference_{i}_{j}.tif'\n",
    "            print(f\"Rendering {ref_file_path}...\")\n",
    "            rast = rasterio.open(ref_file_path)\n",
    "            df_ref = convert_rast_to_df(rast)\n",
    "            \n",
    "            ax_ref = ref.add_subplot(X_NUM, Y_NUM, count, xticks=[], yticks=[])\n",
    "            ax_ref.spines[:].set_color('blue')\n",
    "            ax_ref.imshow(df_ref)\n",
    "            \n",
    "            ###### Secondary\n",
    "            sec_file_path = f'./secondary_tiles/secondary_{i}_{j}.tif'\n",
    "            print(f\"Rendering {sec_file_path}...\")\n",
    "            rast = rasterio.open(sec_file_path)\n",
    "            df_sec = convert_rast_to_df(rast)\n",
    "            \n",
    "            ax_sec = sec.add_subplot(X_NUM, Y_NUM, count, xticks=[], yticks=[])\n",
    "            ax_sec.spines[:].set_color('orange')\n",
    "            ax_sec.imshow(df_sec)\n",
    "            \n",
    "            ####### Do cross corr\n",
    "            # Find cross correlation\n",
    "            # https://scikit-image.org/docs/stable/api/skimage.registration.html#skimage.registration.phase_cross_correlation\n",
    "\n",
    "            print(\"Replacing NaNs with zero....\")\n",
    "            shift, error, phase = phase_cross_correlation(\n",
    "                df_ref.replace(np.nan,0), \n",
    "                df_sec.replace(np.nan,0)\n",
    "            )\n",
    "            print(f\"Shift vector (in pixels) required to register moving_image with reference_image: {shift}\")\n",
    "            print(f\"Translation invariant normalized RMS error between reference_image and moving_image: {error}\")\n",
    "            print(f\"Global phase difference between the two images (should be zero if images are non-negative).: {phase}\\n\")\n",
    "            \n",
    "            cross_corr_results.append({\n",
    "                \"ref_file\": ref_file_path,\n",
    "                \"sec_file\": sec_file_path,\n",
    "                \"shift\": shift, \n",
    "                \"error\": error, \n",
    "                \"phase\": phase\n",
    "            })\n",
    "            \n",
    "            ax_corr = corr.add_subplot(X_NUM, Y_NUM, count, xticks=[], yticks=[])\n",
    "            ax_corr.spines[:].set_color('green')\n",
    "            ax_corr.text(0.1, 0.8, str(shift), transform = ax_corr.transAxes, fontsize='small')\n",
    "            ax_corr.text(0.1, 0.4, str(error), transform = ax_corr.transAxes, fontsize='x-small')\n",
    "            ax_corr.text(0.1, 0.1, str(phase), transform = ax_corr.transAxes, fontsize='xx-small')\n",
    "            \n",
    "            ######\n",
    "            \n",
    "            count = count + 1\n",
    "            \n",
    "    ref.show()\n",
    "    sec.show()\n",
    "    corr.show()\n",
    "    \n",
    "    del ref\n",
    "    del sec\n",
    "    del corr\n",
    "    \n",
    "    end_time = datetime.now()\n",
    "    print(f\"\\nEnd time is {end_time}\")\n",
    "    print(f\"Time elapsed is {end_time - start_time}\\n\")"
   ]
  },
  {
   "cell_type": "markdown",
   "id": "98495add-c602-4693-8832-026d7c3dfce2",
   "metadata": {},
   "source": [
    "### Cross Correlation Results"
   ]
  },
  {
   "cell_type": "code",
   "execution_count": null,
   "id": "0e0d0df7-1c48-4bb5-8ca3-c7e67c1a3910",
   "metadata": {},
   "outputs": [],
   "source": [
    "print(cross_corr_results)"
   ]
  },
  {
   "cell_type": "code",
   "execution_count": null,
   "id": "4999dee5-fff6-4512-b231-53cc7fdc6400",
   "metadata": {},
   "outputs": [],
   "source": []
  }
 ],
 "metadata": {
  "kernelspec": {
   "display_name": "opera-rtc-cross-corr [conda env:.local-opera-rtc-cross-corr]",
   "language": "python",
   "name": "conda-env-.local-opera-rtc-cross-corr-py"
  },
  "language_info": {
   "codemirror_mode": {
    "name": "ipython",
    "version": 3
   },
   "file_extension": ".py",
   "mimetype": "text/x-python",
   "name": "python",
   "nbconvert_exporter": "python",
   "pygments_lexer": "ipython3",
   "version": "3.11.0"
  }
 },
 "nbformat": 4,
 "nbformat_minor": 5
}
