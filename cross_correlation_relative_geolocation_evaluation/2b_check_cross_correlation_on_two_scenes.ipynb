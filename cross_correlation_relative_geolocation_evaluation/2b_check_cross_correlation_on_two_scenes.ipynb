{
 "cells": [
  {
   "cell_type": "markdown",
   "id": "37b3bc47-15bf-43af-877f-108c1bcc914d",
   "metadata": {
    "tags": []
   },
   "source": [
    "# Cross Correlation Check"
   ]
  },
  {
   "cell_type": "markdown",
   "id": "46f63b7e-926f-49ba-9eb5-24b997fe384e",
   "metadata": {},
   "source": [
    "### Import Python libraries"
   ]
  },
  {
   "cell_type": "code",
   "execution_count": null,
   "id": "609a1558-fe52-4b17-b0d7-101afa8fcda2",
   "metadata": {},
   "outputs": [],
   "source": [
    "import pathlib\n",
    "import glob \n",
    "\n",
    "import rasterio\n",
    "from rasterio.windows import from_bounds\n",
    "from osgeo import gdal\n",
    "import shapely\n",
    "from shapely import wkt\n",
    "from ipyfilechooser import FileChooser\n",
    "import numpy as np\n",
    "import pandas as pd\n",
    "import matplotlib.pyplot as plt\n",
    "from skimage.registration import phase_cross_correlation\n",
    "from PIL import Image as PILImage\n",
    "\n",
    "import opensarlab_lib as asfn"
   ]
  },
  {
   "cell_type": "markdown",
   "id": "31b643f5-2500-4d39-be8a-d322d3715c46",
   "metadata": {},
   "source": [
    "### Define some later-used methods and variables"
   ]
  },
  {
   "cell_type": "code",
   "execution_count": null,
   "id": "67dcf1fa-7b56-42e1-9002-94ad3ce1f786",
   "metadata": {},
   "outputs": [],
   "source": [
    "def save_tiff_as_png(save_path_and_name: str):\n",
    "    \"\"\"\n",
    "    Convert dataframe of tiff into png.\n",
    "    \"\"\"\n",
    "    img = Image.open(save_path_and_name).convert('RGB')\n",
    "    img.save(save_path_and_name + \".png\")\n",
    "    \n",
    "def convert_rast_to_df(rasterio_obj, window=None):\n",
    "    if window:\n",
    "        raster0 = rasterio_obj.read(1, window=window)\n",
    "    else:\n",
    "        raster0 = rasterio_obj.read(1)\n",
    "    df = pd.DataFrame(raster0)\n",
    "    df = df[(df > np.percentile(df, 1)) & (df < np.percentile(df, 99))]\n",
    "    return df\n",
    "    \n",
    "# Get working directory of notebook\n",
    "CWD = pathlib.Path().absolute()\n",
    "CWD"
   ]
  },
  {
   "cell_type": "markdown",
   "id": "f92ed533-d4ec-4bc0-986e-d671764a5d7f",
   "metadata": {
    "tags": []
   },
   "source": [
    "### Choose tiff files to compare."
   ]
  },
  {
   "cell_type": "code",
   "execution_count": null,
   "id": "0d17da70-6ac1-4d0b-ab07-55fa9af541b5",
   "metadata": {},
   "outputs": [],
   "source": [
    "# Choose the tiffs\n",
    "fc1 = FileChooser(f'{CWD}/data/')\n",
    "display(fc1)"
   ]
  },
  {
   "cell_type": "code",
   "execution_count": null,
   "id": "81f8b2e4-cab6-47af-9c80-10a6d9798d01",
   "metadata": {},
   "outputs": [],
   "source": [
    "# Choose the tiffs\n",
    "fc2 = FileChooser(f'{CWD}/data/')\n",
    "display(fc2)"
   ]
  },
  {
   "cell_type": "code",
   "execution_count": null,
   "id": "1a74cb68-ce71-4ee0-b269-5ca06d4b3849",
   "metadata": {},
   "outputs": [],
   "source": [
    "reference_path = fc1.selected_path\n",
    "reference_file = fc1.selected_filename\n",
    "print(reference_path, reference_file)\n",
    "\n",
    "secondary_path = fc2.selected_path\n",
    "secondary_file = fc2.selected_filename\n",
    "print(secondary_path, secondary_file)"
   ]
  },
  {
   "cell_type": "code",
   "execution_count": null,
   "id": "b0afe274-97c1-46c4-bbda-f9f93b657193",
   "metadata": {},
   "outputs": [],
   "source": [
    "!mkdir -p {CWD}/work/\n",
    "!cp {reference_path}/{reference_file} {CWD}/work/reference.tif\n",
    "!cp {secondary_path}/{secondary_file} {CWD}/work/secondary.tif"
   ]
  },
  {
   "cell_type": "markdown",
   "id": "ecffcacd-5fee-4132-acb5-16e49e6a62b8",
   "metadata": {},
   "source": [
    "### Convert tiffs to rasterio objects"
   ]
  },
  {
   "cell_type": "code",
   "execution_count": null,
   "id": "a48ed2b2-4664-4908-a3e7-2a22624e8959",
   "metadata": {},
   "outputs": [],
   "source": [
    "with asfn.work_dir(f\"{CWD}/work/\"):\n",
    "    reference = rasterio.open('reference.tif')    \n",
    "    secondary = rasterio.open('secondary.tif')\n",
    "    \n",
    "    print(reference.meta)\n",
    "    print(secondary.meta)"
   ]
  },
  {
   "cell_type": "markdown",
   "id": "f7ebf829-fd51-4391-a99f-cdf31cad4953",
   "metadata": {},
   "source": [
    "### Plot original reference and secondary scenes"
   ]
  },
  {
   "cell_type": "code",
   "execution_count": null,
   "id": "cbb93a91-6885-4c29-a442-7ff492471124",
   "metadata": {},
   "outputs": [],
   "source": [
    "df_reference = convert_rast_to_df(reference)\n",
    "df_secondary = convert_rast_to_df(secondary)\n",
    "\n",
    "fig = plt.figure(figsize=(16, 8))\n",
    "ax1 = fig.add_subplot(121, title=\"reference\")\n",
    "ax2 = fig.add_subplot(122, title=\"secondary\")\n",
    "\n",
    "ax1.imshow(df_reference)\n",
    "ax2.imshow(df_secondary)"
   ]
  },
  {
   "cell_type": "markdown",
   "id": "09a40d54-578e-430e-8c18-b840bf06be4a",
   "metadata": {},
   "source": [
    "### Find smallest common superset area and transform the scenes"
   ]
  },
  {
   "cell_type": "code",
   "execution_count": null,
   "id": "068da359-f085-40d4-828f-28352b6a95c4",
   "metadata": {},
   "outputs": [],
   "source": [
    "ref_bound = reference.bounds\n",
    "sec_bound = secondary.bounds\n",
    "\n",
    "superset = {\n",
    "    'left': min(ref_bound.left, sec_bound.left),\n",
    "    'bottom': min(ref_bound.bottom, sec_bound.bottom), \n",
    "    'right': max(ref_bound.right, sec_bound.right), \n",
    "    'top': max(ref_bound.top, sec_bound.top)\n",
    "}\n",
    "\n",
    "print(ref_bound)\n",
    "print(sec_bound)\n",
    "print(superset)\n",
    "\n",
    "with asfn.work_dir(f\"{CWD}/work/\"):\n",
    "    gdal.Warp(\n",
    "            str('reference_superset.tif'), \n",
    "            str('reference.tif'),\n",
    "            outputBounds=(\n",
    "                superset['left'], \n",
    "                superset['bottom'],\n",
    "                superset['right'],\n",
    "                superset['top'],\n",
    "            ),\n",
    "            outputBoundsSRS=reference.crs #\"EPSG:4326\"\n",
    "        )\n",
    "    \n",
    "    gdal.Warp(\n",
    "            str('secondary_superset.tif'), \n",
    "            str('secondary.tif'),\n",
    "            outputBounds=(\n",
    "                superset['left'], \n",
    "                superset['bottom'],\n",
    "                superset['right'],\n",
    "                superset['top'],\n",
    "            ),\n",
    "            outputBoundsSRS=secondary.crs #\"EPSG:4326\"\n",
    "        )"
   ]
  },
  {
   "cell_type": "code",
   "execution_count": null,
   "id": "530a353f-d9c3-4b10-a74d-2d07b7e22e41",
   "metadata": {},
   "outputs": [],
   "source": [
    "with asfn.work_dir(f\"{CWD}/work/\"):\n",
    "    reference = rasterio.open('reference_superset.tif')    \n",
    "    secondary = rasterio.open('secondary_superset.tif')\n",
    "\n",
    "df_reference = convert_rast_to_df(reference)\n",
    "df_secondary = convert_rast_to_df(secondary)\n",
    "\n",
    "fig = plt.figure(figsize=(16, 8))\n",
    "ax1 = fig.add_subplot(121, title=\"reference\")\n",
    "ax2 = fig.add_subplot(122, title=\"secondary\")\n",
    "\n",
    "ax1.imshow(df_reference)\n",
    "ax2.imshow(df_secondary)"
   ]
  },
  {
   "cell_type": "markdown",
   "id": "5c34eee3-cbc5-4f30-ba09-faf98120cb01",
   "metadata": {},
   "source": [
    "### Show where the NANs are in the tiffs"
   ]
  },
  {
   "cell_type": "code",
   "execution_count": null,
   "id": "15aa31e9-5435-436f-8fe8-06b83f274fb9",
   "metadata": {},
   "outputs": [],
   "source": [
    "nan_reference_mask = np.isnan(df_reference)\n",
    "nan_moving_mask = np.isnan(df_secondary)\n",
    "\n",
    "fig = plt.figure(figsize=(16, 8))\n",
    "ax1 = fig.add_subplot(121, title='NaNs - reference')\n",
    "ax2 = fig.add_subplot(122, title='NaNs - secondary')\n",
    "ax1.imshow(nan_reference_mask)\n",
    "ax2.imshow(nan_moving_mask)"
   ]
  },
  {
   "cell_type": "markdown",
   "id": "54ab7d2b-eab3-4096-8760-a46c51e955cf",
   "metadata": {},
   "source": [
    "### Perform cross-correlation on the tiffs"
   ]
  },
  {
   "cell_type": "code",
   "execution_count": null,
   "id": "dcbc7aaa-b592-4c75-ad20-d348b1bf45c5",
   "metadata": {},
   "outputs": [],
   "source": [
    "with asfn.work_dir(f\"{CWD}/work/\"):\n",
    "\n",
    "    # Find cross correlation\n",
    "    # https://scikit-image.org/docs/stable/api/skimage.registration.html#skimage.registration.phase_cross_correlation\n",
    "    \n",
    "    print(\"Replacing NaNs with zero....\")\n",
    "    shift, error, phase = phase_cross_correlation(df_reference.replace(np.nan,0), df_secondary.replace(np.nan,0))\n",
    "    print(f\"Shift vector (in pixels) required to register moving_image with reference_image: {shift}\")\n",
    "    print(f\"Translation invariant normalized RMS error between reference_image and moving_image: {error}\")\n",
    "    print(f\"Global phase difference between the two images (should be zero if images are non-negative).: {phase}\\n\")\n",
    "    \n",
    "    print(\"Using NaN mask...\")\n",
    "    shift = phase_cross_correlation(df_reference, df_secondary, reference_mask=~nan_reference_mask, moving_mask=~nan_moving_mask)\n",
    "    print(f\"Shift vector (in pixels) required to register moving_image with reference_image: {shift}\")\n",
    "    print(f\"No error or phase given with masks.\")"
   ]
  },
  {
   "cell_type": "markdown",
   "id": "3b4db746-8618-40e8-a7ed-3a5e82c1a6bd",
   "metadata": {},
   "source": [
    "### Tile scenes"
   ]
  },
  {
   "cell_type": "code",
   "execution_count": null,
   "id": "80ed9f7a-791f-46e0-9f66-cb2f24e51b16",
   "metadata": {},
   "outputs": [],
   "source": [
    "# https://gis.stackexchange.com/a/306862\n",
    "from shapely import geometry\n",
    "from rasterio.mask import mask\n",
    "\n",
    "# Takes a Rasterio dataset and splits it into squares of dimensions squareDim * squareDim\n",
    "def splitImageIntoCells(img, filename, x_num=1, y_num=1):    \n",
    "    x_dim = img.shape[1] // x_num\n",
    "    y_dim = img.shape[0] // y_num\n",
    "\n",
    "    x, y = 0, 0\n",
    "    for y_iter in range(y_num):\n",
    "        y = y_iter * y_dim\n",
    "        for x_iter in range(x_num):\n",
    "            x = x_iter * x_dim\n",
    "            \n",
    "            # Get tile geometry\n",
    "            corner1 = img.transform * (x, y)\n",
    "            corner2 = img.transform * (x + x_dim, y + y_dim)\n",
    "            geom = geometry.box(corner1[0], corner1[1], corner2[0], corner2[1])\n",
    "            \n",
    "            # Get cell \n",
    "            crop, cropTransform = mask(img, [geom], crop=True)\n",
    "            img.meta.update(\n",
    "                {\n",
    "                    \"driver\": \"GTiff\",\n",
    "                    \"height\": crop.shape[1],\n",
    "                    \"width\": crop.shape[2],\n",
    "                    \"transform\": cropTransform,\n",
    "                    \"crs\": img.crs\n",
    "                }\n",
    "            )\n",
    "            \n",
    "            filepath = f'{filename}_{y_iter}_{x_iter}.tif'\n",
    "            with rasterio.open(filepath, \"w\", **img.meta) as out:\n",
    "                out.write(crop)\n",
    "                \n",
    "            rbg = PILImage.open(filepath).convert('RGB')\n",
    "            rbg.save(filepath + \".png\")"
   ]
  },
  {
   "cell_type": "code",
   "execution_count": null,
   "id": "553505b9-c052-45cc-ba1e-79502bf67f6d",
   "metadata": {},
   "outputs": [],
   "source": [
    "!mkdir -p {CWD}/work/reference_tiles/\n",
    "with asfn.work_dir(f\"{CWD}/work/reference_tiles\"):\n",
    "    splitImageIntoCells(reference, 'reference', x_num=10, y_num=10)"
   ]
  },
  {
   "cell_type": "code",
   "execution_count": null,
   "id": "494f02b5-a926-48a6-8fdd-187bd2117097",
   "metadata": {},
   "outputs": [],
   "source": [
    "!mkdir -p {CWD}/work/secondary_tiles/\n",
    "with asfn.work_dir(f\"{CWD}/work/secondary_tiles\"):\n",
    "    splitImageIntoCells(secondary, 'secondary', x_num=10, y_num=10)"
   ]
  },
  {
   "cell_type": "markdown",
   "id": "aaf15de2-e5a4-4e90-a2cd-7513d0555961",
   "metadata": {},
   "source": [
    "### Plot tiles"
   ]
  },
  {
   "cell_type": "code",
   "execution_count": null,
   "id": "c0451b7f-ce61-490d-b25d-a464ca6939bb",
   "metadata": {},
   "outputs": [],
   "source": [
    "with asfn.work_dir(f\"{CWD}/work/\"):    \n",
    "    reference_tile_paths = glob.glob('./reference_tiles/*.png')\n",
    "    secondary_tile_paths = !ls ./secondary_tiles/*.png\n",
    "\n",
    "    cnt = len(reference_tile_paths)\n",
    "    print(cnt)\n",
    "    \n",
    "    plt.figure(figsize=(10,5))\n",
    "    columns = 10\n",
    "    for i, reference_tile_path in enumerate(reference_tile_paths):\n",
    "        rast = rasterio.open(reference_tile_path)\n",
    "        rast_df = convert_rast_to_df(rast)\n",
    "        plt.subplot(int(cnt / columns) + 1, int(columns), i + 1, xticks=[], yticks=[])\n",
    "        plt.imshow(rast_df)"
   ]
  },
  {
   "cell_type": "code",
   "execution_count": null,
   "id": "0dc09b48-9cc3-4625-963f-331da8e75a9d",
   "metadata": {},
   "outputs": [],
   "source": []
  }
 ],
 "metadata": {
  "kernelspec": {
   "display_name": "opera-rtc-cross-corr [conda env:.local-opera-rtc-cross-corr]",
   "language": "python",
   "name": "conda-env-.local-opera-rtc-cross-corr-py"
  },
  "language_info": {
   "codemirror_mode": {
    "name": "ipython",
    "version": 3
   },
   "file_extension": ".py",
   "mimetype": "text/x-python",
   "name": "python",
   "nbconvert_exporter": "python",
   "pygments_lexer": "ipython3",
   "version": "3.11.0"
  }
 },
 "nbformat": 4,
 "nbformat_minor": 5
}
