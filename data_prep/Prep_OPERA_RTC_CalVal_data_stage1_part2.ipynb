{
 "cells": [
  {
   "cell_type": "markdown",
   "id": "e520f2a2-64fa-4f48-9a57-f8f74c27a7ea",
   "metadata": {},
   "source": [
    "# Prep OPERA RTC CalVal data: stage 1, part 2\n",
    "\n",
    "**Alex Lewandowski; Alaska Satellite Facility, University of Alaska Fairbanks**\n",
    "\n",
    "## Performs additional data preparation for OPERA RTC calibration and validation\n",
    "\n",
    "**Notebook Requires**\n",
    "- directory of geotiffs processed with Prep_OPERA_RTC_CalVal_data_stage1_part1.ipynb\n",
    "\n",
    "**Actions**\n",
    "- convert incidence angle maps from radians to degrees\n",
    "- Use the ESA land cover data and HyP3 layover-shadow mask to create a mask of valid land cover pixels unaffected by layover or shadow\n",
    "- Determine foreslope, backslope, and flat areas by subtracting the ellipsoidal incidence angles from local incidence angles\n",
    "- create 3 backscatter geotiffs for each polarity containing valid pixels of the selected ground cover classification in:\n",
    "    - foreslope regions\n",
    "    - backslope regions\n",
    "    - flat regions"
   ]
  },
  {
   "cell_type": "code",
   "execution_count": null,
   "id": "ef493fa8-f2e4-4d3c-8ead-d6191236559e",
   "metadata": {},
   "outputs": [],
   "source": [
    "from ipyfilechooser import FileChooser\n",
    "import math\n",
    "import numpy as np\n",
    "from pathlib import Path\n",
    "import shutil\n",
    "\n",
    "import numpy.ma as ma\n",
    "from osgeo import gdal\n",
    "\n",
    "import opensarlab_lib as osl"
   ]
  },
  {
   "cell_type": "code",
   "execution_count": null,
   "id": "66bd8411-e3b4-4331-aa95-fd5617be961d",
   "metadata": {},
   "outputs": [],
   "source": [
    "print(\"Select the *_prepped directory output by Prep_OPERA_RTC_CalVal_data_stage1_part1.ipynb\")\n",
    "fc = FileChooser(Path.cwd())\n",
    "display(fc)"
   ]
  },
  {
   "cell_type": "markdown",
   "id": "d014da36-eecb-43fe-a7ef-ce0596cfe023",
   "metadata": {},
   "source": [
    "## Warp all products to pixel size of 10"
   ]
  },
  {
   "cell_type": "code",
   "execution_count": null,
   "id": "d5ad6d3d-f582-4651-84d5-7eade4c85feb",
   "metadata": {},
   "outputs": [],
   "source": [
    "data_dir = Path(fc.selected_path)\n",
    "tiffs = list(data_dir.glob('*.tif'))\n",
    "resolution = 10\n",
    "for t in tiffs:\n",
    "    gdal.Warp(str(t), str(t), xRes=resolution, yRes=resolution, \n",
    "              targetAlignedPixels=True, dstNodata=None, copyMetadata=True)   "
   ]
  },
  {
   "cell_type": "markdown",
   "id": "cc4802fc-3eef-4a20-ac67-12f94d7a26de",
   "metadata": {},
   "source": [
    "## Glob product paths"
   ]
  },
  {
   "cell_type": "code",
   "execution_count": null,
   "id": "2afbbbec-06b0-448a-add5-7126fa18471e",
   "metadata": {},
   "outputs": [],
   "source": [
    "local_inc = list(data_dir.glob('*_lc_inc_map_*.tif'))[0]\n",
    "ellipse_inc = list(data_dir.glob('*_ell_inc_map_*.tif'))[0]\n",
    "ls_map = list(data_dir.glob('*_ls_map_*.tif'))[0]\n",
    "vh = list(data_dir.glob(\"*_VH_*.tif\"))[0]\n",
    "vv = list(data_dir.glob(\"*_VV_*.tif\"))[0]\n",
    "dem = list(data_dir.glob(\"*_dem_*.tif\"))[0]\n",
    "landcover = list(data_dir.glob(\"ESA_WorldCover_*.tif\"))[0]"
   ]
  },
  {
   "cell_type": "markdown",
   "id": "5e1cee06-c6cc-4166-985f-af2498987fe4",
   "metadata": {},
   "source": [
    "---\n",
    "## Mask unwanted land cover types\n",
    "\n",
    "### Landcover Classifications\n",
    "https://esa-worldcover.org/en\n",
    "\n",
    "- 10  Tree cover\n",
    "- 20  Shrubland\n",
    "- 30  Grassland\n",
    "- 40  Cropland\n",
    "- 50  Built-up\n",
    "- 60  Bare/sparse vegetation\n",
    "- 70  Snow and ice\n",
    "- 80  Permanent water bodies\n",
    "- 90  Herbaceous wetland\n",
    "- 95  Mangroves\n",
    "- 100 Moss and lichen"
   ]
  },
  {
   "cell_type": "markdown",
   "id": "17c4f112-70a1-4436-a932-c5104538846e",
   "metadata": {},
   "source": [
    "## Select a ground cover type of interest"
   ]
  },
  {
   "cell_type": "code",
   "execution_count": null,
   "id": "8f374dbc-8c61-49e0-9a85-5c10b53e7ed2",
   "metadata": {},
   "outputs": [],
   "source": [
    "print(\"Select a ground cover type\")\n",
    "ground_cover_choice = osl.select_parameter([\"Tree_Cover\", \"Shrubland\", \"Grassland\", \"Cropland\"])\n",
    "display(ground_cover_choice)"
   ]
  },
  {
   "cell_type": "code",
   "execution_count": null,
   "id": "a14d8825-a5e9-46fc-9e41-ecc763b69d32",
   "metadata": {},
   "outputs": [],
   "source": [
    "ground_cover = ground_cover_choice.value\n",
    "ground_covers = [10, 20, 30 , 40 , 50 , 60, 70, 80, 90, 95, 100]\n",
    "\n",
    "if ground_cover == 'Tree_Cover':\n",
    "    valid_covers = [10] \n",
    "elif ground_cover == 'Shrubland':\n",
    "    valid_covers = [20]\n",
    "elif ground_cover == 'Grassland':\n",
    "    valid_covers = [30]\n",
    "elif ground_cover == 'Cropland':\n",
    "    valid_covers = [40]\n",
    "invalid_covers = [c for c in ground_covers if c not in valid_covers]\n",
    "\n",
    "ground_cover_dir = data_dir.parent/ground_cover\n",
    "if not ground_cover_dir.is_dir():\n",
    "    ground_cover_dir.mkdir()"
   ]
  },
  {
   "cell_type": "markdown",
   "id": "f7683d24-f07c-4fe7-8704-cad419188cfe",
   "metadata": {},
   "source": [
    "## Convert incidence angle maps to degrees"
   ]
  },
  {
   "cell_type": "code",
   "execution_count": null,
   "id": "25876e26-9a9e-4a7b-b611-1374f416d56b",
   "metadata": {},
   "outputs": [],
   "source": [
    "to_deg = [local_inc, ellipse_inc]\n",
    "for i, ds in enumerate(to_deg):\n",
    "    out = ground_cover_dir/f\"{ds.stem}_deg.tif\"\n",
    "    shutil.copy(ds, out)\n",
    "    f = gdal.Open(str(out), gdal.GA_Update)\n",
    "    array = f.ReadAsArray()\n",
    "\n",
    "    array = array / math.pi * 180\n",
    "\n",
    "    f.GetRasterBand(1).WriteArray(array)\n",
    "    f.FlushCache()\n",
    "    if i == 0:\n",
    "        local_inc = out\n",
    "    else:\n",
    "        elipse_inc = out"
   ]
  },
  {
   "cell_type": "markdown",
   "id": "78d36fa5-1377-46bc-b83b-10b406a7595f",
   "metadata": {},
   "source": [
    "## mask invalid pixels (as determined from layover-shadow mask)\n",
    "\n",
    "## Create 3 backscatter tiffs for each polarization:\n",
    "\n",
    "- foreslope backscatter\n",
    "- backslope backscatter\n",
    "- flat backscatter \n",
    "\n",
    "Remove invalid ground cover and layover/shadow pixels from all output backscatter tiffs "
   ]
  },
  {
   "cell_type": "code",
   "execution_count": null,
   "id": "1722930f-989b-4974-801d-1cd0127210af",
   "metadata": {},
   "outputs": [],
   "source": [
    "valid_landcover = ground_cover_dir/f\"{landcover.stem}_valid_{ground_cover}.tif\"\n",
    "shutil.copy(landcover, valid_landcover)\n",
    "\n",
    "f_landcover = gdal.Open(str(valid_landcover), gdal.GA_Update)\n",
    "landcover_ar = f_landcover.ReadAsArray()\n",
    "\n",
    "# Set all invalid ground cover pixels to 0\n",
    "for val in invalid_covers:\n",
    "    land_cover_masked = ma.masked_values(landcover_ar, val)\n",
    "    landcover_ar = land_cover_masked.filled(fill_value=0)\n",
    "    # mask = ma.masked_where(landcover_ar==val, landcover_ar)\n",
    "    # landcover_ar = mask.filled(fill_value=0)\n",
    "\n",
    "# set all valid ground cover pixels to 1\n",
    "for val in valid_covers:\n",
    "    land_cover_masked = ma.masked_values(landcover_ar, val)\n",
    "    landcover_ar = land_cover_masked.filled(fill_value=1)\n",
    "    # mask = ma.masked_where(landcover_ar==val, landcover_ar)\n",
    "    # landcover_ar = mask.filled(fill_value=1)\n",
    "    \n",
    "\n",
    "# set all pixels affected by layover or shadow to 0\n",
    "f_ls_mask = gdal.Open(str(ls_map))\n",
    "ls_array = f_ls_mask.ReadAsArray()\n",
    "ls_mask = ma.masked_where(ls_array!=1, ls_array)\n",
    "ls_array = ls_mask.filled(fill_value=0)\n",
    "\n",
    "# Update valid land cover mask with invalid pixels from layover shadow mask\n",
    "ls_mask = ma.masked_where(ls_array==0, landcover_ar)\n",
    "landcover_ar = ls_mask.filled(fill_value=0)\n",
    "\n",
    "# # Save valid land cover mask, containing values=1 for valid land cover pixels unaffected by layover and shadow\n",
    "f_landcover.GetRasterBand(1).WriteArray(landcover_ar)\n",
    "f_landcover.FlushCache()\n",
    "\n",
    "# Subtract elliposidal incidence angles from local incidence angles\n",
    "local = gdal.Open(str(local_inc))\n",
    "local_ar = local.ReadAsArray()\n",
    "ellipse = gdal.Open(str(elipse_inc))\n",
    "ellipse_ar = ellipse.ReadAsArray()\n",
    "ell_minus_local_inc_arr = local_ar - ellipse_ar\n",
    "\n",
    "# Create foreslope, backslope, and flat backscatter geotiffs for each polarization\n",
    "for pol in [vh, vv]:\n",
    "    foreslope = ground_cover_dir/f\"{pol.stem}_foreslope.tif\"\n",
    "    backslope = ground_cover_dir/f\"{pol.stem}_backslope.tif\"\n",
    "    flat = ground_cover_dir/f\"{pol.stem}_flat.tif\"\n",
    "\n",
    "    slopes = [foreslope, backslope, flat]\n",
    "    for s in slopes:    \n",
    "        shutil.copy(pol, s)\n",
    "        f = gdal.Open(str(s), gdal.GA_Update)\n",
    "        pol_array = f.ReadAsArray()\n",
    "\n",
    "        flat_threshold = [-2, 2]\n",
    "\n",
    "        if \"backslope\" in str(s):\n",
    "            mask = ma.masked_where(ell_minus_local_inc_arr<=2, pol_array)\n",
    "            # Replace values <= upper flat_threshold with 0\n",
    "            masked_array = mask.filled(fill_value=np.nan)\n",
    "        elif \"foreslope\" in str(s):\n",
    "            # Replace values >= lower flat_threshold with 0\n",
    "            mask = ma.masked_where(ell_minus_local_inc_arr>=-2, pol_array)\n",
    "            masked_array = mask.filled(fill_value=np.nan)\n",
    "        else:\n",
    "            # Replace values outside of flat_threshold with 0\n",
    "            mask = ma.masked_where(ell_minus_local_inc_arr>2, pol_array)\n",
    "            masked_array = mask.filled(fill_value=np.nan)\n",
    "            mask = ma.masked_where(ell_minus_local_inc_arr<-2, masked_array)\n",
    "            masked_array = mask.filled(fill_value=np.nan)\n",
    "\n",
    "        # Remove invalid ground cover and layover/shadow pixels\n",
    "        invalid_mask = ma.masked_where(landcover_ar==0, masked_array)\n",
    "        masked_array = invalid_mask.filled(fill_value=np.nan)\n",
    "\n",
    "        f.GetRasterBand(1).WriteArray(masked_array)\n",
    "        f.FlushCache()"
   ]
  },
  {
   "cell_type": "markdown",
   "id": "4c7ba71b-44e8-405e-b769-16ed4b925266",
   "metadata": {},
   "source": [
    "*Prep_OPERA_RTC_CalVal_data_stage1_part2 - Version 2.0.0 - May 2022*\n",
    "\n",
    "*Changes:*\n",
    "\n",
    "- *swap stage1_part2 and stage1_part3 to finish preprocessing before MGRS tiling*"
   ]
  }
 ],
 "metadata": {
  "kernelspec": {
   "display_name": "Python 3 (ipykernel)",
   "language": "python",
   "name": "conda-env-.local-rtc_analysis-py"
  },
  "language_info": {
   "codemirror_mode": {
    "name": "ipython",
    "version": 3
   },
   "file_extension": ".py",
   "mimetype": "text/x-python",
   "name": "python",
   "nbconvert_exporter": "python",
   "pygments_lexer": "ipython3",
   "version": "3.9.10"
  }
 },
 "nbformat": 4,
 "nbformat_minor": 5
}
