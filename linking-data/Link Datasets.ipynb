{
 "cells": [
  {
   "cell_type": "code",
   "execution_count": 1,
   "id": "dc2b96cd-9cf5-4d96-b4b0-0fc1db2da64a",
   "metadata": {},
   "outputs": [],
   "source": [
    "import pandas as pd\n",
    "from es_db import get_rtc_urls\n",
    "from tqdm import tqdm\n",
    "import concurrent.futures"
   ]
  },
  {
   "cell_type": "code",
   "execution_count": 2,
   "id": "0207db7e-b274-4dc4-a760-e0cb7b41171a",
   "metadata": {},
   "outputs": [
    {
     "data": {
      "text/html": [
       "<div>\n",
       "<style scoped>\n",
       "    .dataframe tbody tr th:only-of-type {\n",
       "        vertical-align: middle;\n",
       "    }\n",
       "\n",
       "    .dataframe tbody tr th {\n",
       "        vertical-align: top;\n",
       "    }\n",
       "\n",
       "    .dataframe thead th {\n",
       "        text-align: right;\n",
       "    }\n",
       "</style>\n",
       "<table border=\"1\" class=\"dataframe\">\n",
       "  <thead>\n",
       "    <tr style=\"text-align: right;\">\n",
       "      <th></th>\n",
       "      <th>Site</th>\n",
       "      <th>Orbit_Direction</th>\n",
       "      <th>Orbital_Path</th>\n",
       "      <th>CalVal_Module</th>\n",
       "      <th>S1_Scene_IDs</th>\n",
       "    </tr>\n",
       "  </thead>\n",
       "  <tbody>\n",
       "    <tr>\n",
       "      <th>0</th>\n",
       "      <td>California</td>\n",
       "      <td>Ascending</td>\n",
       "      <td>64</td>\n",
       "      <td>Absolute Geolocation Evaluation</td>\n",
       "      <td>S1A_IW_SLC__1SDV_20200324T015024_20200324T0150...</td>\n",
       "    </tr>\n",
       "    <tr>\n",
       "      <th>1</th>\n",
       "      <td>California</td>\n",
       "      <td>Ascending</td>\n",
       "      <td>64</td>\n",
       "      <td>Absolute Geolocation Evaluation</td>\n",
       "      <td>S1A_IW_SLC__1SDV_20201107T015034_20201107T0151...</td>\n",
       "    </tr>\n",
       "    <tr>\n",
       "      <th>2</th>\n",
       "      <td>California</td>\n",
       "      <td>Ascending</td>\n",
       "      <td>64</td>\n",
       "      <td>Absolute Geolocation Evaluation</td>\n",
       "      <td>S1A_IW_SLC__1SDV_20220501T015035_20220501T0151...</td>\n",
       "    </tr>\n",
       "    <tr>\n",
       "      <th>3</th>\n",
       "      <td>California</td>\n",
       "      <td>Ascending</td>\n",
       "      <td>64</td>\n",
       "      <td>Absolute Geolocation Evaluation</td>\n",
       "      <td>S1A_IW_SLC__1SDV_20200604T015028_20200604T0150...</td>\n",
       "    </tr>\n",
       "    <tr>\n",
       "      <th>4</th>\n",
       "      <td>California</td>\n",
       "      <td>Ascending</td>\n",
       "      <td>64</td>\n",
       "      <td>Absolute Geolocation Evaluation</td>\n",
       "      <td>S1A_IW_SLC__1SDV_20210130T015031_20210130T0150...</td>\n",
       "    </tr>\n",
       "  </tbody>\n",
       "</table>\n",
       "</div>"
      ],
      "text/plain": [
       "         Site Orbit_Direction  Orbital_Path                    CalVal_Module  \\\n",
       "0  California       Ascending            64  Absolute Geolocation Evaluation   \n",
       "1  California       Ascending            64  Absolute Geolocation Evaluation   \n",
       "2  California       Ascending            64  Absolute Geolocation Evaluation   \n",
       "3  California       Ascending            64  Absolute Geolocation Evaluation   \n",
       "4  California       Ascending            64  Absolute Geolocation Evaluation   \n",
       "\n",
       "                                        S1_Scene_IDs  \n",
       "0  S1A_IW_SLC__1SDV_20200324T015024_20200324T0150...  \n",
       "1  S1A_IW_SLC__1SDV_20201107T015034_20201107T0151...  \n",
       "2  S1A_IW_SLC__1SDV_20220501T015035_20220501T0151...  \n",
       "3  S1A_IW_SLC__1SDV_20200604T015028_20200604T0150...  \n",
       "4  S1A_IW_SLC__1SDV_20210130T015031_20210130T0150...  "
      ]
     },
     "execution_count": 2,
     "metadata": {},
     "output_type": "execute_result"
    }
   ],
   "source": [
    "df_data = pd.read_csv('../OPERA-RTC_CalVal_S1_Scene_IDs.csv')\n",
    "df_data['S1_Scene_IDs'] = df_data.S1_Scene_IDs.map(lambda s: s.split())\n",
    "df_data = df_data.explode('S1_Scene_IDs').reset_index(drop=True)\n",
    "df_data.head()"
   ]
  },
  {
   "cell_type": "code",
   "execution_count": 3,
   "id": "f91c4beb-74ec-4fb2-8fdd-ce8fa0b00286",
   "metadata": {},
   "outputs": [
    {
     "data": {
      "text/plain": [
       "'S1A_IW_SLC__1SDV_20201107T015034_20201107T015102_035136_0419CE_F4EF,'"
      ]
     },
     "execution_count": 3,
     "metadata": {},
     "output_type": "execute_result"
    }
   ],
   "source": [
    "sample_slc_id = df_data.S1_Scene_IDs[1]\n",
    "sample_slc_id"
   ]
  },
  {
   "cell_type": "code",
   "execution_count": 4,
   "id": "df72536e-1ac8-4e06-8609-34483ae493ab",
   "metadata": {},
   "outputs": [],
   "source": [
    "slc_ids = df_data.S1_Scene_IDs.tolist()"
   ]
  },
  {
   "cell_type": "code",
   "execution_count": 5,
   "id": "08044100-8514-46ce-9774-323c99b41a98",
   "metadata": {},
   "outputs": [
    {
     "name": "stderr",
     "output_type": "stream",
     "text": [
      "100%|█████████████████████████████| 1623/1623 [02:03<00:00, 13.11it/s]\n"
     ]
    }
   ],
   "source": [
    "with concurrent.futures.ThreadPoolExecutor(max_workers=10) as executor:\n",
    "    out_data = list(tqdm(executor.map(get_rtc_urls, slc_ids), total=len(slc_ids)))"
   ]
  },
  {
   "cell_type": "code",
   "execution_count": 6,
   "id": "4f9d0426-ed9f-425c-9080-5866163903f4",
   "metadata": {},
   "outputs": [],
   "source": [
    "opera_rtc_ids = [' '.join(list(d.keys())) for d in out_data]\n",
    "n_prods = [len(list(d.keys())) for d in out_data]\n",
    "urls_split = {}\n",
    "for k in range(5):\n",
    "    urls_split[k] = [' '.join([val[k] for _, val in d.items()]) for d in out_data]"
   ]
  },
  {
   "cell_type": "code",
   "execution_count": 7,
   "id": "d5a9e3d3-8295-4742-945c-5f2df7379bef",
   "metadata": {},
   "outputs": [
    {
     "data": {
      "text/plain": [
       "'https://opera-pst-rs-pop1.s3.us-west-2.amazonaws.com/products/RTC_S1/OPERA_L2_RTC-S1_T064-135519-IW2_20200324T015025Z_20230928T223445Z_S1A_30_v1.0/OPERA_L2_RTC-S1_T064-135519-IW2_20200324T015025Z_20230928T223445Z_S1A_30_v1.0_mask.tif https://opera-pst-rs-pop1.s3.us-west-2.amazonaws.com/products/RTC_S1/OPERA_L2_RTC-S1_T064-135524-IW1_20200324T015038Z_20230928T223445Z_S1A_30_v1.0/OPERA_L2_RTC-S1_T064-135524-IW1_20200324T015038Z_20230928T223445Z_S1A_30_v1.0_mask.tif https://opera-pst-rs-pop1.s3.us-west-2.amazonaws.com/products/RTC_S1/OPERA_L2_RTC-S1_T064-135527-IW3_20200324T015048Z_20230928T223445Z_S1A_30_v1.0/OPERA_L2_RTC-S1_T064-135527-IW3_20200324T015048Z_20230928T223445Z_S1A_30_v1.0_mask.tif https://opera-pst-rs-pop1.s3.us-west-2.amazonaws.com/products/RTC_S1/OPERA_L2_RTC-S1_T064-135528-IW1_20200324T015049Z_20230928T223445Z_S1A_30_v1.0/OPERA_L2_RTC-S1_T064-135528-IW1_20200324T015049Z_20230928T223445Z_S1A_30_v1.0_mask.tif https://opera-pst-rs-pop1.s3.us-west-2.amazonaws.com/products/RTC_S1/OPERA_L2_RTC-S1_T064-135519-IW3_20200324T015026Z_20230928T223445Z_S1A_30_v1.0/OPERA_L2_RTC-S1_T064-135519-IW3_20200324T015026Z_20230928T223445Z_S1A_30_v1.0_mask.tif https://opera-pst-rs-pop1.s3.us-west-2.amazonaws.com/products/RTC_S1/OPERA_L2_RTC-S1_T064-135521-IW2_20200324T015031Z_20230928T223445Z_S1A_30_v1.0/OPERA_L2_RTC-S1_T064-135521-IW2_20200324T015031Z_20230928T223445Z_S1A_30_v1.0_mask.tif https://opera-pst-rs-pop1.s3.us-west-2.amazonaws.com/products/RTC_S1/OPERA_L2_RTC-S1_T064-135522-IW1_20200324T015033Z_20230928T223445Z_S1A_30_v1.0/OPERA_L2_RTC-S1_T064-135522-IW1_20200324T015033Z_20230928T223445Z_S1A_30_v1.0_mask.tif https://opera-pst-rs-pop1.s3.us-west-2.amazonaws.com/products/RTC_S1/OPERA_L2_RTC-S1_T064-135525-IW1_20200324T015041Z_20230928T223445Z_S1A_30_v1.0/OPERA_L2_RTC-S1_T064-135525-IW1_20200324T015041Z_20230928T223445Z_S1A_30_v1.0_mask.tif https://opera-pst-rs-pop1.s3.us-west-2.amazonaws.com/products/RTC_S1/OPERA_L2_RTC-S1_T064-135525-IW3_20200324T015043Z_20230928T223445Z_S1A_30_v1.0/OPERA_L2_RTC-S1_T064-135525-IW3_20200324T015043Z_20230928T223445Z_S1A_30_v1.0_mask.tif https://opera-pst-rs-pop1.s3.us-west-2.amazonaws.com/products/RTC_S1/OPERA_L2_RTC-S1_T064-135522-IW2_20200324T015034Z_20230928T223445Z_S1A_30_v1.0/OPERA_L2_RTC-S1_T064-135522-IW2_20200324T015034Z_20230928T223445Z_S1A_30_v1.0_mask.tif https://opera-pst-rs-pop1.s3.us-west-2.amazonaws.com/products/RTC_S1/OPERA_L2_RTC-S1_T064-135521-IW3_20200324T015032Z_20230928T223445Z_S1A_30_v1.0/OPERA_L2_RTC-S1_T064-135521-IW3_20200324T015032Z_20230928T223445Z_S1A_30_v1.0_mask.tif https://opera-pst-rs-pop1.s3.us-west-2.amazonaws.com/products/RTC_S1/OPERA_L2_RTC-S1_T064-135524-IW3_20200324T015040Z_20230928T223445Z_S1A_30_v1.0/OPERA_L2_RTC-S1_T064-135524-IW3_20200324T015040Z_20230928T223445Z_S1A_30_v1.0_mask.tif https://opera-pst-rs-pop1.s3.us-west-2.amazonaws.com/products/RTC_S1/OPERA_L2_RTC-S1_T064-135526-IW1_20200324T015044Z_20230928T223445Z_S1A_30_v1.0/OPERA_L2_RTC-S1_T064-135526-IW1_20200324T015044Z_20230928T223445Z_S1A_30_v1.0_mask.tif https://opera-pst-rs-pop1.s3.us-west-2.amazonaws.com/products/RTC_S1/OPERA_L2_RTC-S1_T064-135527-IW2_20200324T015047Z_20230928T223445Z_S1A_30_v1.0/OPERA_L2_RTC-S1_T064-135527-IW2_20200324T015047Z_20230928T223445Z_S1A_30_v1.0_mask.tif https://opera-pst-rs-pop1.s3.us-west-2.amazonaws.com/products/RTC_S1/OPERA_L2_RTC-S1_T064-135519-IW1_20200324T015024Z_20230928T223445Z_S1A_30_v1.0/OPERA_L2_RTC-S1_T064-135519-IW1_20200324T015024Z_20230928T223445Z_S1A_30_v1.0_mask.tif https://opera-pst-rs-pop1.s3.us-west-2.amazonaws.com/products/RTC_S1/OPERA_L2_RTC-S1_T064-135521-IW1_20200324T015030Z_20230928T223445Z_S1A_30_v1.0/OPERA_L2_RTC-S1_T064-135521-IW1_20200324T015030Z_20230928T223445Z_S1A_30_v1.0_mask.tif https://opera-pst-rs-pop1.s3.us-west-2.amazonaws.com/products/RTC_S1/OPERA_L2_RTC-S1_T064-135526-IW3_20200324T015046Z_20230928T223445Z_S1A_30_v1.0/OPERA_L2_RTC-S1_T064-135526-IW3_20200324T015046Z_20230928T223445Z_S1A_30_v1.0_mask.tif https://opera-pst-rs-pop1.s3.us-west-2.amazonaws.com/products/RTC_S1/OPERA_L2_RTC-S1_T064-135520-IW1_20200324T015027Z_20230928T223445Z_S1A_30_v1.0/OPERA_L2_RTC-S1_T064-135520-IW1_20200324T015027Z_20230928T223445Z_S1A_30_v1.0_mask.tif https://opera-pst-rs-pop1.s3.us-west-2.amazonaws.com/products/RTC_S1/OPERA_L2_RTC-S1_T064-135520-IW3_20200324T015029Z_20230928T223445Z_S1A_30_v1.0/OPERA_L2_RTC-S1_T064-135520-IW3_20200324T015029Z_20230928T223445Z_S1A_30_v1.0_mask.tif https://opera-pst-rs-pop1.s3.us-west-2.amazonaws.com/products/RTC_S1/OPERA_L2_RTC-S1_T064-135522-IW3_20200324T015035Z_20230928T223445Z_S1A_30_v1.0/OPERA_L2_RTC-S1_T064-135522-IW3_20200324T015035Z_20230928T223445Z_S1A_30_v1.0_mask.tif https://opera-pst-rs-pop1.s3.us-west-2.amazonaws.com/products/RTC_S1/OPERA_L2_RTC-S1_T064-135525-IW2_20200324T015042Z_20230928T223445Z_S1A_30_v1.0/OPERA_L2_RTC-S1_T064-135525-IW2_20200324T015042Z_20230928T223445Z_S1A_30_v1.0_mask.tif https://opera-pst-rs-pop1.s3.us-west-2.amazonaws.com/products/RTC_S1/OPERA_L2_RTC-S1_T064-135520-IW2_20200324T015028Z_20230928T223445Z_S1A_30_v1.0/OPERA_L2_RTC-S1_T064-135520-IW2_20200324T015028Z_20230928T223445Z_S1A_30_v1.0_mask.tif https://opera-pst-rs-pop1.s3.us-west-2.amazonaws.com/products/RTC_S1/OPERA_L2_RTC-S1_T064-135523-IW1_20200324T015036Z_20230928T223445Z_S1A_30_v1.0/OPERA_L2_RTC-S1_T064-135523-IW1_20200324T015036Z_20230928T223445Z_S1A_30_v1.0_mask.tif https://opera-pst-rs-pop1.s3.us-west-2.amazonaws.com/products/RTC_S1/OPERA_L2_RTC-S1_T064-135523-IW2_20200324T015036Z_20230928T223445Z_S1A_30_v1.0/OPERA_L2_RTC-S1_T064-135523-IW2_20200324T015036Z_20230928T223445Z_S1A_30_v1.0_mask.tif https://opera-pst-rs-pop1.s3.us-west-2.amazonaws.com/products/RTC_S1/OPERA_L2_RTC-S1_T064-135523-IW3_20200324T015037Z_20230928T223445Z_S1A_30_v1.0/OPERA_L2_RTC-S1_T064-135523-IW3_20200324T015037Z_20230928T223445Z_S1A_30_v1.0_mask.tif https://opera-pst-rs-pop1.s3.us-west-2.amazonaws.com/products/RTC_S1/OPERA_L2_RTC-S1_T064-135524-IW2_20200324T015039Z_20230928T223445Z_S1A_30_v1.0/OPERA_L2_RTC-S1_T064-135524-IW2_20200324T015039Z_20230928T223445Z_S1A_30_v1.0_mask.tif https://opera-pst-rs-pop1.s3.us-west-2.amazonaws.com/products/RTC_S1/OPERA_L2_RTC-S1_T064-135526-IW2_20200324T015045Z_20230928T223445Z_S1A_30_v1.0/OPERA_L2_RTC-S1_T064-135526-IW2_20200324T015045Z_20230928T223445Z_S1A_30_v1.0_mask.tif https://opera-pst-rs-pop1.s3.us-west-2.amazonaws.com/products/RTC_S1/OPERA_L2_RTC-S1_T064-135527-IW1_20200324T015047Z_20230928T223445Z_S1A_30_v1.0/OPERA_L2_RTC-S1_T064-135527-IW1_20200324T015047Z_20230928T223445Z_S1A_30_v1.0_mask.tif'"
      ]
     },
     "execution_count": 7,
     "metadata": {},
     "output_type": "execute_result"
    }
   ],
   "source": [
    "urls_split[4][0]"
   ]
  },
  {
   "cell_type": "code",
   "execution_count": 8,
   "id": "483eb61a-6040-477b-aa71-e1080f65ac3a",
   "metadata": {},
   "outputs": [],
   "source": [
    "df_data['opera_rtc_ids'] = opera_rtc_ids\n",
    "df_data['h5_url'] = urls_split[0]\n",
    "df_data['browse_url'] = urls_split[1]\n",
    "df_data['vh_url'] = urls_split[2]\n",
    "df_data['vv_url'] = urls_split[3]\n",
    "df_data['mask_url'] = urls_split[4]\n",
    "df_data['n_bursts'] = n_prods"
   ]
  },
  {
   "cell_type": "code",
   "execution_count": 9,
   "id": "7a05134e-d3f1-45bc-bfc2-67176e95a44b",
   "metadata": {},
   "outputs": [
    {
     "data": {
      "text/html": [
       "<div>\n",
       "<style scoped>\n",
       "    .dataframe tbody tr th:only-of-type {\n",
       "        vertical-align: middle;\n",
       "    }\n",
       "\n",
       "    .dataframe tbody tr th {\n",
       "        vertical-align: top;\n",
       "    }\n",
       "\n",
       "    .dataframe thead th {\n",
       "        text-align: right;\n",
       "    }\n",
       "</style>\n",
       "<table border=\"1\" class=\"dataframe\">\n",
       "  <thead>\n",
       "    <tr style=\"text-align: right;\">\n",
       "      <th></th>\n",
       "      <th>Site</th>\n",
       "      <th>Orbit_Direction</th>\n",
       "      <th>Orbital_Path</th>\n",
       "      <th>CalVal_Module</th>\n",
       "      <th>S1_Scene_IDs</th>\n",
       "      <th>opera_rtc_ids</th>\n",
       "      <th>h5_url</th>\n",
       "      <th>browse_url</th>\n",
       "      <th>vh_url</th>\n",
       "      <th>vv_url</th>\n",
       "      <th>mask_url</th>\n",
       "      <th>n_bursts</th>\n",
       "    </tr>\n",
       "  </thead>\n",
       "  <tbody>\n",
       "    <tr>\n",
       "      <th>0</th>\n",
       "      <td>California</td>\n",
       "      <td>Ascending</td>\n",
       "      <td>64</td>\n",
       "      <td>Absolute Geolocation Evaluation</td>\n",
       "      <td>S1A_IW_SLC__1SDV_20200324T015024_20200324T0150...</td>\n",
       "      <td>OPERA_L2_RTC-S1_T064-135519-IW2_20200324T01502...</td>\n",
       "      <td>https://opera-pst-rs-pop1.s3.us-west-2.amazona...</td>\n",
       "      <td>https://opera-pst-rs-pop1.s3.us-west-2.amazona...</td>\n",
       "      <td>https://opera-pst-rs-pop1.s3.us-west-2.amazona...</td>\n",
       "      <td>https://opera-pst-rs-pop1.s3.us-west-2.amazona...</td>\n",
       "      <td>https://opera-pst-rs-pop1.s3.us-west-2.amazona...</td>\n",
       "      <td>28</td>\n",
       "    </tr>\n",
       "    <tr>\n",
       "      <th>1</th>\n",
       "      <td>California</td>\n",
       "      <td>Ascending</td>\n",
       "      <td>64</td>\n",
       "      <td>Absolute Geolocation Evaluation</td>\n",
       "      <td>S1A_IW_SLC__1SDV_20201107T015034_20201107T0151...</td>\n",
       "      <td>OPERA_L2_RTC-S1_T064-135527-IW2_20201107T01505...</td>\n",
       "      <td>https://opera-pst-rs-pop1.s3.us-west-2.amazona...</td>\n",
       "      <td>https://opera-pst-rs-pop1.s3.us-west-2.amazona...</td>\n",
       "      <td>https://opera-pst-rs-pop1.s3.us-west-2.amazona...</td>\n",
       "      <td>https://opera-pst-rs-pop1.s3.us-west-2.amazona...</td>\n",
       "      <td>https://opera-pst-rs-pop1.s3.us-west-2.amazona...</td>\n",
       "      <td>28</td>\n",
       "    </tr>\n",
       "    <tr>\n",
       "      <th>2</th>\n",
       "      <td>California</td>\n",
       "      <td>Ascending</td>\n",
       "      <td>64</td>\n",
       "      <td>Absolute Geolocation Evaluation</td>\n",
       "      <td>S1A_IW_SLC__1SDV_20220501T015035_20220501T0151...</td>\n",
       "      <td>OPERA_L2_RTC-S1_T064-135520-IW1_20220501T01504...</td>\n",
       "      <td>https://opera-pst-rs-pop1.s3.us-west-2.amazona...</td>\n",
       "      <td>https://opera-pst-rs-pop1.s3.us-west-2.amazona...</td>\n",
       "      <td>https://opera-pst-rs-pop1.s3.us-west-2.amazona...</td>\n",
       "      <td>https://opera-pst-rs-pop1.s3.us-west-2.amazona...</td>\n",
       "      <td>https://opera-pst-rs-pop1.s3.us-west-2.amazona...</td>\n",
       "      <td>28</td>\n",
       "    </tr>\n",
       "    <tr>\n",
       "      <th>3</th>\n",
       "      <td>California</td>\n",
       "      <td>Ascending</td>\n",
       "      <td>64</td>\n",
       "      <td>Absolute Geolocation Evaluation</td>\n",
       "      <td>S1A_IW_SLC__1SDV_20200604T015028_20200604T0150...</td>\n",
       "      <td>OPERA_L2_RTC-S1_T064-135523-IW1_20200604T01503...</td>\n",
       "      <td>https://opera-pst-rs-pop1.s3.us-west-2.amazona...</td>\n",
       "      <td>https://opera-pst-rs-pop1.s3.us-west-2.amazona...</td>\n",
       "      <td>https://opera-pst-rs-pop1.s3.us-west-2.amazona...</td>\n",
       "      <td>https://opera-pst-rs-pop1.s3.us-west-2.amazona...</td>\n",
       "      <td>https://opera-pst-rs-pop1.s3.us-west-2.amazona...</td>\n",
       "      <td>28</td>\n",
       "    </tr>\n",
       "    <tr>\n",
       "      <th>4</th>\n",
       "      <td>California</td>\n",
       "      <td>Ascending</td>\n",
       "      <td>64</td>\n",
       "      <td>Absolute Geolocation Evaluation</td>\n",
       "      <td>S1A_IW_SLC__1SDV_20210130T015031_20210130T0150...</td>\n",
       "      <td>OPERA_L2_RTC-S1_T064-135523-IW2_20210130T01504...</td>\n",
       "      <td>https://opera-pst-rs-pop1.s3.us-west-2.amazona...</td>\n",
       "      <td>https://opera-pst-rs-pop1.s3.us-west-2.amazona...</td>\n",
       "      <td>https://opera-pst-rs-pop1.s3.us-west-2.amazona...</td>\n",
       "      <td>https://opera-pst-rs-pop1.s3.us-west-2.amazona...</td>\n",
       "      <td>https://opera-pst-rs-pop1.s3.us-west-2.amazona...</td>\n",
       "      <td>28</td>\n",
       "    </tr>\n",
       "  </tbody>\n",
       "</table>\n",
       "</div>"
      ],
      "text/plain": [
       "         Site Orbit_Direction  Orbital_Path                    CalVal_Module  \\\n",
       "0  California       Ascending            64  Absolute Geolocation Evaluation   \n",
       "1  California       Ascending            64  Absolute Geolocation Evaluation   \n",
       "2  California       Ascending            64  Absolute Geolocation Evaluation   \n",
       "3  California       Ascending            64  Absolute Geolocation Evaluation   \n",
       "4  California       Ascending            64  Absolute Geolocation Evaluation   \n",
       "\n",
       "                                        S1_Scene_IDs  \\\n",
       "0  S1A_IW_SLC__1SDV_20200324T015024_20200324T0150...   \n",
       "1  S1A_IW_SLC__1SDV_20201107T015034_20201107T0151...   \n",
       "2  S1A_IW_SLC__1SDV_20220501T015035_20220501T0151...   \n",
       "3  S1A_IW_SLC__1SDV_20200604T015028_20200604T0150...   \n",
       "4  S1A_IW_SLC__1SDV_20210130T015031_20210130T0150...   \n",
       "\n",
       "                                       opera_rtc_ids  \\\n",
       "0  OPERA_L2_RTC-S1_T064-135519-IW2_20200324T01502...   \n",
       "1  OPERA_L2_RTC-S1_T064-135527-IW2_20201107T01505...   \n",
       "2  OPERA_L2_RTC-S1_T064-135520-IW1_20220501T01504...   \n",
       "3  OPERA_L2_RTC-S1_T064-135523-IW1_20200604T01503...   \n",
       "4  OPERA_L2_RTC-S1_T064-135523-IW2_20210130T01504...   \n",
       "\n",
       "                                              h5_url  \\\n",
       "0  https://opera-pst-rs-pop1.s3.us-west-2.amazona...   \n",
       "1  https://opera-pst-rs-pop1.s3.us-west-2.amazona...   \n",
       "2  https://opera-pst-rs-pop1.s3.us-west-2.amazona...   \n",
       "3  https://opera-pst-rs-pop1.s3.us-west-2.amazona...   \n",
       "4  https://opera-pst-rs-pop1.s3.us-west-2.amazona...   \n",
       "\n",
       "                                          browse_url  \\\n",
       "0  https://opera-pst-rs-pop1.s3.us-west-2.amazona...   \n",
       "1  https://opera-pst-rs-pop1.s3.us-west-2.amazona...   \n",
       "2  https://opera-pst-rs-pop1.s3.us-west-2.amazona...   \n",
       "3  https://opera-pst-rs-pop1.s3.us-west-2.amazona...   \n",
       "4  https://opera-pst-rs-pop1.s3.us-west-2.amazona...   \n",
       "\n",
       "                                              vh_url  \\\n",
       "0  https://opera-pst-rs-pop1.s3.us-west-2.amazona...   \n",
       "1  https://opera-pst-rs-pop1.s3.us-west-2.amazona...   \n",
       "2  https://opera-pst-rs-pop1.s3.us-west-2.amazona...   \n",
       "3  https://opera-pst-rs-pop1.s3.us-west-2.amazona...   \n",
       "4  https://opera-pst-rs-pop1.s3.us-west-2.amazona...   \n",
       "\n",
       "                                              vv_url  \\\n",
       "0  https://opera-pst-rs-pop1.s3.us-west-2.amazona...   \n",
       "1  https://opera-pst-rs-pop1.s3.us-west-2.amazona...   \n",
       "2  https://opera-pst-rs-pop1.s3.us-west-2.amazona...   \n",
       "3  https://opera-pst-rs-pop1.s3.us-west-2.amazona...   \n",
       "4  https://opera-pst-rs-pop1.s3.us-west-2.amazona...   \n",
       "\n",
       "                                            mask_url  n_bursts  \n",
       "0  https://opera-pst-rs-pop1.s3.us-west-2.amazona...        28  \n",
       "1  https://opera-pst-rs-pop1.s3.us-west-2.amazona...        28  \n",
       "2  https://opera-pst-rs-pop1.s3.us-west-2.amazona...        28  \n",
       "3  https://opera-pst-rs-pop1.s3.us-west-2.amazona...        28  \n",
       "4  https://opera-pst-rs-pop1.s3.us-west-2.amazona...        28  "
      ]
     },
     "execution_count": 9,
     "metadata": {},
     "output_type": "execute_result"
    }
   ],
   "source": [
    "df_data.head()"
   ]
  },
  {
   "cell_type": "code",
   "execution_count": 10,
   "id": "8f305242-9f7f-4ba1-86b6-2d589800c0b7",
   "metadata": {},
   "outputs": [],
   "source": [
    "df_data.to_csv('linked_data.csv')"
   ]
  },
  {
   "cell_type": "code",
   "execution_count": 11,
   "id": "b4bce29d-166a-42f4-9b72-57ccf30b7228",
   "metadata": {},
   "outputs": [
    {
     "data": {
      "text/plain": [
       "43687"
      ]
     },
     "execution_count": 11,
     "metadata": {},
     "output_type": "execute_result"
    }
   ],
   "source": [
    "df_data.n_bursts.sum()"
   ]
  }
 ],
 "metadata": {
  "kernelspec": {
   "display_name": "dswx_val",
   "language": "python",
   "name": "dswx_val"
  },
  "language_info": {
   "codemirror_mode": {
    "name": "ipython",
    "version": 3
   },
   "file_extension": ".py",
   "mimetype": "text/x-python",
   "name": "python",
   "nbconvert_exporter": "python",
   "pygments_lexer": "ipython3",
   "version": "3.11.6"
  }
 },
 "nbformat": 4,
 "nbformat_minor": 5
}
