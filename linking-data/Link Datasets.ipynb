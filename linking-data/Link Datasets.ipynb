{
 "cells": [
  {
   "cell_type": "code",
   "execution_count": 85,
   "id": "8b8167d3-f0c4-48b0-832a-b4b9277d8c6d",
   "metadata": {},
   "outputs": [
    {
     "name": "stdout",
     "output_type": "stream",
     "text": [
      "The autoreload extension is already loaded. To reload it, use:\n",
      "  %reload_ext autoreload\n"
     ]
    }
   ],
   "source": [
    "%load_ext autoreload\n",
    "%autoreload 2"
   ]
  },
  {
   "cell_type": "code",
   "execution_count": 86,
   "id": "dc2b96cd-9cf5-4d96-b4b0-0fc1db2da64a",
   "metadata": {},
   "outputs": [],
   "source": [
    "import pandas as pd\n",
    "from es_db import get_rtc_urls, get_rtc_docs, get_search_client, get_static_rtc_docs\n",
    "from tqdm import tqdm\n",
    "import concurrent.futures"
   ]
  },
  {
   "cell_type": "code",
   "execution_count": 7,
   "id": "0207db7e-b274-4dc4-a760-e0cb7b41171a",
   "metadata": {},
   "outputs": [
    {
     "data": {
      "text/html": [
       "<div>\n",
       "<style scoped>\n",
       "    .dataframe tbody tr th:only-of-type {\n",
       "        vertical-align: middle;\n",
       "    }\n",
       "\n",
       "    .dataframe tbody tr th {\n",
       "        vertical-align: top;\n",
       "    }\n",
       "\n",
       "    .dataframe thead th {\n",
       "        text-align: right;\n",
       "    }\n",
       "</style>\n",
       "<table border=\"1\" class=\"dataframe\">\n",
       "  <thead>\n",
       "    <tr style=\"text-align: right;\">\n",
       "      <th></th>\n",
       "      <th>Site</th>\n",
       "      <th>Orbit_Direction</th>\n",
       "      <th>Orbital_Path</th>\n",
       "      <th>CalVal_Module</th>\n",
       "      <th>S1_Scene_IDs</th>\n",
       "    </tr>\n",
       "  </thead>\n",
       "  <tbody>\n",
       "    <tr>\n",
       "      <th>0</th>\n",
       "      <td>California</td>\n",
       "      <td>Ascending</td>\n",
       "      <td>64</td>\n",
       "      <td>Absolute Geolocation Evaluation</td>\n",
       "      <td>S1A_IW_SLC__1SDV_20200324T015024_20200324T0150...</td>\n",
       "    </tr>\n",
       "    <tr>\n",
       "      <th>1</th>\n",
       "      <td>California</td>\n",
       "      <td>Ascending</td>\n",
       "      <td>64</td>\n",
       "      <td>Absolute Geolocation Evaluation</td>\n",
       "      <td>S1A_IW_SLC__1SDV_20201107T015034_20201107T0151...</td>\n",
       "    </tr>\n",
       "    <tr>\n",
       "      <th>2</th>\n",
       "      <td>California</td>\n",
       "      <td>Ascending</td>\n",
       "      <td>64</td>\n",
       "      <td>Absolute Geolocation Evaluation</td>\n",
       "      <td>S1A_IW_SLC__1SDV_20220501T015035_20220501T0151...</td>\n",
       "    </tr>\n",
       "    <tr>\n",
       "      <th>3</th>\n",
       "      <td>California</td>\n",
       "      <td>Ascending</td>\n",
       "      <td>64</td>\n",
       "      <td>Absolute Geolocation Evaluation</td>\n",
       "      <td>S1A_IW_SLC__1SDV_20200604T015028_20200604T0150...</td>\n",
       "    </tr>\n",
       "    <tr>\n",
       "      <th>4</th>\n",
       "      <td>California</td>\n",
       "      <td>Ascending</td>\n",
       "      <td>64</td>\n",
       "      <td>Absolute Geolocation Evaluation</td>\n",
       "      <td>S1A_IW_SLC__1SDV_20210130T015031_20210130T0150...</td>\n",
       "    </tr>\n",
       "  </tbody>\n",
       "</table>\n",
       "</div>"
      ],
      "text/plain": [
       "         Site Orbit_Direction  Orbital_Path                    CalVal_Module  \\\n",
       "0  California       Ascending            64  Absolute Geolocation Evaluation   \n",
       "1  California       Ascending            64  Absolute Geolocation Evaluation   \n",
       "2  California       Ascending            64  Absolute Geolocation Evaluation   \n",
       "3  California       Ascending            64  Absolute Geolocation Evaluation   \n",
       "4  California       Ascending            64  Absolute Geolocation Evaluation   \n",
       "\n",
       "                                        S1_Scene_IDs  \n",
       "0  S1A_IW_SLC__1SDV_20200324T015024_20200324T0150...  \n",
       "1  S1A_IW_SLC__1SDV_20201107T015034_20201107T0151...  \n",
       "2  S1A_IW_SLC__1SDV_20220501T015035_20220501T0151...  \n",
       "3  S1A_IW_SLC__1SDV_20200604T015028_20200604T0150...  \n",
       "4  S1A_IW_SLC__1SDV_20210130T015031_20210130T0150...  "
      ]
     },
     "execution_count": 7,
     "metadata": {},
     "output_type": "execute_result"
    }
   ],
   "source": [
    "df_data = pd.read_csv('../OPERA-RTC_CalVal_S1_Scene_IDs.csv')\n",
    "df_data['S1_Scene_IDs'] = df_data.S1_Scene_IDs.map(lambda s: s.split())\n",
    "df_data = df_data.explode('S1_Scene_IDs').reset_index(drop=True)\n",
    "df_data.head()"
   ]
  },
  {
   "cell_type": "code",
   "execution_count": 8,
   "id": "f91c4beb-74ec-4fb2-8fdd-ce8fa0b00286",
   "metadata": {},
   "outputs": [
    {
     "data": {
      "text/plain": [
       "'S1A_IW_SLC__1SDV_20201107T015034_20201107T015102_035136_0419CE_F4EF,'"
      ]
     },
     "execution_count": 8,
     "metadata": {},
     "output_type": "execute_result"
    }
   ],
   "source": [
    "sample_slc_id = df_data.S1_Scene_IDs[1]\n",
    "sample_slc_id"
   ]
  },
  {
   "cell_type": "code",
   "execution_count": 9,
   "id": "df72536e-1ac8-4e06-8609-34483ae493ab",
   "metadata": {},
   "outputs": [],
   "source": [
    "slc_ids = df_data.S1_Scene_IDs.tolist()"
   ]
  },
  {
   "cell_type": "code",
   "execution_count": 10,
   "id": "6d3579ee-710d-4315-9d7f-7e3b73316952",
   "metadata": {},
   "outputs": [],
   "source": [
    "rtc_docs = get_rtc_docs(slc_ids[0])"
   ]
  },
  {
   "cell_type": "code",
   "execution_count": 11,
   "id": "eb26ff73-9ac7-4f47-8689-9d28b98a65e7",
   "metadata": {},
   "outputs": [
    {
     "data": {
      "text/plain": [
       "28"
      ]
     },
     "execution_count": 11,
     "metadata": {},
     "output_type": "execute_result"
    }
   ],
   "source": [
    "len(rtc_docs)"
   ]
  },
  {
   "cell_type": "code",
   "execution_count": 30,
   "id": "08044100-8514-46ce-9774-323c99b41a98",
   "metadata": {},
   "outputs": [],
   "source": [
    "with concurrent.futures.ThreadPoolExecutor(max_workers=30) as executor:\n",
    "    rtc_docs_lst = list(tqdm(executor.map(get_rtc_docs, slc_ids[:]), total=len(slc_ids)))"
   ]
  },
  {
   "cell_type": "code",
   "execution_count": 45,
   "id": "0191a961-8930-4b8e-ab07-8c4d0f2598e0",
   "metadata": {
    "scrolled": true
   },
   "outputs": [
    {
     "name": "stderr",
     "output_type": "stream",
     "text": [
      " 41%|████▉       | 661/1623 [02:46<03:15,  4.91it/s]"
     ]
    },
    {
     "name": "stdout",
     "output_type": "stream",
     "text": [
      "T034-071081-IW1 does not have a entry in ES\n",
      "T034-071081-IW2 does not have a entry in ES\n"
     ]
    },
    {
     "name": "stderr",
     "output_type": "stream",
     "text": [
      " 41%|████▉       | 663/1623 [02:46<03:05,  5.18it/s]"
     ]
    },
    {
     "name": "stdout",
     "output_type": "stream",
     "text": [
      "T034-071080-IW1 does not have a entry in ES\n",
      "T034-071081-IW3 does not have a entry in ES\n",
      "T034-071080-IW3 does not have a entry in ES\n",
      "T034-071080-IW2 does not have a entry in ES\n"
     ]
    },
    {
     "name": "stderr",
     "output_type": "stream",
     "text": [
      " 42%|█████       | 689/1623 [02:53<03:45,  4.15it/s]"
     ]
    },
    {
     "name": "stdout",
     "output_type": "stream",
     "text": [
      "T034-071101-IW1 does not have a entry in ES\n"
     ]
    },
    {
     "name": "stderr",
     "output_type": "stream",
     "text": [
      " 43%|█████       | 690/1623 [02:53<03:42,  4.19it/s]"
     ]
    },
    {
     "name": "stdout",
     "output_type": "stream",
     "text": [
      "T034-071101-IW1 does not have a entry in ES\n"
     ]
    },
    {
     "name": "stderr",
     "output_type": "stream",
     "text": [
      " 43%|█████▏      | 694/1623 [02:53<02:29,  6.21it/s]"
     ]
    },
    {
     "name": "stdout",
     "output_type": "stream",
     "text": [
      "T034-071101-IW1 does not have a entry in ES\n"
     ]
    },
    {
     "name": "stderr",
     "output_type": "stream",
     "text": [
      " 43%|█████▏      | 696/1623 [02:54<02:40,  5.77it/s]"
     ]
    },
    {
     "name": "stdout",
     "output_type": "stream",
     "text": [
      "T034-071101-IW1 does not have a entry in ES\n",
      "T034-071101-IW1 does not have a entry in ES\n"
     ]
    },
    {
     "name": "stderr",
     "output_type": "stream",
     "text": [
      " 43%|█████▏      | 700/1623 [02:54<02:10,  7.09it/s]"
     ]
    },
    {
     "name": "stdout",
     "output_type": "stream",
     "text": [
      "T034-071101-IW1 does not have a entry in ES\n",
      "T034-071081-IW2 does not have a entry in ES\n",
      "T034-071081-IW1 does not have a entry in ES\n",
      "T034-071081-IW3 does not have a entry in ES\n"
     ]
    },
    {
     "name": "stderr",
     "output_type": "stream",
     "text": [
      " 43%|█████▏      | 701/1623 [02:54<02:53,  5.32it/s]"
     ]
    },
    {
     "name": "stdout",
     "output_type": "stream",
     "text": [
      "T034-071080-IW3 does not have a entry in ES\n",
      "T034-071080-IW2 does not have a entry in ES\n"
     ]
    },
    {
     "name": "stderr",
     "output_type": "stream",
     "text": [
      " 43%|█████▏      | 702/1623 [02:55<03:47,  4.04it/s]"
     ]
    },
    {
     "name": "stdout",
     "output_type": "stream",
     "text": [
      "T034-071101-IW1 does not have a entry in ES\n"
     ]
    },
    {
     "name": "stderr",
     "output_type": "stream",
     "text": [
      " 43%|█████▏      | 706/1623 [02:56<03:37,  4.22it/s]"
     ]
    },
    {
     "name": "stdout",
     "output_type": "stream",
     "text": [
      "T034-071101-IW1 does not have a entry in ES\n"
     ]
    },
    {
     "name": "stderr",
     "output_type": "stream",
     "text": [
      " 44%|█████▏      | 708/1623 [02:56<03:31,  4.32it/s]"
     ]
    },
    {
     "name": "stdout",
     "output_type": "stream",
     "text": [
      "T034-071101-IW1 does not have a entry in ES\n",
      "T034-071101-IW1 does not have a entry in ES\n"
     ]
    },
    {
     "name": "stderr",
     "output_type": "stream",
     "text": [
      " 44%|█████▎      | 712/1623 [02:57<02:04,  7.29it/s]"
     ]
    },
    {
     "name": "stdout",
     "output_type": "stream",
     "text": [
      "T034-071101-IW1 does not have a entry in ES\n"
     ]
    },
    {
     "name": "stderr",
     "output_type": "stream",
     "text": [
      " 44%|█████▎      | 713/1623 [02:57<02:32,  5.96it/s]"
     ]
    },
    {
     "name": "stdout",
     "output_type": "stream",
     "text": [
      "T034-071101-IW1 does not have a entry in ES\n"
     ]
    },
    {
     "name": "stderr",
     "output_type": "stream",
     "text": [
      " 44%|█████▎      | 718/1623 [02:57<01:50,  8.21it/s]"
     ]
    },
    {
     "name": "stdout",
     "output_type": "stream",
     "text": [
      "T034-071101-IW1 does not have a entry in ES\n",
      "T034-071101-IW2 does not have a entry in ES\n"
     ]
    },
    {
     "name": "stderr",
     "output_type": "stream",
     "text": [
      " 44%|█████▎      | 719/1623 [02:58<02:14,  6.72it/s]"
     ]
    },
    {
     "name": "stdout",
     "output_type": "stream",
     "text": [
      "T034-071102-IW1 does not have a entry in ES\n",
      "T034-071103-IW1 does not have a entry in ES\n",
      "T034-071101-IW1 does not have a entry in ES\n"
     ]
    },
    {
     "name": "stderr",
     "output_type": "stream",
     "text": [
      " 44%|█████▎      | 721/1623 [02:58<01:54,  7.87it/s]"
     ]
    },
    {
     "name": "stdout",
     "output_type": "stream",
     "text": [
      "T034-071101-IW3 does not have a entry in ES\n",
      "T034-071102-IW1 does not have a entry in ES\n",
      "T034-071101-IW2 does not have a entry in ES\n",
      "T034-071103-IW1 does not have a entry in ES\n",
      "T034-071101-IW1 does not have a entry in ES\n",
      "T034-071102-IW2 does not have a entry in ES\n",
      "T034-071102-IW3 does not have a entry in ES\n",
      "T034-071102-IW1 does not have a entry in ES\n",
      "T034-071103-IW1 does not have a entry in ES\n",
      "T034-071101-IW2 does not have a entry in ES\n"
     ]
    },
    {
     "name": "stderr",
     "output_type": "stream",
     "text": [
      " 45%|█████▎      | 723/1623 [02:58<02:00,  7.44it/s]"
     ]
    },
    {
     "name": "stdout",
     "output_type": "stream",
     "text": [
      "T034-071101-IW3 does not have a entry in ES\n",
      "T034-071101-IW1 does not have a entry in ES\n",
      "T034-071102-IW3 does not have a entry in ES\n",
      "T034-071102-IW2 does not have a entry in ES\n",
      "T034-071101-IW3 does not have a entry in ES\n"
     ]
    },
    {
     "name": "stderr",
     "output_type": "stream",
     "text": [
      " 45%|█████▎      | 724/1623 [02:58<02:12,  6.79it/s]"
     ]
    },
    {
     "name": "stdout",
     "output_type": "stream",
     "text": [
      "T034-071101-IW1 does not have a entry in ES\n",
      "T034-071103-IW1 does not have a entry in ES\n",
      "T034-071101-IW2 does not have a entry in ES\n",
      "T034-071102-IW1 does not have a entry in ES\n",
      "T034-071102-IW2 does not have a entry in ES\n",
      "T034-071102-IW3 does not have a entry in ES\n",
      "T034-071101-IW3 does not have a entry in ES\n"
     ]
    },
    {
     "name": "stderr",
     "output_type": "stream",
     "text": [
      " 45%|█████▎      | 725/1623 [02:59<03:53,  3.84it/s]"
     ]
    },
    {
     "name": "stdout",
     "output_type": "stream",
     "text": [
      "T034-071101-IW1 does not have a entry in ES\n",
      "T034-071080-IW1 does not have a entry in ES\n",
      "T034-071081-IW2 does not have a entry in ES\n",
      "T034-071081-IW1 does not have a entry in ES\n",
      "T034-071102-IW2 does not have a entry in ES\n",
      "T034-071102-IW3 does not have a entry in ES\n"
     ]
    },
    {
     "name": "stderr",
     "output_type": "stream",
     "text": [
      " 45%|█████▍      | 728/1623 [03:00<03:59,  3.73it/s]"
     ]
    },
    {
     "name": "stdout",
     "output_type": "stream",
     "text": [
      "T034-071101-IW2 does not have a entry in EST034-071102-IW1 does not have a entry in ES\n",
      "\n",
      "T034-071081-IW3 does not have a entry in ES\n",
      "T034-071101-IW2 does not have a entry in ES\n",
      "T034-071102-IW1 does not have a entry in ES\n",
      "T034-071103-IW1 does not have a entry in ES\n"
     ]
    },
    {
     "name": "stderr",
     "output_type": "stream",
     "text": [
      " 45%|█████▍      | 730/1623 [03:00<03:13,  4.62it/s]"
     ]
    },
    {
     "name": "stdout",
     "output_type": "stream",
     "text": [
      "T034-071080-IW3 does not have a entry in ES\n",
      "T034-071103-IW1 does not have a entry in ES\n",
      "T034-071080-IW2 does not have a entry in ES\n",
      "T034-071101-IW3 does not have a entry in ES\n",
      "T034-071101-IW3 does not have a entry in ES\n"
     ]
    },
    {
     "name": "stderr",
     "output_type": "stream",
     "text": [
      " 45%|█████▍      | 732/1623 [03:01<02:53,  5.14it/s]"
     ]
    },
    {
     "name": "stdout",
     "output_type": "stream",
     "text": [
      "T034-071101-IW1 does not have a entry in EST034-071101-IW1 does not have a entry in ES\n",
      "\n",
      "T034-071102-IW2 does not have a entry in ES\n",
      "T034-071102-IW3 does not have a entry in ES\n",
      "T034-071102-IW1 does not have a entry in ES\n",
      "T034-071102-IW2 does not have a entry in ES\n",
      "T034-071102-IW3 does not have a entry in ES\n"
     ]
    },
    {
     "name": "stderr",
     "output_type": "stream",
     "text": [
      " 45%|█████▍      | 735/1623 [03:01<01:59,  7.42it/s]"
     ]
    },
    {
     "name": "stdout",
     "output_type": "stream",
     "text": [
      "T034-071103-IW1 does not have a entry in ES\n",
      "T034-071102-IW1 does not have a entry in ES\n",
      "T034-071101-IW2 does not have a entry in ES\n",
      "T034-071101-IW3 does not have a entry in ES\n",
      "T034-071101-IW1 does not have a entry in ES\n",
      "T034-071102-IW2 does not have a entry in ES\n"
     ]
    },
    {
     "name": "stderr",
     "output_type": "stream",
     "text": [
      " 45%|█████▍      | 736/1623 [03:01<02:26,  6.07it/s]"
     ]
    },
    {
     "name": "stdout",
     "output_type": "stream",
     "text": [
      "T034-071102-IW3 does not have a entry in ES\n",
      "T034-071103-IW1 does not have a entry in ES\n",
      "T034-071101-IW2 does not have a entry in ES\n",
      "T034-071101-IW3 does not have a entry in ES\n"
     ]
    },
    {
     "name": "stderr",
     "output_type": "stream",
     "text": [
      " 46%|█████▍      | 739/1623 [03:01<01:50,  7.97it/s]"
     ]
    },
    {
     "name": "stdout",
     "output_type": "stream",
     "text": [
      "T034-071102-IW1 does not have a entry in ES\n",
      "T034-071101-IW2 does not have a entry in ES\n",
      "T034-071103-IW1 does not have a entry in ES\n",
      "T034-071101-IW1 does not have a entry in ES\n",
      "T034-071102-IW2 does not have a entry in ES\n",
      "T034-071102-IW3 does not have a entry in ES\n",
      "T034-071102-IW1 does not have a entry in ES\n",
      "T034-071101-IW2 does not have a entry in ES\n"
     ]
    },
    {
     "name": "stderr",
     "output_type": "stream",
     "text": [
      " 46%|█████▍      | 740/1623 [03:01<01:50,  8.00it/s]"
     ]
    },
    {
     "name": "stdout",
     "output_type": "stream",
     "text": [
      "T034-071101-IW3 does not have a entry in ES\n",
      "T034-071101-IW1 does not have a entry in ES\n",
      "T034-071102-IW2 does not have a entry in ES\n",
      "T034-071102-IW3 does not have a entry in ES\n",
      "T034-071101-IW3 does not have a entry in ES\n"
     ]
    },
    {
     "name": "stderr",
     "output_type": "stream",
     "text": [
      " 46%|█████▍      | 742/1623 [03:02<02:26,  6.00it/s]"
     ]
    },
    {
     "name": "stdout",
     "output_type": "stream",
     "text": [
      "T034-071101-IW1 does not have a entry in ES\n"
     ]
    },
    {
     "name": "stderr",
     "output_type": "stream",
     "text": [
      " 67%|███████▎   | 1080/1623 [04:23<01:45,  5.14it/s]"
     ]
    },
    {
     "name": "stdout",
     "output_type": "stream",
     "text": [
      "T107-227895-IW2 does not have a entry in ES\n",
      "T107-227895-IW1 does not have a entry in ES\n"
     ]
    },
    {
     "name": "stderr",
     "output_type": "stream",
     "text": [
      " 67%|███████▎   | 1081/1623 [04:23<01:58,  4.58it/s]"
     ]
    },
    {
     "name": "stdout",
     "output_type": "stream",
     "text": [
      "T107-227895-IW3 does not have a entry in ES\n",
      "T107-227896-IW3 does not have a entry in ES\n",
      "T107-227897-IW3 does not have a entry in ES\n",
      "T107-227897-IW2 does not have a entry in ES\n",
      "T107-227895-IW2 does not have a entry in ES\n",
      "T107-227896-IW1 does not have a entry in ES\n",
      "T107-227897-IW1 does not have a entry in ES\n",
      "T107-227896-IW2 does not have a entry in ES\n"
     ]
    },
    {
     "name": "stderr",
     "output_type": "stream",
     "text": [
      " 67%|███████▎   | 1082/1623 [04:23<02:14,  4.01it/s]"
     ]
    },
    {
     "name": "stdout",
     "output_type": "stream",
     "text": [
      "T107-227895-IW1 does not have a entry in ES\n",
      "T107-227895-IW3 does not have a entry in ES\n",
      "T107-227896-IW3 does not have a entry in ES\n",
      "T107-227897-IW2 does not have a entry in ES\n",
      "T107-227896-IW1 does not have a entry in ES\n",
      "T107-227897-IW1 does not have a entry in ES\n",
      "T107-227896-IW2 does not have a entry in ES\n",
      "T107-227897-IW3 does not have a entry in ES\n"
     ]
    },
    {
     "name": "stderr",
     "output_type": "stream",
     "text": [
      " 67%|███████▎   | 1086/1623 [04:24<01:58,  4.51it/s]"
     ]
    },
    {
     "name": "stdout",
     "output_type": "stream",
     "text": [
      "T107-227895-IW2 does not have a entry in ES\n",
      "T107-227895-IW1 does not have a entry in ES\n",
      "T107-227895-IW3 does not have a entry in ES\n",
      "T107-227896-IW3 does not have a entry in ES\n",
      "T107-227897-IW2 does not have a entry in ES\n"
     ]
    },
    {
     "name": "stderr",
     "output_type": "stream",
     "text": [
      " 67%|███████▎   | 1087/1623 [04:25<02:46,  3.21it/s]"
     ]
    },
    {
     "name": "stdout",
     "output_type": "stream",
     "text": [
      "T107-227897-IW3 does not have a entry in ES\n",
      "T107-227896-IW1 does not have a entry in ES\n",
      "T107-227897-IW1 does not have a entry in ES\n",
      "T107-227896-IW2 does not have a entry in ES\n"
     ]
    },
    {
     "name": "stderr",
     "output_type": "stream",
     "text": [
      " 67%|███████▍   | 1091/1623 [04:25<01:35,  5.58it/s]"
     ]
    },
    {
     "name": "stdout",
     "output_type": "stream",
     "text": [
      "T107-227895-IW2 does not have a entry in ES\n",
      "T107-227895-IW1 does not have a entry in ES\n"
     ]
    },
    {
     "name": "stderr",
     "output_type": "stream",
     "text": [
      " 67%|███████▍   | 1092/1623 [04:26<01:58,  4.47it/s]"
     ]
    },
    {
     "name": "stdout",
     "output_type": "stream",
     "text": [
      "T107-227895-IW3 does not have a entry in EST107-227896-IW3 does not have a entry in ES\n",
      "\n",
      "T107-227897-IW3 does not have a entry in ES\n",
      "T107-227897-IW2 does not have a entry in ES\n",
      "T107-227897-IW1 does not have a entry in ES\n",
      "T107-227896-IW1 does not have a entry in ES\n",
      "T107-227896-IW2 does not have a entry in ES\n"
     ]
    },
    {
     "name": "stderr",
     "output_type": "stream",
     "text": [
      " 67%|███████▍   | 1093/1623 [04:26<02:08,  4.12it/s]"
     ]
    },
    {
     "name": "stdout",
     "output_type": "stream",
     "text": [
      "T107-227895-IW2 does not have a entry in ES\n",
      "T107-227895-IW1 does not have a entry in ES\n",
      "T107-227895-IW3 does not have a entry in ES\n"
     ]
    },
    {
     "name": "stderr",
     "output_type": "stream",
     "text": [
      " 68%|███████▍   | 1097/1623 [04:26<01:23,  6.33it/s]"
     ]
    },
    {
     "name": "stdout",
     "output_type": "stream",
     "text": [
      "T107-227897-IW2 does not have a entry in EST107-227896-IW3 does not have a entry in ES\n",
      "\n",
      "T107-227896-IW1 does not have a entry in ES\n",
      "T107-227897-IW1 does not have a entry in ES\n",
      "T107-227896-IW2 does not have a entry in ES\n",
      "T107-227897-IW3 does not have a entry in ES\n"
     ]
    },
    {
     "name": "stderr",
     "output_type": "stream",
     "text": [
      " 68%|███████▍   | 1099/1623 [04:26<01:18,  6.70it/s]"
     ]
    },
    {
     "name": "stdout",
     "output_type": "stream",
     "text": [
      "T107-227895-IW2 does not have a entry in ES\n",
      "T107-227895-IW1 does not have a entry in ES\n",
      "T107-227895-IW3 does not have a entry in ES\n",
      "T107-227896-IW3 does not have a entry in ES\n",
      "T107-227897-IW2 does not have a entry in ES\n",
      "T107-227896-IW1 does not have a entry in ES\n",
      "T107-227897-IW1 does not have a entry in ES\n",
      "T107-227897-IW3 does not have a entry in ES\n",
      "T107-227896-IW2 does not have a entry in ES\n"
     ]
    },
    {
     "name": "stderr",
     "output_type": "stream",
     "text": [
      " 68%|███████▍   | 1100/1623 [04:27<02:51,  3.05it/s]"
     ]
    },
    {
     "name": "stdout",
     "output_type": "stream",
     "text": [
      "T107-227895-IW2 does not have a entry in ES\n",
      "T107-227895-IW1 does not have a entry in ES\n"
     ]
    },
    {
     "name": "stderr",
     "output_type": "stream",
     "text": [
      " 68%|███████▍   | 1103/1623 [04:28<01:59,  4.35it/s]"
     ]
    },
    {
     "name": "stdout",
     "output_type": "stream",
     "text": [
      "T107-227895-IW3 does not have a entry in ES\n",
      "T107-227896-IW3 does not have a entry in ES\n",
      "T107-227899-IW1 does not have a entry in ES\n",
      "T107-227895-IW2 does not have a entry in ES\n",
      "T107-227897-IW2 does not have a entry in ES\n",
      "T107-227896-IW1 does not have a entry in ES\n",
      "T107-227897-IW1 does not have a entry in ES\n",
      "T107-227898-IW1 does not have a entry in ES\n"
     ]
    },
    {
     "name": "stderr",
     "output_type": "stream",
     "text": [
      " 68%|███████▍   | 1105/1623 [04:28<02:00,  4.29it/s]"
     ]
    },
    {
     "name": "stdout",
     "output_type": "stream",
     "text": [
      "T107-227896-IW2 does not have a entry in ES\n",
      "T107-227897-IW3 does not have a entry in ES\n",
      "T107-227895-IW1 does not have a entry in ES\n",
      "T107-227895-IW3 does not have a entry in ES\n",
      "T107-227896-IW3 does not have a entry in ES\n",
      "T107-227898-IW2 does not have a entry in ES\n",
      "T107-227897-IW3 does not have a entry in ES\n",
      "T107-227898-IW3 does not have a entry in ES\n",
      "T107-227899-IW1 does not have a entry in ES\n",
      "T107-227898-IW2 does not have a entry in ES\n",
      "T107-227895-IW2 does not have a entry in ES\n",
      "T107-227897-IW2 does not have a entry in ES\n",
      "T107-227896-IW1 does not have a entry in ES\n",
      "T107-227897-IW1 does not have a entry in ES\n",
      "T107-227898-IW1 does not have a entry in ES\n",
      "T107-227896-IW2 does not have a entry in ES\n"
     ]
    },
    {
     "name": "stderr",
     "output_type": "stream",
     "text": [
      " 68%|███████▌   | 1107/1623 [04:29<02:04,  4.14it/s]"
     ]
    },
    {
     "name": "stdout",
     "output_type": "stream",
     "text": [
      "T107-227895-IW3 does not have a entry in ES\n",
      "T107-227896-IW3 does not have a entry in ES\n",
      "T107-227898-IW3 does not have a entry in ES\n",
      "T107-227899-IW1 does not have a entry in ES\n",
      "T107-227895-IW2 does not have a entry in ES\n",
      "T107-227898-IW2 does not have a entry in ES\n",
      "T107-227897-IW2 does not have a entry in ES\n",
      "T107-227896-IW1 does not have a entry in ES\n",
      "T107-227895-IW1 does not have a entry in ES\n",
      "T107-227898-IW1 does not have a entry in ES\n",
      "T107-227895-IW1 does not have a entry in ES\n",
      "T107-227897-IW1 does not have a entry in ES\n",
      "T107-227896-IW2 does not have a entry in ES\n",
      "T107-227897-IW3 does not have a entry in ES\n",
      "T107-227895-IW3 does not have a entry in ES\n",
      "T107-227896-IW3 does not have a entry in ES\n",
      "T107-227897-IW3 does not have a entry in ES\n",
      "T107-227898-IW3 does not have a entry in ES\n",
      "T107-227897-IW2 does not have a entry in ES\n",
      "T107-227896-IW1 does not have a entry in ES\n",
      "T107-227897-IW1 does not have a entry in ES\n",
      "T107-227896-IW2 does not have a entry in ES\n"
     ]
    },
    {
     "name": "stderr",
     "output_type": "stream",
     "text": [
      " 68%|███████▌   | 1109/1623 [04:30<02:22,  3.61it/s]"
     ]
    },
    {
     "name": "stdout",
     "output_type": "stream",
     "text": [
      "T107-227898-IW2 does not have a entry in EST107-227895-IW1 does not have a entry in ES\n",
      "\n",
      "T107-227899-IW1 does not have a entry in ES\n",
      "T107-227898-IW1 does not have a entry in ES\n",
      "T107-227895-IW2 does not have a entry in ES\n",
      "T107-227895-IW3 does not have a entry in ES\n",
      "T107-227899-IW1 does not have a entry in ES\n",
      "T107-227895-IW2 does not have a entry in ES\n",
      "T107-227896-IW3 does not have a entry in ES\n",
      "T107-227895-IW1 does not have a entry in ES\n",
      "T107-227898-IW3 does not have a entry in ES\n",
      "T107-227897-IW2 does not have a entry in ES\n",
      "T107-227898-IW1 does not have a entry in ES\n",
      "T107-227897-IW3 does not have a entry in ES\n",
      "T107-227896-IW1 does not have a entry in ES\n",
      "T107-227897-IW1 does not have a entry in ES\n",
      "T107-227896-IW2 does not have a entry in ES\n",
      "T107-227895-IW3 does not have a entry in ES\n"
     ]
    },
    {
     "name": "stderr",
     "output_type": "stream",
     "text": [
      " 69%|███████▌   | 1113/1623 [04:30<01:42,  4.96it/s]"
     ]
    },
    {
     "name": "stdout",
     "output_type": "stream",
     "text": [
      "T107-227898-IW3 does not have a entry in ES\n",
      "T107-227896-IW3 does not have a entry in ES\n",
      "T107-227898-IW2 does not have a entry in ES\n",
      "T107-227897-IW2 does not have a entry in ES\n",
      "T107-227898-IW2 does not have a entry in ES\n",
      "T107-227896-IW1 does not have a entry in ES\n",
      "T107-227899-IW1 does not have a entry in ES\n",
      "T107-227895-IW2 does not have a entry in ES\n",
      "T107-227896-IW2 does not have a entry in ES\n",
      "T107-227897-IW1 does not have a entry in ES\n",
      "T107-227897-IW3 does not have a entry in ES\n",
      "T107-227895-IW1 does not have a entry in ES\n"
     ]
    },
    {
     "name": "stderr",
     "output_type": "stream",
     "text": [
      " 69%|███████▌   | 1115/1623 [04:30<01:33,  5.43it/s]"
     ]
    },
    {
     "name": "stdout",
     "output_type": "stream",
     "text": [
      "T107-227898-IW1 does not have a entry in ES\n",
      "T107-227895-IW3 does not have a entry in ES\n",
      "T107-227896-IW3 does not have a entry in ES\n",
      "T107-227898-IW3 does not have a entry in ES\n"
     ]
    },
    {
     "name": "stderr",
     "output_type": "stream",
     "text": [
      " 69%|███████▌   | 1117/1623 [04:30<01:21,  6.22it/s]"
     ]
    },
    {
     "name": "stdout",
     "output_type": "stream",
     "text": [
      "T107-227897-IW2 does not have a entry in ES\n",
      "T107-227896-IW1 does not have a entry in ES\n",
      "T107-227897-IW1 does not have a entry in ES\n",
      "T107-227896-IW2 does not have a entry in ES\n",
      "T107-227897-IW3 does not have a entry in ES\n",
      "T107-227899-IW1 does not have a entry in EST107-227895-IW2 does not have a entry in ES\n",
      "\n",
      "T107-227895-IW1 does not have a entry in ES\n",
      "T107-227898-IW1 does not have a entry in ES\n",
      "T107-227898-IW2 does not have a entry in EST107-227895-IW3 does not have a entry in ES\n",
      "T107-227898-IW3 does not have a entry in ES\n",
      "T107-227896-IW3 does not have a entry in ES\n",
      "\n"
     ]
    },
    {
     "name": "stderr",
     "output_type": "stream",
     "text": [
      " 69%|███████▌   | 1119/1623 [04:32<02:11,  3.83it/s]"
     ]
    },
    {
     "name": "stdout",
     "output_type": "stream",
     "text": [
      "T107-227897-IW2 does not have a entry in ES\n",
      "T107-227896-IW1 does not have a entry in ES\n",
      "T107-227897-IW1 does not have a entry in ES\n",
      "T107-227897-IW3 does not have a entry in ES\n",
      "T107-227896-IW2 does not have a entry in ES\n"
     ]
    },
    {
     "name": "stderr",
     "output_type": "stream",
     "text": [
      " 69%|███████▌   | 1120/1623 [04:32<01:58,  4.24it/s]"
     ]
    },
    {
     "name": "stdout",
     "output_type": "stream",
     "text": [
      "T107-227899-IW1 does not have a entry in ES\n",
      "T107-227895-IW2 does not have a entry in ES\n",
      "T107-227898-IW1 does not have a entry in ES\n",
      "T107-227895-IW1 does not have a entry in ES\n",
      "T107-227895-IW3 does not have a entry in ES\n",
      "T107-227898-IW2 does not have a entry in ES\n",
      "T107-227898-IW1 does not have a entry in ES\n",
      "T107-227896-IW3 does not have a entry in ES\n",
      "T107-227898-IW2 does not have a entry in ES\n",
      "T107-227895-IW2 does not have a entry in ES\n",
      "T107-227898-IW3 does not have a entry in ES\n",
      "T107-227899-IW1 does not have a entry in ES\n",
      "T107-227897-IW3 does not have a entry in ES\n",
      "T107-227895-IW1 does not have a entry in ES\n",
      "T107-227895-IW3 does not have a entry in ES\n"
     ]
    },
    {
     "name": "stderr",
     "output_type": "stream",
     "text": [
      " 69%|███████▌   | 1123/1623 [04:32<01:58,  4.22it/s]"
     ]
    },
    {
     "name": "stdout",
     "output_type": "stream",
     "text": [
      "T107-227896-IW3 does not have a entry in ES\n",
      "T107-227898-IW3 does not have a entry in ES\n",
      "T107-227897-IW2 does not have a entry in ES\n",
      "T107-227897-IW3 does not have a entry in ES\n",
      "T107-227896-IW1 does not have a entry in ES\n",
      "T107-227897-IW1 does not have a entry in ES\n",
      "T107-227896-IW2 does not have a entry in ES\n",
      "T107-227897-IW2 does not have a entry in ES\n"
     ]
    },
    {
     "name": "stderr",
     "output_type": "stream",
     "text": [
      " 69%|███████▌   | 1124/1623 [04:33<02:02,  4.07it/s]"
     ]
    },
    {
     "name": "stdout",
     "output_type": "stream",
     "text": [
      "T107-227895-IW2 does not have a entry in ES\n",
      "T107-227899-IW1 does not have a entry in ES\n",
      "T107-227898-IW2 does not have a entry in ES\n",
      "T107-227896-IW1 does not have a entry in ES\n",
      "T107-227897-IW1 does not have a entry in ES\n",
      "T107-227896-IW2 does not have a entry in ES\n",
      "T107-227895-IW1 does not have a entry in ES\n",
      "T107-227898-IW1 does not have a entry in ES\n"
     ]
    },
    {
     "name": "stderr",
     "output_type": "stream",
     "text": [
      " 69%|███████▌   | 1125/1623 [04:33<01:57,  4.22it/s]"
     ]
    },
    {
     "name": "stdout",
     "output_type": "stream",
     "text": [
      "T107-227895-IW3 does not have a entry in ES\n",
      "T107-227896-IW3 does not have a entry in ES\n",
      "T107-227898-IW3 does not have a entry in ES\n",
      "T107-227897-IW3 does not have a entry in ES\n",
      "T107-227897-IW2 does not have a entry in ES\n",
      "T107-227899-IW1 does not have a entry in ES\n",
      "T107-227895-IW2 does not have a entry in ES\n",
      "T107-227898-IW2 does not have a entry in ES\n",
      "T107-227896-IW1 does not have a entry in ES\n",
      "T107-227896-IW2 does not have a entry in ES\n"
     ]
    },
    {
     "name": "stderr",
     "output_type": "stream",
     "text": [
      " 70%|███████▋   | 1128/1623 [04:35<03:37,  2.27it/s]"
     ]
    },
    {
     "name": "stdout",
     "output_type": "stream",
     "text": [
      "T107-227895-IW1 does not have a entry in ES\n",
      "T107-227897-IW1 does not have a entry in ES\n",
      "T107-227898-IW1 does not have a entry in ES\n",
      "T107-227895-IW3 does not have a entry in ES\n",
      "T107-227898-IW3 does not have a entry in ES\n",
      "T107-227896-IW3 does not have a entry in ES\n",
      "T107-227897-IW2 does not have a entry in ES\n",
      "T107-227896-IW1 does not have a entry in ES\n",
      "T107-227897-IW1 does not have a entry in ES\n",
      "T107-227896-IW2 does not have a entry in ES\n",
      "T107-227897-IW3 does not have a entry in ES\n",
      "T107-227895-IW2 does not have a entry in ES\n",
      "T107-227898-IW1 does not have a entry in ES\n",
      "T107-227899-IW1 does not have a entry in ES\n",
      "T107-227895-IW1 does not have a entry in ES\n",
      "T107-227898-IW2 does not have a entry in ES\n",
      "T107-227896-IW3 does not have a entry in ES\n",
      "T107-227895-IW3 does not have a entry in ES\n"
     ]
    },
    {
     "name": "stderr",
     "output_type": "stream",
     "text": [
      " 70%|███████▋   | 1129/1623 [04:35<03:47,  2.17it/s]"
     ]
    },
    {
     "name": "stdout",
     "output_type": "stream",
     "text": [
      "T107-227898-IW3 does not have a entry in ES\n",
      "T107-227897-IW2 does not have a entry in ES\n",
      "T107-227896-IW1 does not have a entry in ES\n",
      "T107-227897-IW1 does not have a entry in ES\n"
     ]
    },
    {
     "name": "stderr",
     "output_type": "stream",
     "text": [
      " 70%|███████▋   | 1131/1623 [04:36<02:42,  3.02it/s]"
     ]
    },
    {
     "name": "stdout",
     "output_type": "stream",
     "text": [
      "T107-227896-IW2 does not have a entry in ES\n",
      "T107-227897-IW3 does not have a entry in ES\n",
      "T107-227899-IW1 does not have a entry in ES\n",
      "T107-227898-IW2 does not have a entry in ES\n",
      "T107-227895-IW2 does not have a entry in ES\n",
      "T107-227895-IW1 does not have a entry in ES\n",
      "T107-227898-IW1 does not have a entry in ES\n",
      "T107-227895-IW3 does not have a entry in ES\n",
      "T107-227898-IW3 does not have a entry in ES\n",
      "T107-227896-IW3 does not have a entry in ES\n",
      "T107-227897-IW2 does not have a entry in ES\n",
      "T107-227896-IW2 does not have a entry in ES\n",
      "T107-227897-IW1 does not have a entry in ES\n"
     ]
    },
    {
     "name": "stderr",
     "output_type": "stream",
     "text": [
      " 70%|███████▋   | 1133/1623 [04:36<02:52,  2.84it/s]"
     ]
    },
    {
     "name": "stdout",
     "output_type": "stream",
     "text": [
      "T107-227896-IW1 does not have a entry in ES\n",
      "T107-227897-IW3 does not have a entry in ES\n",
      "T107-227895-IW2 does not have a entry in ES\n",
      "T107-227898-IW2 does not have a entry in ES\n",
      "T107-227899-IW1 does not have a entry in ES\n",
      "T107-227898-IW1 does not have a entry in ES\n",
      "T107-227895-IW1 does not have a entry in ES\n",
      "T107-227899-IW1 does not have a entry in ES\n",
      "T107-227895-IW3 does not have a entry in ES\n",
      "T107-227896-IW3 does not have a entry in ES\n",
      "T107-227898-IW1 does not have a entry in ES\n",
      "T107-227898-IW3 does not have a entry in ES\n",
      "T107-227897-IW2 does not have a entry in ES\n"
     ]
    },
    {
     "name": "stderr",
     "output_type": "stream",
     "text": [
      " 70%|███████▋   | 1134/1623 [04:37<02:59,  2.72it/s]"
     ]
    },
    {
     "name": "stdout",
     "output_type": "stream",
     "text": [
      "T107-227896-IW1 does not have a entry in ES\n",
      "T107-227896-IW2 does not have a entry in ES\n",
      "T107-227897-IW1 does not have a entry in ES\n",
      "T107-227895-IW1 does not have a entry in ES\n",
      "T107-227897-IW3 does not have a entry in ES\n",
      "T107-227898-IW2 does not have a entry in ES\n",
      "T107-227895-IW2 does not have a entry in ES\n"
     ]
    },
    {
     "name": "stderr",
     "output_type": "stream",
     "text": [
      " 70%|███████▋   | 1136/1623 [04:37<02:08,  3.79it/s]"
     ]
    },
    {
     "name": "stdout",
     "output_type": "stream",
     "text": [
      "T107-227895-IW3 does not have a entry in ES\n",
      "T107-227899-IW1 does not have a entry in ES\n",
      "T107-227895-IW2 does not have a entry in ES\n",
      "T107-227896-IW3 does not have a entry in ES\n",
      "T107-227895-IW1 does not have a entry in ES\n",
      "T107-227898-IW3 does not have a entry in ES\n",
      "T107-227897-IW2 does not have a entry in ES\n",
      "T107-227896-IW1 does not have a entry in ES\n",
      "T107-227897-IW1 does not have a entry in ES\n",
      "T107-227896-IW2 does not have a entry in ES\n",
      "T107-227898-IW1 does not have a entry in ES\n",
      "T107-227897-IW3 does not have a entry in ES\n",
      "T107-227895-IW3 does not have a entry in ES\n",
      "T107-227898-IW2 does not have a entry in ES\n",
      "T107-227896-IW3 does not have a entry in ES\n",
      "T107-227897-IW3 does not have a entry in ES\n",
      "T107-227898-IW3 does not have a entry in ES\n",
      "T107-227895-IW2 does not have a entry in ES\n",
      "T107-227899-IW1 does not have a entry in ES\n",
      "T107-227898-IW2 does not have a entry in ES\n",
      "T107-227897-IW2 does not have a entry in ES\n",
      "T107-227896-IW1 does not have a entry in ES\n",
      "T107-227895-IW1 does not have a entry in ES\n",
      "T107-227898-IW1 does not have a entry in ES\n",
      "T107-227897-IW1 does not have a entry in ES\n",
      "T107-227896-IW2 does not have a entry in ES\n"
     ]
    },
    {
     "name": "stderr",
     "output_type": "stream",
     "text": [
      " 70%|███████▋   | 1141/1623 [04:38<01:16,  6.27it/s]"
     ]
    },
    {
     "name": "stdout",
     "output_type": "stream",
     "text": [
      "T107-227895-IW3 does not have a entry in ES\n",
      "T107-227895-IW2 does not have a entry in ES\n",
      "T107-227896-IW3 does not have a entry in ES\n",
      "T107-227898-IW3 does not have a entry in ES\n",
      "T107-227897-IW2 does not have a entry in ES\n",
      "T107-227896-IW1 does not have a entry in ES\n",
      "T107-227897-IW1 does not have a entry in ES\n",
      "T107-227896-IW2 does not have a entry in ES\n",
      "T107-227899-IW1 does not have a entry in ES\n",
      "T107-227895-IW3 does not have a entry in ES\n",
      "T107-227896-IW3 does not have a entry in ES\n",
      "T107-227897-IW3 does not have a entry in ES\n"
     ]
    },
    {
     "name": "stderr",
     "output_type": "stream",
     "text": [
      " 70%|███████▋   | 1143/1623 [04:38<01:17,  6.20it/s]"
     ]
    },
    {
     "name": "stdout",
     "output_type": "stream",
     "text": [
      "T107-227898-IW1 does not have a entry in ES\n",
      "T107-227896-IW1 does not have a entry in ES\n",
      "T107-227896-IW2 does not have a entry in ES\n",
      "T107-227895-IW1 does not have a entry in ES\n",
      "T107-227898-IW2 does not have a entry in ES\n",
      "T107-227895-IW2 does not have a entry in ES\n",
      "T107-227895-IW1 does not have a entry in ES\n",
      "T107-227895-IW2 does not have a entry in ES\n",
      "T107-227899-IW1 does not have a entry in ES\n",
      "T107-227895-IW3 does not have a entry in ES\n",
      "T107-227895-IW1 does not have a entry in ES\n",
      "T107-227896-IW3 does not have a entry in ES\n",
      "T107-227898-IW3 does not have a entry in ES\n",
      "T107-227897-IW2 does not have a entry in ES\n",
      "T107-227896-IW1 does not have a entry in ES\n",
      "T107-227898-IW1 does not have a entry in ES\n",
      "T107-227896-IW2 does not have a entry in ES\n",
      "T107-227897-IW1 does not have a entry in ES\n"
     ]
    },
    {
     "name": "stderr",
     "output_type": "stream",
     "text": [
      " 71%|███████▊   | 1145/1623 [04:38<01:18,  6.09it/s]"
     ]
    },
    {
     "name": "stdout",
     "output_type": "stream",
     "text": [
      "T107-227897-IW3 does not have a entry in ES\n",
      "T107-227898-IW2 does not have a entry in ES\n",
      "T107-227895-IW3 does not have a entry in ES\n",
      "T107-227897-IW3 does not have a entry in ES\n",
      "T107-227896-IW3 does not have a entry in ES\n"
     ]
    },
    {
     "name": "stderr",
     "output_type": "stream",
     "text": [
      " 71%|███████▊   | 1146/1623 [04:38<01:18,  6.11it/s]"
     ]
    },
    {
     "name": "stdout",
     "output_type": "stream",
     "text": [
      "T107-227898-IW3 does not have a entry in ES\n",
      "T107-227899-IW1 does not have a entry in ES\n",
      "T107-227898-IW2 does not have a entry in ES\n",
      "T107-227895-IW2 does not have a entry in ES\n",
      "T107-227897-IW2 does not have a entry in ES\n",
      "T107-227896-IW1 does not have a entry in ES\n",
      "T107-227897-IW1 does not have a entry in ES\n",
      "T107-227896-IW2 does not have a entry in ES\n",
      "T107-227898-IW1 does not have a entry in ES\n",
      "T107-227895-IW3 does not have a entry in ES\n",
      "T107-227901-IW1 does not have a entry in ES\n"
     ]
    },
    {
     "name": "stderr",
     "output_type": "stream",
     "text": [
      " 71%|███████▊   | 1147/1623 [04:39<01:16,  6.24it/s]"
     ]
    },
    {
     "name": "stdout",
     "output_type": "stream",
     "text": [
      "T107-227900-IW3 does not have a entry in EST107-227896-IW3 does not have a entry in ES\n",
      "\n",
      "T107-227900-IW1 does not have a entry in ES\n",
      "T107-227899-IW3 does not have a entry in ES\n",
      "T107-227895-IW1 does not have a entry in ES\n",
      "T107-227898-IW3 does not have a entry in ES\n",
      "T107-227896-IW1 does not have a entry in ES\n",
      "T107-227897-IW1 does not have a entry in ES\n",
      "T107-227900-IW2 does not have a entry in ES\n",
      "T107-227896-IW2 does not have a entry in ES\n",
      "T107-227897-IW3 does not have a entry in ES\n",
      "T107-227895-IW1 does not have a entry in ES\n"
     ]
    },
    {
     "name": "stderr",
     "output_type": "stream",
     "text": [
      " 71%|███████▊   | 1149/1623 [04:39<01:36,  4.91it/s]"
     ]
    },
    {
     "name": "stdout",
     "output_type": "stream",
     "text": [
      "T107-227897-IW2 does not have a entry in ES\n",
      "T107-227899-IW2 does not have a entry in ES\n"
     ]
    },
    {
     "name": "stderr",
     "output_type": "stream",
     "text": [
      " 71%|███████▊   | 1151/1623 [04:39<01:35,  4.93it/s]"
     ]
    },
    {
     "name": "stdout",
     "output_type": "stream",
     "text": [
      "T107-227899-IW1 does not have a entry in ES\n"
     ]
    },
    {
     "name": "stderr",
     "output_type": "stream",
     "text": [
      " 71%|███████▊   | 1152/1623 [04:40<01:35,  4.94it/s]"
     ]
    },
    {
     "name": "stdout",
     "output_type": "stream",
     "text": [
      "T107-227895-IW2 does not have a entry in ES\n",
      "T107-227899-IW1 does not have a entry in ES\n",
      "T107-227898-IW2 does not have a entry in ES\n",
      "T107-227898-IW1 does not have a entry in ES\n",
      "T107-227898-IW2 does not have a entry in ES\n",
      "T107-227895-IW2 does not have a entry in ES\n",
      "T107-227895-IW3 does not have a entry in ES\n",
      "T107-227898-IW1 does not have a entry in ES\n",
      "T107-227895-IW1 does not have a entry in ES\n",
      "T107-227895-IW3 does not have a entry in ES\n",
      "T107-227900-IW3 does not have a entry in ES\n",
      "T107-227896-IW3 does not have a entry in ES\n",
      "T107-227900-IW1 does not have a entry in ES\n",
      "T107-227901-IW1 does not have a entry in ES\n",
      "T107-227901-IW1 does not have a entry in ES\n",
      "T107-227896-IW3 does not have a entry in ES\n",
      "T107-227897-IW3 does not have a entry in ES\n",
      "T107-227899-IW3 does not have a entry in ES\n",
      "T107-227898-IW3 does not have a entry in ES\n",
      "T107-227900-IW1 does not have a entry in ES\n",
      "T107-227897-IW2 does not have a entry in ES\n",
      "T107-227899-IW3 does not have a entry in ES\n",
      "T107-227898-IW3 does not have a entry in ES\n",
      "T107-227899-IW2 does not have a entry in ES\n",
      "T107-227895-IW1 does not have a entry in ES\n",
      "T107-227900-IW3 does not have a entry in ES\n",
      "T107-227897-IW1 does not have a entry in EST107-227896-IW1 does not have a entry in ES\n",
      "T107-227897-IW2 does not have a entry in ES\n",
      "T107-227900-IW2 does not have a entry in ES\n",
      "\n",
      "T107-227896-IW2 does not have a entry in ES\n",
      "T107-227899-IW2 does not have a entry in ES\n",
      "T107-227896-IW1 does not have a entry in ES\n",
      "T107-227900-IW2 does not have a entry in ES\n",
      "T107-227897-IW1 does not have a entry in ES\n",
      "T107-227896-IW2 does not have a entry in ES\n"
     ]
    },
    {
     "name": "stderr",
     "output_type": "stream",
     "text": [
      " 71%|███████▊   | 1154/1623 [04:40<01:52,  4.17it/s]"
     ]
    },
    {
     "name": "stdout",
     "output_type": "stream",
     "text": [
      "T107-227897-IW3 does not have a entry in ES\n",
      "T107-227895-IW2 does not have a entry in ES\n",
      "T107-227899-IW1 does not have a entry in ES\n",
      "T107-227898-IW2 does not have a entry in ES\n"
     ]
    },
    {
     "name": "stderr",
     "output_type": "stream",
     "text": [
      " 71%|███████▊   | 1155/1623 [04:41<01:52,  4.17it/s]"
     ]
    },
    {
     "name": "stdout",
     "output_type": "stream",
     "text": [
      "T107-227898-IW1 does not have a entry in ES\n",
      "T107-227895-IW3 does not have a entry in ES\n",
      "T107-227901-IW1 does not have a entry in ES\n",
      "T107-227896-IW3 does not have a entry in ES\n",
      "T107-227898-IW3 does not have a entry in ES\n",
      "T107-227900-IW1 does not have a entry in ES\n",
      "T107-227899-IW3 does not have a entry in ES\n",
      "T107-227897-IW2 does not have a entry in ES\n",
      "T107-227897-IW1 does not have a entry in ES\n",
      "T107-227896-IW1 does not have a entry in ES\n",
      "T107-227895-IW1 does not have a entry in ES\n",
      "T107-227900-IW3 does not have a entry in ES\n",
      "T107-227899-IW2 does not have a entry in ES\n",
      "T107-227900-IW3 does not have a entry in ES\n",
      "T107-227899-IW1 does not have a entry in ES\n"
     ]
    },
    {
     "name": "stderr",
     "output_type": "stream",
     "text": [
      " 71%|███████▊   | 1157/1623 [04:41<01:25,  5.48it/s]"
     ]
    },
    {
     "name": "stdout",
     "output_type": "stream",
     "text": [
      "T107-227900-IW2 does not have a entry in ES\n",
      "T107-227898-IW2 does not have a entry in ES\n",
      "T107-227895-IW2 does not have a entry in ES\n",
      "T107-227895-IW1 does not have a entry in ES\n",
      "T107-227897-IW3 does not have a entry in ES\n",
      "T107-227896-IW2 does not have a entry in ES\n",
      "T107-227898-IW1 does not have a entry in ES\n",
      "T107-227895-IW3 does not have a entry in ES\n",
      "T107-227901-IW1 does not have a entry in ES\n",
      "T107-227900-IW1 does not have a entry in ES\n",
      "T107-227896-IW3 does not have a entry in ES\n",
      "T107-227897-IW3 does not have a entry in ES\n",
      "T107-227898-IW3 does not have a entry in ES\n",
      "T107-227899-IW3 does not have a entry in ES\n",
      "T107-227899-IW1 does not have a entry in ES\n",
      "T107-227895-IW2 does not have a entry in ES\n",
      "T107-227900-IW3 does not have a entry in ES\n",
      "T107-227898-IW2 does not have a entry in ES\n",
      "T107-227899-IW2 does not have a entry in ES\n",
      "T107-227897-IW2 does not have a entry in ES\n",
      "T107-227896-IW1 does not have a entry in ES\n",
      "T107-227897-IW1 does not have a entry in ES\n",
      "T107-227896-IW2 does not have a entry in ES\n",
      "T107-227898-IW1 does not have a entry in ES\n",
      "T107-227895-IW3 does not have a entry in EST107-227896-IW3 does not have a entry in ES\n",
      "\n",
      "T107-227901-IW1 does not have a entry in ES\n",
      "T107-227900-IW1 does not have a entry in ES\n",
      "T107-227897-IW3 does not have a entry in ES\n",
      "T107-227899-IW3 does not have a entry in ES\n",
      "T107-227898-IW3 does not have a entry in ES\n",
      "T107-227897-IW2 does not have a entry in ES\n",
      "T107-227895-IW1 does not have a entry in ES\n",
      "T107-227897-IW1 does not have a entry in ES\n",
      "T107-227896-IW1 does not have a entry in ES\n",
      "T107-227899-IW2 does not have a entry in ES\n",
      "T107-227900-IW2 does not have a entry in ES\n",
      "T107-227896-IW2 does not have a entry in ES\n",
      "T107-227900-IW2 does not have a entry in ES\n",
      "T107-227895-IW2 does not have a entry in ES\n"
     ]
    },
    {
     "name": "stderr",
     "output_type": "stream",
     "text": [
      " 72%|███████▉   | 1163/1623 [04:42<01:07,  6.86it/s]"
     ]
    },
    {
     "name": "stdout",
     "output_type": "stream",
     "text": [
      "T107-227895-IW1 does not have a entry in ES\n"
     ]
    },
    {
     "name": "stderr",
     "output_type": "stream",
     "text": [
      "100%|███████████| 1623/1623 [06:29<00:00,  4.16it/s]\n"
     ]
    }
   ],
   "source": [
    "with concurrent.futures.ThreadPoolExecutor(max_workers=5) as executor:\n",
    "    static_rtc_docs_lst = list(tqdm(executor.map(get_static_rtc_docs, rtc_docs_lst[:]), total=len(rtc_docs_lst)))"
   ]
  },
  {
   "cell_type": "code",
   "execution_count": 62,
   "id": "eb9db2cc-e1a8-48d8-85eb-f24fa2cb84f7",
   "metadata": {},
   "outputs": [],
   "source": [
    "def get_rtc_urls(rtc_docs_lst: list[dict]) -> dict:\n",
    "    urls = [{rtc_doc['id']: rtc_doc['metadata']['product_urls']\n",
    "             for rtc_doc in rtc_docs} for rtc_docs in rtc_docs_lst]\n",
    "    return urls"
   ]
  },
  {
   "cell_type": "code",
   "execution_count": 87,
   "id": "b8946c21-fecc-48fb-bb07-c702da3f87f4",
   "metadata": {},
   "outputs": [],
   "source": [
    "out_data = get_rtc_urls(rtc_docs_lst)"
   ]
  },
  {
   "cell_type": "code",
   "execution_count": 88,
   "id": "4f9d0426-ed9f-425c-9080-5866163903f4",
   "metadata": {},
   "outputs": [],
   "source": [
    "opera_rtc_ids = [' '.join(list(d.keys())) for d in out_data]\n",
    "n_prods = [len(list(d.keys())) for d in out_data]\n",
    "urls_split = {}\n",
    "for k in range(5):\n",
    "    urls_split[k] = [' '.join([val[k] for _, val in d.items()]) for d in out_data]"
   ]
  },
  {
   "cell_type": "code",
   "execution_count": 89,
   "id": "483eb61a-6040-477b-aa71-e1080f65ac3a",
   "metadata": {},
   "outputs": [],
   "source": [
    "df_data['opera_rtc_ids'] = opera_rtc_ids\n",
    "df_data['h5_url'] = urls_split[0]\n",
    "df_data['browse_url'] = urls_split[1]\n",
    "df_data['vh_url'] = urls_split[2]\n",
    "df_data['vv_url'] = urls_split[3]\n",
    "df_data['mask_url'] = urls_split[4]\n",
    "df_data['n_bursts'] = n_prods"
   ]
  },
  {
   "cell_type": "code",
   "execution_count": 90,
   "id": "7a05134e-d3f1-45bc-bfc2-67176e95a44b",
   "metadata": {},
   "outputs": [
    {
     "data": {
      "text/html": [
       "<div>\n",
       "<style scoped>\n",
       "    .dataframe tbody tr th:only-of-type {\n",
       "        vertical-align: middle;\n",
       "    }\n",
       "\n",
       "    .dataframe tbody tr th {\n",
       "        vertical-align: top;\n",
       "    }\n",
       "\n",
       "    .dataframe thead th {\n",
       "        text-align: right;\n",
       "    }\n",
       "</style>\n",
       "<table border=\"1\" class=\"dataframe\">\n",
       "  <thead>\n",
       "    <tr style=\"text-align: right;\">\n",
       "      <th></th>\n",
       "      <th>Site</th>\n",
       "      <th>Orbit_Direction</th>\n",
       "      <th>Orbital_Path</th>\n",
       "      <th>CalVal_Module</th>\n",
       "      <th>S1_Scene_IDs</th>\n",
       "      <th>opera_rtc_ids</th>\n",
       "      <th>h5_url</th>\n",
       "      <th>browse_url</th>\n",
       "      <th>vh_url</th>\n",
       "      <th>vv_url</th>\n",
       "      <th>mask_url</th>\n",
       "      <th>n_bursts</th>\n",
       "    </tr>\n",
       "  </thead>\n",
       "  <tbody>\n",
       "    <tr>\n",
       "      <th>0</th>\n",
       "      <td>California</td>\n",
       "      <td>Ascending</td>\n",
       "      <td>64</td>\n",
       "      <td>Absolute Geolocation Evaluation</td>\n",
       "      <td>S1A_IW_SLC__1SDV_20200324T015024_20200324T0150...</td>\n",
       "      <td>OPERA_L2_RTC-S1_T064-135519-IW2_20200324T01502...</td>\n",
       "      <td>https://opera-pst-rs-pop1.s3.us-west-2.amazona...</td>\n",
       "      <td>https://opera-pst-rs-pop1.s3.us-west-2.amazona...</td>\n",
       "      <td>https://opera-pst-rs-pop1.s3.us-west-2.amazona...</td>\n",
       "      <td>https://opera-pst-rs-pop1.s3.us-west-2.amazona...</td>\n",
       "      <td>https://opera-pst-rs-pop1.s3.us-west-2.amazona...</td>\n",
       "      <td>28</td>\n",
       "    </tr>\n",
       "    <tr>\n",
       "      <th>1</th>\n",
       "      <td>California</td>\n",
       "      <td>Ascending</td>\n",
       "      <td>64</td>\n",
       "      <td>Absolute Geolocation Evaluation</td>\n",
       "      <td>S1A_IW_SLC__1SDV_20201107T015034_20201107T0151...</td>\n",
       "      <td>OPERA_L2_RTC-S1_T064-135527-IW2_20201107T01505...</td>\n",
       "      <td>https://opera-pst-rs-pop1.s3.us-west-2.amazona...</td>\n",
       "      <td>https://opera-pst-rs-pop1.s3.us-west-2.amazona...</td>\n",
       "      <td>https://opera-pst-rs-pop1.s3.us-west-2.amazona...</td>\n",
       "      <td>https://opera-pst-rs-pop1.s3.us-west-2.amazona...</td>\n",
       "      <td>https://opera-pst-rs-pop1.s3.us-west-2.amazona...</td>\n",
       "      <td>28</td>\n",
       "    </tr>\n",
       "    <tr>\n",
       "      <th>2</th>\n",
       "      <td>California</td>\n",
       "      <td>Ascending</td>\n",
       "      <td>64</td>\n",
       "      <td>Absolute Geolocation Evaluation</td>\n",
       "      <td>S1A_IW_SLC__1SDV_20220501T015035_20220501T0151...</td>\n",
       "      <td>OPERA_L2_RTC-S1_T064-135520-IW1_20220501T01504...</td>\n",
       "      <td>https://opera-pst-rs-pop1.s3.us-west-2.amazona...</td>\n",
       "      <td>https://opera-pst-rs-pop1.s3.us-west-2.amazona...</td>\n",
       "      <td>https://opera-pst-rs-pop1.s3.us-west-2.amazona...</td>\n",
       "      <td>https://opera-pst-rs-pop1.s3.us-west-2.amazona...</td>\n",
       "      <td>https://opera-pst-rs-pop1.s3.us-west-2.amazona...</td>\n",
       "      <td>28</td>\n",
       "    </tr>\n",
       "    <tr>\n",
       "      <th>3</th>\n",
       "      <td>California</td>\n",
       "      <td>Ascending</td>\n",
       "      <td>64</td>\n",
       "      <td>Absolute Geolocation Evaluation</td>\n",
       "      <td>S1A_IW_SLC__1SDV_20200604T015028_20200604T0150...</td>\n",
       "      <td>OPERA_L2_RTC-S1_T064-135523-IW1_20200604T01503...</td>\n",
       "      <td>https://opera-pst-rs-pop1.s3.us-west-2.amazona...</td>\n",
       "      <td>https://opera-pst-rs-pop1.s3.us-west-2.amazona...</td>\n",
       "      <td>https://opera-pst-rs-pop1.s3.us-west-2.amazona...</td>\n",
       "      <td>https://opera-pst-rs-pop1.s3.us-west-2.amazona...</td>\n",
       "      <td>https://opera-pst-rs-pop1.s3.us-west-2.amazona...</td>\n",
       "      <td>28</td>\n",
       "    </tr>\n",
       "    <tr>\n",
       "      <th>4</th>\n",
       "      <td>California</td>\n",
       "      <td>Ascending</td>\n",
       "      <td>64</td>\n",
       "      <td>Absolute Geolocation Evaluation</td>\n",
       "      <td>S1A_IW_SLC__1SDV_20210130T015031_20210130T0150...</td>\n",
       "      <td>OPERA_L2_RTC-S1_T064-135523-IW2_20210130T01504...</td>\n",
       "      <td>https://opera-pst-rs-pop1.s3.us-west-2.amazona...</td>\n",
       "      <td>https://opera-pst-rs-pop1.s3.us-west-2.amazona...</td>\n",
       "      <td>https://opera-pst-rs-pop1.s3.us-west-2.amazona...</td>\n",
       "      <td>https://opera-pst-rs-pop1.s3.us-west-2.amazona...</td>\n",
       "      <td>https://opera-pst-rs-pop1.s3.us-west-2.amazona...</td>\n",
       "      <td>28</td>\n",
       "    </tr>\n",
       "  </tbody>\n",
       "</table>\n",
       "</div>"
      ],
      "text/plain": [
       "         Site Orbit_Direction  Orbital_Path                    CalVal_Module  \\\n",
       "0  California       Ascending            64  Absolute Geolocation Evaluation   \n",
       "1  California       Ascending            64  Absolute Geolocation Evaluation   \n",
       "2  California       Ascending            64  Absolute Geolocation Evaluation   \n",
       "3  California       Ascending            64  Absolute Geolocation Evaluation   \n",
       "4  California       Ascending            64  Absolute Geolocation Evaluation   \n",
       "\n",
       "                                        S1_Scene_IDs  \\\n",
       "0  S1A_IW_SLC__1SDV_20200324T015024_20200324T0150...   \n",
       "1  S1A_IW_SLC__1SDV_20201107T015034_20201107T0151...   \n",
       "2  S1A_IW_SLC__1SDV_20220501T015035_20220501T0151...   \n",
       "3  S1A_IW_SLC__1SDV_20200604T015028_20200604T0150...   \n",
       "4  S1A_IW_SLC__1SDV_20210130T015031_20210130T0150...   \n",
       "\n",
       "                                       opera_rtc_ids  \\\n",
       "0  OPERA_L2_RTC-S1_T064-135519-IW2_20200324T01502...   \n",
       "1  OPERA_L2_RTC-S1_T064-135527-IW2_20201107T01505...   \n",
       "2  OPERA_L2_RTC-S1_T064-135520-IW1_20220501T01504...   \n",
       "3  OPERA_L2_RTC-S1_T064-135523-IW1_20200604T01503...   \n",
       "4  OPERA_L2_RTC-S1_T064-135523-IW2_20210130T01504...   \n",
       "\n",
       "                                              h5_url  \\\n",
       "0  https://opera-pst-rs-pop1.s3.us-west-2.amazona...   \n",
       "1  https://opera-pst-rs-pop1.s3.us-west-2.amazona...   \n",
       "2  https://opera-pst-rs-pop1.s3.us-west-2.amazona...   \n",
       "3  https://opera-pst-rs-pop1.s3.us-west-2.amazona...   \n",
       "4  https://opera-pst-rs-pop1.s3.us-west-2.amazona...   \n",
       "\n",
       "                                          browse_url  \\\n",
       "0  https://opera-pst-rs-pop1.s3.us-west-2.amazona...   \n",
       "1  https://opera-pst-rs-pop1.s3.us-west-2.amazona...   \n",
       "2  https://opera-pst-rs-pop1.s3.us-west-2.amazona...   \n",
       "3  https://opera-pst-rs-pop1.s3.us-west-2.amazona...   \n",
       "4  https://opera-pst-rs-pop1.s3.us-west-2.amazona...   \n",
       "\n",
       "                                              vh_url  \\\n",
       "0  https://opera-pst-rs-pop1.s3.us-west-2.amazona...   \n",
       "1  https://opera-pst-rs-pop1.s3.us-west-2.amazona...   \n",
       "2  https://opera-pst-rs-pop1.s3.us-west-2.amazona...   \n",
       "3  https://opera-pst-rs-pop1.s3.us-west-2.amazona...   \n",
       "4  https://opera-pst-rs-pop1.s3.us-west-2.amazona...   \n",
       "\n",
       "                                              vv_url  \\\n",
       "0  https://opera-pst-rs-pop1.s3.us-west-2.amazona...   \n",
       "1  https://opera-pst-rs-pop1.s3.us-west-2.amazona...   \n",
       "2  https://opera-pst-rs-pop1.s3.us-west-2.amazona...   \n",
       "3  https://opera-pst-rs-pop1.s3.us-west-2.amazona...   \n",
       "4  https://opera-pst-rs-pop1.s3.us-west-2.amazona...   \n",
       "\n",
       "                                            mask_url  n_bursts  \n",
       "0  https://opera-pst-rs-pop1.s3.us-west-2.amazona...        28  \n",
       "1  https://opera-pst-rs-pop1.s3.us-west-2.amazona...        28  \n",
       "2  https://opera-pst-rs-pop1.s3.us-west-2.amazona...        28  \n",
       "3  https://opera-pst-rs-pop1.s3.us-west-2.amazona...        28  \n",
       "4  https://opera-pst-rs-pop1.s3.us-west-2.amazona...        28  "
      ]
     },
     "execution_count": 90,
     "metadata": {},
     "output_type": "execute_result"
    }
   ],
   "source": [
    "df_data.head()"
   ]
  },
  {
   "cell_type": "code",
   "execution_count": 96,
   "id": "8f305242-9f7f-4ba1-86b6-2d589800c0b7",
   "metadata": {},
   "outputs": [],
   "source": [
    "df_data.to_csv('opera_rtc_table.csv.zip')"
   ]
  },
  {
   "cell_type": "code",
   "execution_count": 97,
   "id": "b4bce29d-166a-42f4-9b72-57ccf30b7228",
   "metadata": {},
   "outputs": [
    {
     "data": {
      "text/plain": [
       "43687"
      ]
     },
     "execution_count": 97,
     "metadata": {},
     "output_type": "execute_result"
    }
   ],
   "source": [
    "df_data.n_bursts.sum()"
   ]
  },
  {
   "cell_type": "code",
   "execution_count": 98,
   "id": "beb15400-42d1-446d-8479-ad3b1f4e82e9",
   "metadata": {},
   "outputs": [
    {
     "data": {
      "text/plain": [
       "1623"
      ]
     },
     "execution_count": 98,
     "metadata": {},
     "output_type": "execute_result"
    }
   ],
   "source": [
    "len(static_rtc_docs_lst)"
   ]
  },
  {
   "cell_type": "code",
   "execution_count": 99,
   "id": "76ce4f0d-c903-48ff-aa46-cd2d9470da3c",
   "metadata": {},
   "outputs": [
    {
     "data": {
      "text/html": [
       "<div>\n",
       "<style scoped>\n",
       "    .dataframe tbody tr th:only-of-type {\n",
       "        vertical-align: middle;\n",
       "    }\n",
       "\n",
       "    .dataframe tbody tr th {\n",
       "        vertical-align: top;\n",
       "    }\n",
       "\n",
       "    .dataframe thead th {\n",
       "        text-align: right;\n",
       "    }\n",
       "</style>\n",
       "<table border=\"1\" class=\"dataframe\">\n",
       "  <thead>\n",
       "    <tr style=\"text-align: right;\">\n",
       "      <th></th>\n",
       "      <th>burst_id</th>\n",
       "      <th>urls</th>\n",
       "    </tr>\n",
       "  </thead>\n",
       "  <tbody>\n",
       "    <tr>\n",
       "      <th>0</th>\n",
       "      <td>T064-135525-IW1</td>\n",
       "      <td>https://opera-pst-rs-pop1.s3.us-west-2.amazona...</td>\n",
       "    </tr>\n",
       "    <tr>\n",
       "      <th>1</th>\n",
       "      <td>T064-135527-IW1</td>\n",
       "      <td>https://opera-pst-rs-pop1.s3.us-west-2.amazona...</td>\n",
       "    </tr>\n",
       "    <tr>\n",
       "      <th>2</th>\n",
       "      <td>T064-135520-IW1</td>\n",
       "      <td>https://opera-pst-rs-pop1.s3.us-west-2.amazona...</td>\n",
       "    </tr>\n",
       "    <tr>\n",
       "      <th>3</th>\n",
       "      <td>T064-135524-IW1</td>\n",
       "      <td>https://opera-pst-rs-pop1.s3.us-west-2.amazona...</td>\n",
       "    </tr>\n",
       "    <tr>\n",
       "      <th>4</th>\n",
       "      <td>T064-135524-IW3</td>\n",
       "      <td>https://opera-pst-rs-pop1.s3.us-west-2.amazona...</td>\n",
       "    </tr>\n",
       "  </tbody>\n",
       "</table>\n",
       "</div>"
      ],
      "text/plain": [
       "          burst_id                                               urls\n",
       "0  T064-135525-IW1  https://opera-pst-rs-pop1.s3.us-west-2.amazona...\n",
       "1  T064-135527-IW1  https://opera-pst-rs-pop1.s3.us-west-2.amazona...\n",
       "2  T064-135520-IW1  https://opera-pst-rs-pop1.s3.us-west-2.amazona...\n",
       "3  T064-135524-IW1  https://opera-pst-rs-pop1.s3.us-west-2.amazona...\n",
       "4  T064-135524-IW3  https://opera-pst-rs-pop1.s3.us-west-2.amazona..."
      ]
     },
     "execution_count": 99,
     "metadata": {},
     "output_type": "execute_result"
    }
   ],
   "source": [
    "def get_url(data_dict):\n",
    "    if data_dict:\n",
    "        return ' '.join(data_dict['metadata']['product_urls'])\n",
    "    return ''\n",
    "burst_id_keyed = {burst_id: val for data_lst in static_rtc_docs_lst for data_dict in data_lst for (burst_id, val) in data_dict.items()}\n",
    "static_data = [{'burst_id': burst_id, 'urls': get_url(val)} for (burst_id, val) in burst_id_keyed.items()]\n",
    "df_static = pd.DataFrame(static_data)\n",
    "df_static.head()"
   ]
  },
  {
   "cell_type": "code",
   "execution_count": 101,
   "id": "4791f0c7-182d-4d57-95a9-b221fcc52755",
   "metadata": {},
   "outputs": [
    {
     "data": {
      "text/plain": [
       "(353, 2)"
      ]
     },
     "execution_count": 101,
     "metadata": {},
     "output_type": "execute_result"
    }
   ],
   "source": [
    "df_static.shape"
   ]
  },
  {
   "cell_type": "code",
   "execution_count": 100,
   "id": "830d9d26-b44e-429c-8592-e9f4d5bf0cc0",
   "metadata": {},
   "outputs": [],
   "source": [
    "df_static.to_csv('opera_rtc_static_table.csv.zip')"
   ]
  }
 ],
 "metadata": {
  "kernelspec": {
   "display_name": "dswx_val",
   "language": "python",
   "name": "dswx_val"
  },
  "language_info": {
   "codemirror_mode": {
    "name": "ipython",
    "version": 3
   },
   "file_extension": ".py",
   "mimetype": "text/x-python",
   "name": "python",
   "nbconvert_exporter": "python",
   "pygments_lexer": "ipython3",
   "version": "3.11.6"
  }
 },
 "nbformat": 4,
 "nbformat_minor": 5
}
