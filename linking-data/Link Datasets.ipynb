{
 "cells": [
  {
   "cell_type": "code",
   "execution_count": 1,
   "id": "8b8167d3-f0c4-48b0-832a-b4b9277d8c6d",
   "metadata": {},
   "outputs": [],
   "source": [
    "%load_ext autoreload\n",
    "%autoreload 2"
   ]
  },
  {
   "cell_type": "code",
   "execution_count": 2,
   "id": "dc2b96cd-9cf5-4d96-b4b0-0fc1db2da64a",
   "metadata": {},
   "outputs": [],
   "source": [
    "import pandas as pd\n",
    "from es_db import get_rtc_urls, get_rtc_docs, get_search_client, get_static_rtc_docs\n",
    "from tqdm import tqdm\n",
    "import concurrent.futures"
   ]
  },
  {
   "cell_type": "code",
   "execution_count": 3,
   "id": "0207db7e-b274-4dc4-a760-e0cb7b41171a",
   "metadata": {},
   "outputs": [
    {
     "data": {
      "text/html": [
       "<div>\n",
       "<style scoped>\n",
       "    .dataframe tbody tr th:only-of-type {\n",
       "        vertical-align: middle;\n",
       "    }\n",
       "\n",
       "    .dataframe tbody tr th {\n",
       "        vertical-align: top;\n",
       "    }\n",
       "\n",
       "    .dataframe thead th {\n",
       "        text-align: right;\n",
       "    }\n",
       "</style>\n",
       "<table border=\"1\" class=\"dataframe\">\n",
       "  <thead>\n",
       "    <tr style=\"text-align: right;\">\n",
       "      <th></th>\n",
       "      <th>Site</th>\n",
       "      <th>Orbit_Direction</th>\n",
       "      <th>Orbital_Path</th>\n",
       "      <th>CalVal_Module</th>\n",
       "      <th>S1_Scene_IDs</th>\n",
       "    </tr>\n",
       "  </thead>\n",
       "  <tbody>\n",
       "    <tr>\n",
       "      <th>0</th>\n",
       "      <td>California</td>\n",
       "      <td>Ascending</td>\n",
       "      <td>64</td>\n",
       "      <td>Absolute Geolocation Evaluation</td>\n",
       "      <td>S1A_IW_SLC__1SDV_20200324T015024_20200324T0150...</td>\n",
       "    </tr>\n",
       "    <tr>\n",
       "      <th>1</th>\n",
       "      <td>California</td>\n",
       "      <td>Ascending</td>\n",
       "      <td>64</td>\n",
       "      <td>Absolute Geolocation Evaluation</td>\n",
       "      <td>S1A_IW_SLC__1SDV_20201107T015034_20201107T0151...</td>\n",
       "    </tr>\n",
       "    <tr>\n",
       "      <th>2</th>\n",
       "      <td>California</td>\n",
       "      <td>Ascending</td>\n",
       "      <td>64</td>\n",
       "      <td>Absolute Geolocation Evaluation</td>\n",
       "      <td>S1A_IW_SLC__1SDV_20220501T015035_20220501T0151...</td>\n",
       "    </tr>\n",
       "    <tr>\n",
       "      <th>3</th>\n",
       "      <td>California</td>\n",
       "      <td>Ascending</td>\n",
       "      <td>64</td>\n",
       "      <td>Absolute Geolocation Evaluation</td>\n",
       "      <td>S1A_IW_SLC__1SDV_20200604T015028_20200604T0150...</td>\n",
       "    </tr>\n",
       "    <tr>\n",
       "      <th>4</th>\n",
       "      <td>California</td>\n",
       "      <td>Ascending</td>\n",
       "      <td>64</td>\n",
       "      <td>Absolute Geolocation Evaluation</td>\n",
       "      <td>S1A_IW_SLC__1SDV_20210130T015031_20210130T0150...</td>\n",
       "    </tr>\n",
       "  </tbody>\n",
       "</table>\n",
       "</div>"
      ],
      "text/plain": [
       "         Site Orbit_Direction  Orbital_Path                    CalVal_Module  \\\n",
       "0  California       Ascending            64  Absolute Geolocation Evaluation   \n",
       "1  California       Ascending            64  Absolute Geolocation Evaluation   \n",
       "2  California       Ascending            64  Absolute Geolocation Evaluation   \n",
       "3  California       Ascending            64  Absolute Geolocation Evaluation   \n",
       "4  California       Ascending            64  Absolute Geolocation Evaluation   \n",
       "\n",
       "                                        S1_Scene_IDs  \n",
       "0  S1A_IW_SLC__1SDV_20200324T015024_20200324T0150...  \n",
       "1  S1A_IW_SLC__1SDV_20201107T015034_20201107T0151...  \n",
       "2  S1A_IW_SLC__1SDV_20220501T015035_20220501T0151...  \n",
       "3  S1A_IW_SLC__1SDV_20200604T015028_20200604T0150...  \n",
       "4  S1A_IW_SLC__1SDV_20210130T015031_20210130T0150...  "
      ]
     },
     "execution_count": 3,
     "metadata": {},
     "output_type": "execute_result"
    }
   ],
   "source": [
    "df_data = pd.read_csv('../OPERA-RTC_CalVal_S1_Scene_IDs.csv')\n",
    "df_data['S1_Scene_IDs'] = df_data.S1_Scene_IDs.map(lambda s: s.split())\n",
    "df_data = df_data.explode('S1_Scene_IDs').reset_index(drop=True)\n",
    "df_data.head()"
   ]
  },
  {
   "cell_type": "code",
   "execution_count": 4,
   "id": "f91c4beb-74ec-4fb2-8fdd-ce8fa0b00286",
   "metadata": {},
   "outputs": [
    {
     "data": {
      "text/plain": [
       "'S1A_IW_SLC__1SDV_20201107T015034_20201107T015102_035136_0419CE_F4EF,'"
      ]
     },
     "execution_count": 4,
     "metadata": {},
     "output_type": "execute_result"
    }
   ],
   "source": [
    "sample_slc_id = df_data.S1_Scene_IDs[1]\n",
    "sample_slc_id"
   ]
  },
  {
   "cell_type": "code",
   "execution_count": 5,
   "id": "df72536e-1ac8-4e06-8609-34483ae493ab",
   "metadata": {},
   "outputs": [],
   "source": [
    "slc_ids = df_data.S1_Scene_IDs.tolist()"
   ]
  },
  {
   "cell_type": "code",
   "execution_count": 6,
   "id": "6d3579ee-710d-4315-9d7f-7e3b73316952",
   "metadata": {},
   "outputs": [],
   "source": [
    "rtc_docs = get_rtc_docs(slc_ids[0])"
   ]
  },
  {
   "cell_type": "code",
   "execution_count": 7,
   "id": "eb26ff73-9ac7-4f47-8689-9d28b98a65e7",
   "metadata": {},
   "outputs": [
    {
     "data": {
      "text/plain": [
       "28"
      ]
     },
     "execution_count": 7,
     "metadata": {},
     "output_type": "execute_result"
    }
   ],
   "source": [
    "len(rtc_docs)"
   ]
  },
  {
   "cell_type": "code",
   "execution_count": 8,
   "id": "08044100-8514-46ce-9774-323c99b41a98",
   "metadata": {},
   "outputs": [
    {
     "name": "stderr",
     "output_type": "stream",
     "text": [
      "100%|███████████| 1623/1623 [02:24<00:00, 11.25it/s]\n"
     ]
    }
   ],
   "source": [
    "with concurrent.futures.ThreadPoolExecutor(max_workers=30) as executor:\n",
    "    rtc_docs_lst = list(tqdm(executor.map(get_rtc_docs, slc_ids[:]), total=len(slc_ids)))"
   ]
  },
  {
   "cell_type": "code",
   "execution_count": 9,
   "id": "eb9db2cc-e1a8-48d8-85eb-f24fa2cb84f7",
   "metadata": {},
   "outputs": [],
   "source": [
    "def get_rtc_urls(rtc_docs_lst: list[dict]) -> dict:\n",
    "    urls = [{rtc_doc['id']: rtc_doc['metadata']['product_urls']\n",
    "             for rtc_doc in rtc_docs} for rtc_docs in rtc_docs_lst]\n",
    "    return urls"
   ]
  },
  {
   "cell_type": "code",
   "execution_count": 10,
   "id": "b8946c21-fecc-48fb-bb07-c702da3f87f4",
   "metadata": {},
   "outputs": [],
   "source": [
    "out_data = get_rtc_urls(rtc_docs_lst)"
   ]
  },
  {
   "cell_type": "code",
   "execution_count": 11,
   "id": "4f9d0426-ed9f-425c-9080-5866163903f4",
   "metadata": {},
   "outputs": [],
   "source": [
    "opera_rtc_ids = [' '.join(list(d.keys())) for d in out_data]\n",
    "n_prods = [len(list(d.keys())) for d in out_data]\n",
    "urls_split = {}\n",
    "for k in range(5):\n",
    "    urls_split[k] = [' '.join([val[k] for _, val in d.items()]) for d in out_data]"
   ]
  },
  {
   "cell_type": "code",
   "execution_count": 12,
   "id": "483eb61a-6040-477b-aa71-e1080f65ac3a",
   "metadata": {},
   "outputs": [],
   "source": [
    "df_data['opera_rtc_ids'] = opera_rtc_ids\n",
    "df_data['h5_url'] = urls_split[0]\n",
    "df_data['browse_url'] = urls_split[1]\n",
    "df_data['vh_url'] = urls_split[2]\n",
    "df_data['vv_url'] = urls_split[3]\n",
    "df_data['mask_url'] = urls_split[4]\n",
    "df_data['n_bursts'] = n_prods"
   ]
  },
  {
   "cell_type": "code",
   "execution_count": 13,
   "id": "7a05134e-d3f1-45bc-bfc2-67176e95a44b",
   "metadata": {},
   "outputs": [
    {
     "data": {
      "text/html": [
       "<div>\n",
       "<style scoped>\n",
       "    .dataframe tbody tr th:only-of-type {\n",
       "        vertical-align: middle;\n",
       "    }\n",
       "\n",
       "    .dataframe tbody tr th {\n",
       "        vertical-align: top;\n",
       "    }\n",
       "\n",
       "    .dataframe thead th {\n",
       "        text-align: right;\n",
       "    }\n",
       "</style>\n",
       "<table border=\"1\" class=\"dataframe\">\n",
       "  <thead>\n",
       "    <tr style=\"text-align: right;\">\n",
       "      <th></th>\n",
       "      <th>Site</th>\n",
       "      <th>Orbit_Direction</th>\n",
       "      <th>Orbital_Path</th>\n",
       "      <th>CalVal_Module</th>\n",
       "      <th>S1_Scene_IDs</th>\n",
       "      <th>opera_rtc_ids</th>\n",
       "      <th>h5_url</th>\n",
       "      <th>browse_url</th>\n",
       "      <th>vh_url</th>\n",
       "      <th>vv_url</th>\n",
       "      <th>mask_url</th>\n",
       "      <th>n_bursts</th>\n",
       "    </tr>\n",
       "  </thead>\n",
       "  <tbody>\n",
       "    <tr>\n",
       "      <th>0</th>\n",
       "      <td>California</td>\n",
       "      <td>Ascending</td>\n",
       "      <td>64</td>\n",
       "      <td>Absolute Geolocation Evaluation</td>\n",
       "      <td>S1A_IW_SLC__1SDV_20200324T015024_20200324T0150...</td>\n",
       "      <td>OPERA_L2_RTC-S1_T064-135519-IW2_20200324T01502...</td>\n",
       "      <td>https://opera-pst-rs-pop1.s3.us-west-2.amazona...</td>\n",
       "      <td>https://opera-pst-rs-pop1.s3.us-west-2.amazona...</td>\n",
       "      <td>https://opera-pst-rs-pop1.s3.us-west-2.amazona...</td>\n",
       "      <td>https://opera-pst-rs-pop1.s3.us-west-2.amazona...</td>\n",
       "      <td>https://opera-pst-rs-pop1.s3.us-west-2.amazona...</td>\n",
       "      <td>28</td>\n",
       "    </tr>\n",
       "    <tr>\n",
       "      <th>1</th>\n",
       "      <td>California</td>\n",
       "      <td>Ascending</td>\n",
       "      <td>64</td>\n",
       "      <td>Absolute Geolocation Evaluation</td>\n",
       "      <td>S1A_IW_SLC__1SDV_20201107T015034_20201107T0151...</td>\n",
       "      <td>OPERA_L2_RTC-S1_T064-135527-IW2_20201107T01505...</td>\n",
       "      <td>https://opera-pst-rs-pop1.s3.us-west-2.amazona...</td>\n",
       "      <td>https://opera-pst-rs-pop1.s3.us-west-2.amazona...</td>\n",
       "      <td>https://opera-pst-rs-pop1.s3.us-west-2.amazona...</td>\n",
       "      <td>https://opera-pst-rs-pop1.s3.us-west-2.amazona...</td>\n",
       "      <td>https://opera-pst-rs-pop1.s3.us-west-2.amazona...</td>\n",
       "      <td>28</td>\n",
       "    </tr>\n",
       "    <tr>\n",
       "      <th>2</th>\n",
       "      <td>California</td>\n",
       "      <td>Ascending</td>\n",
       "      <td>64</td>\n",
       "      <td>Absolute Geolocation Evaluation</td>\n",
       "      <td>S1A_IW_SLC__1SDV_20220501T015035_20220501T0151...</td>\n",
       "      <td>OPERA_L2_RTC-S1_T064-135520-IW1_20220501T01504...</td>\n",
       "      <td>https://opera-pst-rs-pop1.s3.us-west-2.amazona...</td>\n",
       "      <td>https://opera-pst-rs-pop1.s3.us-west-2.amazona...</td>\n",
       "      <td>https://opera-pst-rs-pop1.s3.us-west-2.amazona...</td>\n",
       "      <td>https://opera-pst-rs-pop1.s3.us-west-2.amazona...</td>\n",
       "      <td>https://opera-pst-rs-pop1.s3.us-west-2.amazona...</td>\n",
       "      <td>28</td>\n",
       "    </tr>\n",
       "    <tr>\n",
       "      <th>3</th>\n",
       "      <td>California</td>\n",
       "      <td>Ascending</td>\n",
       "      <td>64</td>\n",
       "      <td>Absolute Geolocation Evaluation</td>\n",
       "      <td>S1A_IW_SLC__1SDV_20200604T015028_20200604T0150...</td>\n",
       "      <td>OPERA_L2_RTC-S1_T064-135523-IW1_20200604T01503...</td>\n",
       "      <td>https://opera-pst-rs-pop1.s3.us-west-2.amazona...</td>\n",
       "      <td>https://opera-pst-rs-pop1.s3.us-west-2.amazona...</td>\n",
       "      <td>https://opera-pst-rs-pop1.s3.us-west-2.amazona...</td>\n",
       "      <td>https://opera-pst-rs-pop1.s3.us-west-2.amazona...</td>\n",
       "      <td>https://opera-pst-rs-pop1.s3.us-west-2.amazona...</td>\n",
       "      <td>28</td>\n",
       "    </tr>\n",
       "    <tr>\n",
       "      <th>4</th>\n",
       "      <td>California</td>\n",
       "      <td>Ascending</td>\n",
       "      <td>64</td>\n",
       "      <td>Absolute Geolocation Evaluation</td>\n",
       "      <td>S1A_IW_SLC__1SDV_20210130T015031_20210130T0150...</td>\n",
       "      <td>OPERA_L2_RTC-S1_T064-135523-IW2_20210130T01504...</td>\n",
       "      <td>https://opera-pst-rs-pop1.s3.us-west-2.amazona...</td>\n",
       "      <td>https://opera-pst-rs-pop1.s3.us-west-2.amazona...</td>\n",
       "      <td>https://opera-pst-rs-pop1.s3.us-west-2.amazona...</td>\n",
       "      <td>https://opera-pst-rs-pop1.s3.us-west-2.amazona...</td>\n",
       "      <td>https://opera-pst-rs-pop1.s3.us-west-2.amazona...</td>\n",
       "      <td>28</td>\n",
       "    </tr>\n",
       "  </tbody>\n",
       "</table>\n",
       "</div>"
      ],
      "text/plain": [
       "         Site Orbit_Direction  Orbital_Path                    CalVal_Module  \\\n",
       "0  California       Ascending            64  Absolute Geolocation Evaluation   \n",
       "1  California       Ascending            64  Absolute Geolocation Evaluation   \n",
       "2  California       Ascending            64  Absolute Geolocation Evaluation   \n",
       "3  California       Ascending            64  Absolute Geolocation Evaluation   \n",
       "4  California       Ascending            64  Absolute Geolocation Evaluation   \n",
       "\n",
       "                                        S1_Scene_IDs  \\\n",
       "0  S1A_IW_SLC__1SDV_20200324T015024_20200324T0150...   \n",
       "1  S1A_IW_SLC__1SDV_20201107T015034_20201107T0151...   \n",
       "2  S1A_IW_SLC__1SDV_20220501T015035_20220501T0151...   \n",
       "3  S1A_IW_SLC__1SDV_20200604T015028_20200604T0150...   \n",
       "4  S1A_IW_SLC__1SDV_20210130T015031_20210130T0150...   \n",
       "\n",
       "                                       opera_rtc_ids  \\\n",
       "0  OPERA_L2_RTC-S1_T064-135519-IW2_20200324T01502...   \n",
       "1  OPERA_L2_RTC-S1_T064-135527-IW2_20201107T01505...   \n",
       "2  OPERA_L2_RTC-S1_T064-135520-IW1_20220501T01504...   \n",
       "3  OPERA_L2_RTC-S1_T064-135523-IW1_20200604T01503...   \n",
       "4  OPERA_L2_RTC-S1_T064-135523-IW2_20210130T01504...   \n",
       "\n",
       "                                              h5_url  \\\n",
       "0  https://opera-pst-rs-pop1.s3.us-west-2.amazona...   \n",
       "1  https://opera-pst-rs-pop1.s3.us-west-2.amazona...   \n",
       "2  https://opera-pst-rs-pop1.s3.us-west-2.amazona...   \n",
       "3  https://opera-pst-rs-pop1.s3.us-west-2.amazona...   \n",
       "4  https://opera-pst-rs-pop1.s3.us-west-2.amazona...   \n",
       "\n",
       "                                          browse_url  \\\n",
       "0  https://opera-pst-rs-pop1.s3.us-west-2.amazona...   \n",
       "1  https://opera-pst-rs-pop1.s3.us-west-2.amazona...   \n",
       "2  https://opera-pst-rs-pop1.s3.us-west-2.amazona...   \n",
       "3  https://opera-pst-rs-pop1.s3.us-west-2.amazona...   \n",
       "4  https://opera-pst-rs-pop1.s3.us-west-2.amazona...   \n",
       "\n",
       "                                              vh_url  \\\n",
       "0  https://opera-pst-rs-pop1.s3.us-west-2.amazona...   \n",
       "1  https://opera-pst-rs-pop1.s3.us-west-2.amazona...   \n",
       "2  https://opera-pst-rs-pop1.s3.us-west-2.amazona...   \n",
       "3  https://opera-pst-rs-pop1.s3.us-west-2.amazona...   \n",
       "4  https://opera-pst-rs-pop1.s3.us-west-2.amazona...   \n",
       "\n",
       "                                              vv_url  \\\n",
       "0  https://opera-pst-rs-pop1.s3.us-west-2.amazona...   \n",
       "1  https://opera-pst-rs-pop1.s3.us-west-2.amazona...   \n",
       "2  https://opera-pst-rs-pop1.s3.us-west-2.amazona...   \n",
       "3  https://opera-pst-rs-pop1.s3.us-west-2.amazona...   \n",
       "4  https://opera-pst-rs-pop1.s3.us-west-2.amazona...   \n",
       "\n",
       "                                            mask_url  n_bursts  \n",
       "0  https://opera-pst-rs-pop1.s3.us-west-2.amazona...        28  \n",
       "1  https://opera-pst-rs-pop1.s3.us-west-2.amazona...        28  \n",
       "2  https://opera-pst-rs-pop1.s3.us-west-2.amazona...        28  \n",
       "3  https://opera-pst-rs-pop1.s3.us-west-2.amazona...        28  \n",
       "4  https://opera-pst-rs-pop1.s3.us-west-2.amazona...        28  "
      ]
     },
     "execution_count": 13,
     "metadata": {},
     "output_type": "execute_result"
    }
   ],
   "source": [
    "df_data.head()"
   ]
  },
  {
   "cell_type": "code",
   "execution_count": 14,
   "id": "8f305242-9f7f-4ba1-86b6-2d589800c0b7",
   "metadata": {},
   "outputs": [],
   "source": [
    "df_data.to_csv('opera_rtc_table.csv.zip')"
   ]
  },
  {
   "cell_type": "markdown",
   "id": "5ad686ca-6eb9-4b61-a921-3aea3e67c093",
   "metadata": {},
   "source": [
    "# Static urls"
   ]
  },
  {
   "cell_type": "code",
   "execution_count": 15,
   "id": "772daa76-e89f-4915-b0c1-3b3a469d1ecc",
   "metadata": {},
   "outputs": [
    {
     "data": {
      "text/plain": [
       "['OPERA_L2_RTC-S1_T064-135519-IW2_20200324T015025Z_20230928T223445Z_S1A_30_v1.0',\n",
       " 'OPERA_L2_RTC-S1_T064-135524-IW1_20200324T015038Z_20230928T223445Z_S1A_30_v1.0']"
      ]
     },
     "execution_count": 15,
     "metadata": {},
     "output_type": "execute_result"
    }
   ],
   "source": [
    "rtc_ids = df_data['opera_rtc_ids'].map(lambda ids: ids.split())\n",
    "rtc_ids = [id_ for group in rtc_ids for id_ in group]\n",
    "rtc_ids[:2]"
   ]
  },
  {
   "cell_type": "code",
   "execution_count": 16,
   "id": "07bb21eb-7a2d-4afe-960c-562b9f1feb2e",
   "metadata": {},
   "outputs": [
    {
     "data": {
      "text/plain": [
       "353"
      ]
     },
     "execution_count": 16,
     "metadata": {},
     "output_type": "execute_result"
    }
   ],
   "source": [
    "burst_ids = list(set([id_.split('_')[3] for id_ in rtc_ids]))\n",
    "len(burst_ids)"
   ]
  },
  {
   "cell_type": "code",
   "execution_count": 17,
   "id": "dffd2efb-17c5-45bb-a967-93fb48a540cb",
   "metadata": {},
   "outputs": [
    {
     "data": {
      "text/plain": [
       "[{'burst_id': 'T039-082704-IW2',\n",
       "  'sas_version': '1.0.1',\n",
       "  'product_urls': 'https://opera-pst-rs-pop1.s3.us-west-2.amazonaws.com/products/RTC_S1/OPERA_L2_RTC-S1-STATIC_T039-082704-IW2_20140403_20230929T223122Z_S1A_30_v1.0/OPERA_L2_RTC-S1-STATIC_T039-082704-IW2_20140403_20230929T223122Z_S1A_30_v1.0.h5 https://opera-pst-rs-pop1.s3.us-west-2.amazonaws.com/products/RTC_S1/OPERA_L2_RTC-S1-STATIC_T039-082704-IW2_20140403_20230929T223122Z_S1A_30_v1.0/OPERA_L2_RTC-S1-STATIC_T039-082704-IW2_20140403_20230929T223122Z_S1A_30_v1.0_BROWSE.png https://opera-pst-rs-pop1.s3.us-west-2.amazonaws.com/products/RTC_S1/OPERA_L2_RTC-S1-STATIC_T039-082704-IW2_20140403_20230929T223122Z_S1A_30_v1.0/OPERA_L2_RTC-S1-STATIC_T039-082704-IW2_20140403_20230929T223122Z_S1A_30_v1.0_incidence_angle.tif https://opera-pst-rs-pop1.s3.us-west-2.amazonaws.com/products/RTC_S1/OPERA_L2_RTC-S1-STATIC_T039-082704-IW2_20140403_20230929T223122Z_S1A_30_v1.0/OPERA_L2_RTC-S1-STATIC_T039-082704-IW2_20140403_20230929T223122Z_S1A_30_v1.0_local_incidence_angle.tif https://opera-pst-rs-pop1.s3.us-west-2.amazonaws.com/products/RTC_S1/OPERA_L2_RTC-S1-STATIC_T039-082704-IW2_20140403_20230929T223122Z_S1A_30_v1.0/OPERA_L2_RTC-S1-STATIC_T039-082704-IW2_20140403_20230929T223122Z_S1A_30_v1.0_mask.tif https://opera-pst-rs-pop1.s3.us-west-2.amazonaws.com/products/RTC_S1/OPERA_L2_RTC-S1-STATIC_T039-082704-IW2_20140403_20230929T223122Z_S1A_30_v1.0/OPERA_L2_RTC-S1-STATIC_T039-082704-IW2_20140403_20230929T223122Z_S1A_30_v1.0_number_of_looks.tif https://opera-pst-rs-pop1.s3.us-west-2.amazonaws.com/products/RTC_S1/OPERA_L2_RTC-S1-STATIC_T039-082704-IW2_20140403_20230929T223122Z_S1A_30_v1.0/OPERA_L2_RTC-S1-STATIC_T039-082704-IW2_20140403_20230929T223122Z_S1A_30_v1.0_rtc_anf_gamma0_to_beta0.tif https://opera-pst-rs-pop1.s3.us-west-2.amazonaws.com/products/RTC_S1/OPERA_L2_RTC-S1-STATIC_T039-082704-IW2_20140403_20230929T223122Z_S1A_30_v1.0/OPERA_L2_RTC-S1-STATIC_T039-082704-IW2_20140403_20230929T223122Z_S1A_30_v1.0_rtc_anf_gamma0_to_sigma0.tif https://opera-pst-rs-pop1.s3.us-west-2.amazonaws.com/products/RTC_S1/OPERA_L2_RTC-S1-STATIC_T039-082704-IW2_20140403_20230929T223122Z_S1A_30_v1.0/OPERA_L2_RTC-S1-STATIC_T039-082704-IW2_20140403_20230929T223122Z_S1A_30_v1.0.iso.xml'}]"
      ]
     },
     "execution_count": 17,
     "metadata": {},
     "output_type": "execute_result"
    }
   ],
   "source": [
    "get_static_rtc_docs(burst_ids[19])"
   ]
  },
  {
   "cell_type": "code",
   "execution_count": 18,
   "id": "7c6132dc-7a57-4420-9a11-2fc7436302d5",
   "metadata": {},
   "outputs": [
    {
     "name": "stderr",
     "output_type": "stream",
     "text": [
      "  0%|               | 1/353 [00:00<01:26,  4.09it/s]"
     ]
    },
    {
     "name": "stdout",
     "output_type": "stream",
     "text": [
      "T034-071102-IW3 does not have a entry in ES\n",
      "T107-227899-IW3 does not have a entry in ES\n",
      "T107-227897-IW3 does not have a entry in ES\n"
     ]
    },
    {
     "name": "stderr",
     "output_type": "stream",
     "text": [
      "  1%|▏              | 4/353 [00:00<00:58,  6.01it/s]"
     ]
    },
    {
     "name": "stdout",
     "output_type": "stream",
     "text": [
      "T107-227898-IW1 does not have a entry in ES\n"
     ]
    },
    {
     "name": "stderr",
     "output_type": "stream",
     "text": [
      "  7%|█             | 26/353 [00:00<00:07, 43.25it/s]"
     ]
    },
    {
     "name": "stdout",
     "output_type": "stream",
     "text": [
      "T107-227900-IW3 does not have a entry in ES\n",
      "T107-227900-IW1 does not have a entry in ES\n",
      "T034-071101-IW1 does not have a entry in ES\n",
      "T107-227896-IW3 does not have a entry in ES\n",
      "T107-227895-IW2 does not have a entry in ES\n"
     ]
    },
    {
     "name": "stderr",
     "output_type": "stream",
     "text": [
      " 16%|██▏           | 56/353 [00:01<00:04, 61.67it/s]"
     ]
    },
    {
     "name": "stdout",
     "output_type": "stream",
     "text": [
      "T107-227901-IW1 does not have a entry in ES\n"
     ]
    },
    {
     "name": "stderr",
     "output_type": "stream",
     "text": [
      " 26%|███▋          | 92/353 [00:01<00:03, 67.77it/s]"
     ]
    },
    {
     "name": "stdout",
     "output_type": "stream",
     "text": [
      "T034-071101-IW3 does not have a entry in ES\n"
     ]
    },
    {
     "name": "stderr",
     "output_type": "stream",
     "text": [
      " 39%|█████        | 136/353 [00:02<00:02, 80.97it/s]"
     ]
    },
    {
     "name": "stdout",
     "output_type": "stream",
     "text": [
      "T107-227899-IW1 does not have a entry in ES\n",
      "T034-071081-IW2 does not have a entry in ES\n",
      "T107-227895-IW3 does not have a entry in ES\n"
     ]
    },
    {
     "name": "stderr",
     "output_type": "stream",
     "text": [
      " 46%|█████▉       | 161/353 [00:02<00:02, 77.65it/s]"
     ]
    },
    {
     "name": "stdout",
     "output_type": "stream",
     "text": [
      "T034-071101-IW2 does not have a entry in ES\n",
      "T107-227898-IW2 does not have a entry in ES\n",
      "T034-071103-IW1 does not have a entry in ES\n",
      "T107-227897-IW1 does not have a entry in ES\n",
      "T034-071080-IW2 does not have a entry in ES\n",
      "T034-071080-IW1 does not have a entry in ES\n"
     ]
    },
    {
     "name": "stderr",
     "output_type": "stream",
     "text": [
      " 60%|███████▊     | 211/353 [00:03<00:01, 81.27it/s]"
     ]
    },
    {
     "name": "stdout",
     "output_type": "stream",
     "text": [
      "T034-071081-IW1 does not have a entry in ES\n"
     ]
    },
    {
     "name": "stderr",
     "output_type": "stream",
     "text": [
      " 66%|████████▌    | 233/353 [00:03<00:01, 86.32it/s]"
     ]
    },
    {
     "name": "stdout",
     "output_type": "stream",
     "text": [
      "T107-227898-IW3 does not have a entry in ES\n",
      "T034-071081-IW3 does not have a entry in ES\n",
      "T107-227900-IW2 does not have a entry in ES\n",
      "T034-071080-IW3 does not have a entry in ES\n"
     ]
    },
    {
     "name": "stderr",
     "output_type": "stream",
     "text": [
      " 74%|█████████▋   | 262/353 [00:04<00:01, 81.84it/s]"
     ]
    },
    {
     "name": "stdout",
     "output_type": "stream",
     "text": [
      "T107-227897-IW2 does not have a entry in ES\n",
      "T107-227899-IW2 does not have a entry in ES\n",
      "T107-227896-IW2 does not have a entry in ES\n"
     ]
    },
    {
     "name": "stderr",
     "output_type": "stream",
     "text": [
      " 87%|███████████▎ | 307/353 [00:04<00:00, 79.74it/s]"
     ]
    },
    {
     "name": "stdout",
     "output_type": "stream",
     "text": [
      "T034-071102-IW1 does not have a entry in ES\n",
      "T107-227895-IW1 does not have a entry in ES\n"
     ]
    },
    {
     "name": "stderr",
     "output_type": "stream",
     "text": [
      " 96%|████████████▌| 340/353 [00:05<00:00, 78.72it/s]"
     ]
    },
    {
     "name": "stdout",
     "output_type": "stream",
     "text": [
      "T034-071102-IW2 does not have a entry in ES\n",
      "T107-227896-IW1 does not have a entry in ES\n"
     ]
    },
    {
     "name": "stderr",
     "output_type": "stream",
     "text": [
      "100%|█████████████| 353/353 [00:05<00:00, 70.02it/s]\n"
     ]
    }
   ],
   "source": [
    "with concurrent.futures.ThreadPoolExecutor(max_workers=20) as executor:\n",
    "    static_rtc_docs_lst = list(tqdm(executor.map(get_static_rtc_docs, burst_ids[:]), total=len(burst_ids)))"
   ]
  },
  {
   "cell_type": "code",
   "execution_count": 19,
   "id": "f794d74f-7467-417b-95dc-32826ae0ea17",
   "metadata": {},
   "outputs": [
    {
     "data": {
      "text/plain": [
       "353"
      ]
     },
     "execution_count": 19,
     "metadata": {},
     "output_type": "execute_result"
    }
   ],
   "source": [
    "static_data = [group[0] for group in static_rtc_docs_lst]\n",
    "len(static_data)"
   ]
  },
  {
   "cell_type": "code",
   "execution_count": 20,
   "id": "3b3c08b5-c7e8-4029-a976-6a6cb9346e53",
   "metadata": {},
   "outputs": [
    {
     "data": {
      "text/html": [
       "<div>\n",
       "<style scoped>\n",
       "    .dataframe tbody tr th:only-of-type {\n",
       "        vertical-align: middle;\n",
       "    }\n",
       "\n",
       "    .dataframe tbody tr th {\n",
       "        vertical-align: top;\n",
       "    }\n",
       "\n",
       "    .dataframe thead th {\n",
       "        text-align: right;\n",
       "    }\n",
       "</style>\n",
       "<table border=\"1\" class=\"dataframe\">\n",
       "  <thead>\n",
       "    <tr style=\"text-align: right;\">\n",
       "      <th></th>\n",
       "      <th>burst_id</th>\n",
       "      <th>sas_version</th>\n",
       "      <th>product_urls</th>\n",
       "    </tr>\n",
       "  </thead>\n",
       "  <tbody>\n",
       "    <tr>\n",
       "      <th>0</th>\n",
       "      <td>T160-342211-IW1</td>\n",
       "      <td>1.0.1</td>\n",
       "      <td>https://opera-pst-rs-pop1.s3.us-west-2.amazona...</td>\n",
       "    </tr>\n",
       "    <tr>\n",
       "      <th>1</th>\n",
       "      <td>T039-082698-IW1</td>\n",
       "      <td>1.0.1</td>\n",
       "      <td>https://opera-pst-rs-pop1.s3.us-west-2.amazona...</td>\n",
       "    </tr>\n",
       "    <tr>\n",
       "      <th>2</th>\n",
       "      <td>T135-288080-IW3</td>\n",
       "      <td>1.0.1</td>\n",
       "      <td>https://opera-pst-rs-pop1.s3.us-west-2.amazona...</td>\n",
       "    </tr>\n",
       "    <tr>\n",
       "      <th>3</th>\n",
       "      <td>T170-364150-IW1</td>\n",
       "      <td>1.0.1</td>\n",
       "      <td>https://opera-pst-rs-pop1.s3.us-west-2.amazona...</td>\n",
       "    </tr>\n",
       "    <tr>\n",
       "      <th>4</th>\n",
       "      <td>T135-288086-IW3</td>\n",
       "      <td>1.0.1</td>\n",
       "      <td>https://opera-pst-rs-pop1.s3.us-west-2.amazona...</td>\n",
       "    </tr>\n",
       "  </tbody>\n",
       "</table>\n",
       "</div>"
      ],
      "text/plain": [
       "          burst_id sas_version  \\\n",
       "0  T160-342211-IW1       1.0.1   \n",
       "1  T039-082698-IW1       1.0.1   \n",
       "2  T135-288080-IW3       1.0.1   \n",
       "3  T170-364150-IW1       1.0.1   \n",
       "4  T135-288086-IW3       1.0.1   \n",
       "\n",
       "                                        product_urls  \n",
       "0  https://opera-pst-rs-pop1.s3.us-west-2.amazona...  \n",
       "1  https://opera-pst-rs-pop1.s3.us-west-2.amazona...  \n",
       "2  https://opera-pst-rs-pop1.s3.us-west-2.amazona...  \n",
       "3  https://opera-pst-rs-pop1.s3.us-west-2.amazona...  \n",
       "4  https://opera-pst-rs-pop1.s3.us-west-2.amazona...  "
      ]
     },
     "execution_count": 20,
     "metadata": {},
     "output_type": "execute_result"
    }
   ],
   "source": [
    "df_static = pd.DataFrame(static_data[:])\n",
    "df_static.head()"
   ]
  },
  {
   "cell_type": "code",
   "execution_count": 21,
   "id": "4791f0c7-182d-4d57-95a9-b221fcc52755",
   "metadata": {},
   "outputs": [
    {
     "data": {
      "text/plain": [
       "(353, 3)"
      ]
     },
     "execution_count": 21,
     "metadata": {},
     "output_type": "execute_result"
    }
   ],
   "source": [
    "df_static.shape"
   ]
  },
  {
   "cell_type": "code",
   "execution_count": 22,
   "id": "830d9d26-b44e-429c-8592-e9f4d5bf0cc0",
   "metadata": {},
   "outputs": [],
   "source": [
    "df_static.to_csv('opera_rtc_static_table.csv.zip')"
   ]
  },
  {
   "cell_type": "code",
   "execution_count": 24,
   "id": "6a57eec4-cddc-4231-b2cf-83c7dec52257",
   "metadata": {},
   "outputs": [
    {
     "data": {
      "text/plain": [
       "32"
      ]
     },
     "execution_count": 24,
     "metadata": {},
     "output_type": "execute_result"
    }
   ],
   "source": [
    "(df_static.product_urls == '').sum()"
   ]
  }
 ],
 "metadata": {
  "kernelspec": {
   "display_name": "dswx_val",
   "language": "python",
   "name": "dswx_val"
  },
  "language_info": {
   "codemirror_mode": {
    "name": "ipython",
    "version": 3
   },
   "file_extension": ".py",
   "mimetype": "text/x-python",
   "name": "python",
   "nbconvert_exporter": "python",
   "pygments_lexer": "ipython3",
   "version": "3.11.6"
  }
 },
 "nbformat": 4,
 "nbformat_minor": 5
}
